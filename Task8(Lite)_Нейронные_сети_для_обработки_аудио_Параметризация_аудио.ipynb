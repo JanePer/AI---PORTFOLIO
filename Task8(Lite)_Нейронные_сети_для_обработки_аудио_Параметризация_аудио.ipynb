{
  "nbformat": 4,
  "nbformat_minor": 0,
  "metadata": {
    "colab": {
      "name": "Task8(Lite) Нейронные сети для обработки аудио. Параметризация аудио.ipynb",
      "provenance": [],
      "collapsed_sections": [],
      "authorship_tag": "ABX9TyMNPXjzDREWJWMzUGqAc1Fd",
      "include_colab_link": true
    },
    "kernelspec": {
      "name": "python3",
      "display_name": "Python 3"
    },
    "language_info": {
      "name": "python"
    },
    "accelerator": "GPU"
  },
  "cells": [
    {
      "cell_type": "markdown",
      "metadata": {
        "id": "view-in-github",
        "colab_type": "text"
      },
      "source": [
        "<a href=\"https://colab.research.google.com/github/JanePer/AI---PORTFOLIO/blob/main/Task8(Lite)_%D0%9D%D0%B5%D0%B9%D1%80%D0%BE%D0%BD%D0%BD%D1%8B%D0%B5_%D1%81%D0%B5%D1%82%D0%B8_%D0%B4%D0%BB%D1%8F_%D0%BE%D0%B1%D1%80%D0%B0%D0%B1%D0%BE%D1%82%D0%BA%D0%B8_%D0%B0%D1%83%D0%B4%D0%B8%D0%BE_%D0%9F%D0%B0%D1%80%D0%B0%D0%BC%D0%B5%D1%82%D1%80%D0%B8%D0%B7%D0%B0%D1%86%D0%B8%D1%8F_%D0%B0%D1%83%D0%B4%D0%B8%D0%BE.ipynb\" target=\"_parent\"><img src=\"https://colab.research.google.com/assets/colab-badge.svg\" alt=\"Open In Colab\"/></a>"
      ]
    },
    {
      "cell_type": "markdown",
      "metadata": {
        "id": "TnV89a81DX1y"
      },
      "source": [
        "#**Классификация музыкальных жанров**"
      ]
    },
    {
      "cell_type": "markdown",
      "metadata": {
        "id": "jAKXvMGyxtxA"
      },
      "source": [
        "**1. Импорт библиотек и загрузка базы данных**"
      ]
    },
    {
      "cell_type": "code",
      "metadata": {
        "colab": {
          "base_uri": "https://localhost:8080/"
        },
        "id": "a8ftJ29JoQfZ",
        "outputId": "62ad66f0-2932-46ad-c2bf-42c39d20e2b3"
      },
      "source": [
        "import librosa #Для параметризации аудио\n",
        "import librosa.display #Для отображения аудио сигналов\n",
        "import IPython.display as ipd #Для проигрывания аудио\n",
        "import matplotlib.pyplot as plt\n",
        "import numpy as np\n",
        "import os\n",
        "import time\n",
        "from google.colab import files\n",
        "from google.colab import drive\n",
        "%matplotlib inline\n",
        "\n",
        "from tensorflow.keras.models import Sequential, Model\n",
        "from tensorflow.keras.layers import concatenate, Input, Dense, Dropout, BatchNormalization, Flatten, Conv1D, Conv2D, LSTM #Базовые слои\n",
        "from tensorflow.keras.optimizers import Adam, RMSprop\n",
        "from tensorflow.keras.utils import to_categorical, plot_model\n",
        "from sklearn.model_selection import train_test_split\n",
        "from sklearn.preprocessing import LabelEncoder, StandardScaler\n",
        "\n",
        "drive.mount('/content/drive')\n",
        "!rm -R '/content/audios_genres' #remove texts directory\n",
        "!unzip -q '/content/drive/MyDrive/Colab Notebooks/genres.zip' -d '/content/audios_genres' #unzip to created `texts` directory"
      ],
      "execution_count": null,
      "outputs": [
        {
          "output_type": "stream",
          "text": [
            "Mounted at /content/drive\n",
            "rm: cannot remove '/content/audios_genres': No such file or directory\n"
          ],
          "name": "stdout"
        }
      ]
    },
    {
      "cell_type": "code",
      "metadata": {
        "colab": {
          "base_uri": "https://localhost:8080/"
        },
        "id": "xfhDkBeSHb8W",
        "outputId": "fb0ba66c-8f0a-4295-d853-b95756499487"
      },
      "source": [
        "genres = os.listdir('audios_genres/genres')\n",
        "#Проверяем выгруженные папки\n",
        "!ls audios_genres/genres \n",
        "#И одну из папок\n",
        "!ls audios_genres/genres/blues"
      ],
      "execution_count": null,
      "outputs": [
        {
          "output_type": "stream",
          "text": [
            "blues  classical  country  disco  hiphop  jazz\tmetal  pop  reggae  rock\n",
            "blues.00000.au\tblues.00020.au\tblues.00040.au\tblues.00060.au\tblues.00080.au\n",
            "blues.00001.au\tblues.00021.au\tblues.00041.au\tblues.00061.au\tblues.00081.au\n",
            "blues.00002.au\tblues.00022.au\tblues.00042.au\tblues.00062.au\tblues.00082.au\n",
            "blues.00003.au\tblues.00023.au\tblues.00043.au\tblues.00063.au\tblues.00083.au\n",
            "blues.00004.au\tblues.00024.au\tblues.00044.au\tblues.00064.au\tblues.00084.au\n",
            "blues.00005.au\tblues.00025.au\tblues.00045.au\tblues.00065.au\tblues.00085.au\n",
            "blues.00006.au\tblues.00026.au\tblues.00046.au\tblues.00066.au\tblues.00086.au\n",
            "blues.00007.au\tblues.00027.au\tblues.00047.au\tblues.00067.au\tblues.00087.au\n",
            "blues.00008.au\tblues.00028.au\tblues.00048.au\tblues.00068.au\tblues.00088.au\n",
            "blues.00009.au\tblues.00029.au\tblues.00049.au\tblues.00069.au\tblues.00089.au\n",
            "blues.00010.au\tblues.00030.au\tblues.00050.au\tblues.00070.au\tblues.00090.au\n",
            "blues.00011.au\tblues.00031.au\tblues.00051.au\tblues.00071.au\tblues.00091.au\n",
            "blues.00012.au\tblues.00032.au\tblues.00052.au\tblues.00072.au\tblues.00092.au\n",
            "blues.00013.au\tblues.00033.au\tblues.00053.au\tblues.00073.au\tblues.00093.au\n",
            "blues.00014.au\tblues.00034.au\tblues.00054.au\tblues.00074.au\tblues.00094.au\n",
            "blues.00015.au\tblues.00035.au\tblues.00055.au\tblues.00075.au\tblues.00095.au\n",
            "blues.00016.au\tblues.00036.au\tblues.00056.au\tblues.00076.au\tblues.00096.au\n",
            "blues.00017.au\tblues.00037.au\tblues.00057.au\tblues.00077.au\tblues.00097.au\n",
            "blues.00018.au\tblues.00038.au\tblues.00058.au\tblues.00078.au\tblues.00098.au\n",
            "blues.00019.au\tblues.00039.au\tblues.00059.au\tblues.00079.au\tblues.00099.au\n"
          ],
          "name": "stdout"
        }
      ]
    },
    {
      "cell_type": "markdown",
      "metadata": {
        "id": "8yQs8zzkLJTE"
      },
      "source": [
        "**2. Формирование обучающей и проверочной выборки**"
      ]
    },
    {
      "cell_type": "code",
      "metadata": {
        "id": "LLHCbboZLiJg"
      },
      "source": [
        "#Функция параметризации аудио\n",
        "def get_features(y, sr):\n",
        "  #Получаем различные параметры аудио\n",
        "  chroma_stft = librosa.feature.chroma_stft(y=y, sr=sr) #Частота цветности (по умолчанию 12 баков цветности)\n",
        "  mfcc = librosa.feature.mfcc(y=y, sr=sr) #Мел кепстральные коэффициенты (по умолчанию 20)\n",
        "  \n",
        "  rmse = np.mean(librosa.feature.rms(y=y)) #Среднеквадратичная амплитуда\n",
        "  spec_cent = np.mean(librosa.feature.spectral_centroid(y=y, sr=sr)) #среднее спектральныго центроида\n",
        "  spec_bw = np.mean(librosa.feature.spectral_bandwidth(y=y, sr=sr)) #среднее ширины полосы частот\n",
        "  rolloff = np.mean(librosa.feature.spectral_rolloff(y=y, sr=sr)) #среднее спектрального спада частоты\n",
        "  zcr = np.mean(librosa.feature.zero_crossing_rate(y)) #среднее частота пересечения нуля звукового временного ряда\n",
        "  \n",
        "  \n",
        "  #Добавляем все параметры в один список\n",
        "  out = [] # создаем пустой список\n",
        "  out.append(rmse) #  добавляем среднеквадратичную амплитуду\n",
        "  out.append(spec_cent) #добавляем спектральный центроид\n",
        "  out.append(spec_bw) # добавляем ширину полосы частот\n",
        "  out.append(rolloff) # добавляем спектральный спад частоты\n",
        "  out.append(zcr) # добавляем пересечение нуля\n",
        "  \n",
        "  #добавляем среднее всех Мел спектральных коэффициентов (20 значений)\n",
        "  for e in mfcc:\n",
        "    out.append(np.mean(e))\n",
        "\n",
        "  #добавляем среднее всех Частот цветности (12 значений)\n",
        "  for e in chroma_stft:\n",
        "    out.append(np.mean(e))\n",
        "  \n",
        "  #Возвращаем получившийся список размерностью (37,)\n",
        "  return out"
      ],
      "execution_count": null,
      "outputs": []
    },
    {
      "cell_type": "code",
      "metadata": {
        "colab": {
          "base_uri": "https://localhost:8080/"
        },
        "id": "ksSZlcbvLj9N",
        "outputId": "e2ab765b-0e18-4b32-acbd-a1d3f1b027fe"
      },
      "source": [
        "import time #подключаем модуль time для подсчёта времени на обработку одного жанра\n",
        "\n",
        "#Формируем обучающую выборку\n",
        "#Создаём пустые листы\n",
        "X_train = []\n",
        "Y_train = []\n",
        "\n",
        "#Запоминаем время старта формирования выборки\n",
        "curr_time = time.time()\n",
        "\n",
        "#Проходим по всем жарнам\n",
        "for i in range(len(genres)):\n",
        "  g = genres[i] #Берём текущий жанр\n",
        "  #Проходим по файлам папки, соответствующей текущему жанру\n",
        "  for filename in os.listdir(f'/content/audios_genres/genres/{g}'):\n",
        "    #Получаем имя песни\n",
        "    songname = f'/content/audios_genres/genres/{g}/{filename}'\n",
        "    #Загружаем в y аудиосигнал\n",
        "    #Используем первые 30 секунд аудио\n",
        "    y, sr = librosa.load(songname, mono=True, duration=30) #y - массив данных временного ряда аудио, sr - частота дискретизации временного ряда\n",
        "    #Превращаем сигнал в параметризованные данные\n",
        "    out = get_features(y, sr)\n",
        "    \n",
        "    #Добавляем строку в X_train\n",
        "    X_train.append(out)\n",
        "    #Добавляем в Y_train номер жанра в формате ohe\n",
        "    Y_train.append(to_categorical(i, len(genres)))\n",
        "\n",
        "  #Выводим информацию о готовности обработки базы\n",
        "  print(\"Жанр \", g, \" готов -> \", round(time.time() - curr_time), \"c\", sep=\"\")\n",
        "  curr_time = time.time()\n",
        "\n",
        "#Превращаем обучающую выборку на numpy массивы\n",
        "X_train = np.array(X_train)\n",
        "Y_train = np.array(Y_train)"
      ],
      "execution_count": null,
      "outputs": [
        {
          "output_type": "stream",
          "text": [
            "Жанр metal готов -> 36c\n",
            "Жанр blues готов -> 35c\n",
            "Жанр rock готов -> 36c\n",
            "Жанр reggae готов -> 36c\n",
            "Жанр classical готов -> 35c\n",
            "Жанр hiphop готов -> 35c\n",
            "Жанр disco готов -> 35c\n",
            "Жанр pop готов -> 35c\n",
            "Жанр country готов -> 35c\n",
            "Жанр jazz готов -> 35c\n"
          ],
          "name": "stdout"
        }
      ]
    },
    {
      "cell_type": "code",
      "metadata": {
        "id": "qxSjIUJM9zgd"
      },
      "source": [
        "#Создаём backup обучающей выборки\n",
        "X_train_backup = X_train.copy()\n",
        "Y_train_backup = Y_train.copy()"
      ],
      "execution_count": null,
      "outputs": []
    },
    {
      "cell_type": "code",
      "metadata": {
        "id": "WwT9L80s-eZ7",
        "colab": {
          "base_uri": "https://localhost:8080/"
        },
        "outputId": "0aefc6cb-6466-4ba5-e749-ea17ca64df92"
      },
      "source": [
        "#Выводим номера классов, чтобы проверить, что всё правильно заполнилось\n",
        "#И номера классов идут последовательно крупными блоками\n",
        "y_train_class = np.argmax(Y_train, axis=1)\n",
        "print(y_train_class)"
      ],
      "execution_count": null,
      "outputs": [
        {
          "output_type": "stream",
          "text": [
            "[0 0 0 0 0 0 0 0 0 0 0 0 0 0 0 0 0 0 0 0 0 0 0 0 0 0 0 0 0 0 0 0 0 0 0 0 0\n",
            " 0 0 0 0 0 0 0 0 0 0 0 0 0 0 0 0 0 0 0 0 0 0 0 0 0 0 0 0 0 0 0 0 0 0 0 0 0\n",
            " 0 0 0 0 0 0 0 0 0 0 0 0 0 0 0 0 0 0 0 0 0 0 0 0 0 0 1 1 1 1 1 1 1 1 1 1 1\n",
            " 1 1 1 1 1 1 1 1 1 1 1 1 1 1 1 1 1 1 1 1 1 1 1 1 1 1 1 1 1 1 1 1 1 1 1 1 1\n",
            " 1 1 1 1 1 1 1 1 1 1 1 1 1 1 1 1 1 1 1 1 1 1 1 1 1 1 1 1 1 1 1 1 1 1 1 1 1\n",
            " 1 1 1 1 1 1 1 1 1 1 1 1 1 1 1 2 2 2 2 2 2 2 2 2 2 2 2 2 2 2 2 2 2 2 2 2 2\n",
            " 2 2 2 2 2 2 2 2 2 2 2 2 2 2 2 2 2 2 2 2 2 2 2 2 2 2 2 2 2 2 2 2 2 2 2 2 2\n",
            " 2 2 2 2 2 2 2 2 2 2 2 2 2 2 2 2 2 2 2 2 2 2 2 2 2 2 2 2 2 2 2 2 2 2 2 2 2\n",
            " 2 2 2 2 3 3 3 3 3 3 3 3 3 3 3 3 3 3 3 3 3 3 3 3 3 3 3 3 3 3 3 3 3 3 3 3 3\n",
            " 3 3 3 3 3 3 3 3 3 3 3 3 3 3 3 3 3 3 3 3 3 3 3 3 3 3 3 3 3 3 3 3 3 3 3 3 3\n",
            " 3 3 3 3 3 3 3 3 3 3 3 3 3 3 3 3 3 3 3 3 3 3 3 3 3 3 3 3 3 3 4 4 4 4 4 4 4\n",
            " 4 4 4 4 4 4 4 4 4 4 4 4 4 4 4 4 4 4 4 4 4 4 4 4 4 4 4 4 4 4 4 4 4 4 4 4 4\n",
            " 4 4 4 4 4 4 4 4 4 4 4 4 4 4 4 4 4 4 4 4 4 4 4 4 4 4 4 4 4 4 4 4 4 4 4 4 4\n",
            " 4 4 4 4 4 4 4 4 4 4 4 4 4 4 4 4 4 4 4 5 5 5 5 5 5 5 5 5 5 5 5 5 5 5 5 5 5\n",
            " 5 5 5 5 5 5 5 5 5 5 5 5 5 5 5 5 5 5 5 5 5 5 5 5 5 5 5 5 5 5 5 5 5 5 5 5 5\n",
            " 5 5 5 5 5 5 5 5 5 5 5 5 5 5 5 5 5 5 5 5 5 5 5 5 5 5 5 5 5 5 5 5 5 5 5 5 5\n",
            " 5 5 5 5 5 5 5 5 6 6 6 6 6 6 6 6 6 6 6 6 6 6 6 6 6 6 6 6 6 6 6 6 6 6 6 6 6\n",
            " 6 6 6 6 6 6 6 6 6 6 6 6 6 6 6 6 6 6 6 6 6 6 6 6 6 6 6 6 6 6 6 6 6 6 6 6 6\n",
            " 6 6 6 6 6 6 6 6 6 6 6 6 6 6 6 6 6 6 6 6 6 6 6 6 6 6 6 6 6 6 6 6 6 6 7 7 7\n",
            " 7 7 7 7 7 7 7 7 7 7 7 7 7 7 7 7 7 7 7 7 7 7 7 7 7 7 7 7 7 7 7 7 7 7 7 7 7\n",
            " 7 7 7 7 7 7 7 7 7 7 7 7 7 7 7 7 7 7 7 7 7 7 7 7 7 7 7 7 7 7 7 7 7 7 7 7 7\n",
            " 7 7 7 7 7 7 7 7 7 7 7 7 7 7 7 7 7 7 7 7 7 7 7 8 8 8 8 8 8 8 8 8 8 8 8 8 8\n",
            " 8 8 8 8 8 8 8 8 8 8 8 8 8 8 8 8 8 8 8 8 8 8 8 8 8 8 8 8 8 8 8 8 8 8 8 8 8\n",
            " 8 8 8 8 8 8 8 8 8 8 8 8 8 8 8 8 8 8 8 8 8 8 8 8 8 8 8 8 8 8 8 8 8 8 8 8 8\n",
            " 8 8 8 8 8 8 8 8 8 8 8 8 9 9 9 9 9 9 9 9 9 9 9 9 9 9 9 9 9 9 9 9 9 9 9 9 9\n",
            " 9 9 9 9 9 9 9 9 9 9 9 9 9 9 9 9 9 9 9 9 9 9 9 9 9 9 9 9 9 9 9 9 9 9 9 9 9\n",
            " 9 9 9 9 9 9 9 9 9 9 9 9 9 9 9 9 9 9 9 9 9 9 9 9 9 9 9 9 9 9 9 9 9 9 9 9 9\n",
            " 9]\n"
          ],
          "name": "stdout"
        }
      ]
    },
    {
      "cell_type": "code",
      "metadata": {
        "id": "z4j-p3r_-uaA",
        "colab": {
          "base_uri": "https://localhost:8080/"
        },
        "outputId": "10433893-9148-4961-8c14-59e8a65ea79b"
      },
      "source": [
        "#Выводим размеры обучающей выборки\n",
        "print(X_train.shape)\n",
        "print(Y_train.shape)\n",
        "print(y_train_class.shape)"
      ],
      "execution_count": null,
      "outputs": [
        {
          "output_type": "stream",
          "text": [
            "(1000, 37)\n",
            "(1000, 10)\n",
            "(1000,)\n"
          ],
          "name": "stdout"
        }
      ]
    },
    {
      "cell_type": "code",
      "metadata": {
        "id": "LlxK5xXT-4sn",
        "colab": {
          "base_uri": "https://localhost:8080/"
        },
        "outputId": "d8004b97-6a70-438e-901e-1993a8791bfe"
      },
      "source": [
        "#Создаём scaler экземпляр класса StandardScaler() для нормировки данных\n",
        "scaler = StandardScaler()\n",
        "#Номируем X_train\n",
        "X_train = scaler.fit_transform(X_train)\n",
        "#Проверяем, что X_train нормировался\n",
        "print(X_train[0])"
      ],
      "execution_count": null,
      "outputs": [
        {
          "output_type": "stream",
          "text": [
            "[ 0.35715255 -0.14358992 -0.34326931 -0.07726414 -0.36686636  0.44624308\n",
            "  0.08256138 -0.6800256   1.60839821 -0.62491447  1.36082381 -0.45444274\n",
            "  0.38704242  0.88964618  0.6930676  -0.59779877  0.70396908 -0.02180169\n",
            "  0.10590097 -0.6807668  -0.48910502 -0.21153444  1.50513946 -0.72636555\n",
            " -2.13989489 -1.5641733  -1.38895273 -0.55517677  1.53226981  0.68420841\n",
            " -0.88117019 -0.88357164 -0.04171562  2.32797065  0.90094167  0.10524749\n",
            " -0.33721959]\n"
          ],
          "name": "stdout"
        }
      ]
    },
    {
      "cell_type": "code",
      "metadata": {
        "id": "8igmcrok_Czp",
        "colab": {
          "base_uri": "https://localhost:8080/"
        },
        "outputId": "d45c020a-f129-4f3b-d817-225d408069c5"
      },
      "source": [
        "#Разделяем выборку на обучающую и проверочную\n",
        "#Для проверочной используем 10% примеров\n",
        "#Так как база маленькая\n",
        "x_train, x_test, y_train, y_test = train_test_split(X_train, y_train_class, test_size=0.1)\n",
        "\n",
        "#Выводим размеры обучающей и проверочной выборки для проверки\n",
        "print(x_train.shape)\n",
        "print(y_train.shape)\n",
        "print(x_test.shape)\n",
        "print(y_test.shape)"
      ],
      "execution_count": null,
      "outputs": [
        {
          "output_type": "stream",
          "text": [
            "(900, 37)\n",
            "(900,)\n",
            "(100, 37)\n",
            "(100,)\n"
          ],
          "name": "stdout"
        }
      ]
    },
    {
      "cell_type": "markdown",
      "metadata": {
        "id": "pN5EVRQBLhC6"
      },
      "source": [
        "**3. Cоздаем и обучаем сеть**"
      ]
    },
    {
      "cell_type": "markdown",
      "metadata": {
        "id": "9LrbAYt6Ljvj"
      },
      "source": [
        "#- Простая полносвязная сеть - 1 Dense слой с 10 нейронами"
      ]
    },
    {
      "cell_type": "code",
      "metadata": {
        "id": "mu07711dLQF3",
        "colab": {
          "base_uri": "https://localhost:8080/"
        },
        "outputId": "a506803e-87b8-494f-e0c6-70a9aa371577"
      },
      "source": [
        "modelD1 = Sequential()\n",
        "modelD1.add(Dense(10, input_dim=37, activation='relu'))\n",
        "modelD1.add(Dense(10, activation='softmax'))\n",
        "\n",
        "modelD1.compile(optimizer=(RMSprop(lr=1e-3)), loss='sparse_categorical_crossentropy', metrics=['accuracy'])\n",
        "#modelD1.summary()"
      ],
      "execution_count": null,
      "outputs": [
        {
          "output_type": "stream",
          "text": [
            "/usr/local/lib/python3.7/dist-packages/tensorflow/python/keras/optimizer_v2/optimizer_v2.py:375: UserWarning: The `lr` argument is deprecated, use `learning_rate` instead.\n",
            "  \"The `lr` argument is deprecated, use `learning_rate` instead.\")\n"
          ],
          "name": "stderr"
        }
      ]
    },
    {
      "cell_type": "code",
      "metadata": {
        "id": "LbqORfOFOW0h"
      },
      "source": [
        "history = modelD1.fit(x_train, y_train, epochs=200, batch_size=20, validation_data=(x_test, y_test), verbose=0)"
      ],
      "execution_count": null,
      "outputs": []
    },
    {
      "cell_type": "code",
      "metadata": {
        "id": "8PFpCQufPZWf",
        "colab": {
          "base_uri": "https://localhost:8080/",
          "height": 265
        },
        "outputId": "f53ed1de-e768-4496-ae37-bb804eb687cd"
      },
      "source": [
        "plt.plot(history.history[\"accuracy\"])\n",
        "plt.plot(history.history[\"val_accuracy\"])\n",
        "plt.show()"
      ],
      "execution_count": null,
      "outputs": [
        {
          "output_type": "display_data",
          "data": {
            "image/png": "[encoded data removed]",
            "text/plain": [
              "<Figure size 432x288 with 1 Axes>"
            ]
          },
          "metadata": {
            "tags": [],
            "needs_background": "light"
          }
        }
      ]
    },
    {
      "cell_type": "code",
      "metadata": {
        "id": "cAlkb2usovfa",
        "colab": {
          "base_uri": "https://localhost:8080/"
        },
        "outputId": "2f688295-8bfd-49ca-b00a-cbcf2bfec190"
      },
      "source": [
        "print('accuracy на последней эпохе: ', round(history.history[\"accuracy\"][-1]*100))\n",
        "print('val_accuracy на последней эпохе: ', round(history.history[\"val_accuracy\"][-1]*100))\n",
        "print('максимальная val_accuracy: ', round(max(history.history[\"val_accuracy\"])*100))"
      ],
      "execution_count": null,
      "outputs": [
        {
          "output_type": "stream",
          "text": [
            "accuracy на последней эпохе:  74\n",
            "val_accuracy на последней эпохе:  69\n",
            "максимальная val_accuracy:  70\n"
          ],
          "name": "stdout"
        }
      ]
    },
    {
      "cell_type": "markdown",
      "metadata": {
        "id": "PotjA65kScc4"
      },
      "source": [
        "#- Сложная полносвязная сеть - 7 Dense слоев"
      ]
    },
    {
      "cell_type": "code",
      "metadata": {
        "id": "CVK-eo2JSml5",
        "colab": {
          "base_uri": "https://localhost:8080/"
        },
        "outputId": "a873c41c-87b8-4a90-ab73-44b8790b8ad9"
      },
      "source": [
        "modelD7 = Sequential()\n",
        "modelD7.add(Dense(1000, input_dim=37, activation='relu'))\n",
        "modelD7.add(Dense(800, activation='relu'))\n",
        "modelD7.add(Dense(1000, activation='relu'))\n",
        "modelD7.add(Dense(800, activation='relu'))\n",
        "modelD7.add(Dense(600, activation='relu'))\n",
        "modelD7.add(Dense(400, activation='relu'))\n",
        "modelD7.add(Dense(200, activation='relu'))\n",
        "modelD7.add(Dense(10, activation='softmax'))\n",
        "\n",
        "modelD7.compile(optimizer=(RMSprop(lr=1e-3)), loss='sparse_categorical_crossentropy', metrics=['accuracy'])\n",
        "#modelD7.summary()"
      ],
      "execution_count": null,
      "outputs": [
        {
          "output_type": "stream",
          "text": [
            "/usr/local/lib/python3.7/dist-packages/tensorflow/python/keras/optimizer_v2/optimizer_v2.py:375: UserWarning: The `lr` argument is deprecated, use `learning_rate` instead.\n",
            "  \"The `lr` argument is deprecated, use `learning_rate` instead.\")\n"
          ],
          "name": "stderr"
        }
      ]
    },
    {
      "cell_type": "code",
      "metadata": {
        "id": "Gj8FeZhXY1s4"
      },
      "source": [
        "history = modelD7.fit(x_train, y_train, epochs=100, batch_size=20, validation_data=(x_test, y_test), verbose=0)"
      ],
      "execution_count": null,
      "outputs": []
    },
    {
      "cell_type": "code",
      "metadata": {
        "id": "JRThNQltac-e",
        "colab": {
          "base_uri": "https://localhost:8080/",
          "height": 265
        },
        "outputId": "b703a173-9149-40bb-fc57-4c10b04abaea"
      },
      "source": [
        "plt.plot(history.history[\"accuracy\"])\n",
        "plt.plot(history.history[\"val_accuracy\"])\n",
        "plt.show()"
      ],
      "execution_count": null,
      "outputs": [
        {
          "output_type": "display_data",
          "data": {
            "image/png": "[encoded data removed]",
            "text/plain": [
              "<Figure size 432x288 with 1 Axes>"
            ]
          },
          "metadata": {
            "tags": [],
            "needs_background": "light"
          }
        }
      ]
    },
    {
      "cell_type": "code",
      "metadata": {
        "id": "f0Aj0o_nqmwy",
        "colab": {
          "base_uri": "https://localhost:8080/"
        },
        "outputId": "74adf219-fddb-42a8-9922-bc80fc853582"
      },
      "source": [
        "print('accuracy на последней эпохе: ', round(history.history[\"accuracy\"][-1]*100))\n",
        "print('val_accuracy на последней эпохе: ', round(history.history[\"val_accuracy\"][-1]*100))\n",
        "print('максимальная val_accuracy: ', round(max(history.history[\"val_accuracy\"])*100))"
      ],
      "execution_count": null,
      "outputs": [
        {
          "output_type": "stream",
          "text": [
            "accuracy на последней эпохе:  99\n",
            "val_accuracy на последней эпохе:  67\n",
            "максимальная val_accuracy:  77\n"
          ],
          "name": "stdout"
        }
      ]
    },
    {
      "cell_type": "markdown",
      "metadata": {
        "id": "-knLOGHdN3yh"
      },
      "source": [
        "#- Сложная полносвязная сеть - 7 Dense слоев + Dropout"
      ]
    },
    {
      "cell_type": "code",
      "metadata": {
        "id": "4yQmR7ivOGRe",
        "colab": {
          "base_uri": "https://localhost:8080/"
        },
        "outputId": "e9dac250-cec4-45f8-cf50-6e8903e13678"
      },
      "source": [
        "modelD7D4 = Sequential()\n",
        "modelD7D4.add(Dense(1000, input_dim=37, activation='relu'))\n",
        "modelD7D4.add(Dropout(0.6))\n",
        "modelD7D4.add(Dense(800, activation='relu'))\n",
        "\n",
        "modelD7D4.add(Dense(1000, activation='relu'))\n",
        "modelD7D4.add(Dropout(0.4))\n",
        "modelD7D4.add(Dense(800, activation='relu'))\n",
        "\n",
        "modelD7D4.add(Dense(600, activation='relu'))\n",
        "modelD7D4.add(Dropout(0.2))\n",
        "modelD7D4.add(Dense(400, activation='relu'))\n",
        "\n",
        "modelD7D4.add(Dense(200, activation='relu'))\n",
        "modelD7D4.add(Dropout(0.2))\n",
        "modelD7D4.add(Dense(10, activation='softmax'))\n",
        "\n",
        "modelD7D4.compile(optimizer=(RMSprop(lr=1e-3)), loss='sparse_categorical_crossentropy', metrics=['accuracy'])\n",
        "#modelD7D4.summary()"
      ],
      "execution_count": null,
      "outputs": [
        {
          "output_type": "stream",
          "text": [
            "/usr/local/lib/python3.7/dist-packages/tensorflow/python/keras/optimizer_v2/optimizer_v2.py:375: UserWarning: The `lr` argument is deprecated, use `learning_rate` instead.\n",
            "  \"The `lr` argument is deprecated, use `learning_rate` instead.\")\n"
          ],
          "name": "stderr"
        }
      ]
    },
    {
      "cell_type": "code",
      "metadata": {
        "id": "7Wf7X1gJRJkJ"
      },
      "source": [
        "history = modelD7D4.fit(x_train, y_train, epochs=100, batch_size=20, validation_data=(x_test, y_test), verbose=0)"
      ],
      "execution_count": null,
      "outputs": []
    },
    {
      "cell_type": "code",
      "metadata": {
        "id": "g6wJYK9VS6J2",
        "colab": {
          "base_uri": "https://localhost:8080/",
          "height": 265
        },
        "outputId": "586e558c-0a65-4a21-8b4a-a75030979a55"
      },
      "source": [
        "plt.plot(history.history[\"accuracy\"])\n",
        "plt.plot(history.history[\"val_accuracy\"])\n",
        "plt.show()"
      ],
      "execution_count": null,
      "outputs": [
        {
          "output_type": "display_data",
          "data": {
            "image/png": "[encoded data removed]",
            "text/plain": [
              "<Figure size 432x288 with 1 Axes>"
            ]
          },
          "metadata": {
            "tags": [],
            "needs_background": "light"
          }
        }
      ]
    },
    {
      "cell_type": "code",
      "metadata": {
        "id": "ptoyKvr5qo4E",
        "colab": {
          "base_uri": "https://localhost:8080/"
        },
        "outputId": "603be4b5-7a6d-4973-c422-81c60696596f"
      },
      "source": [
        "print('accuracy на последней эпохе: ', round(history.history[\"accuracy\"][-1]*100))\n",
        "print('val_accuracy на последней эпохе: ', round(history.history[\"val_accuracy\"][-1]*100))\n",
        "print('максимальная val_accuracy: ', round(max(history.history[\"val_accuracy\"])*100))"
      ],
      "execution_count": null,
      "outputs": [
        {
          "output_type": "stream",
          "text": [
            "accuracy на последней эпохе:  93\n",
            "val_accuracy на последней эпохе:  68\n",
            "максимальная val_accuracy:  73\n"
          ],
          "name": "stdout"
        }
      ]
    },
    {
      "cell_type": "markdown",
      "metadata": {
        "id": "pYF7BSayYVbF"
      },
      "source": [
        "#- Сложная полносвязная сеть - 7 Dense слоев + Dropout + BatchNormalization"
      ]
    },
    {
      "cell_type": "code",
      "metadata": {
        "id": "Mvtsj-6jYAIO",
        "colab": {
          "base_uri": "https://localhost:8080/"
        },
        "outputId": "11c92e9f-51b6-4daa-a0af-54ce859307cf"
      },
      "source": [
        "modelD7D4N = Sequential()\n",
        "modelD7D4N.add(Dense(1000, input_dim=37, activation='relu'))\n",
        "modelD7D4N.add(Dropout(0.6))\n",
        "modelD7D4N.add(Dense(800, activation='relu'))\n",
        "modelD7D4N.add(BatchNormalization())\n",
        "modelD7D4N.add(Dense(1000, activation='relu'))\n",
        "modelD7D4N.add(Dropout(0.4))\n",
        "modelD7D4N.add(Dense(800, activation='relu'))\n",
        "modelD7D4N.add(BatchNormalization())\n",
        "modelD7D4N.add(Dense(600, activation='relu'))\n",
        "modelD7D4N.add(Dropout(0.2))\n",
        "modelD7D4N.add(Dense(400, activation='relu'))\n",
        "modelD7D4N.add(BatchNormalization())\n",
        "modelD7D4N.add(Dense(200, activation='relu'))\n",
        "modelD7D4N.add(Dropout(0.2))\n",
        "modelD7D4N.add(Dense(10, activation='softmax'))\n",
        "\n",
        "modelD7D4N.compile(optimizer=(RMSprop(lr=1e-3)), loss='sparse_categorical_crossentropy', metrics=['accuracy'])\n",
        "#modelD7D4N.summary()"
      ],
      "execution_count": null,
      "outputs": [
        {
          "output_type": "stream",
          "text": [
            "/usr/local/lib/python3.7/dist-packages/tensorflow/python/keras/optimizer_v2/optimizer_v2.py:375: UserWarning: The `lr` argument is deprecated, use `learning_rate` instead.\n",
            "  \"The `lr` argument is deprecated, use `learning_rate` instead.\")\n"
          ],
          "name": "stderr"
        }
      ]
    },
    {
      "cell_type": "code",
      "metadata": {
        "id": "mP_gX6guZjI5"
      },
      "source": [
        "history = modelD7D4N.fit(x_train, y_train, epochs=100, batch_size=20, validation_data=(x_test, y_test), verbose=0)"
      ],
      "execution_count": null,
      "outputs": []
    },
    {
      "cell_type": "code",
      "metadata": {
        "id": "hARZtvagZ8pC",
        "colab": {
          "base_uri": "https://localhost:8080/",
          "height": 265
        },
        "outputId": "a3abc6e4-fe22-40de-90d3-f384ac4d5341"
      },
      "source": [
        "plt.plot(history.history[\"accuracy\"])\n",
        "plt.plot(history.history[\"val_accuracy\"])\n",
        "plt.show()"
      ],
      "execution_count": null,
      "outputs": [
        {
          "output_type": "display_data",
          "data": {
            "image/png": "[encoded data removed]",
            "text/plain": [
              "<Figure size 432x288 with 1 Axes>"
            ]
          },
          "metadata": {
            "tags": [],
            "needs_background": "light"
          }
        }
      ]
    },
    {
      "cell_type": "code",
      "metadata": {
        "id": "QavUb06-qq2_",
        "colab": {
          "base_uri": "https://localhost:8080/"
        },
        "outputId": "a7b49f24-e877-4972-f590-aa9a3db1e8e8"
      },
      "source": [
        "print('accuracy на последней эпохе: ', round(history.history[\"accuracy\"][-1]*100))\n",
        "print('val_accuracy на последней эпохе: ', round(history.history[\"val_accuracy\"][-1]*100))\n",
        "print('максимальная val_accuracy: ', round(max(history.history[\"val_accuracy\"])*100))"
      ],
      "execution_count": null,
      "outputs": [
        {
          "output_type": "stream",
          "text": [
            "accuracy на последней эпохе:  92\n",
            "val_accuracy на последней эпохе:  70\n",
            "максимальная val_accuracy:  75\n"
          ],
          "name": "stdout"
        }
      ]
    },
    {
      "cell_type": "markdown",
      "metadata": {
        "id": "R4O0hOLBasDd"
      },
      "source": [
        "#- Сложная полносвязная сеть - 7 Dense слоев + Dropout + BatchNormalization + elu"
      ]
    },
    {
      "cell_type": "code",
      "metadata": {
        "id": "MyRk0KKga0zQ",
        "colab": {
          "base_uri": "https://localhost:8080/"
        },
        "outputId": "076dd4a6-58f3-4454-8f0e-8a69cf3b72d2"
      },
      "source": [
        "modelD7D4Ne = Sequential()\n",
        "modelD7D4Ne.add(Dense(1000, input_dim=37, activation='relu'))\n",
        "modelD7D4Ne.add(Dropout(0.6))\n",
        "modelD7D4Ne.add(Dense(800, activation='elu'))\n",
        "modelD7D4Ne.add(BatchNormalization())\n",
        "modelD7D4Ne.add(Dense(1000, activation='relu'))\n",
        "modelD7D4Ne.add(Dropout(0.4))\n",
        "modelD7D4Ne.add(Dense(800, activation='elu'))\n",
        "modelD7D4Ne.add(BatchNormalization())\n",
        "modelD7D4Ne.add(Dense(600, activation='relu'))\n",
        "modelD7D4Ne.add(Dropout(0.2))\n",
        "modelD7D4Ne.add(Dense(400, activation='elu'))\n",
        "modelD7D4Ne.add(BatchNormalization())\n",
        "modelD7D4Ne.add(Dense(200, activation='relu'))\n",
        "modelD7D4Ne.add(Dropout(0.2))\n",
        "modelD7D4Ne.add(Dense(10, activation='softmax'))\n",
        "\n",
        "modelD7D4Ne.compile(optimizer=(RMSprop(lr=1e-3)), loss='sparse_categorical_crossentropy', metrics=['accuracy'])\n",
        "#modelD7D4Ne.summary()"
      ],
      "execution_count": null,
      "outputs": [
        {
          "output_type": "stream",
          "text": [
            "/usr/local/lib/python3.7/dist-packages/tensorflow/python/keras/optimizer_v2/optimizer_v2.py:375: UserWarning: The `lr` argument is deprecated, use `learning_rate` instead.\n",
            "  \"The `lr` argument is deprecated, use `learning_rate` instead.\")\n"
          ],
          "name": "stderr"
        }
      ]
    },
    {
      "cell_type": "code",
      "metadata": {
        "id": "PdmXaI2qbFVJ"
      },
      "source": [
        "history = modelD7D4Ne.fit(x_train, y_train, epochs=100, batch_size=20, validation_data=(x_test, y_test), verbose=0)"
      ],
      "execution_count": null,
      "outputs": []
    },
    {
      "cell_type": "code",
      "metadata": {
        "id": "22rqOCNycWmk",
        "colab": {
          "base_uri": "https://localhost:8080/",
          "height": 265
        },
        "outputId": "5ace807c-f1c0-4c25-ad0b-73676d93e133"
      },
      "source": [
        "plt.plot(history.history[\"accuracy\"])\n",
        "plt.plot(history.history[\"val_accuracy\"])\n",
        "plt.show()"
      ],
      "execution_count": null,
      "outputs": [
        {
          "output_type": "display_data",
          "data": {
            "image/png": "[encoded data removed]",
            "text/plain": [
              "<Figure size 432x288 with 1 Axes>"
            ]
          },
          "metadata": {
            "tags": [],
            "needs_background": "light"
          }
        }
      ]
    },
    {
      "cell_type": "code",
      "metadata": {
        "id": "XkSifVMuqt1b",
        "colab": {
          "base_uri": "https://localhost:8080/"
        },
        "outputId": "df3c96ca-750f-4fe2-a388-5ddc86ccf7c3"
      },
      "source": [
        "print('accuracy на последней эпохе: ', round(history.history[\"accuracy\"][-1]*100))\n",
        "print('val_accuracy на последней эпохе: ', round(history.history[\"val_accuracy\"][-1]*100))\n",
        "print('максимальная val_accuracy: ', round(max(history.history[\"val_accuracy\"])*100))"
      ],
      "execution_count": null,
      "outputs": [
        {
          "output_type": "stream",
          "text": [
            "accuracy на последней эпохе:  88\n",
            "val_accuracy на последней эпохе:  75\n",
            "максимальная val_accuracy:  77\n"
          ],
          "name": "stdout"
        }
      ]
    },
    {
      "cell_type": "markdown",
      "metadata": {
        "id": "i5YnZ4y9gzY_"
      },
      "source": [
        "#- Сложная полносвязная сеть - 7 Dense слоев + Dropout + BatchNormalization + linear"
      ]
    },
    {
      "cell_type": "code",
      "metadata": {
        "id": "2C5MFp2Hg1VO",
        "colab": {
          "base_uri": "https://localhost:8080/"
        },
        "outputId": "6b171c4c-37f4-4cf6-84d7-4e5991081a08"
      },
      "source": [
        "modelD7D4Ne = Sequential()\n",
        "modelD7D4Ne.add(Dense(1000, input_dim=37, activation='relu'))\n",
        "modelD7D4Ne.add(Dropout(0.6))\n",
        "modelD7D4Ne.add(Dense(800, activation='linear'))\n",
        "modelD7D4Ne.add(BatchNormalization())\n",
        "modelD7D4Ne.add(Dense(1000, activation='relu'))\n",
        "modelD7D4Ne.add(Dropout(0.4))\n",
        "modelD7D4Ne.add(Dense(800, activation='linear'))\n",
        "modelD7D4Ne.add(BatchNormalization())\n",
        "modelD7D4Ne.add(Dense(600, activation='relu'))\n",
        "modelD7D4Ne.add(Dropout(0.2))\n",
        "modelD7D4Ne.add(Dense(400, activation='linear'))\n",
        "modelD7D4Ne.add(BatchNormalization())\n",
        "modelD7D4Ne.add(Dense(200, activation='relu'))\n",
        "modelD7D4Ne.add(Dropout(0.2))\n",
        "modelD7D4Ne.add(Dense(10, activation='softmax'))\n",
        "\n",
        "modelD7D4Ne.compile(optimizer=(RMSprop(lr=1e-3)), loss='sparse_categorical_crossentropy', metrics=['accuracy'])\n",
        "#modelD7D4Ne.summary()"
      ],
      "execution_count": null,
      "outputs": [
        {
          "output_type": "stream",
          "text": [
            "/usr/local/lib/python3.7/dist-packages/tensorflow/python/keras/optimizer_v2/optimizer_v2.py:375: UserWarning: The `lr` argument is deprecated, use `learning_rate` instead.\n",
            "  \"The `lr` argument is deprecated, use `learning_rate` instead.\")\n"
          ],
          "name": "stderr"
        }
      ]
    },
    {
      "cell_type": "code",
      "metadata": {
        "id": "xOesTlgbg6G7"
      },
      "source": [
        "history = modelD7D4Ne.fit(x_train, y_train, epochs=100, batch_size=20, validation_data=(x_test, y_test), verbose=0)"
      ],
      "execution_count": null,
      "outputs": []
    },
    {
      "cell_type": "code",
      "metadata": {
        "id": "u1aINfpihDWt",
        "colab": {
          "base_uri": "https://localhost:8080/",
          "height": 265
        },
        "outputId": "7cf03f4c-d278-4945-cf05-ba8b5c8a2b11"
      },
      "source": [
        "plt.plot(history.history[\"accuracy\"])\n",
        "plt.plot(history.history[\"val_accuracy\"])\n",
        "plt.show()"
      ],
      "execution_count": null,
      "outputs": [
        {
          "output_type": "display_data",
          "data": {
            "image/png": "[encoded data removed]",
            "text/plain": [
              "<Figure size 432x288 with 1 Axes>"
            ]
          },
          "metadata": {
            "tags": [],
            "needs_background": "light"
          }
        }
      ]
    },
    {
      "cell_type": "code",
      "metadata": {
        "id": "Wu_Pbovyqyo6",
        "colab": {
          "base_uri": "https://localhost:8080/"
        },
        "outputId": "630c5868-878b-4d63-8f3f-f0c530195288"
      },
      "source": [
        "print('accuracy на последней эпохе: ', round(history.history[\"accuracy\"][-1]*100))\n",
        "print('val_accuracy на последней эпохе: ', round(history.history[\"val_accuracy\"][-1]*100))\n",
        "print('максимальная val_accuracy: ', round(max(history.history[\"val_accuracy\"])*100))"
      ],
      "execution_count": null,
      "outputs": [
        {
          "output_type": "stream",
          "text": [
            "accuracy на последней эпохе:  85\n",
            "val_accuracy на последней эпохе:  71\n",
            "максимальная val_accuracy:  76\n"
          ],
          "name": "stdout"
        }
      ]
    },
    {
      "cell_type": "markdown",
      "metadata": {
        "id": "xXMYh1rJeEds"
      },
      "source": [
        "#- Сложная полносвязная сеть - 7 Dense слоев + Dropout + BatchNormalization + elu + batch size = 1"
      ]
    },
    {
      "cell_type": "code",
      "metadata": {
        "id": "eYmZAAGHeNhN",
        "colab": {
          "base_uri": "https://localhost:8080/"
        },
        "outputId": "01238a8d-50f7-4d31-8b9d-53d0f6687071"
      },
      "source": [
        "modelD7D4Ne = Sequential()\n",
        "modelD7D4Ne.add(Dense(1000, input_dim=37, activation='relu'))\n",
        "modelD7D4Ne.add(Dropout(0.6))\n",
        "modelD7D4Ne.add(Dense(800, activation='elu'))\n",
        "modelD7D4Ne.add(BatchNormalization())\n",
        "modelD7D4Ne.add(Dense(1000, activation='relu'))\n",
        "modelD7D4Ne.add(Dropout(0.4))\n",
        "modelD7D4Ne.add(Dense(800, activation='elu'))\n",
        "modelD7D4Ne.add(BatchNormalization())\n",
        "modelD7D4Ne.add(Dense(600, activation='relu'))\n",
        "modelD7D4Ne.add(Dropout(0.2))\n",
        "modelD7D4Ne.add(Dense(400, activation='elu'))\n",
        "modelD7D4Ne.add(BatchNormalization())\n",
        "modelD7D4Ne.add(Dense(200, activation='relu'))\n",
        "modelD7D4Ne.add(Dropout(0.2))\n",
        "modelD7D4Ne.add(Dense(10, activation='softmax'))\n",
        "\n",
        "modelD7D4Ne.compile(optimizer=(RMSprop(lr=1e-3)), loss='sparse_categorical_crossentropy', metrics=['accuracy'])\n",
        "#modelD7D4Ne.summary()"
      ],
      "execution_count": null,
      "outputs": [
        {
          "output_type": "stream",
          "text": [
            "/usr/local/lib/python3.7/dist-packages/tensorflow/python/keras/optimizer_v2/optimizer_v2.py:375: UserWarning: The `lr` argument is deprecated, use `learning_rate` instead.\n",
            "  \"The `lr` argument is deprecated, use `learning_rate` instead.\")\n"
          ],
          "name": "stderr"
        }
      ]
    },
    {
      "cell_type": "code",
      "metadata": {
        "id": "yqblHeaEeVgU"
      },
      "source": [
        "history = modelD7D4Ne.fit(x_train, y_train, epochs=100, batch_size=1, validation_data=(x_test, y_test), verbose=0)"
      ],
      "execution_count": null,
      "outputs": []
    },
    {
      "cell_type": "code",
      "metadata": {
        "id": "gPLkOHsVgkuE",
        "colab": {
          "base_uri": "https://localhost:8080/",
          "height": 265
        },
        "outputId": "8f97c39c-4eb6-4dfd-d85d-b5af90781030"
      },
      "source": [
        "plt.plot(history.history[\"accuracy\"])\n",
        "plt.plot(history.history[\"val_accuracy\"])\n",
        "plt.show()"
      ],
      "execution_count": null,
      "outputs": [
        {
          "output_type": "display_data",
          "data": {
            "image/png": "[encoded data removed]",
            "text/plain": [
              "<Figure size 432x288 with 1 Axes>"
            ]
          },
          "metadata": {
            "tags": [],
            "needs_background": "light"
          }
        }
      ]
    },
    {
      "cell_type": "code",
      "metadata": {
        "id": "yHAxTMhtq13c",
        "colab": {
          "base_uri": "https://localhost:8080/"
        },
        "outputId": "34d3eeac-2694-460d-897f-e0787a4fab52"
      },
      "source": [
        "print('accuracy на последней эпохе: ', round(history.history[\"accuracy\"][-1]*100))\n",
        "print('val_accuracy на последней эпохе: ', round(history.history[\"val_accuracy\"][-1]*100))\n",
        "print('максимальная val_accuracy: ', round(max(history.history[\"val_accuracy\"])*100))"
      ],
      "execution_count": null,
      "outputs": [
        {
          "output_type": "stream",
          "text": [
            "accuracy на последней эпохе:  9\n",
            "val_accuracy на последней эпохе:  5\n",
            "максимальная val_accuracy:  7\n"
          ],
          "name": "stdout"
        }
      ]
    },
    {
      "cell_type": "markdown",
      "metadata": {
        "id": "nm6DTpTxgupk"
      },
      "source": [
        "#- Сложная полносвязная сеть - 7 Dense слоев + Dropout + BatchNormalization + elu + batch size = 108"
      ]
    },
    {
      "cell_type": "code",
      "metadata": {
        "id": "kAj6XHqIhNek",
        "colab": {
          "base_uri": "https://localhost:8080/"
        },
        "outputId": "d184070d-e42c-4697-8888-2f96bb9ebbc3"
      },
      "source": [
        "modelD7D4Ne = Sequential()\n",
        "modelD7D4Ne.add(Dense(1000, input_dim=37, activation='relu'))\n",
        "modelD7D4Ne.add(Dropout(0.6))\n",
        "modelD7D4Ne.add(Dense(800, activation='elu'))\n",
        "modelD7D4Ne.add(BatchNormalization())\n",
        "modelD7D4Ne.add(Dense(1000, activation='relu'))\n",
        "modelD7D4Ne.add(Dropout(0.4))\n",
        "modelD7D4Ne.add(Dense(800, activation='elu'))\n",
        "modelD7D4Ne.add(BatchNormalization())\n",
        "modelD7D4Ne.add(Dense(600, activation='relu'))\n",
        "modelD7D4Ne.add(Dropout(0.2))\n",
        "modelD7D4Ne.add(Dense(400, activation='elu'))\n",
        "modelD7D4Ne.add(BatchNormalization())\n",
        "modelD7D4Ne.add(Dense(200, activation='relu'))\n",
        "modelD7D4Ne.add(Dropout(0.2))\n",
        "modelD7D4Ne.add(Dense(10, activation='softmax'))\n",
        "\n",
        "modelD7D4Ne.compile(optimizer=(RMSprop(lr=1e-3)), loss='sparse_categorical_crossentropy', metrics=['accuracy'])\n",
        "#modelD7D4Ne.summary()"
      ],
      "execution_count": null,
      "outputs": [
        {
          "output_type": "stream",
          "text": [
            "/usr/local/lib/python3.7/dist-packages/tensorflow/python/keras/optimizer_v2/optimizer_v2.py:375: UserWarning: The `lr` argument is deprecated, use `learning_rate` instead.\n",
            "  \"The `lr` argument is deprecated, use `learning_rate` instead.\")\n"
          ],
          "name": "stderr"
        }
      ]
    },
    {
      "cell_type": "code",
      "metadata": {
        "id": "hPl3nMThhaaT"
      },
      "source": [
        "history = modelD7D4Ne.fit(x_train, y_train, epochs=200, batch_size=108, validation_data=(x_test, y_test), verbose=0)"
      ],
      "execution_count": null,
      "outputs": []
    },
    {
      "cell_type": "code",
      "metadata": {
        "id": "pm-sSa0ohdrV",
        "colab": {
          "base_uri": "https://localhost:8080/",
          "height": 265
        },
        "outputId": "1af46cf6-d07f-443d-8630-e6857c6973fa"
      },
      "source": [
        "plt.plot(history.history[\"accuracy\"])\n",
        "plt.plot(history.history[\"val_accuracy\"])\n",
        "plt.show()"
      ],
      "execution_count": null,
      "outputs": [
        {
          "output_type": "display_data",
          "data": {
            "image/png": "[encoded data removed]",
            "text/plain": [
              "<Figure size 432x288 with 1 Axes>"
            ]
          },
          "metadata": {
            "tags": [],
            "needs_background": "light"
          }
        }
      ]
    },
    {
      "cell_type": "code",
      "metadata": {
        "id": "kJEh6CQBq4cN",
        "colab": {
          "base_uri": "https://localhost:8080/"
        },
        "outputId": "9605f784-c5eb-41f9-e06b-1684f5392e24"
      },
      "source": [
        "print('accuracy на последней эпохе: ', round(history.history[\"accuracy\"][-1]*100))\n",
        "print('val_accuracy на последней эпохе: ', round(history.history[\"val_accuracy\"][-1]*100))\n",
        "print('максимальная val_accuracy: ', round(max(history.history[\"val_accuracy\"])*100))"
      ],
      "execution_count": null,
      "outputs": [
        {
          "output_type": "stream",
          "text": [
            "accuracy на последней эпохе:  97\n",
            "val_accuracy на последней эпохе:  71\n",
            "максимальная val_accuracy:  78\n"
          ],
          "name": "stdout"
        }
      ]
    },
    {
      "cell_type": "markdown",
      "metadata": {
        "id": "Bk1P-MFGhgiU"
      },
      "source": [
        "#- Сложная полносвязная сеть - 7 Dense слоев + Dropout + BatchNormalization + elu + batch size = 900"
      ]
    },
    {
      "cell_type": "code",
      "metadata": {
        "id": "eF1ebmiEhkwm",
        "colab": {
          "base_uri": "https://localhost:8080/"
        },
        "outputId": "d9fab41c-f3d0-46d5-8a32-bba07c5a6ab9"
      },
      "source": [
        "modelD7D4Ne = Sequential()\n",
        "modelD7D4Ne.add(Dense(1000, input_dim=37, activation='relu'))\n",
        "modelD7D4Ne.add(Dropout(0.6))\n",
        "modelD7D4Ne.add(Dense(800, activation='elu'))\n",
        "modelD7D4Ne.add(BatchNormalization())\n",
        "modelD7D4Ne.add(Dense(1000, activation='relu'))\n",
        "modelD7D4Ne.add(Dropout(0.4))\n",
        "modelD7D4Ne.add(Dense(800, activation='elu'))\n",
        "modelD7D4Ne.add(BatchNormalization())\n",
        "modelD7D4Ne.add(Dense(600, activation='relu'))\n",
        "modelD7D4Ne.add(Dropout(0.2))\n",
        "modelD7D4Ne.add(Dense(400, activation='elu'))\n",
        "modelD7D4Ne.add(BatchNormalization())\n",
        "modelD7D4Ne.add(Dense(200, activation='relu'))\n",
        "modelD7D4Ne.add(Dropout(0.2))\n",
        "modelD7D4Ne.add(Dense(10, activation='softmax'))\n",
        "\n",
        "modelD7D4Ne.compile(optimizer=(RMSprop(lr=1e-3)), loss='sparse_categorical_crossentropy', metrics=['accuracy'])\n",
        "#modelD7D4Ne.summary()"
      ],
      "execution_count": null,
      "outputs": [
        {
          "output_type": "stream",
          "text": [
            "/usr/local/lib/python3.7/dist-packages/tensorflow/python/keras/optimizer_v2/optimizer_v2.py:375: UserWarning: The `lr` argument is deprecated, use `learning_rate` instead.\n",
            "  \"The `lr` argument is deprecated, use `learning_rate` instead.\")\n"
          ],
          "name": "stderr"
        }
      ]
    },
    {
      "cell_type": "code",
      "metadata": {
        "id": "nVtRRbvphnUq"
      },
      "source": [
        "history = modelD7D4Ne.fit(x_train, y_train, epochs=100, batch_size=900, validation_data=(x_test, y_test), verbose=0)"
      ],
      "execution_count": null,
      "outputs": []
    },
    {
      "cell_type": "code",
      "metadata": {
        "id": "sE9YoHqAhqDH",
        "colab": {
          "base_uri": "https://localhost:8080/",
          "height": 266
        },
        "outputId": "fe6266e4-70fc-4a32-b00e-998ae7861ec7"
      },
      "source": [
        "plt.plot(history.history[\"accuracy\"])\n",
        "plt.plot(history.history[\"val_accuracy\"])\n",
        "plt.show()"
      ],
      "execution_count": null,
      "outputs": [
        {
          "output_type": "display_data",
          "data": {
            "image/png": "[encoded data removed]",
            "text/plain": [
              "<Figure size 432x288 with 1 Axes>"
            ]
          },
          "metadata": {
            "tags": [],
            "needs_background": "light"
          }
        }
      ]
    },
    {
      "cell_type": "code",
      "metadata": {
        "id": "NDaCxb4Fq5v8",
        "colab": {
          "base_uri": "https://localhost:8080/"
        },
        "outputId": "694c30e1-1c93-4593-d2e9-b074e316072e"
      },
      "source": [
        "print('accuracy на последней эпохе: ', round(history.history[\"accuracy\"][-1]*100))\n",
        "print('val_accuracy на последней эпохе: ', round(history.history[\"val_accuracy\"][-1]*100))\n",
        "print('максимальная val_accuracy: ', round(max(history.history[\"val_accuracy\"])*100))"
      ],
      "execution_count": null,
      "outputs": [
        {
          "output_type": "stream",
          "text": [
            "accuracy на последней эпохе:  95\n",
            "val_accuracy на последней эпохе:  68\n",
            "максимальная val_accuracy:  72\n"
          ],
          "name": "stdout"
        }
      ]
    },
    {
      "cell_type": "markdown",
      "metadata": {
        "id": "rbdLa1v80NAF"
      },
      "source": [
        "Для данной задачи наиболее точной моделью является сложная полносвязная сеть с несколькими `Dense` слоями, с большим количеством нейронов, с несколькими дополнительными слоями `Dropout` и `BatchNormalization`, с использованием двух активационных функций `relu` и `elu`и небольшим размеров `batch_size`."
      ]
    }
  ]
}
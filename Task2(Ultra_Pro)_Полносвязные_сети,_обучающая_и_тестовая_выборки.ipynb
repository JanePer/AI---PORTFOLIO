{
  "nbformat": 4,
  "nbformat_minor": 0,
  "metadata": {
    "colab": {
      "name": "Task2(Ultra Pro)_Полносвязные сети, обучающая и тестовая выборки.ipynb",
      "provenance": [],
      "collapsed_sections": [],
      "authorship_tag": "ABX9TyO8RulXoJ3Ckqp8NvsKLFdn",
      "include_colab_link": true
    },
    "kernelspec": {
      "name": "python3",
      "display_name": "Python 3"
    },
    "language_info": {
      "name": "python"
    }
  },
  "cells": [
    {
      "cell_type": "markdown",
      "metadata": {
        "id": "view-in-github",
        "colab_type": "text"
      },
      "source": [
        "<a href=\"https://colab.research.google.com/github/JanePer/AI---PORTFOLIO/blob/main/Task2(Ultra_Pro)_%D0%9F%D0%BE%D0%BB%D0%BD%D0%BE%D1%81%D0%B2%D1%8F%D0%B7%D0%BD%D1%8B%D0%B5_%D1%81%D0%B5%D1%82%D0%B8%2C_%D0%BE%D0%B1%D1%83%D1%87%D0%B0%D1%8E%D1%89%D0%B0%D1%8F_%D0%B8_%D1%82%D0%B5%D1%81%D1%82%D0%BE%D0%B2%D0%B0%D1%8F_%D0%B2%D1%8B%D0%B1%D0%BE%D1%80%D0%BA%D0%B8.ipynb\" target=\"_parent\"><img src=\"https://colab.research.google.com/assets/colab-badge.svg\" alt=\"Open In Colab\"/></a>"
      ]
    },
    {
      "cell_type": "markdown",
      "metadata": {
        "id": "W0ADky-xWhRd"
      },
      "source": [
        "**1. Импорт библиотек.**"
      ]
    },
    {
      "cell_type": "code",
      "metadata": {
        "id": "I_MX9PzIWh05"
      },
      "source": [
        "from tensorflow.keras.datasets import mnist #images with numbers\n",
        "from sklearn.model_selection import train_test_split\n",
        "from tensorflow.keras.models import Sequential #type of NN's model\n",
        "from tensorflow.keras.layers import Dense, Dropout, BatchNormalization #main layers\n",
        "from tensorflow.keras.optimizers import Adam #optimizer type\n",
        "from tensorflow.keras import utils #utils for to_categorical\n",
        "from tensorflow.keras.preprocessing import image\n",
        "from sklearn.preprocessing import LabelEncoder, StandardScaler # Функции для нормализации данных\n",
        "from sklearn import preprocessing # Пакет предварительной обработки данных\n",
        "import numpy as np\n",
        "import pandas as pd # Библиотека pandas\n",
        "import pylab #for charts\n",
        "import matplotlib.pyplot as plt #for charts\n",
        "from mpl_toolkits.mplot3d import Axes3D #for 3D charts\n",
        "from google.colab import files #for files uploading\n",
        "from PIL import Image\n",
        "%matplotlib inline"
      ],
      "execution_count": null,
      "outputs": []
    },
    {
      "cell_type": "markdown",
      "metadata": {
        "id": "EPS765naYe5C"
      },
      "source": [
        "**2. Загрузка данных.**"
      ]
    },
    {
      "cell_type": "code",
      "metadata": {
        "colab": {
          "base_uri": "https://localhost:8080/",
          "height": 219
        },
        "id": "4Xjp6FMRXuog",
        "outputId": "8648b3ba-119a-4d70-c941-51eed792798c"
      },
      "source": [
        "cars = pd.read_csv('/cars_new.csv', sep=',')\n",
        "print(cars.shape)\n",
        "cars.head()"
      ],
      "execution_count": null,
      "outputs": [
        {
          "output_type": "stream",
          "text": [
            "(70119, 10)\n"
          ],
          "name": "stdout"
        },
        {
          "output_type": "execute_result",
          "data": {
            "text/html": [
              "<div>\n",
              "<style scoped>\n",
              "    .dataframe tbody tr th:only-of-type {\n",
              "        vertical-align: middle;\n",
              "    }\n",
              "\n",
              "    .dataframe tbody tr th {\n",
              "        vertical-align: top;\n",
              "    }\n",
              "\n",
              "    .dataframe thead th {\n",
              "        text-align: right;\n",
              "    }\n",
              "</style>\n",
              "<table border=\"1\" class=\"dataframe\">\n",
              "  <thead>\n",
              "    <tr style=\"text-align: right;\">\n",
              "      <th></th>\n",
              "      <th>mark</th>\n",
              "      <th>model</th>\n",
              "      <th>price</th>\n",
              "      <th>year</th>\n",
              "      <th>mileage</th>\n",
              "      <th>body</th>\n",
              "      <th>kpp</th>\n",
              "      <th>fuel</th>\n",
              "      <th>volume</th>\n",
              "      <th>power</th>\n",
              "    </tr>\n",
              "  </thead>\n",
              "  <tbody>\n",
              "    <tr>\n",
              "      <th>0</th>\n",
              "      <td>kia</td>\n",
              "      <td>cerato</td>\n",
              "      <td>996000</td>\n",
              "      <td>2018</td>\n",
              "      <td>28000</td>\n",
              "      <td>седан</td>\n",
              "      <td>автомат</td>\n",
              "      <td>бензин</td>\n",
              "      <td>2.0</td>\n",
              "      <td>150.0</td>\n",
              "    </tr>\n",
              "    <tr>\n",
              "      <th>1</th>\n",
              "      <td>daewoo</td>\n",
              "      <td>nexia 1 поколение [2-й рестайлинг]</td>\n",
              "      <td>140200</td>\n",
              "      <td>2012</td>\n",
              "      <td>60500</td>\n",
              "      <td>седан</td>\n",
              "      <td>механика</td>\n",
              "      <td>бензин</td>\n",
              "      <td>1.5</td>\n",
              "      <td>80.0</td>\n",
              "    </tr>\n",
              "    <tr>\n",
              "      <th>2</th>\n",
              "      <td>suzuki</td>\n",
              "      <td>jimny 3 поколение [рестайлинг]</td>\n",
              "      <td>750000</td>\n",
              "      <td>2011</td>\n",
              "      <td>29000</td>\n",
              "      <td>внедорожник</td>\n",
              "      <td>автомат</td>\n",
              "      <td>бензин</td>\n",
              "      <td>1.3</td>\n",
              "      <td>85.0</td>\n",
              "    </tr>\n",
              "    <tr>\n",
              "      <th>3</th>\n",
              "      <td>bmw</td>\n",
              "      <td>x1 18 e84 [рестайлинг]</td>\n",
              "      <td>970000</td>\n",
              "      <td>2014</td>\n",
              "      <td>49500</td>\n",
              "      <td>кроссовер</td>\n",
              "      <td>автомат</td>\n",
              "      <td>бензин</td>\n",
              "      <td>2.0</td>\n",
              "      <td>150.0</td>\n",
              "    </tr>\n",
              "    <tr>\n",
              "      <th>4</th>\n",
              "      <td>chevrolet</td>\n",
              "      <td>lacetti 1 поколение</td>\n",
              "      <td>205000</td>\n",
              "      <td>2007</td>\n",
              "      <td>151445</td>\n",
              "      <td>седан</td>\n",
              "      <td>механика</td>\n",
              "      <td>бензин</td>\n",
              "      <td>1.4</td>\n",
              "      <td>95.0</td>\n",
              "    </tr>\n",
              "  </tbody>\n",
              "</table>\n",
              "</div>"
            ],
            "text/plain": [
              "        mark                               model   price  ...    fuel  volume  power\n",
              "0        kia                              cerato  996000  ...  бензин     2.0  150.0\n",
              "1     daewoo  nexia 1 поколение [2-й рестайлинг]  140200  ...  бензин     1.5   80.0\n",
              "2     suzuki      jimny 3 поколение [рестайлинг]  750000  ...  бензин     1.3   85.0\n",
              "3        bmw              x1 18 e84 [рестайлинг]  970000  ...  бензин     2.0  150.0\n",
              "4  chevrolet                 lacetti 1 поколение  205000  ...  бензин     1.4   95.0\n",
              "\n",
              "[5 rows x 10 columns]"
            ]
          },
          "metadata": {
            "tags": []
          },
          "execution_count": 2
        }
      ]
    },
    {
      "cell_type": "markdown",
      "metadata": {
        "id": "m8HFOQEys4q6"
      },
      "source": [
        "**3. Подготовка данных и формирование обучающей, проверочной и тестовой выборок.**"
      ]
    },
    {
      "cell_type": "code",
      "metadata": {
        "id": "CsMkh4eOZQZS"
      },
      "source": [
        "def create_dict(uniq_list):\n",
        "  dictionary = {}                          # Создаём пустой словарь\n",
        "  for _id, name in enumerate(uniq_list):    # Проходим по всем парам - id и название\n",
        "    dictionary.update({name: _id})         # Добавляем в словарь\n",
        "  return dictionary"
      ],
      "execution_count": null,
      "outputs": []
    },
    {
      "cell_type": "code",
      "metadata": {
        "colab": {
          "base_uri": "https://localhost:8080/"
        },
        "id": "lrLYpdmvanfm",
        "outputId": "3be70e6f-6379-43b3-e37e-a051b9757c5e"
      },
      "source": [
        "# Создаём словари по всем текстовым колонкам\n",
        "marks_dict = create_dict(cars['mark'].unique())\n",
        "models_dict = create_dict(set(cars['model']))\n",
        "bodies_dict = create_dict(set(cars['body']))\n",
        "kpps_dict = create_dict(set(cars['kpp']))\n",
        "fuels_dict = create_dict(set(cars['fuel']))\n",
        "marks_dict"
      ],
      "execution_count": null,
      "outputs": [
        {
          "output_type": "execute_result",
          "data": {
            "text/plain": [
              "{'audi': 13,\n",
              " 'bmw': 3,\n",
              " 'chery': 8,\n",
              " 'chevrolet': 4,\n",
              " 'daewoo': 1,\n",
              " 'ford': 9,\n",
              " 'honda': 19,\n",
              " 'hyundai': 5,\n",
              " 'kia': 0,\n",
              " 'mazda': 10,\n",
              " 'mercedes-benz': 7,\n",
              " 'mitsubishi': 14,\n",
              " 'nissan': 16,\n",
              " 'opel': 15,\n",
              " 'peugeot': 11,\n",
              " 'renault': 20,\n",
              " 'skoda': 17,\n",
              " 'subaru': 18,\n",
              " 'suzuki': 2,\n",
              " 'toyota': 6,\n",
              " 'volkswagen': 12}"
            ]
          },
          "metadata": {
            "tags": []
          },
          "execution_count": 4
        }
      ]
    },
    {
      "cell_type": "code",
      "metadata": {
        "colab": {
          "base_uri": "https://localhost:8080/"
        },
        "id": "lp0i-DbZcWjg",
        "outputId": "b809bf55-402e-41e4-d42f-2ff22c0df9a5"
      },
      "source": [
        "# Запоминаем цены\n",
        "prices = np.array(cars['price'], dtype=np.float)\n",
        "print(prices.shape)\n",
        "prices"
      ],
      "execution_count": null,
      "outputs": [
        {
          "output_type": "stream",
          "text": [
            "(70119,)\n"
          ],
          "name": "stdout"
        },
        {
          "output_type": "execute_result",
          "data": {
            "text/plain": [
              "array([ 996000.,  140200.,  750000., ..., 1140000.,  550550.,  430000.])"
            ]
          },
          "metadata": {
            "tags": []
          },
          "execution_count": 5
        }
      ]
    },
    {
      "cell_type": "code",
      "metadata": {
        "colab": {
          "base_uri": "https://localhost:8080/"
        },
        "id": "sKUPlghPdKLK",
        "outputId": "12b2dc78-ffa7-4467-f3fb-ae6c22612db0"
      },
      "source": [
        "# Запоминаем числовые параметры и нормируем\n",
        "years = preprocessing.scale(cars['year'])\n",
        "mileages = preprocessing.scale(cars['mileage'])\n",
        "volumes = preprocessing.scale(cars['volume'])\n",
        "powers = preprocessing.scale(cars['power'])\n",
        "print(years.std(),mileages.std(),volumes.std(),powers.std())"
      ],
      "execution_count": null,
      "outputs": [
        {
          "output_type": "stream",
          "text": [
            "1.0 1.0 1.0 1.0\n"
          ],
          "name": "stdout"
        }
      ]
    },
    {
      "cell_type": "code",
      "metadata": {
        "id": "a1Zy8DnZiTHZ"
      },
      "source": [
        "# Создаём общие пустые выборки\n",
        "x = []\n",
        "y = []\n",
        "\n",
        "# Функция преобразования в one hot encoding (ohe)\n",
        "def to_ohe(value, d):\n",
        "  arr = [0] * len(d)\n",
        "  arr[d[value]] = 1\n",
        "  return arr"
      ],
      "execution_count": null,
      "outputs": []
    },
    {
      "cell_type": "code",
      "metadata": {
        "id": "LeCJlcm-pb7S"
      },
      "source": [
        "# Проходим по всем машинам\n",
        "for _id, car in enumerate(np.array(cars)):\n",
        "  # В y добавляем цену\n",
        "  y.append(prices[_id])\n",
        "  # В x объединяем все параметры\n",
        "  # Категорийные параметры добавляем в виде ohe\n",
        "  # Числовые параметры добавляем напрямую\n",
        "  x_tr = to_ohe(car[0], marks_dict) + \\\n",
        "        to_ohe(car[1], models_dict) + \\\n",
        "        to_ohe(car[5], bodies_dict) + \\\n",
        "        to_ohe(car[6], kpps_dict) + \\\n",
        "        to_ohe(car[7], fuels_dict) + \\\n",
        "        [years[_id]] + \\\n",
        "        [mileages[_id]] + \\\n",
        "        [volumes[_id]] + \\\n",
        "        [powers[_id]]\n",
        "  \n",
        "  # Добавляем текущую строку в общий x\n",
        "  x.append(x_tr)"
      ],
      "execution_count": null,
      "outputs": []
    },
    {
      "cell_type": "code",
      "metadata": {
        "id": "x-HbFjWlsBIZ",
        "colab": {
          "base_uri": "https://localhost:8080/"
        },
        "outputId": "317e1888-bc63-45e3-a097-15730e0d4552"
      },
      "source": [
        "# Превращаем лист в numpy.array\n",
        "x = np.array(x, dtype=np.float)\n",
        "y = np.array(y, dtype=np.float)\n",
        "\n",
        "# Выводим размеры выборок\n",
        "print(x.shape)\n",
        "print(y.shape)"
      ],
      "execution_count": null,
      "outputs": [
        {
          "output_type": "stream",
          "text": [
            "(70119, 3208)\n",
            "(70119,)\n"
          ],
          "name": "stdout"
        }
      ]
    },
    {
      "cell_type": "code",
      "metadata": {
        "colab": {
          "base_uri": "https://localhost:8080/"
        },
        "id": "cotbQ8K-tJUe",
        "outputId": "bd7a26c3-63e2-4f2f-f4d2-5fbd96e8b2ac"
      },
      "source": [
        "# Выводим один x\n",
        "print(x[0,:20])\n",
        "print(x[0,-20:])"
      ],
      "execution_count": null,
      "outputs": [
        {
          "output_type": "stream",
          "text": [
            "[1. 0. 0. 0. 0. 0. 0. 0. 0. 0. 0. 0. 0. 0. 0. 0. 0. 0. 0. 0.]\n",
            "[ 0.          0.          0.          0.          0.          0.\n",
            "  0.          0.          0.          0.          1.          1.\n",
            "  0.          0.          0.          0.          1.5200145  -1.40018212\n",
            "  0.12288486  0.22905575]\n"
          ],
          "name": "stdout"
        }
      ]
    },
    {
      "cell_type": "code",
      "metadata": {
        "colab": {
          "base_uri": "https://localhost:8080/"
        },
        "id": "BMG2-NzztQsQ",
        "outputId": "1f35206a-6169-4299-9240-516fee788e2b"
      },
      "source": [
        "# Выводим y\n",
        "print(y[:10])"
      ],
      "execution_count": null,
      "outputs": [
        {
          "output_type": "stream",
          "text": [
            "[ 996000.  140200.  750000.  970000.  205000.  985000.  589000.  500000.\n",
            " 1320000.  270000.]\n"
          ],
          "name": "stdout"
        }
      ]
    },
    {
      "cell_type": "code",
      "metadata": {
        "colab": {
          "base_uri": "https://localhost:8080/"
        },
        "id": "tRQQiO_BFCCT",
        "outputId": "87b2d139-5efe-4908-ff70-a8ed61a6e859"
      },
      "source": [
        "# Делаем разбивку общей выборки на обучающую и тестовую\n",
        "x_train, x_test, y_train, y_test = train_test_split(x, y, test_size=0.1, shuffle=True)\n",
        "print (x_train.shape)\n",
        "print (x_test.shape)\n",
        "print (y_train.shape)\n",
        "print (y_test.shape)"
      ],
      "execution_count": null,
      "outputs": [
        {
          "output_type": "stream",
          "text": [
            "(63107, 3208)\n",
            "(7012, 3208)\n",
            "(63107,)\n",
            "(7012,)\n"
          ],
          "name": "stdout"
        }
      ]
    },
    {
      "cell_type": "code",
      "metadata": {
        "colab": {
          "base_uri": "https://localhost:8080/"
        },
        "id": "SFaSt4sDtQlG",
        "outputId": "b355c599-88f0-425c-b2de-a6e7a3429953"
      },
      "source": [
        "# Нормализуем y_train и y_test\n",
        "y_scaler = StandardScaler()\n",
        "y_train_scaled = y_scaler.fit_transform(y_train.reshape(-1,1)).flatten()\n",
        "y_test_scaled = y_scaler.fit_transform(y_test.reshape(-1,1)).flatten()\n",
        "y_train_scaled.shape"
      ],
      "execution_count": null,
      "outputs": [
        {
          "output_type": "execute_result",
          "data": {
            "text/plain": [
              "(63107,)"
            ]
          },
          "metadata": {
            "tags": []
          },
          "execution_count": 13
        }
      ]
    },
    {
      "cell_type": "code",
      "metadata": {
        "colab": {
          "base_uri": "https://localhost:8080/"
        },
        "id": "S6c_LILct7e3",
        "outputId": "73262ec1-ed11-4a17-c318-f160f8c23d23"
      },
      "source": [
        "# Выводим базовый и нормированный y_train\n",
        "print(y_train[:10])\n",
        "print(y_train_scaled[:10])"
      ],
      "execution_count": null,
      "outputs": [
        {
          "output_type": "stream",
          "text": [
            "[270000. 580000. 130000. 677000. 545000. 750000. 135000. 375000. 350000.\n",
            "  98500.]\n",
            "[-0.41387503  0.08354598 -0.63851677  0.23919062  0.02738555  0.35632525\n",
            " -0.63049385 -0.24539372 -0.28550831 -0.68906117]\n"
          ],
          "name": "stdout"
        }
      ]
    },
    {
      "cell_type": "markdown",
      "metadata": {
        "id": "f8n8JKzmu9bA"
      },
      "source": [
        "**4. Создание и обучение сети.**"
      ]
    },
    {
      "cell_type": "code",
      "metadata": {
        "colab": {
          "base_uri": "https://localhost:8080/"
        },
        "id": "HPwz-AADvAEU",
        "outputId": "200c0d49-6fef-4262-de6c-d2d9874fca5e"
      },
      "source": [
        "model_ula = Sequential()\n",
        "model_ula.add(Dense(200, input_dim=3208, activation='tanh'))\n",
        "#model_ula.add(Dropout(0.1))\n",
        "#model_ula.add(BatchNormalization())\n",
        "model_ula.add(Dense(400, activation='tanh'))\n",
        "#model_ula.add(Dropout(0.6))\n",
        "#model_ula.add(BatchNormalization())\n",
        "model_ula.add(Dense(1, activation='linear'))\n",
        "\n",
        "model_ula.compile(loss='mse', optimizer='Adam')\n",
        "model=model_ula.fit(x_train,y_train_scaled, batch_size=200, epochs=30, verbose=1, validation_split=0.1)"
      ],
      "execution_count": null,
      "outputs": [
        {
          "output_type": "stream",
          "text": [
            "Epoch 1/30\n",
            "284/284 [==============================] - 6s 18ms/step - loss: 0.4535 - val_loss: 0.1234\n",
            "Epoch 2/30\n",
            "284/284 [==============================] - 5s 17ms/step - loss: 0.2103 - val_loss: 0.1209\n",
            "Epoch 3/30\n",
            "284/284 [==============================] - 5s 17ms/step - loss: 0.2169 - val_loss: 0.0755\n",
            "Epoch 4/30\n",
            "284/284 [==============================] - 5s 17ms/step - loss: 0.1353 - val_loss: 0.1006\n",
            "Epoch 5/30\n",
            "284/284 [==============================] - 5s 17ms/step - loss: 0.1202 - val_loss: 0.0644\n",
            "Epoch 6/30\n",
            "284/284 [==============================] - 5s 17ms/step - loss: 0.0764 - val_loss: 0.0601\n",
            "Epoch 7/30\n",
            "284/284 [==============================] - 5s 17ms/step - loss: 0.0609 - val_loss: 0.0670\n",
            "Epoch 8/30\n",
            "284/284 [==============================] - 5s 17ms/step - loss: 0.0811 - val_loss: 0.0655\n",
            "Epoch 9/30\n",
            "284/284 [==============================] - 5s 17ms/step - loss: 0.0601 - val_loss: 0.0572\n",
            "Epoch 10/30\n",
            "284/284 [==============================] - 5s 17ms/step - loss: 0.0829 - val_loss: 0.0422\n",
            "Epoch 11/30\n",
            "284/284 [==============================] - 5s 17ms/step - loss: 0.0542 - val_loss: 0.0469\n",
            "Epoch 12/30\n",
            "284/284 [==============================] - 5s 17ms/step - loss: 0.0468 - val_loss: 0.0624\n",
            "Epoch 13/30\n",
            "284/284 [==============================] - 5s 17ms/step - loss: 0.0647 - val_loss: 0.0465\n",
            "Epoch 14/30\n",
            "284/284 [==============================] - 5s 17ms/step - loss: 0.0521 - val_loss: 0.0515\n",
            "Epoch 15/30\n",
            "284/284 [==============================] - 5s 17ms/step - loss: 0.0445 - val_loss: 0.0497\n",
            "Epoch 16/30\n",
            "284/284 [==============================] - 5s 17ms/step - loss: 0.0456 - val_loss: 0.0500\n",
            "Epoch 17/30\n",
            "284/284 [==============================] - 5s 17ms/step - loss: 0.0389 - val_loss: 0.0759\n",
            "Epoch 18/30\n",
            "284/284 [==============================] - 5s 17ms/step - loss: 0.0507 - val_loss: 0.0451\n",
            "Epoch 19/30\n",
            "284/284 [==============================] - 5s 17ms/step - loss: 0.0526 - val_loss: 0.0442\n",
            "Epoch 20/30\n",
            "284/284 [==============================] - 5s 17ms/step - loss: 0.0459 - val_loss: 0.0419\n",
            "Epoch 21/30\n",
            "284/284 [==============================] - 5s 17ms/step - loss: 0.0455 - val_loss: 0.0446\n",
            "Epoch 22/30\n",
            "284/284 [==============================] - 5s 17ms/step - loss: 0.0492 - val_loss: 0.0591\n",
            "Epoch 23/30\n",
            "284/284 [==============================] - 5s 17ms/step - loss: 0.0531 - val_loss: 0.0443\n",
            "Epoch 24/30\n",
            "284/284 [==============================] - 5s 17ms/step - loss: 0.0598 - val_loss: 0.0407\n",
            "Epoch 25/30\n",
            "284/284 [==============================] - 5s 17ms/step - loss: 0.0443 - val_loss: 0.0621\n",
            "Epoch 26/30\n",
            "284/284 [==============================] - 5s 17ms/step - loss: 0.0446 - val_loss: 0.0414\n",
            "Epoch 27/30\n",
            "284/284 [==============================] - 5s 17ms/step - loss: 0.0441 - val_loss: 0.0407\n",
            "Epoch 28/30\n",
            "284/284 [==============================] - 5s 17ms/step - loss: 0.0465 - val_loss: 0.0444\n",
            "Epoch 29/30\n",
            "284/284 [==============================] - 5s 18ms/step - loss: 0.0430 - val_loss: 0.0460\n",
            "Epoch 30/30\n",
            "284/284 [==============================] - 5s 17ms/step - loss: 0.0387 - val_loss: 0.0427\n"
          ],
          "name": "stdout"
        }
      ]
    },
    {
      "cell_type": "code",
      "metadata": {
        "colab": {
          "base_uri": "https://localhost:8080/"
        },
        "id": "66oTPui6AqZU",
        "outputId": "22d7ef6c-fd4c-4eb6-c439-0a8fc2e730d2"
      },
      "source": [
        "# Тестим модель на тестовой выборке, чем мельше ошибка, тем точнее модель\n",
        "scores=model_ula.evaluate(x_test,y_test_scaled, verbose=1)"
      ],
      "execution_count": null,
      "outputs": [
        {
          "output_type": "stream",
          "text": [
            "220/220 [==============================] - 0s 2ms/step - loss: 0.0603\n"
          ],
          "name": "stdout"
        }
      ]
    },
    {
      "cell_type": "code",
      "metadata": {
        "colab": {
          "base_uri": "https://localhost:8080/"
        },
        "id": "5ConOX0PECxC",
        "outputId": "4e70ead4-8d30-4e1d-f65e-d3f063d38d8f"
      },
      "source": [
        "# Используем сеть для предсказания цены - на выходе цена нормированная\n",
        "predict = model_ula.predict(x_test)\n",
        "predict"
      ],
      "execution_count": null,
      "outputs": [
        {
          "output_type": "execute_result",
          "data": {
            "text/plain": [
              "array([[-0.40559646],\n",
              "       [ 0.1411871 ],\n",
              "       [ 1.4112773 ],\n",
              "       ...,\n",
              "       [ 3.0444582 ],\n",
              "       [ 5.860988  ],\n",
              "       [-0.28571287]], dtype=float32)"
            ]
          },
          "metadata": {
            "tags": []
          },
          "execution_count": 17
        }
      ]
    },
    {
      "cell_type": "code",
      "metadata": {
        "colab": {
          "base_uri": "https://localhost:8080/"
        },
        "id": "YQwHNt-yEasA",
        "outputId": "0b53f435-ef5c-4002-9b26-3bf83379496e"
      },
      "source": [
        "# Приводим предсказанные цены к первоначальному диапазону\n",
        "predict_inverse = y_scaler.inverse_transform(predict).flatten()\n",
        "predict_inverse"
      ],
      "execution_count": null,
      "outputs": [
        {
          "output_type": "execute_result",
          "data": {
            "text/plain": [
              "array([ 271211.84,  614508.7 , 1411932.  , ..., 2437321.  , 4205673.  ,\n",
              "        346480.5 ], dtype=float32)"
            ]
          },
          "metadata": {
            "tags": []
          },
          "execution_count": 18
        }
      ]
    },
    {
      "cell_type": "code",
      "metadata": {
        "colab": {
          "base_uri": "https://localhost:8080/"
        },
        "id": "bFUQIgrR1vjc",
        "outputId": "0a152b25-4c69-4afa-c7a7-67dc9efa437b"
      },
      "source": [
        "print('средняя цена в тестовой выборке: ', round(y_test.mean(),1))\n",
        "print('средняя предсказанная цена: ', round(predict_inverse.mean(),1))"
      ],
      "execution_count": null,
      "outputs": [
        {
          "output_type": "stream",
          "text": [
            "средняя цена в тестовой выборке:  525864.7\n",
            "средняя предсказанная цена:  544760.0\n"
          ],
          "name": "stdout"
        }
      ]
    },
    {
      "cell_type": "code",
      "metadata": {
        "colab": {
          "base_uri": "https://localhost:8080/"
        },
        "id": "0bLdxg4YIVXh",
        "outputId": "1beace0e-5768-43a5-873b-d4b7471dd50a"
      },
      "source": [
        "# Считаем среднюю ошибку в ценах\n",
        "loss_per_price=abs(predict_inverse-y_test)\n",
        "print(round(loss_per_price.mean(),1),\"\\n\", round(loss_per_price.std(),1))"
      ],
      "execution_count": null,
      "outputs": [
        {
          "output_type": "stream",
          "text": [
            "71732.1 \n",
            " 136518.4\n"
          ],
          "name": "stdout"
        }
      ]
    },
    {
      "cell_type": "code",
      "metadata": {
        "colab": {
          "base_uri": "https://localhost:8080/"
        },
        "id": "qItMQBkkJ5Gp",
        "outputId": "b931f9d6-bb5e-4d34-e6c5-5b486cd0a2dc"
      },
      "source": [
        "# Считаем средний процент ошибки\n",
        "loss_per_price_perc=(loss_per_price*100)/y_test\n",
        "print(round(loss_per_price_perc.mean(),1), \"\\n\", round(loss_per_price_perc.std(),1))\n"
      ],
      "execution_count": null,
      "outputs": [
        {
          "output_type": "stream",
          "text": [
            "27.0 \n",
            " 54.5\n"
          ],
          "name": "stdout"
        }
      ]
    },
    {
      "cell_type": "markdown",
      "metadata": {
        "id": "Tod2PxBn7l4N"
      },
      "source": [
        "- Модель далеко не точная, средний процент ошибки цены 27% при изменчивости аж до 55%, то есть часто предсказанная цена практически вдвое больше или меньше от реальной."
      ]
    }
  ]
}
{
  "nbformat": 4,
  "nbformat_minor": 0,
  "metadata": {
    "accelerator": "GPU",
    "colab": {
      "name": "Task5(Lite)_RNN и CNN в обработке текстов.ipynb",
      "provenance": [],
      "collapsed_sections": [],
      "authorship_tag": "ABX9TyNCYXr1qL9WM0H8k5cVwQkC",
      "include_colab_link": true
    },
    "kernelspec": {
      "display_name": "Python 3",
      "name": "python3"
    },
    "language_info": {
      "name": "python"
    }
  },
  "cells": [
    {
      "cell_type": "markdown",
      "metadata": {
        "id": "view-in-github",
        "colab_type": "text"
      },
      "source": [
        "<a href=\"https://colab.research.google.com/github/JanePer/AI---PORTFOLIO/blob/main/Task5(Lite)_RNN_%D0%B8_CNN_%D0%B2_%D0%BE%D0%B1%D1%80%D0%B0%D0%B1%D0%BE%D1%82%D0%BA%D0%B5_%D1%82%D0%B5%D0%BA%D1%81%D1%82%D0%BE%D0%B2.ipynb\" target=\"_parent\"><img src=\"https://colab.research.google.com/assets/colab-badge.svg\" alt=\"Open In Colab\"/></a>"
      ]
    },
    {
      "cell_type": "markdown",
      "metadata": {
        "id": "tCOxjE-VNQTh"
      },
      "source": [
        "# **Lite**"
      ]
    },
    {
      "cell_type": "markdown",
      "metadata": {
        "id": "2JT8kprOgAt1"
      },
      "source": [
        "#Классификация заболеваний по базе симптомов."
      ]
    },
    {
      "cell_type": "markdown",
      "metadata": {
        "id": "fbZcR-LFPDoP"
      },
      "source": [
        "**1. Импорт библиотек.**"
      ]
    },
    {
      "cell_type": "code",
      "metadata": {
        "colab": {
          "base_uri": "https://localhost:8080/"
        },
        "id": "UAa_UnRidTdl",
        "outputId": "17e5f07f-f6b9-4192-e94d-bc0b39a16657"
      },
      "source": [
        "from google.colab import files\n",
        "from google.colab import drive\n",
        "import numpy as np\n",
        "import pandas as pd\n",
        "import matplotlib.pyplot as plt\n",
        "import seaborn as sns\n",
        "import time\n",
        "import os\n",
        "%matplotlib inline\n",
        "\n",
        "from tensorflow.keras import utils\n",
        "from tensorflow.keras.utils import plot_model\n",
        "from tensorflow.keras.models import Sequential\n",
        "from tensorflow.keras.layers import Dense, Dropout, BatchNormalization, Embedding, Flatten\n",
        "from tensorflow.keras.layers import Conv1D, SpatialDropout1D, MaxPooling1D, GlobalMaxPooling1D, GlobalAveragePooling1D\n",
        "from tensorflow.keras.layers import LSTM, GRU, SimpleRNN, Bidirectional\n",
        "from tensorflow.keras.optimizers import Adam, RMSprop\n",
        "from tensorflow.keras.preprocessing.text import Tokenizer, text_to_word_sequence\n",
        "from sklearn.model_selection import train_test_split\n",
        "\n",
        "drive.mount('/content/drive')"
      ],
      "execution_count": null,
      "outputs": [
        {
          "output_type": "stream",
          "text": [
            "Drive already mounted at /content/drive; to attempt to forcibly remount, call drive.mount(\"/content/drive\", force_remount=True).\n"
          ],
          "name": "stdout"
        }
      ]
    },
    {
      "cell_type": "markdown",
      "metadata": {
        "id": "0cG_32Vcu7aD"
      },
      "source": [
        "**2. Загрузка базы текстов.**"
      ]
    },
    {
      "cell_type": "code",
      "metadata": {
        "id": "42DhdHHJgYM7"
      },
      "source": [
        "!rm -R '/content/texts' #remove texts directory\n",
        "!unzip -q '/content/drive/MyDrive/Colab Notebooks/Болезни.zip' -d '/content/texts' #unzip to created `texts` directory"
      ],
      "execution_count": null,
      "outputs": []
    },
    {
      "cell_type": "code",
      "metadata": {
        "id": "Yhv-zMjOtAsL"
      },
      "source": [
        "def readtext(file_name): #read all text in 1 raw\n",
        "  file=open(file_name, 'r')\n",
        "  text=file.read()\n",
        "  text=text.replace(\"\\n\",\" \")\n",
        "  return text"
      ],
      "execution_count": null,
      "outputs": []
    },
    {
      "cell_type": "code",
      "metadata": {
        "colab": {
          "base_uri": "https://localhost:8080/"
        },
        "id": "UCXfY8IIzHpr",
        "outputId": "afd6429d-96e4-4870-ac2c-0045bf2be849"
      },
      "source": [
        "diseases = [\"Аппендицит\", \"Гастрит\", \"Гепатит\", \"Дуоденит\", \"Колит\", \"Панкреатит\", \"Холицестит\", \"Эзофагит\", \"Энтерит\", \"Язва\"] #list of unique diseases\n",
        "diseases_qty=len(diseases)\n",
        "diseases_qty"
      ],
      "execution_count": null,
      "outputs": [
        {
          "output_type": "execute_result",
          "data": {
            "text/plain": [
              "10"
            ]
          },
          "metadata": {
            "tags": []
          },
          "execution_count": 4
        }
      ]
    },
    {
      "cell_type": "code",
      "metadata": {
        "colab": {
          "base_uri": "https://localhost:8080/"
        },
        "id": "HRd0LS3-zN5T",
        "outputId": "76894fcb-9dda-4886-f0e8-dbe58e6ee041"
      },
      "source": [
        "train_text=[]\n",
        "\n",
        "for i in diseases:\n",
        "  for t in os.listdir('/content/texts/Болезни'):\n",
        "    if i in t:\n",
        "      train_text.append(readtext('/content/texts/Болезни/'+t))\n",
        "\n",
        "print(len(train_text))\n",
        "print(len(train_text[0]))"
      ],
      "execution_count": null,
      "outputs": [
        {
          "output_type": "stream",
          "text": [
            "10\n",
            "4075\n"
          ],
          "name": "stdout"
        }
      ]
    },
    {
      "cell_type": "code",
      "metadata": {
        "colab": {
          "base_uri": "https://localhost:8080/",
          "height": 139
        },
        "id": "RA1RbQzurrLU",
        "outputId": "3ea4f93a-0f5f-45ac-bef9-c19c1ddd739b"
      },
      "source": [
        "train_text[0]"
      ],
      "execution_count": null,
      "outputs": [
        {
          "output_type": "execute_result",
          "data": {
            "application/vnd.google.colaboratory.intrinsic+json": {
              "type": "string"
            },
            "text/plain": [
              "'Резкая боль в животе Повышение температуры Напряженность мышц Тошнота  Острая боль в животе, в том числе и при надавливании Повышение температуры Тошнота Рвота  Тупая боль возле пупка или верхней части живота, которая становится острой, опускаясь в нижнюю правую часть живота. Обычно это первый симптом; Потеря аппетита; Тошнота и/или рвота вскоре после того, как началась боль в животе; Отек брюшной полости; Повышение температуры.  Тупя или острая боль в верхней или нижней части живота, спины или прямой кишки; Болезненное и/или затрудненное мочеиспускание; Рвота Сильные судороги Запор или диарея  Боль в животе, сначала в эпигастральной области или околопупочной области; нередко она имеет нелокализованный характер (боли «по всему животу») Отсутствие аппетита  Тошнота рвота 1-2 кратная  Подъём температуры до 37-38 жидкий стул частые мочеиспускания повышение числа сердечных сокращений повышение давления  Потеря аппетита тошнота Рвота Повышение температуры тела Запор или диарея  Боль в животе тошнота рвота Стул и газы часто задерживаются жидкие испражнения (преимущественно при тяжелой интоксикации) Температура тела повышается до 37,5—38°,реже остается нормальной Пульс в первые сутки от начала заболевания учащается до 90—100 ударов в 1 мин АД не изменяется и только при тяжелой интоксикации несколько снижается Язык  обложен и влажен,но скоро становится сухим   боль в эпигастрии или области пупка кратковременная тошнота рвота анорексия  боли в животе или вокруг пупка Боль постоянная и постепенно усиливается Пропадает аппетит. Рвота — не постоянная, 1–2 раза. Вздутие живота. Лихорадка, температура до 38 °C.  Внезапная боль внизу живота справа Внезапную боль вокруг пупка и часто смещается вниз и вправо Боль, которая усиливается при кашле, ходьбе и резких движениях Тошнота рвота Потеря аппетита Субфебрильная лихорадка Запор диарея Вздутие живота  сильнаая боль в районе пупка и нижней части живота Неприятные ощущения могут возникать при ходьбе или в транспорте боль в животе в сочетании с тошнотой,рвотой и отсутствием аппетита. Озноб высокая температура  постепенно усиливающаяся боль; болезненный кашель или чихание; тошнота; рвота; диарея; лихорадка; запор; потеря аппетита.  Боль в животе. Тошнота. Рвота. Высокая температура. Боль в нижней части живота. Боль в животе во время резких движений. Боль в паху, пупке или верхней части бедра.  Болезненное и частое мочеиспускание. Рвота и тошнота. Нарушение работы кишечника в виде запора или диареи.  боль в правом боку повышение температуры тошнота рвота  Ноющая боль в животе, которая начинается с области пупка, а затем обычно смещается в нижнюю правую часть живота. Кратковременная тошнота, рвота. Потеря аппетита запор Боль в животе, которая обостряется в течение нескольких часов. Острая боль в нижней правой части живота, которая возникает при внезапном ослаблении давления при прощупывании. Боль в животе, усиливающаяся при кашле, ходьбе, при резких движениях. Болезненность живота в нижней правой части при прощупывании. Повышение температуры тела до 37,7-38,3 °C.  боль в верхней половине живота, а затем она перемещается вправо и вниз. Впрочем, нередко заболевшие аппендицитом испытывают боли в правом подреберье и боли, отдающие в спину или в задний проход. Прикосновение к животу вызывает усиление болевых ощущений. Мышцы живота напряжены. Больной поджимает ноги к животу. Появляется тошнота и рвота. Изменяется характер стула (возникает запор или, наоборот, понос). Может повышаться температура.  боль в верхней половине живота,перемещается вправо и вниз боли в правом подреберье боли, отдающие в спину или в задний проход Мышцы живота напряжены тошнота рвота. запор или понос температура  ухудшение самочувствия общая слабость внезапная усталость снижение либо потеря аппетита возникновение острой боли в области желудка или околопупочной зоне  тошнота однократная рвота диарея запор метеоризм  боль в области пупка, которая постепенно переходит в нижнюю правую сторону живота. Тошнота рвота отсутствие аппетита Частые позывы к мочеиспусканию Приступы дрожи и высокая температура         '"
            ]
          },
          "metadata": {
            "tags": []
          },
          "execution_count": 6
        }
      ]
    },
    {
      "cell_type": "markdown",
      "metadata": {
        "id": "Dys_R-z9xCxN"
      },
      "source": [
        "**3. Нормирование и преобразование данных.**"
      ]
    },
    {
      "cell_type": "code",
      "metadata": {
        "colab": {
          "base_uri": "https://localhost:8080/"
        },
        "id": "hVF04mzK4rK3",
        "outputId": "007b323f-48ba-4a9b-9b8f-b896e6d31e8b"
      },
      "source": [
        "max_words_qty=2000\n",
        "toks=Tokenizer(num_words=max_words_qty, filters='!\"#$%&()*+,-–—./…:;<=>?@[\\\\]^_`{|}~«»\\t\\n\\xa0\\ufeff', lower=True, split=\" \",\n",
        "                 oov_token='unknown', char_level=False) #create tokenizer model based on words frequency\n",
        "toks.fit_on_texts(train_text) #apply tokens to train texts\n",
        "freq_items=list(toks.word_index.items()) #extracting words with their indexes\n",
        "print(len(freq_items))\n",
        "freq_items[:10]"
      ],
      "execution_count": null,
      "outputs": [
        {
          "output_type": "stream",
          "text": [
            "1981\n"
          ],
          "name": "stdout"
        },
        {
          "output_type": "execute_result",
          "data": {
            "text/plain": [
              "[('unknown', 1),\n",
              " ('в', 2),\n",
              " ('и', 3),\n",
              " ('боль', 4),\n",
              " ('тошнота', 5),\n",
              " ('или', 6),\n",
              " ('рвота', 7),\n",
              " ('боли', 8),\n",
              " ('живота', 9),\n",
              " ('при', 10)]"
            ]
          },
          "metadata": {
            "tags": []
          },
          "execution_count": 7
        }
      ]
    },
    {
      "cell_type": "code",
      "metadata": {
        "id": "ByosYo0l9ngw"
      },
      "source": [
        "#print(\"Word's index is \", toks.word_index[input(\"Enter the word: \")])"
      ],
      "execution_count": null,
      "outputs": []
    },
    {
      "cell_type": "code",
      "metadata": {
        "colab": {
          "base_uri": "https://localhost:8080/"
        },
        "id": "w_MfsHuT-_mp",
        "outputId": "152245ab-67cf-4c3e-c708-9bceff03a4e7"
      },
      "source": [
        "train_word_indexes=toks.texts_to_sequences(train_text) #convert train texts into indexes\n",
        "print(train_text[2][:100])\n",
        "print(train_word_indexes[2][:12])"
      ],
      "execution_count": null,
      "outputs": [
        {
          "output_type": "stream",
          "text": [
            "Желтуха начало гепатита напоминает грипп: повышение температуры тела головная боль общее недомогание\n",
            "[132, 998, 999, 1000, 1001, 25, 26, 19, 95, 4, 133, 150]\n"
          ],
          "name": "stdout"
        }
      ]
    },
    {
      "cell_type": "markdown",
      "metadata": {
        "id": "wxs70qKyPvs-"
      },
      "source": [
        "**4. Статистика по данным.**"
      ]
    },
    {
      "cell_type": "code",
      "metadata": {
        "colab": {
          "base_uri": "https://localhost:8080/"
        },
        "id": "xsB49BfyIEm4",
        "outputId": "c114dddd-0659-4534-8fc9-c323db318e71"
      },
      "source": [
        "symbols_train_text=0\n",
        "words_train_text=0\n",
        "print(\"Train texts statistic:\")\n",
        "print()\n",
        "for i in range(diseases_qty):\n",
        "  print(diseases[i],\" \"*(10-len(diseases[i])), len(train_text[i]), \"symbols, \", len(train_word_indexes[i]), \"words\")\n",
        "  symbols_train_text+=len(train_text[i]) #sum overall qty of symbols within all authors train texts\n",
        "  words_train_text+=len(train_word_indexes[i]) #sum overall qty of words within all authors test texts                  \n",
        "\n",
        "print('-------')\n",
        "print(\"Overall symbols: \", symbols_train_text, \" Overall words: \", words_train_text,) "
      ],
      "execution_count": null,
      "outputs": [
        {
          "output_type": "stream",
          "text": [
            "Train texts statistic:\n",
            "\n",
            "Аппендицит  4075 symbols,  579 words\n",
            "Гастрит     6717 symbols,  839 words\n",
            "Гепатит     5523 symbols,  687 words\n",
            "Дуоденит    3941 symbols,  488 words\n",
            "Колит       9127 symbols,  1192 words\n",
            "Панкреатит  11313 symbols,  1480 words\n",
            "Холицестит  6157 symbols,  841 words\n",
            "Эзофагит    5867 symbols,  793 words\n",
            "Энтерит     6383 symbols,  828 words\n",
            "Язва        3460 symbols,  472 words\n",
            "-------\n",
            "Overall symbols:  62563  Overall words:  8199\n"
          ],
          "name": "stdout"
        }
      ]
    },
    {
      "cell_type": "markdown",
      "metadata": {
        "id": "szOIZAonPeQS"
      },
      "source": [
        "**5. Создание обучающей и проверочной выборки.**"
      ]
    },
    {
      "cell_type": "code",
      "metadata": {
        "id": "5D0RIGURPjkV"
      },
      "source": [
        "def getSetIndexes(wordIndexes, xLen, step): #cut separate author's text into xLen samples\n",
        "  x_sample=[]\n",
        "  wordslen=len(wordIndexes)\n",
        "  index=0\n",
        "  while (index+xLen)<=wordslen:\n",
        "    x_sample.append(wordIndexes[index:index+xLen])\n",
        "    index+=step\n",
        "  return x_sample"
      ],
      "execution_count": null,
      "outputs": []
    },
    {
      "cell_type": "code",
      "metadata": {
        "id": "x0nqy1qyRmJ3"
      },
      "source": [
        "def getAllSetsIndexes(wordIndexes, xLen, step): #create X set cut into defined length of samples and Y set with correspond author within all authors\n",
        "  classes=len(wordIndexes) #10 diseases\n",
        "  class_x_sample=[]\n",
        "  for w in wordIndexes: #take each list of indexes of 10 lists\n",
        "    class_x_sample.append(getSetIndexes(w, xLen, step)) #cut each text list into samples and append to summary list of lists\n",
        "\n",
        "  X_sam=[]\n",
        "  Y_sam=[]\n",
        "  for c in range(classes): #within 10 diseases\n",
        "    cx=class_x_sample[c] #all cut samples of each disease's list\n",
        "    for x in range(len(cx)): #within qty of all samples of each disease\n",
        "      X_sam.append(cx[x]) #append all cut samples to final list\n",
        "      Y_sam.append(utils.to_categorical(c, classes)) #append all correspond disease's vectors to final list\n",
        "\n",
        "  X_sam=np.array(X_sam)\n",
        "  Y_sam=np.array(Y_sam)\n",
        "  return (X_sam, Y_sam)"
      ],
      "execution_count": null,
      "outputs": []
    },
    {
      "cell_type": "code",
      "metadata": {
        "colab": {
          "base_uri": "https://localhost:8080/"
        },
        "id": "d01ckt3qXfaG",
        "outputId": "2879fb05-d032-47f1-f2c6-15b5012328f9"
      },
      "source": [
        "xLen=50\n",
        "step=5\n",
        "x, y=getAllSetsIndexes(train_word_indexes, xLen, step)\n",
        "print(x.shape)\n",
        "print(y.shape)"
      ],
      "execution_count": null,
      "outputs": [
        {
          "output_type": "stream",
          "text": [
            "(1545, 50)\n",
            "(1545, 10)\n"
          ],
          "name": "stdout"
        }
      ]
    },
    {
      "cell_type": "code",
      "metadata": {
        "colab": {
          "base_uri": "https://localhost:8080/"
        },
        "id": "XcXhSDu_yRi9",
        "outputId": "22c53579-ace7-4e8e-ab77-27fc7790ed48"
      },
      "source": [
        "x_train, x_val, y_train, y_val=train_test_split(x, y, test_size=0.2, shuffle=True)\n",
        "print(x_train.shape)\n",
        "print(y_train.shape)\n",
        "print(x_val.shape)\n",
        "print(y_val.shape)"
      ],
      "execution_count": null,
      "outputs": [
        {
          "output_type": "stream",
          "text": [
            "(1236, 50)\n",
            "(1236, 10)\n",
            "(309, 50)\n",
            "(309, 10)\n"
          ],
          "name": "stdout"
        }
      ]
    },
    {
      "cell_type": "markdown",
      "metadata": {
        "id": "XU_Lr9pSRE_y"
      },
      "source": [
        "**6. Распознавание проверочной выборки по категориям**"
      ]
    },
    {
      "cell_type": "code",
      "metadata": {
        "id": "3LdEcTV-RCGj"
      },
      "source": [
        "def recognizeMultiClass (model, xTest, yTest):\n",
        "  total_sum=0\n",
        "  for i in range(diseases_qty):\n",
        "    correct=0\n",
        "    dis=0\n",
        "    for v in range(x_val.shape[0]):\n",
        "      pred=model.predict(xTest[v].reshape(1,50))\n",
        "      max_pred=np.argmax(pred, axis=1)\n",
        "      if max_pred==i and max_pred==np.argmax(yTest[v]):\n",
        "        correct+=1\n",
        "      if np.argmax(yTest[v])==i:\n",
        "        dis+=1\n",
        "    print(\"For\", diseases[i], \"recognized: \", round((correct/dis)*100,1), \"%\")\n",
        "    total_sum+=correct\n",
        "    if i==diseases_qty-1:\n",
        "      print('--------------------')\n",
        "      print(\"Overall recognized: \", round((total_sum/x_val.shape[0])*100,1), \"%\")\n"
      ],
      "execution_count": null,
      "outputs": []
    },
    {
      "cell_type": "markdown",
      "metadata": {
        "id": "466QNly5UXiC"
      },
      "source": [
        "**7. Создание и обучение 3 разных сетей.**"
      ]
    },
    {
      "cell_type": "markdown",
      "metadata": {
        "id": "ZoKLZEAmWVZf"
      },
      "source": [
        "**- Embedding + LSTM**"
      ]
    },
    {
      "cell_type": "code",
      "metadata": {
        "colab": {
          "base_uri": "https://localhost:8080/",
          "height": 739
        },
        "id": "Ro9HPYpgEAxM",
        "outputId": "f622fc80-332f-4248-aa2e-82da98935e7c"
      },
      "source": [
        "modelEL=Sequential()\n",
        "modelEL.add(Embedding(max_words_qty, 25, input_length=xLen))\n",
        "modelEL.add(SpatialDropout1D(0.2))\n",
        "modelEL.add(LSTM(50, return_sequences=True))\n",
        "modelEL.add(Flatten())\n",
        "modelEL.add(Dense(10, activation='softmax'))\n",
        "\n",
        "modelEL.compile(optimizer='rmsprop', loss='categorical_crossentropy', metrics=['accuracy'])\n",
        "modelEL.summary()\n",
        "print()\n",
        "plot_model(modelEL, dpi=60, show_shapes=True)"
      ],
      "execution_count": null,
      "outputs": [
        {
          "output_type": "stream",
          "text": [
            "Model: \"sequential\"\n",
            "_________________________________________________________________\n",
            "Layer (type)                 Output Shape              Param #   \n",
            "=================================================================\n",
            "embedding (Embedding)        (None, 50, 25)            50000     \n",
            "_________________________________________________________________\n",
            "spatial_dropout1d (SpatialDr (None, 50, 25)            0         \n",
            "_________________________________________________________________\n",
            "lstm (LSTM)                  (None, 50, 50)            15200     \n",
            "_________________________________________________________________\n",
            "flatten (Flatten)            (None, 2500)              0         \n",
            "_________________________________________________________________\n",
            "dense (Dense)                (None, 10)                25010     \n",
            "=================================================================\n",
            "Total params: 90,210\n",
            "Trainable params: 90,210\n",
            "Non-trainable params: 0\n",
            "_________________________________________________________________\n",
            "\n"
          ],
          "name": "stdout"
        },
        {
          "output_type": "execute_result",
          "data": {
            "image/png": "[encoded data removed]",
            "text/plain": [
              "<IPython.core.display.Image object>"
            ]
          },
          "metadata": {
            "tags": []
          },
          "execution_count": 16
        }
      ]
    },
    {
      "cell_type": "code",
      "metadata": {
        "colab": {
          "base_uri": "https://localhost:8080/"
        },
        "id": "jul62ZbuGyzM",
        "outputId": "63e348cb-0dc4-4f4b-ec1b-b776f0539cf2"
      },
      "source": [
        "modelEL.fit(x_train, y_train, epochs=20, batch_size=28, validation_data=(x_val, y_val), verbose=1)"
      ],
      "execution_count": null,
      "outputs": [
        {
          "output_type": "stream",
          "text": [
            "Epoch 1/20\n",
            "45/45 [==============================] - 4s 39ms/step - loss: 1.9075 - accuracy: 0.2379 - val_loss: 1.6081 - val_accuracy: 0.2977\n",
            "Epoch 2/20\n",
            "45/45 [==============================] - 1s 29ms/step - loss: 1.3410 - accuracy: 0.4604 - val_loss: 1.1196 - val_accuracy: 0.5307\n",
            "Epoch 3/20\n",
            "45/45 [==============================] - 1s 27ms/step - loss: 0.8173 - accuracy: 0.7144 - val_loss: 0.7932 - val_accuracy: 0.6893\n",
            "Epoch 4/20\n",
            "45/45 [==============================] - 1s 27ms/step - loss: 0.4376 - accuracy: 0.8503 - val_loss: 0.3791 - val_accuracy: 0.8900\n",
            "Epoch 5/20\n",
            "45/45 [==============================] - 1s 27ms/step - loss: 0.2233 - accuracy: 0.9296 - val_loss: 0.3820 - val_accuracy: 0.8382\n",
            "Epoch 6/20\n",
            "45/45 [==============================] - 1s 27ms/step - loss: 0.1421 - accuracy: 0.9555 - val_loss: 0.2374 - val_accuracy: 0.8997\n",
            "Epoch 7/20\n",
            "45/45 [==============================] - 1s 27ms/step - loss: 0.0717 - accuracy: 0.9814 - val_loss: 0.2696 - val_accuracy: 0.9385\n",
            "Epoch 8/20\n",
            "45/45 [==============================] - 1s 27ms/step - loss: 0.0601 - accuracy: 0.9846 - val_loss: 0.2102 - val_accuracy: 0.9094\n",
            "Epoch 9/20\n",
            "45/45 [==============================] - 1s 27ms/step - loss: 0.0419 - accuracy: 0.9879 - val_loss: 0.1698 - val_accuracy: 0.9515\n",
            "Epoch 10/20\n",
            "45/45 [==============================] - 1s 28ms/step - loss: 0.0358 - accuracy: 0.9895 - val_loss: 0.0504 - val_accuracy: 0.9773\n",
            "Epoch 11/20\n",
            "45/45 [==============================] - 1s 29ms/step - loss: 0.0341 - accuracy: 0.9919 - val_loss: 0.0046 - val_accuracy: 1.0000\n",
            "Epoch 12/20\n",
            "45/45 [==============================] - 1s 29ms/step - loss: 0.0372 - accuracy: 0.9911 - val_loss: 0.0052 - val_accuracy: 1.0000\n",
            "Epoch 13/20\n",
            "45/45 [==============================] - 1s 29ms/step - loss: 0.0319 - accuracy: 0.9911 - val_loss: 0.0034 - val_accuracy: 1.0000\n",
            "Epoch 14/20\n",
            "45/45 [==============================] - 1s 27ms/step - loss: 0.0193 - accuracy: 0.9951 - val_loss: 0.0031 - val_accuracy: 1.0000\n",
            "Epoch 15/20\n",
            "45/45 [==============================] - 1s 28ms/step - loss: 0.0143 - accuracy: 0.9951 - val_loss: 0.0037 - val_accuracy: 1.0000\n",
            "Epoch 16/20\n",
            "45/45 [==============================] - 1s 27ms/step - loss: 0.0097 - accuracy: 0.9984 - val_loss: 7.9033e-04 - val_accuracy: 1.0000\n",
            "Epoch 17/20\n",
            "45/45 [==============================] - 1s 27ms/step - loss: 0.0205 - accuracy: 0.9943 - val_loss: 0.0012 - val_accuracy: 1.0000\n",
            "Epoch 18/20\n",
            "45/45 [==============================] - 1s 27ms/step - loss: 0.0012 - accuracy: 1.0000 - val_loss: 3.6932e-04 - val_accuracy: 1.0000\n",
            "Epoch 19/20\n",
            "45/45 [==============================] - 1s 28ms/step - loss: 0.0063 - accuracy: 0.9968 - val_loss: 2.1269e-04 - val_accuracy: 1.0000\n",
            "Epoch 20/20\n",
            "45/45 [==============================] - 1s 27ms/step - loss: 0.0153 - accuracy: 0.9968 - val_loss: 0.0013 - val_accuracy: 1.0000\n"
          ],
          "name": "stdout"
        },
        {
          "output_type": "execute_result",
          "data": {
            "text/plain": [
              "<tensorflow.python.keras.callbacks.History at 0x7fa81163dd10>"
            ]
          },
          "metadata": {
            "tags": []
          },
          "execution_count": 17
        }
      ]
    },
    {
      "cell_type": "code",
      "metadata": {
        "colab": {
          "base_uri": "https://localhost:8080/"
        },
        "id": "FCv_Cp3iWrbO",
        "outputId": "a4b4adca-6b00-474a-eb60-110e26cf476c"
      },
      "source": [
        "recognizeMultiClass (modelEL, x_val, y_val)"
      ],
      "execution_count": null,
      "outputs": [
        {
          "output_type": "stream",
          "text": [
            "For Аппендицит recognized:  100.0 %\n",
            "For Гастрит recognized:  100.0 %\n",
            "For Гепатит recognized:  100.0 %\n",
            "For Дуоденит recognized:  100.0 %\n",
            "For Колит recognized:  100.0 %\n",
            "For Панкреатит recognized:  100.0 %\n",
            "For Холицестит recognized:  100.0 %\n",
            "For Эзофагит recognized:  100.0 %\n",
            "For Энтерит recognized:  100.0 %\n",
            "For Язва recognized:  100.0 %\n",
            "--------------------\n",
            "Overall recognized:  100.0 %\n"
          ],
          "name": "stdout"
        }
      ]
    },
    {
      "cell_type": "markdown",
      "metadata": {
        "id": "H93Go6gGbYDn"
      },
      "source": [
        "**- Embedding + Conv1D**"
      ]
    },
    {
      "cell_type": "code",
      "metadata": {
        "colab": {
          "base_uri": "https://localhost:8080/",
          "height": 739
        },
        "id": "SL93RaW2be3l",
        "outputId": "d9aa3840-bbac-4c7b-8b5b-e173dbafc0f6"
      },
      "source": [
        "modelEC=Sequential()\n",
        "modelEC.add(Embedding(max_words_qty, 25, input_length=xLen))\n",
        "modelEC.add(SpatialDropout1D(0.2))\n",
        "modelEC.add(Conv1D(50, kernel_size=5, activation='relu'))\n",
        "modelEC.add(Flatten())\n",
        "modelEC.add(Dense(10, activation='softmax'))\n",
        "\n",
        "modelEC.compile(optimizer='adam', loss='categorical_crossentropy', metrics=['accuracy'])\n",
        "modelEC.summary()\n",
        "print()\n",
        "plot_model(modelEC, dpi=60, show_shapes=True)"
      ],
      "execution_count": null,
      "outputs": [
        {
          "output_type": "stream",
          "text": [
            "Model: \"sequential_1\"\n",
            "_________________________________________________________________\n",
            "Layer (type)                 Output Shape              Param #   \n",
            "=================================================================\n",
            "embedding_1 (Embedding)      (None, 50, 25)            50000     \n",
            "_________________________________________________________________\n",
            "spatial_dropout1d_1 (Spatial (None, 50, 25)            0         \n",
            "_________________________________________________________________\n",
            "conv1d (Conv1D)              (None, 46, 50)            6300      \n",
            "_________________________________________________________________\n",
            "flatten_1 (Flatten)          (None, 2300)              0         \n",
            "_________________________________________________________________\n",
            "dense_1 (Dense)              (None, 10)                23010     \n",
            "=================================================================\n",
            "Total params: 79,310\n",
            "Trainable params: 79,310\n",
            "Non-trainable params: 0\n",
            "_________________________________________________________________\n",
            "\n"
          ],
          "name": "stdout"
        },
        {
          "output_type": "execute_result",
          "data": {
            "image/png": "[encoded data removed]",
            "text/plain": [
              "<IPython.core.display.Image object>"
            ]
          },
          "metadata": {
            "tags": []
          },
          "execution_count": 19
        }
      ]
    },
    {
      "cell_type": "code",
      "metadata": {
        "colab": {
          "base_uri": "https://localhost:8080/"
        },
        "id": "WSHIABXScn2V",
        "outputId": "9abd1038-74f2-40fa-a2e5-8e4f109f1794"
      },
      "source": [
        "modelEC.fit(x_train, y_train, epochs=20, batch_size=28, validation_data=(x_val, y_val), verbose=1)"
      ],
      "execution_count": null,
      "outputs": [
        {
          "output_type": "stream",
          "text": [
            "Epoch 1/20\n",
            "45/45 [==============================] - 1s 14ms/step - loss: 2.2419 - accuracy: 0.1796 - val_loss: 2.1783 - val_accuracy: 0.1942\n",
            "Epoch 2/20\n",
            "45/45 [==============================] - 0s 5ms/step - loss: 1.9315 - accuracy: 0.2492 - val_loss: 1.7456 - val_accuracy: 0.3172\n",
            "Epoch 3/20\n",
            "45/45 [==============================] - 0s 5ms/step - loss: 1.3717 - accuracy: 0.4854 - val_loss: 1.1322 - val_accuracy: 0.6311\n",
            "Epoch 4/20\n",
            "45/45 [==============================] - 0s 6ms/step - loss: 0.6564 - accuracy: 0.8204 - val_loss: 0.4060 - val_accuracy: 0.9579\n",
            "Epoch 5/20\n",
            "45/45 [==============================] - 0s 6ms/step - loss: 0.1835 - accuracy: 0.9943 - val_loss: 0.0946 - val_accuracy: 1.0000\n",
            "Epoch 6/20\n",
            "45/45 [==============================] - 0s 5ms/step - loss: 0.0451 - accuracy: 1.0000 - val_loss: 0.0308 - val_accuracy: 1.0000\n",
            "Epoch 7/20\n",
            "45/45 [==============================] - 0s 6ms/step - loss: 0.0176 - accuracy: 1.0000 - val_loss: 0.0138 - val_accuracy: 1.0000\n",
            "Epoch 8/20\n",
            "45/45 [==============================] - 0s 6ms/step - loss: 0.0087 - accuracy: 1.0000 - val_loss: 0.0088 - val_accuracy: 1.0000\n",
            "Epoch 9/20\n",
            "45/45 [==============================] - 0s 5ms/step - loss: 0.0065 - accuracy: 1.0000 - val_loss: 0.0065 - val_accuracy: 1.0000\n",
            "Epoch 10/20\n",
            "45/45 [==============================] - 0s 5ms/step - loss: 0.0048 - accuracy: 1.0000 - val_loss: 0.0050 - val_accuracy: 1.0000\n",
            "Epoch 11/20\n",
            "45/45 [==============================] - 0s 5ms/step - loss: 0.0037 - accuracy: 1.0000 - val_loss: 0.0037 - val_accuracy: 1.0000\n",
            "Epoch 12/20\n",
            "45/45 [==============================] - 0s 6ms/step - loss: 0.0030 - accuracy: 1.0000 - val_loss: 0.0030 - val_accuracy: 1.0000\n",
            "Epoch 13/20\n",
            "45/45 [==============================] - 0s 5ms/step - loss: 0.0023 - accuracy: 1.0000 - val_loss: 0.0025 - val_accuracy: 1.0000\n",
            "Epoch 14/20\n",
            "45/45 [==============================] - 0s 5ms/step - loss: 0.0022 - accuracy: 1.0000 - val_loss: 0.0020 - val_accuracy: 1.0000\n",
            "Epoch 15/20\n",
            "45/45 [==============================] - 0s 6ms/step - loss: 0.0017 - accuracy: 1.0000 - val_loss: 0.0017 - val_accuracy: 1.0000\n",
            "Epoch 16/20\n",
            "45/45 [==============================] - 0s 5ms/step - loss: 0.0016 - accuracy: 1.0000 - val_loss: 0.0015 - val_accuracy: 1.0000\n",
            "Epoch 17/20\n",
            "45/45 [==============================] - 0s 6ms/step - loss: 0.0012 - accuracy: 1.0000 - val_loss: 0.0013 - val_accuracy: 1.0000\n",
            "Epoch 18/20\n",
            "45/45 [==============================] - 0s 5ms/step - loss: 0.0012 - accuracy: 1.0000 - val_loss: 0.0012 - val_accuracy: 1.0000\n",
            "Epoch 19/20\n",
            "45/45 [==============================] - 0s 6ms/step - loss: 0.0012 - accuracy: 1.0000 - val_loss: 0.0010 - val_accuracy: 1.0000\n",
            "Epoch 20/20\n",
            "45/45 [==============================] - 0s 7ms/step - loss: 9.2064e-04 - accuracy: 1.0000 - val_loss: 9.5649e-04 - val_accuracy: 1.0000\n"
          ],
          "name": "stdout"
        },
        {
          "output_type": "execute_result",
          "data": {
            "text/plain": [
              "<tensorflow.python.keras.callbacks.History at 0x7fa80d551510>"
            ]
          },
          "metadata": {
            "tags": []
          },
          "execution_count": 20
        }
      ]
    },
    {
      "cell_type": "code",
      "metadata": {
        "colab": {
          "base_uri": "https://localhost:8080/"
        },
        "id": "nzPvGd8Kc4i3",
        "outputId": "c3cb4297-5a08-4f31-d6bc-251e81505e78"
      },
      "source": [
        "recognizeMultiClass (modelEC, x_val, y_val)"
      ],
      "execution_count": null,
      "outputs": [
        {
          "output_type": "stream",
          "text": [
            "For Аппендицит recognized:  100.0 %\n",
            "For Гастрит recognized:  100.0 %\n",
            "For Гепатит recognized:  100.0 %\n",
            "For Дуоденит recognized:  100.0 %\n",
            "For Колит recognized:  100.0 %\n",
            "For Панкреатит recognized:  100.0 %\n",
            "For Холицестит recognized:  100.0 %\n",
            "For Эзофагит recognized:  100.0 %\n",
            "For Энтерит recognized:  100.0 %\n",
            "For Язва recognized:  100.0 %\n",
            "--------------------\n",
            "Overall recognized:  100.0 %\n"
          ],
          "name": "stdout"
        }
      ]
    },
    {
      "cell_type": "markdown",
      "metadata": {
        "id": "0g19fem2diOr"
      },
      "source": [
        "**- Embedding + сложная сеть из Dense, LSTM и Conv1D**"
      ]
    },
    {
      "cell_type": "code",
      "metadata": {
        "colab": {
          "base_uri": "https://localhost:8080/",
          "height": 946
        },
        "id": "ajA9G09mdeNF",
        "outputId": "141a947a-2dcf-491d-934c-92360929a7b1"
      },
      "source": [
        "modelELCD=Sequential()\n",
        "modelELCD.add(Embedding(max_words_qty, 25, input_length=xLen))\n",
        "modelELCD.add(SpatialDropout1D(0.2))\n",
        "modelELCD.add(LSTM(20, return_sequences=True))\n",
        "modelELCD.add(Conv1D(30, kernel_size=5, activation='relu'))\n",
        "modelELCD.add(Dropout(0.2))\n",
        "modelELCD.add(Flatten())\n",
        "modelELCD.add(Dense(10, activation='softmax'))\n",
        "\n",
        "modelELCD.compile(optimizer='rmsprop', loss='categorical_crossentropy', metrics=['accuracy'])\n",
        "modelELCD.summary()\n",
        "print()\n",
        "plot_model(modelELCD, dpi=60, show_shapes=True)"
      ],
      "execution_count": null,
      "outputs": [
        {
          "output_type": "stream",
          "text": [
            "Model: \"sequential_2\"\n",
            "_________________________________________________________________\n",
            "Layer (type)                 Output Shape              Param #   \n",
            "=================================================================\n",
            "embedding_2 (Embedding)      (None, 50, 25)            50000     \n",
            "_________________________________________________________________\n",
            "spatial_dropout1d_2 (Spatial (None, 50, 25)            0         \n",
            "_________________________________________________________________\n",
            "lstm_1 (LSTM)                (None, 50, 20)            3680      \n",
            "_________________________________________________________________\n",
            "conv1d_1 (Conv1D)            (None, 46, 30)            3030      \n",
            "_________________________________________________________________\n",
            "dropout (Dropout)            (None, 46, 30)            0         \n",
            "_________________________________________________________________\n",
            "flatten_2 (Flatten)          (None, 1380)              0         \n",
            "_________________________________________________________________\n",
            "dense_2 (Dense)              (None, 10)                13810     \n",
            "=================================================================\n",
            "Total params: 70,520\n",
            "Trainable params: 70,520\n",
            "Non-trainable params: 0\n",
            "_________________________________________________________________\n",
            "\n"
          ],
          "name": "stdout"
        },
        {
          "output_type": "execute_result",
          "data": {
            "image/png": "[encoded data removed]",
            "text/plain": [
              "<IPython.core.display.Image object>"
            ]
          },
          "metadata": {
            "tags": []
          },
          "execution_count": 22
        }
      ]
    },
    {
      "cell_type": "code",
      "metadata": {
        "colab": {
          "base_uri": "https://localhost:8080/"
        },
        "id": "JBhkR9STemuI",
        "outputId": "f6eab61e-431c-4ace-b8b6-35b6d60fa642"
      },
      "source": [
        "modelELCD.fit(x_train, y_train, epochs=20, batch_size=28, validation_data=(x_val, y_val), verbose=1)"
      ],
      "execution_count": null,
      "outputs": [
        {
          "output_type": "stream",
          "text": [
            "Epoch 1/20\n",
            "45/45 [==============================] - 4s 35ms/step - loss: 1.9935 - accuracy: 0.1966 - val_loss: 1.6730 - val_accuracy: 0.2136\n",
            "Epoch 2/20\n",
            "45/45 [==============================] - 1s 23ms/step - loss: 1.4198 - accuracy: 0.3447 - val_loss: 1.3434 - val_accuracy: 0.3948\n",
            "Epoch 3/20\n",
            "45/45 [==============================] - 1s 24ms/step - loss: 1.0179 - accuracy: 0.5858 - val_loss: 0.8736 - val_accuracy: 0.6861\n",
            "Epoch 4/20\n",
            "45/45 [==============================] - 1s 23ms/step - loss: 0.6226 - accuracy: 0.7791 - val_loss: 0.3566 - val_accuracy: 0.8835\n",
            "Epoch 5/20\n",
            "45/45 [==============================] - 1s 23ms/step - loss: 0.2951 - accuracy: 0.8981 - val_loss: 0.3517 - val_accuracy: 0.8608\n",
            "Epoch 6/20\n",
            "45/45 [==============================] - 1s 23ms/step - loss: 0.1345 - accuracy: 0.9620 - val_loss: 0.6934 - val_accuracy: 0.7799\n",
            "Epoch 7/20\n",
            "45/45 [==============================] - 1s 24ms/step - loss: 0.0890 - accuracy: 0.9757 - val_loss: 0.0985 - val_accuracy: 0.9709\n",
            "Epoch 8/20\n",
            "45/45 [==============================] - 1s 23ms/step - loss: 0.0724 - accuracy: 0.9773 - val_loss: 0.0186 - val_accuracy: 1.0000\n",
            "Epoch 9/20\n",
            "45/45 [==============================] - 1s 22ms/step - loss: 0.0266 - accuracy: 0.9935 - val_loss: 0.0126 - val_accuracy: 1.0000\n",
            "Epoch 10/20\n",
            "45/45 [==============================] - 1s 22ms/step - loss: 0.0273 - accuracy: 0.9911 - val_loss: 0.0098 - val_accuracy: 1.0000\n",
            "Epoch 11/20\n",
            "45/45 [==============================] - 1s 22ms/step - loss: 0.0335 - accuracy: 0.9895 - val_loss: 0.0112 - val_accuracy: 1.0000\n",
            "Epoch 12/20\n",
            "45/45 [==============================] - 1s 23ms/step - loss: 0.0175 - accuracy: 0.9935 - val_loss: 0.0304 - val_accuracy: 0.9935\n",
            "Epoch 13/20\n",
            "45/45 [==============================] - 1s 24ms/step - loss: 0.0100 - accuracy: 0.9960 - val_loss: 0.0116 - val_accuracy: 0.9968\n",
            "Epoch 14/20\n",
            "45/45 [==============================] - 1s 23ms/step - loss: 0.0116 - accuracy: 0.9968 - val_loss: 0.1024 - val_accuracy: 0.9709\n",
            "Epoch 15/20\n",
            "45/45 [==============================] - 1s 24ms/step - loss: 0.0075 - accuracy: 0.9976 - val_loss: 0.1107 - val_accuracy: 0.9482\n",
            "Epoch 16/20\n",
            "45/45 [==============================] - 1s 23ms/step - loss: 0.0120 - accuracy: 0.9960 - val_loss: 0.0021 - val_accuracy: 1.0000\n",
            "Epoch 17/20\n",
            "45/45 [==============================] - 1s 23ms/step - loss: 0.0096 - accuracy: 0.9976 - val_loss: 0.0017 - val_accuracy: 1.0000\n",
            "Epoch 18/20\n",
            "45/45 [==============================] - 1s 22ms/step - loss: 0.0064 - accuracy: 0.9976 - val_loss: 0.0525 - val_accuracy: 0.9741\n",
            "Epoch 19/20\n",
            "45/45 [==============================] - 1s 23ms/step - loss: 0.0137 - accuracy: 0.9951 - val_loss: 3.7764e-04 - val_accuracy: 1.0000\n",
            "Epoch 20/20\n",
            "45/45 [==============================] - 1s 22ms/step - loss: 0.0024 - accuracy: 0.9992 - val_loss: 5.8796e-04 - val_accuracy: 1.0000\n"
          ],
          "name": "stdout"
        },
        {
          "output_type": "execute_result",
          "data": {
            "text/plain": [
              "<tensorflow.python.keras.callbacks.History at 0x7fa80ccf0ad0>"
            ]
          },
          "metadata": {
            "tags": []
          },
          "execution_count": 23
        }
      ]
    },
    {
      "cell_type": "code",
      "metadata": {
        "colab": {
          "base_uri": "https://localhost:8080/"
        },
        "id": "8f8NBcD7fyed",
        "outputId": "b486fb7b-5aa8-40e8-b7a6-7e626cb6ac3b"
      },
      "source": [
        "recognizeMultiClass (modelELCD, x_val, y_val)"
      ],
      "execution_count": null,
      "outputs": [
        {
          "output_type": "stream",
          "text": [
            "For Аппендицит recognized:  100.0 %\n",
            "For Гастрит recognized:  100.0 %\n",
            "For Гепатит recognized:  100.0 %\n",
            "For Дуоденит recognized:  100.0 %\n",
            "For Колит recognized:  100.0 %\n",
            "For Панкреатит recognized:  100.0 %\n",
            "For Холицестит recognized:  100.0 %\n",
            "For Эзофагит recognized:  100.0 %\n",
            "For Энтерит recognized:  100.0 %\n",
            "For Язва recognized:  100.0 %\n",
            "--------------------\n",
            "Overall recognized:  100.0 %\n"
          ],
          "name": "stdout"
        }
      ]
    }
  ]
}
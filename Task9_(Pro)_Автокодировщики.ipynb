{
  "nbformat": 4,
  "nbformat_minor": 0,
  "metadata": {
    "accelerator": "GPU",
    "colab": {
      "name": "Task9 (Pro) Автокодировщики.ipynb",
      "provenance": [],
      "collapsed_sections": [],
      "authorship_tag": "ABX9TyPO4TAZVrWRKKe7Is1Rolui",
      "include_colab_link": true
    },
    "kernelspec": {
      "display_name": "Python 3",
      "name": "python3"
    },
    "language_info": {
      "name": "python"
    }
  },
  "cells": [
    {
      "cell_type": "markdown",
      "metadata": {
        "id": "view-in-github",
        "colab_type": "text"
      },
      "source": [
        "<a href=\"https://colab.research.google.com/github/JanePer/AI---PORTFOLIO/blob/main/Task9_(Pro)_%D0%90%D0%B2%D1%82%D0%BE%D0%BA%D0%BE%D0%B4%D0%B8%D1%80%D0%BE%D0%B2%D1%89%D0%B8%D0%BA%D0%B8.ipynb\" target=\"_parent\"><img src=\"https://colab.research.google.com/assets/colab-badge.svg\" alt=\"Open In Colab\"/></a>"
      ]
    },
    {
      "cell_type": "markdown",
      "metadata": {
        "id": "fPr1O0awgF1e"
      },
      "source": [
        "#Определение мошеннических операций"
      ]
    },
    {
      "cell_type": "markdown",
      "metadata": {
        "id": "TRVfjP1HgSWA"
      },
      "source": [
        "**1. Импорт библиотек и загрузка базы данных**"
      ]
    },
    {
      "cell_type": "code",
      "metadata": {
        "colab": {
          "base_uri": "https://localhost:8080/"
        },
        "id": "XOJ5Oo-weyku",
        "outputId": "da77446f-7476-4449-aae1-228189484a20"
      },
      "source": [
        "import matplotlib.pyplot as plt\n",
        "import numpy as np\n",
        "import pandas as pd\n",
        "from PIL import Image\n",
        "import os\n",
        "import time, random\n",
        "from google.colab import files\n",
        "from google.colab import drive\n",
        "import seaborn as sns\n",
        "sns.set_style('darkgrid')\n",
        "%matplotlib inline\n",
        "\n",
        "from tensorflow.keras.models import Sequential, Model\n",
        "from tensorflow.keras.layers import Reshape, concatenate, Input, Dense, Dropout, BatchNormalization, Flatten, Conv2DTranspose, Activation, MaxPooling2D, Conv2D #Базовые слои\n",
        "from tensorflow.keras.optimizers import Adam\n",
        "from tensorflow.keras import utils\n",
        "from tensorflow.keras.utils import plot_model\n",
        "from sklearn.model_selection import train_test_split\n",
        "from tensorflow.keras.datasets import mnist, fashion_mnist # загружаем готовые базы mnist\n",
        "from tensorflow.keras.callbacks import LambdaCallback\n",
        "from tensorflow.keras.preprocessing import image\n",
        "from sklearn.preprocessing import StandardScaler\n",
        "\n",
        "drive.mount('/content/drive')"
      ],
      "execution_count": null,
      "outputs": [
        {
          "output_type": "stream",
          "text": [
            "Drive already mounted at /content/drive; to attempt to forcibly remount, call drive.mount(\"/content/drive\", force_remount=True).\n"
          ],
          "name": "stdout"
        }
      ]
    },
    {
      "cell_type": "code",
      "metadata": {
        "colab": {
          "base_uri": "https://localhost:8080/",
          "height": 222
        },
        "id": "g7kLq2Mbc3iG",
        "outputId": "a7203acd-83f5-405c-f4d1-1b8118cb84f1"
      },
      "source": [
        "df = pd.read_csv(\"/content/drive/MyDrive/Colab Notebooks/creditcard.csv\") # читаем базу\n",
        "df.head() # выводим первые пять строк"
      ],
      "execution_count": null,
      "outputs": [
        {
          "output_type": "execute_result",
          "data": {
            "text/html": [
              "<div>\n",
              "<style scoped>\n",
              "    .dataframe tbody tr th:only-of-type {\n",
              "        vertical-align: middle;\n",
              "    }\n",
              "\n",
              "    .dataframe tbody tr th {\n",
              "        vertical-align: top;\n",
              "    }\n",
              "\n",
              "    .dataframe thead th {\n",
              "        text-align: right;\n",
              "    }\n",
              "</style>\n",
              "<table border=\"1\" class=\"dataframe\">\n",
              "  <thead>\n",
              "    <tr style=\"text-align: right;\">\n",
              "      <th></th>\n",
              "      <th>Time</th>\n",
              "      <th>V1</th>\n",
              "      <th>V2</th>\n",
              "      <th>V3</th>\n",
              "      <th>V4</th>\n",
              "      <th>V5</th>\n",
              "      <th>V6</th>\n",
              "      <th>V7</th>\n",
              "      <th>V8</th>\n",
              "      <th>V9</th>\n",
              "      <th>V10</th>\n",
              "      <th>V11</th>\n",
              "      <th>V12</th>\n",
              "      <th>V13</th>\n",
              "      <th>V14</th>\n",
              "      <th>V15</th>\n",
              "      <th>V16</th>\n",
              "      <th>V17</th>\n",
              "      <th>V18</th>\n",
              "      <th>V19</th>\n",
              "      <th>V20</th>\n",
              "      <th>V21</th>\n",
              "      <th>V22</th>\n",
              "      <th>V23</th>\n",
              "      <th>V24</th>\n",
              "      <th>V25</th>\n",
              "      <th>V26</th>\n",
              "      <th>V27</th>\n",
              "      <th>V28</th>\n",
              "      <th>Amount</th>\n",
              "      <th>Class</th>\n",
              "    </tr>\n",
              "  </thead>\n",
              "  <tbody>\n",
              "    <tr>\n",
              "      <th>0</th>\n",
              "      <td>0.0</td>\n",
              "      <td>-1.359807</td>\n",
              "      <td>-0.072781</td>\n",
              "      <td>2.536347</td>\n",
              "      <td>1.378155</td>\n",
              "      <td>-0.338321</td>\n",
              "      <td>0.462388</td>\n",
              "      <td>0.239599</td>\n",
              "      <td>0.098698</td>\n",
              "      <td>0.363787</td>\n",
              "      <td>0.090794</td>\n",
              "      <td>-0.551600</td>\n",
              "      <td>-0.617801</td>\n",
              "      <td>-0.991390</td>\n",
              "      <td>-0.311169</td>\n",
              "      <td>1.468177</td>\n",
              "      <td>-0.470401</td>\n",
              "      <td>0.207971</td>\n",
              "      <td>0.025791</td>\n",
              "      <td>0.403993</td>\n",
              "      <td>0.251412</td>\n",
              "      <td>-0.018307</td>\n",
              "      <td>0.277838</td>\n",
              "      <td>-0.110474</td>\n",
              "      <td>0.066928</td>\n",
              "      <td>0.128539</td>\n",
              "      <td>-0.189115</td>\n",
              "      <td>0.133558</td>\n",
              "      <td>-0.021053</td>\n",
              "      <td>149.62</td>\n",
              "      <td>0</td>\n",
              "    </tr>\n",
              "    <tr>\n",
              "      <th>1</th>\n",
              "      <td>0.0</td>\n",
              "      <td>1.191857</td>\n",
              "      <td>0.266151</td>\n",
              "      <td>0.166480</td>\n",
              "      <td>0.448154</td>\n",
              "      <td>0.060018</td>\n",
              "      <td>-0.082361</td>\n",
              "      <td>-0.078803</td>\n",
              "      <td>0.085102</td>\n",
              "      <td>-0.255425</td>\n",
              "      <td>-0.166974</td>\n",
              "      <td>1.612727</td>\n",
              "      <td>1.065235</td>\n",
              "      <td>0.489095</td>\n",
              "      <td>-0.143772</td>\n",
              "      <td>0.635558</td>\n",
              "      <td>0.463917</td>\n",
              "      <td>-0.114805</td>\n",
              "      <td>-0.183361</td>\n",
              "      <td>-0.145783</td>\n",
              "      <td>-0.069083</td>\n",
              "      <td>-0.225775</td>\n",
              "      <td>-0.638672</td>\n",
              "      <td>0.101288</td>\n",
              "      <td>-0.339846</td>\n",
              "      <td>0.167170</td>\n",
              "      <td>0.125895</td>\n",
              "      <td>-0.008983</td>\n",
              "      <td>0.014724</td>\n",
              "      <td>2.69</td>\n",
              "      <td>0</td>\n",
              "    </tr>\n",
              "    <tr>\n",
              "      <th>2</th>\n",
              "      <td>1.0</td>\n",
              "      <td>-1.358354</td>\n",
              "      <td>-1.340163</td>\n",
              "      <td>1.773209</td>\n",
              "      <td>0.379780</td>\n",
              "      <td>-0.503198</td>\n",
              "      <td>1.800499</td>\n",
              "      <td>0.791461</td>\n",
              "      <td>0.247676</td>\n",
              "      <td>-1.514654</td>\n",
              "      <td>0.207643</td>\n",
              "      <td>0.624501</td>\n",
              "      <td>0.066084</td>\n",
              "      <td>0.717293</td>\n",
              "      <td>-0.165946</td>\n",
              "      <td>2.345865</td>\n",
              "      <td>-2.890083</td>\n",
              "      <td>1.109969</td>\n",
              "      <td>-0.121359</td>\n",
              "      <td>-2.261857</td>\n",
              "      <td>0.524980</td>\n",
              "      <td>0.247998</td>\n",
              "      <td>0.771679</td>\n",
              "      <td>0.909412</td>\n",
              "      <td>-0.689281</td>\n",
              "      <td>-0.327642</td>\n",
              "      <td>-0.139097</td>\n",
              "      <td>-0.055353</td>\n",
              "      <td>-0.059752</td>\n",
              "      <td>378.66</td>\n",
              "      <td>0</td>\n",
              "    </tr>\n",
              "    <tr>\n",
              "      <th>3</th>\n",
              "      <td>1.0</td>\n",
              "      <td>-0.966272</td>\n",
              "      <td>-0.185226</td>\n",
              "      <td>1.792993</td>\n",
              "      <td>-0.863291</td>\n",
              "      <td>-0.010309</td>\n",
              "      <td>1.247203</td>\n",
              "      <td>0.237609</td>\n",
              "      <td>0.377436</td>\n",
              "      <td>-1.387024</td>\n",
              "      <td>-0.054952</td>\n",
              "      <td>-0.226487</td>\n",
              "      <td>0.178228</td>\n",
              "      <td>0.507757</td>\n",
              "      <td>-0.287924</td>\n",
              "      <td>-0.631418</td>\n",
              "      <td>-1.059647</td>\n",
              "      <td>-0.684093</td>\n",
              "      <td>1.965775</td>\n",
              "      <td>-1.232622</td>\n",
              "      <td>-0.208038</td>\n",
              "      <td>-0.108300</td>\n",
              "      <td>0.005274</td>\n",
              "      <td>-0.190321</td>\n",
              "      <td>-1.175575</td>\n",
              "      <td>0.647376</td>\n",
              "      <td>-0.221929</td>\n",
              "      <td>0.062723</td>\n",
              "      <td>0.061458</td>\n",
              "      <td>123.50</td>\n",
              "      <td>0</td>\n",
              "    </tr>\n",
              "    <tr>\n",
              "      <th>4</th>\n",
              "      <td>2.0</td>\n",
              "      <td>-1.158233</td>\n",
              "      <td>0.877737</td>\n",
              "      <td>1.548718</td>\n",
              "      <td>0.403034</td>\n",
              "      <td>-0.407193</td>\n",
              "      <td>0.095921</td>\n",
              "      <td>0.592941</td>\n",
              "      <td>-0.270533</td>\n",
              "      <td>0.817739</td>\n",
              "      <td>0.753074</td>\n",
              "      <td>-0.822843</td>\n",
              "      <td>0.538196</td>\n",
              "      <td>1.345852</td>\n",
              "      <td>-1.119670</td>\n",
              "      <td>0.175121</td>\n",
              "      <td>-0.451449</td>\n",
              "      <td>-0.237033</td>\n",
              "      <td>-0.038195</td>\n",
              "      <td>0.803487</td>\n",
              "      <td>0.408542</td>\n",
              "      <td>-0.009431</td>\n",
              "      <td>0.798278</td>\n",
              "      <td>-0.137458</td>\n",
              "      <td>0.141267</td>\n",
              "      <td>-0.206010</td>\n",
              "      <td>0.502292</td>\n",
              "      <td>0.219422</td>\n",
              "      <td>0.215153</td>\n",
              "      <td>69.99</td>\n",
              "      <td>0</td>\n",
              "    </tr>\n",
              "  </tbody>\n",
              "</table>\n",
              "</div>"
            ],
            "text/plain": [
              "   Time        V1        V2        V3  ...       V27       V28  Amount  Class\n",
              "0   0.0 -1.359807 -0.072781  2.536347  ...  0.133558 -0.021053  149.62      0\n",
              "1   0.0  1.191857  0.266151  0.166480  ... -0.008983  0.014724    2.69      0\n",
              "2   1.0 -1.358354 -1.340163  1.773209  ... -0.055353 -0.059752  378.66      0\n",
              "3   1.0 -0.966272 -0.185226  1.792993  ...  0.062723  0.061458  123.50      0\n",
              "4   2.0 -1.158233  0.877737  1.548718  ...  0.219422  0.215153   69.99      0\n",
              "\n",
              "[5 rows x 31 columns]"
            ]
          },
          "metadata": {
            "tags": []
          },
          "execution_count": 145
        }
      ]
    },
    {
      "cell_type": "code",
      "metadata": {
        "id": "yVTltsy3e69O"
      },
      "source": [
        "# Удаляем столбец со временем\n",
        "data = df.drop(['Time'], axis=1)\n",
        "# Нормализуем столбец с суммой транзакции\n",
        "scaller=StandardScaler()\n",
        "data['Amount']=scaller.fit_transform(data['Amount'].values.reshape(-1,1))"
      ],
      "execution_count": null,
      "outputs": []
    },
    {
      "cell_type": "code",
      "metadata": {
        "colab": {
          "base_uri": "https://localhost:8080/"
        },
        "id": "eq-j_Ys6gNhI",
        "outputId": "94bc834c-afec-47fb-b918-41b840e8f4eb"
      },
      "source": [
        "frauds=data[data['Class']==1] # записываем мошеннические операции\n",
        "normal=data[data['Class']==0] # записываем нормальные операции\n",
        "print(frauds.shape)\n",
        "print(normal.shape)"
      ],
      "execution_count": null,
      "outputs": [
        {
          "output_type": "stream",
          "text": [
            "(492, 30)\n",
            "(284315, 30)\n"
          ],
          "name": "stdout"
        }
      ]
    },
    {
      "cell_type": "code",
      "metadata": {
        "id": "o5_rr3gMpg1t"
      },
      "source": [
        "RANDOM_SEED = 42 # задаем случайное значение\n",
        "# берём нормальные операции и разбиваем на train_test(только 'X')\n",
        "x_train, x_test = train_test_split(normal, test_size=0.2, random_state=RANDOM_SEED)"
      ],
      "execution_count": null,
      "outputs": []
    },
    {
      "cell_type": "code",
      "metadata": {
        "colab": {
          "base_uri": "https://localhost:8080/"
        },
        "id": "WtmYLEoipsn0",
        "outputId": "04f822b1-2f6f-4c39-ba8c-be154963cd9e"
      },
      "source": [
        "# Удаляем класс в обучающем наборе данных\n",
        "x_train = x_train.drop(['Class'], axis=1)\n",
        "# Добавляем все мошеннические транзакции в тестовый набор данных\n",
        "x_test = pd.concat([x_test, frauds])\n",
        "# Делаем метки для тестового набора данных\n",
        "y_test = x_test['Class']\n",
        "# Удаляем класс у тестового набора данных\n",
        "x_test = x_test.drop(['Class'], axis=1)\n",
        "# Преобразуем данные в массивы numpy\n",
        "x_train = x_train.values\n",
        "x_test = np.array(x_test)\n",
        "print(x_train.shape)\n",
        "print(x_test.shape)\n",
        "print(y_test.shape)"
      ],
      "execution_count": null,
      "outputs": [
        {
          "output_type": "stream",
          "text": [
            "(227452, 29)\n",
            "(57355, 29)\n",
            "(57355,)\n"
          ],
          "name": "stdout"
        }
      ]
    },
    {
      "cell_type": "code",
      "metadata": {
        "id": "fyznExgUrWCs"
      },
      "source": [
        "def creditcardAutoencoder(): # объявляем автокодировщик для определения мошенич.транзакций\n",
        "  dataSize = x_train.shape[1] # берём размеры X_train по второй оси(30)\n",
        "  dataInput = Input(shape=(dataSize, )) # задаем эти размеры как входные в сеть\n",
        "  \n",
        "  x = Dense(200, activation='relu')(dataInput)\n",
        "  x = Dense(100, activation='relu')(x)\n",
        "  x = Dense(dataSize, activation='linear')(x) \n",
        "  \n",
        "  autoencoder = Model(inputs=dataInput, outputs=x) # собрали модель \n",
        "  \n",
        "  autoencoder.compile(optimizer='Adam', loss='mse') # компилируем модель также, с выбором оптимайзера и среднеквадратичной ошибки\n",
        "  \n",
        "  return autoencoder "
      ],
      "execution_count": null,
      "outputs": []
    },
    {
      "cell_type": "code",
      "metadata": {
        "colab": {
          "base_uri": "https://localhost:8080/"
        },
        "id": "0JUcX9L6tADU",
        "outputId": "d909b4c5-96b8-4259-aee2-c169b843536b"
      },
      "source": [
        "model = creditcardAutoencoder()\n",
        "model.summary()"
      ],
      "execution_count": null,
      "outputs": [
        {
          "output_type": "stream",
          "text": [
            "Model: \"model_6\"\n",
            "_________________________________________________________________\n",
            "Layer (type)                 Output Shape              Param #   \n",
            "=================================================================\n",
            "input_7 (InputLayer)         [(None, 29)]              0         \n",
            "_________________________________________________________________\n",
            "dense_19 (Dense)             (None, 200)               6000      \n",
            "_________________________________________________________________\n",
            "dense_20 (Dense)             (None, 100)               20100     \n",
            "_________________________________________________________________\n",
            "dense_21 (Dense)             (None, 29)                2929      \n",
            "=================================================================\n",
            "Total params: 29,029\n",
            "Trainable params: 29,029\n",
            "Non-trainable params: 0\n",
            "_________________________________________________________________\n"
          ],
          "name": "stdout"
        }
      ]
    },
    {
      "cell_type": "code",
      "metadata": {
        "colab": {
          "base_uri": "https://localhost:8080/"
        },
        "id": "-3shYU4atPpj",
        "outputId": "9773235d-c7bd-4651-ceea-e2583a9691d3"
      },
      "source": [
        "history = model.fit(x_train, x_train, epochs=100, batch_size=128) # загружаем данные в модель(X_train'ы) и обучаем"
      ],
      "execution_count": null,
      "outputs": [
        {
          "output_type": "stream",
          "text": [
            "Epoch 1/100\n",
            "1777/1777 [==============================] - 4s 2ms/step - loss: 0.0373\n",
            "Epoch 2/100\n",
            "1777/1777 [==============================] - 4s 2ms/step - loss: 0.0053\n",
            "Epoch 3/100\n",
            "1777/1777 [==============================] - 4s 2ms/step - loss: 0.0032\n",
            "Epoch 4/100\n",
            "1777/1777 [==============================] - 4s 2ms/step - loss: 0.0024\n",
            "Epoch 5/100\n",
            "1777/1777 [==============================] - 4s 2ms/step - loss: 0.0022\n",
            "Epoch 6/100\n",
            "1777/1777 [==============================] - 4s 2ms/step - loss: 0.0014\n",
            "Epoch 7/100\n",
            "1777/1777 [==============================] - 4s 2ms/step - loss: 0.0018\n",
            "Epoch 8/100\n",
            "1777/1777 [==============================] - 4s 2ms/step - loss: 0.0015\n",
            "Epoch 9/100\n",
            "1777/1777 [==============================] - 4s 2ms/step - loss: 0.0012\n",
            "Epoch 10/100\n",
            "1777/1777 [==============================] - 4s 2ms/step - loss: 0.0011\n",
            "Epoch 11/100\n",
            "1777/1777 [==============================] - 4s 2ms/step - loss: 0.0014\n",
            "Epoch 12/100\n",
            "1777/1777 [==============================] - 4s 2ms/step - loss: 0.0013\n",
            "Epoch 13/100\n",
            "1777/1777 [==============================] - 4s 2ms/step - loss: 0.0011\n",
            "Epoch 14/100\n",
            "1777/1777 [==============================] - 4s 2ms/step - loss: 8.3404e-04\n",
            "Epoch 15/100\n",
            "1777/1777 [==============================] - 4s 2ms/step - loss: 0.0013\n",
            "Epoch 16/100\n",
            "1777/1777 [==============================] - 4s 2ms/step - loss: 0.0011\n",
            "Epoch 17/100\n",
            "1777/1777 [==============================] - 4s 2ms/step - loss: 9.2487e-04\n",
            "Epoch 18/100\n",
            "1777/1777 [==============================] - 4s 2ms/step - loss: 9.9021e-04\n",
            "Epoch 19/100\n",
            "1777/1777 [==============================] - 4s 2ms/step - loss: 6.2555e-04\n",
            "Epoch 20/100\n",
            "1777/1777 [==============================] - 4s 2ms/step - loss: 0.0013\n",
            "Epoch 21/100\n",
            "1777/1777 [==============================] - 4s 2ms/step - loss: 0.0015\n",
            "Epoch 22/100\n",
            "1777/1777 [==============================] - 4s 2ms/step - loss: 6.2806e-04\n",
            "Epoch 23/100\n",
            "1777/1777 [==============================] - 4s 2ms/step - loss: 9.1241e-04\n",
            "Epoch 24/100\n",
            "1777/1777 [==============================] - 4s 2ms/step - loss: 0.0010\n",
            "Epoch 25/100\n",
            "1777/1777 [==============================] - 4s 2ms/step - loss: 5.6629e-04\n",
            "Epoch 26/100\n",
            "1777/1777 [==============================] - 4s 2ms/step - loss: 0.0013\n",
            "Epoch 27/100\n",
            "1777/1777 [==============================] - 4s 2ms/step - loss: 7.0409e-04\n",
            "Epoch 28/100\n",
            "1777/1777 [==============================] - 4s 2ms/step - loss: 6.9675e-04\n",
            "Epoch 29/100\n",
            "1777/1777 [==============================] - 4s 2ms/step - loss: 0.0010\n",
            "Epoch 30/100\n",
            "1777/1777 [==============================] - 4s 2ms/step - loss: 9.6441e-04\n",
            "Epoch 31/100\n",
            "1777/1777 [==============================] - 4s 2ms/step - loss: 5.4084e-04\n",
            "Epoch 32/100\n",
            "1777/1777 [==============================] - 4s 2ms/step - loss: 8.4459e-04\n",
            "Epoch 33/100\n",
            "1777/1777 [==============================] - 4s 2ms/step - loss: 6.1956e-04\n",
            "Epoch 34/100\n",
            "1777/1777 [==============================] - 4s 2ms/step - loss: 7.0452e-04\n",
            "Epoch 35/100\n",
            "1777/1777 [==============================] - 4s 2ms/step - loss: 6.5604e-04\n",
            "Epoch 36/100\n",
            "1777/1777 [==============================] - 4s 2ms/step - loss: 5.0430e-04\n",
            "Epoch 37/100\n",
            "1777/1777 [==============================] - 4s 2ms/step - loss: 7.2740e-04\n",
            "Epoch 38/100\n",
            "1777/1777 [==============================] - 4s 2ms/step - loss: 4.8655e-04\n",
            "Epoch 39/100\n",
            "1777/1777 [==============================] - 4s 2ms/step - loss: 6.7317e-04\n",
            "Epoch 40/100\n",
            "1777/1777 [==============================] - 4s 2ms/step - loss: 6.6706e-04\n",
            "Epoch 41/100\n",
            "1777/1777 [==============================] - 4s 2ms/step - loss: 6.0181e-04\n",
            "Epoch 42/100\n",
            "1777/1777 [==============================] - 4s 2ms/step - loss: 7.0917e-04\n",
            "Epoch 43/100\n",
            "1777/1777 [==============================] - 4s 2ms/step - loss: 7.3252e-04\n",
            "Epoch 44/100\n",
            "1777/1777 [==============================] - 4s 2ms/step - loss: 5.3164e-04\n",
            "Epoch 45/100\n",
            "1777/1777 [==============================] - 4s 2ms/step - loss: 5.9245e-04\n",
            "Epoch 46/100\n",
            "1777/1777 [==============================] - 4s 2ms/step - loss: 6.3155e-04\n",
            "Epoch 47/100\n",
            "1777/1777 [==============================] - 4s 2ms/step - loss: 8.3327e-04\n",
            "Epoch 48/100\n",
            "1777/1777 [==============================] - 4s 2ms/step - loss: 3.4632e-04\n",
            "Epoch 49/100\n",
            "1777/1777 [==============================] - 4s 2ms/step - loss: 5.9134e-04\n",
            "Epoch 50/100\n",
            "1777/1777 [==============================] - 4s 2ms/step - loss: 5.0621e-04\n",
            "Epoch 51/100\n",
            "1777/1777 [==============================] - 4s 2ms/step - loss: 6.1568e-04\n",
            "Epoch 52/100\n",
            "1777/1777 [==============================] - 4s 2ms/step - loss: 4.8026e-04\n",
            "Epoch 53/100\n",
            "1777/1777 [==============================] - 4s 2ms/step - loss: 5.1411e-04\n",
            "Epoch 54/100\n",
            "1777/1777 [==============================] - 4s 2ms/step - loss: 5.2350e-04\n",
            "Epoch 55/100\n",
            "1777/1777 [==============================] - 4s 2ms/step - loss: 6.8676e-04\n",
            "Epoch 56/100\n",
            "1777/1777 [==============================] - 4s 2ms/step - loss: 4.4244e-04\n",
            "Epoch 57/100\n",
            "1777/1777 [==============================] - 4s 2ms/step - loss: 5.1793e-04\n",
            "Epoch 58/100\n",
            "1777/1777 [==============================] - 4s 2ms/step - loss: 5.8820e-04\n",
            "Epoch 59/100\n",
            "1777/1777 [==============================] - 4s 2ms/step - loss: 5.8257e-04\n",
            "Epoch 60/100\n",
            "1777/1777 [==============================] - 4s 2ms/step - loss: 5.3279e-04\n",
            "Epoch 61/100\n",
            "1777/1777 [==============================] - 4s 2ms/step - loss: 4.3162e-04\n",
            "Epoch 62/100\n",
            "1777/1777 [==============================] - 4s 2ms/step - loss: 5.2885e-04\n",
            "Epoch 63/100\n",
            "1777/1777 [==============================] - 4s 2ms/step - loss: 4.4901e-04\n",
            "Epoch 64/100\n",
            "1777/1777 [==============================] - 4s 2ms/step - loss: 3.8196e-04\n",
            "Epoch 65/100\n",
            "1777/1777 [==============================] - 4s 2ms/step - loss: 4.6930e-04\n",
            "Epoch 66/100\n",
            "1777/1777 [==============================] - 4s 2ms/step - loss: 5.1949e-04\n",
            "Epoch 67/100\n",
            "1777/1777 [==============================] - 4s 2ms/step - loss: 5.6393e-04\n",
            "Epoch 68/100\n",
            "1777/1777 [==============================] - 4s 2ms/step - loss: 4.4595e-04\n",
            "Epoch 69/100\n",
            "1777/1777 [==============================] - 4s 2ms/step - loss: 4.3906e-04\n",
            "Epoch 70/100\n",
            "1777/1777 [==============================] - 4s 2ms/step - loss: 6.5640e-04\n",
            "Epoch 71/100\n",
            "1777/1777 [==============================] - 4s 2ms/step - loss: 4.8751e-04\n",
            "Epoch 72/100\n",
            "1777/1777 [==============================] - 4s 2ms/step - loss: 4.1327e-04\n",
            "Epoch 73/100\n",
            "1777/1777 [==============================] - 4s 2ms/step - loss: 8.3219e-04\n",
            "Epoch 74/100\n",
            "1777/1777 [==============================] - 4s 2ms/step - loss: 3.9989e-04\n",
            "Epoch 75/100\n",
            "1777/1777 [==============================] - 4s 2ms/step - loss: 6.9600e-04\n",
            "Epoch 76/100\n",
            "1777/1777 [==============================] - 4s 2ms/step - loss: 4.6993e-04\n",
            "Epoch 77/100\n",
            "1777/1777 [==============================] - 4s 2ms/step - loss: 4.9165e-04\n",
            "Epoch 78/100\n",
            "1777/1777 [==============================] - 4s 2ms/step - loss: 3.4500e-04\n",
            "Epoch 79/100\n",
            "1777/1777 [==============================] - 4s 2ms/step - loss: 6.7981e-04\n",
            "Epoch 80/100\n",
            "1777/1777 [==============================] - 4s 2ms/step - loss: 3.2006e-04\n",
            "Epoch 81/100\n",
            "1777/1777 [==============================] - 4s 2ms/step - loss: 6.9843e-04\n",
            "Epoch 82/100\n",
            "1777/1777 [==============================] - 4s 2ms/step - loss: 3.4796e-04\n",
            "Epoch 83/100\n",
            "1777/1777 [==============================] - 4s 2ms/step - loss: 7.2724e-04\n",
            "Epoch 84/100\n",
            "1777/1777 [==============================] - 4s 2ms/step - loss: 2.8437e-04\n",
            "Epoch 85/100\n",
            "1777/1777 [==============================] - 4s 2ms/step - loss: 5.2553e-04\n",
            "Epoch 86/100\n",
            "1777/1777 [==============================] - 4s 2ms/step - loss: 4.3478e-04\n",
            "Epoch 87/100\n",
            "1777/1777 [==============================] - 4s 2ms/step - loss: 4.6528e-04\n",
            "Epoch 88/100\n",
            "1777/1777 [==============================] - 4s 2ms/step - loss: 3.8319e-04\n",
            "Epoch 89/100\n",
            "1777/1777 [==============================] - 4s 2ms/step - loss: 3.1136e-04\n",
            "Epoch 90/100\n",
            "1777/1777 [==============================] - 4s 2ms/step - loss: 2.9832e-04\n",
            "Epoch 91/100\n",
            "1777/1777 [==============================] - 4s 2ms/step - loss: 6.8244e-04\n",
            "Epoch 92/100\n",
            "1777/1777 [==============================] - 4s 2ms/step - loss: 4.2655e-04\n",
            "Epoch 93/100\n",
            "1777/1777 [==============================] - 4s 2ms/step - loss: 3.2052e-04\n",
            "Epoch 94/100\n",
            "1777/1777 [==============================] - 4s 2ms/step - loss: 5.4724e-04\n",
            "Epoch 95/100\n",
            "1777/1777 [==============================] - 4s 2ms/step - loss: 2.8557e-04\n",
            "Epoch 96/100\n",
            "1777/1777 [==============================] - 4s 2ms/step - loss: 4.2716e-04\n",
            "Epoch 97/100\n",
            "1777/1777 [==============================] - 4s 2ms/step - loss: 5.0926e-04\n",
            "Epoch 98/100\n",
            "1777/1777 [==============================] - 4s 2ms/step - loss: 2.4585e-04\n",
            "Epoch 99/100\n",
            "1777/1777 [==============================] - 4s 2ms/step - loss: 5.2089e-04\n",
            "Epoch 100/100\n",
            "1777/1777 [==============================] - 4s 2ms/step - loss: 2.8770e-04\n"
          ],
          "name": "stdout"
        }
      ]
    },
    {
      "cell_type": "code",
      "metadata": {
        "colab": {
          "base_uri": "https://localhost:8080/",
          "height": 428
        },
        "id": "QK4GKAnkuPIk",
        "outputId": "2b6e910a-a7a0-4fff-9319-2e0949a5b423"
      },
      "source": [
        "#Выводим графики\n",
        "plt.figure(figsize=(14,7))\n",
        "plt.plot(history.history['loss'][10:], label='Ошибка на обучающем наборе')\n",
        "plt.ylabel('Средняя ошибка')\n",
        "plt.legend()\n",
        "plt.show()"
      ],
      "execution_count": null,
      "outputs": [
        {
          "output_type": "display_data",
          "data": {
            "image/png": "[encoded data removed]",
            "text/plain": [
              "<Figure size 1008x504 with 1 Axes>"
            ]
          },
          "metadata": {
            "tags": [],
            "needs_background": "light"
          }
        }
      ]
    },
    {
      "cell_type": "code",
      "metadata": {
        "id": "sDgvm3jEvZlm"
      },
      "source": [
        "predictions = model.predict(x_test) # делаем предсказание по X_test"
      ],
      "execution_count": null,
      "outputs": []
    },
    {
      "cell_type": "code",
      "metadata": {
        "id": "BAVFKOJ_vjfY"
      },
      "source": [
        "mse = np.mean(np.power(x_test - predictions, 2), axis=1) # определяем среднеквадратичную ошибку по X_test и предсказанием по X_test"
      ],
      "execution_count": null,
      "outputs": []
    },
    {
      "cell_type": "code",
      "metadata": {
        "id": "H1DFwGaTv44E"
      },
      "source": [
        "mse_normal = mse[y_test.values == 0] # среднеквадратичная ошибка на нормальных операциях\n",
        "mse_frauds = mse[y_test.values == 1] # среднеквадратичная ошибка на мошеннических операциях"
      ],
      "execution_count": null,
      "outputs": []
    },
    {
      "cell_type": "code",
      "metadata": {
        "colab": {
          "base_uri": "https://localhost:8080/"
        },
        "id": "ZMNcZkr5wxwl",
        "outputId": "eb440375-1d26-4639-ccfe-d6eed8eac409"
      },
      "source": [
        "print(\"Средняя ошибка нормальных транзакций:\", round(sum(mse_normal) / len(mse_normal),4)) # среднюю ошибку\n",
        "print(\"Средняя ошибка мошеннических транзакций:\", round(sum(mse_frauds) / len(mse_frauds),4)) # среднюю ошибку\n",
        "\n",
        "print(\"Минимальная ошибка нормальных транзакций:\", round(min(mse_normal),4)) #найдем минимальную среднеквадратичную ошибку на нормальных операциях\n",
        "print(\"Максимальная ошибка нормальных транзакций:\", round(max(mse_normal),4)) #найдем максимальную среднеквадратичную ошибку на нормальных операциях\n",
        "\n",
        "print(\"Минимальная ошибка мошеннических транзакций:\", round(min(mse_frauds),4)) #найдем минимальную среднеквадратичную ошибку на мошеннических операциях\n",
        "print(\"Максимальная ошибка мошеннических транзакций:\", round(max(mse_frauds),4)) #найдем максимальную среднеквадратичную ошибку на мошеннических операциях"
      ],
      "execution_count": null,
      "outputs": [
        {
          "output_type": "stream",
          "text": [
            "Средняя ошибка нормальных транзакций: 0.0002\n",
            "Средняя ошибка мошеннических транзакций: 1.155\n",
            "Минимальная ошибка нормальных транзакций: 0.0\n",
            "Максимальная ошибка нормальных транзакций: 0.7669\n",
            "Минимальная ошибка мошеннических транзакций: 0.0\n",
            "Максимальная ошибка мошеннических транзакций: 48.9366\n"
          ],
          "name": "stdout"
        }
      ]
    },
    {
      "cell_type": "code",
      "metadata": {
        "colab": {
          "base_uri": "https://localhost:8080/",
          "height": 428
        },
        "id": "ISXk82ANEpQC",
        "outputId": "ae225ceb-90c4-4986-f0ec-8ab448938e53"
      },
      "source": [
        "fig=plt.figure(figsize=(10,7))\n",
        "ax1 = fig.add_subplot(2,1,1)\n",
        "ax2 = fig.add_subplot(2,1,2)\n",
        "ax1.hist(mse_normal, label='MSE ошибки на нормальных операциях', bins=100, range=(0,0.0004))\n",
        "ax2.hist(mse_frauds, label='MSE ошибки на мошеннических операциях', bins=100, range=(0,0.0004))\n",
        "ax1.set_ylabel('Кол-во ошибок')\n",
        "ax2.set_ylabel('Кол-во ошибок')\n",
        "ax1.legend()\n",
        "ax2.legend()\n",
        "plt.show()"
      ],
      "execution_count": null,
      "outputs": [
        {
          "output_type": "display_data",
          "data": {
            "image/png": "[encoded data removed]",
            "text/plain": [
              "<Figure size 720x504 with 2 Axes>"
            ]
          },
          "metadata": {
            "tags": [],
            "needs_background": "light"
          }
        }
      ]
    },
    {
      "cell_type": "code",
      "metadata": {
        "id": "9Y69p6qdxIX3"
      },
      "source": [
        "def getAccByBias(bias): # функция будет принимать какое то пороговое значение\n",
        "  isNormal = mse_normal < bias # если ошибка меньше порога - то транзакция нормальная\n",
        "  isFrauds = mse_frauds > bias # если ошибка больше порога - то транзакция мошенническая\n",
        "\n",
        "  accNormal = sum(isNormal) / len(isNormal) # вычисляем процент нормальных операций\n",
        "  accFaruds = sum(isFrauds) / len(isFrauds) # вычисляем процент мошеннических операций\n",
        "\n",
        "  print(\"Распознано нормальных транзакций: \", round(100*accNormal), \"%\", sep=\"\")\n",
        "  print(\"Распознано мошеннических транзакций: \", round(100*accFaruds), \"%\", sep=\"\")\n",
        "  print(\"Средняя точность распознавания: \", round(50*(accNormal + accFaruds)), \"%\", sep=\"\")"
      ],
      "execution_count": null,
      "outputs": []
    },
    {
      "cell_type": "code",
      "metadata": {
        "colab": {
          "base_uri": "https://localhost:8080/"
        },
        "id": "ts4ycv5Vxhot",
        "outputId": "f8c353ad-d46f-4d91-e33b-707fdfcdb065"
      },
      "source": [
        "getAccByBias(0.00035) # выведем данные по распознаванию с конкретным пороговым значением"
      ],
      "execution_count": null,
      "outputs": [
        {
          "output_type": "stream",
          "text": [
            "Распознано нормальных транзакций: 96%\n",
            "Распознано мошеннических транзакций: 87%\n",
            "Средняя точность распознавания: 91%\n"
          ],
          "name": "stdout"
        }
      ]
    },
    {
      "cell_type": "markdown",
      "metadata": {
        "id": "C3fC6p9aXx00"
      },
      "source": [
        "- 1) при котором все мошеннические транзакции будут пойманы = min(mse_frauds) = 0.000012\n",
        "- 2) “оптимальный порог” - на пересечении распределений = 0.00035\n",
        "- 3) при котором ни одна нормальная транзакция не будет распознана, как мошенническая = max(mse_normal) = 0.77"
      ]
    }
  ]
}
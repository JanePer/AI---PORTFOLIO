{
  "nbformat": 4,
  "nbformat_minor": 0,
  "metadata": {
    "accelerator": "GPU",
    "colab": {
      "name": "Task5(Pro)_RNN и CNN в обработке текстов.ipynb",
      "provenance": [],
      "collapsed_sections": [],
      "authorship_tag": "ABX9TyNTy71qTT0ib+rYsnSdF1ju",
      "include_colab_link": true
    },
    "kernelspec": {
      "display_name": "Python 3",
      "name": "python3"
    },
    "language_info": {
      "name": "python"
    }
  },
  "cells": [
    {
      "cell_type": "markdown",
      "metadata": {
        "id": "view-in-github",
        "colab_type": "text"
      },
      "source": [
        "<a href=\"https://colab.research.google.com/github/JanePer/AI---PORTFOLIO/blob/main/Task5(Pro)_RNN_%D0%B8_CNN_%D0%B2_%D0%BE%D0%B1%D1%80%D0%B0%D0%B1%D0%BE%D1%82%D0%BA%D0%B5_%D1%82%D0%B5%D0%BA%D1%81%D1%82%D0%BE%D0%B2.ipynb\" target=\"_parent\"><img src=\"https://colab.research.google.com/assets/colab-badge.svg\" alt=\"Open In Colab\"/></a>"
      ]
    },
    {
      "cell_type": "markdown",
      "metadata": {
        "id": "tCOxjE-VNQTh"
      },
      "source": [
        "# **Pro**"
      ]
    },
    {
      "cell_type": "markdown",
      "metadata": {
        "id": "2JT8kprOgAt1"
      },
      "source": [
        "#Классификация текстов писателей"
      ]
    },
    {
      "cell_type": "markdown",
      "metadata": {
        "id": "fbZcR-LFPDoP"
      },
      "source": [
        "**1. Импорт библиотек.**"
      ]
    },
    {
      "cell_type": "code",
      "metadata": {
        "colab": {
          "base_uri": "https://localhost:8080/"
        },
        "id": "UAa_UnRidTdl",
        "outputId": "7afe31bb-6109-4867-a598-58705c4047a4"
      },
      "source": [
        "from google.colab import files\n",
        "from google.colab import drive\n",
        "import numpy as np\n",
        "import pandas as pd\n",
        "import matplotlib.pyplot as plt\n",
        "import seaborn as sns\n",
        "import time\n",
        "import os\n",
        "%matplotlib inline\n",
        "\n",
        "from tensorflow.keras import utils\n",
        "from tensorflow.keras.utils import plot_model\n",
        "from tensorflow.keras.models import Sequential\n",
        "from tensorflow.keras.layers import Dense, Dropout, BatchNormalization, Embedding, Flatten\n",
        "from tensorflow.keras.layers import Conv1D, SpatialDropout1D, MaxPooling1D, GlobalMaxPooling1D, GlobalAveragePooling1D\n",
        "from tensorflow.keras.layers import LSTM, GRU, SimpleRNN, Bidirectional\n",
        "from tensorflow.keras.optimizers import Adam, RMSprop\n",
        "from tensorflow.keras.preprocessing.text import Tokenizer, text_to_word_sequence\n",
        "from sklearn.model_selection import train_test_split\n",
        "\n",
        "drive.mount('/content/drive')"
      ],
      "execution_count": null,
      "outputs": [
        {
          "output_type": "stream",
          "text": [
            "Drive already mounted at /content/drive; to attempt to forcibly remount, call drive.mount(\"/content/drive\", force_remount=True).\n"
          ],
          "name": "stdout"
        }
      ]
    },
    {
      "cell_type": "markdown",
      "metadata": {
        "id": "0cG_32Vcu7aD"
      },
      "source": [
        "**2. Загрузка базы текстов.**"
      ]
    },
    {
      "cell_type": "code",
      "metadata": {
        "id": "42DhdHHJgYM7"
      },
      "source": [
        "!rm -R '/content/texts' #remove texts directory\n",
        "!unzip -q '/content/drive/MyDrive/Colab Notebooks/Тексты писателей.zip' -d '/content/texts' #unzip to created `texts` directory"
      ],
      "execution_count": null,
      "outputs": []
    },
    {
      "cell_type": "code",
      "metadata": {
        "id": "Yhv-zMjOtAsL"
      },
      "source": [
        "def readtext(file_name): #read all text in 1 raw\n",
        "  file=open(file_name, 'r')\n",
        "  text=file.read()\n",
        "  text=text.replace(\"\\n\",\" \")\n",
        "  return text"
      ],
      "execution_count": null,
      "outputs": []
    },
    {
      "cell_type": "code",
      "metadata": {
        "colab": {
          "base_uri": "https://localhost:8080/"
        },
        "id": "UCXfY8IIzHpr",
        "outputId": "0c0a8941-d5cd-4cfd-b5e9-dcfd4be54880"
      },
      "source": [
        "authors = [\"О. Генри\", \"Стругацкие\", \"Булгаков\", \"Саймак\", \"Фрай\", \"Брэдберри\"] #list of unique authors\n",
        "authors_qty=len(authors)\n",
        "authors_qty"
      ],
      "execution_count": null,
      "outputs": [
        {
          "output_type": "execute_result",
          "data": {
            "text/plain": [
              "6"
            ]
          },
          "metadata": {
            "tags": []
          },
          "execution_count": 4
        }
      ]
    },
    {
      "cell_type": "code",
      "metadata": {
        "colab": {
          "base_uri": "https://localhost:8080/"
        },
        "id": "HRd0LS3-zN5T",
        "outputId": "22f7efa2-0eae-4410-9fe6-2230e22ab72a"
      },
      "source": [
        "train_text=[]\n",
        "test_text=[]\n",
        "\n",
        "for i in authors:\n",
        "  for t in os.listdir('/content/texts/Тексты писателей'):\n",
        "    if i in t:\n",
        "      if \"Обучающая\" in t:\n",
        "        train_text.append(readtext('/content/texts/Тексты писателей/'+t))\n",
        "      else:\n",
        "        test_text.append(readtext('/content/texts/Тексты писателей/'+t))\n",
        "print(len(train_text))\n",
        "print(len(train_text[0]))"
      ],
      "execution_count": null,
      "outputs": [
        {
          "output_type": "stream",
          "text": [
            "6\n",
            "1049517\n"
          ],
          "name": "stdout"
        }
      ]
    },
    {
      "cell_type": "markdown",
      "metadata": {
        "id": "Dys_R-z9xCxN"
      },
      "source": [
        "**3. Нормирование и преобразование данных.**"
      ]
    },
    {
      "cell_type": "code",
      "metadata": {
        "colab": {
          "base_uri": "https://localhost:8080/"
        },
        "id": "hVF04mzK4rK3",
        "outputId": "4794d096-9627-4d85-c6a3-dd2846b82082"
      },
      "source": [
        "max_words_qty=50000\n",
        "toks=Tokenizer(num_words=max_words_qty, filters='!\"#$%&()*+,-–—./…:;<=>?@[\\\\]^_`{|}~«»\\t\\n\\xa0\\ufeff', lower=True, split=\" \",\n",
        "                 oov_token='unknown', char_level=False) #create tokenizer model based on words frequency\n",
        "toks.fit_on_texts(train_text) #apply tokens to train texts\n",
        "freq_items=list(toks.word_index.items()) #extracting words with their indexes\n",
        "print(len(freq_items))\n",
        "freq_items[:20]"
      ],
      "execution_count": null,
      "outputs": [
        {
          "output_type": "stream",
          "text": [
            "133070\n"
          ],
          "name": "stdout"
        },
        {
          "output_type": "execute_result",
          "data": {
            "text/plain": [
              "[('unknown', 1),\n",
              " ('и', 2),\n",
              " ('в', 3),\n",
              " ('не', 4),\n",
              " ('я', 5),\n",
              " ('что', 6),\n",
              " ('на', 7),\n",
              " ('с', 8),\n",
              " ('он', 9),\n",
              " ('а', 10),\n",
              " ('как', 11),\n",
              " ('то', 12),\n",
              " ('это', 13),\n",
              " ('но', 14),\n",
              " ('все', 15),\n",
              " ('у', 16),\n",
              " ('по', 17),\n",
              " ('его', 18),\n",
              " ('к', 19),\n",
              " ('так', 20)]"
            ]
          },
          "metadata": {
            "tags": []
          },
          "execution_count": 6
        }
      ]
    },
    {
      "cell_type": "code",
      "metadata": {
        "colab": {
          "base_uri": "https://localhost:8080/"
        },
        "id": "w_MfsHuT-_mp",
        "outputId": "2f4fc979-481d-4ba7-9521-5e12dd2a447f"
      },
      "source": [
        "train_word_indexes=toks.texts_to_sequences(train_text) #convert train texts into indexes\n",
        "test_word_indexes=toks.texts_to_sequences(test_text) #convert test texts into indexes\n",
        "print(test_text[0][:100])\n",
        "print(test_word_indexes[0][:20])"
      ],
      "execution_count": null,
      "outputs": [
        {
          "output_type": "stream",
          "text": [
            "﻿Багдадская птица   Без всякого сомнения, дух и гений калифа Гаруна аль-Рашида осенил маркграфа Авгу\n",
            "[1, 1501, 99, 1152, 1972, 1146, 2, 4039, 1, 1, 28567, 1, 1, 1, 4302, 14023, 8115, 1, 1, 4081]\n"
          ],
          "name": "stdout"
        }
      ]
    },
    {
      "cell_type": "markdown",
      "metadata": {
        "id": "szOIZAonPeQS"
      },
      "source": [
        "**4. Создание обучающей и проверочной выборки.**"
      ]
    },
    {
      "cell_type": "code",
      "metadata": {
        "id": "5D0RIGURPjkV"
      },
      "source": [
        "def getSetIndexes(wordIndexes, xLen, step): #cut separate author's text into xLen samples\n",
        "  x_sample=[]\n",
        "  wordslen=len(wordIndexes)\n",
        "  index=0\n",
        "  while (index+xLen)<=wordslen:\n",
        "    x_sample.append(wordIndexes[index:index+xLen])\n",
        "    index+=step\n",
        "  return x_sample"
      ],
      "execution_count": null,
      "outputs": []
    },
    {
      "cell_type": "code",
      "metadata": {
        "id": "x0nqy1qyRmJ3"
      },
      "source": [
        "def getAllSetsIndexes(wordIndexes, xLen, step): #create X set cut into defined length of samples and Y set with correspond author within all authors\n",
        "  classes=len(wordIndexes) #6 authors\n",
        "  class_x_sample=[]\n",
        "  for w in wordIndexes: #take each list of 6 lists\n",
        "    class_x_sample.append(getSetIndexes(w, xLen, step)) #cut each text list into samples and append to summary list of lists\n",
        "\n",
        "  X_sam=[]\n",
        "  Y_sam=[]\n",
        "  for c in range(classes): #within 6 authors\n",
        "    cx=class_x_sample[c] #all cut samples of each author's list\n",
        "    for x in range(len(cx)): #within qty of all samples of each author\n",
        "      X_sam.append(cx[x]) #append all cut samples to final list\n",
        "      Y_sam.append(utils.to_categorical(c, classes)) #append all correspond author's vectors to final list\n",
        "\n",
        "  X_sam=np.array(X_sam)\n",
        "  Y_sam=np.array(Y_sam)\n",
        "  return (X_sam, Y_sam)"
      ],
      "execution_count": null,
      "outputs": []
    },
    {
      "cell_type": "code",
      "metadata": {
        "colab": {
          "base_uri": "https://localhost:8080/"
        },
        "id": "d01ckt3qXfaG",
        "outputId": "dfd75bc2-675d-4396-be2c-9c64a1de669e"
      },
      "source": [
        "xLen=5000\n",
        "step=100\n",
        "x_train, y_train=getAllSetsIndexes(train_word_indexes, xLen, step)\n",
        "x_test, y_test=getAllSetsIndexes(test_word_indexes, xLen, step)\n",
        "print(x_train.shape)\n",
        "print(y_train.shape)\n",
        "print(x_test.shape)\n",
        "print(y_test.shape)"
      ],
      "execution_count": null,
      "outputs": [
        {
          "output_type": "stream",
          "text": [
            "(17400, 5000)\n",
            "(17400, 6)\n",
            "(6446, 5000)\n",
            "(6446, 6)\n"
          ],
          "name": "stdout"
        }
      ]
    },
    {
      "cell_type": "markdown",
      "metadata": {
        "id": "XU_Lr9pSRE_y"
      },
      "source": [
        "**5. Распознавание проверочной выборки**"
      ]
    },
    {
      "cell_type": "code",
      "metadata": {
        "id": "3LdEcTV-RCGj"
      },
      "source": [
        "def createTestMultiClasses(wordIndexes, xLen, step):\n",
        "  classes=len(wordIndexes) #6 authors\n",
        "  x_test_classes01=[]\n",
        "  x_test_classes=[]\n",
        "  for w in wordIndexes: #take each list of 6 lists\n",
        "    sample=(getSetIndexes(w, xLen, step)) #cut each author text list into samples\n",
        "    x_test_classes.append(sample) #and append to summary list of lists\n",
        "    x_test_classes01.append(toks.sequences_to_matrix(sample)) #convert cut text to bag of words vector and add to the list of lists\n",
        "  x_test_classes=np.array(x_test_classes, dtype=object)\n",
        "  x_test_classes01=np.array(x_test_classes01, dtype=object)\n",
        "  return x_test_classes01, x_test_classes"
      ],
      "execution_count": null,
      "outputs": []
    },
    {
      "cell_type": "code",
      "metadata": {
        "id": "telYYSgjRNDy"
      },
      "source": [
        "def recognizeMultiClass (model, xTest):\n",
        "  total_sum=0\n",
        "  for i in range(authors_qty):\n",
        "    pred=model.predict(xTest[i])\n",
        "    max_pred=np.argmax(pred, axis=1)\n",
        "    val=[]\n",
        "    for j in range(authors_qty):\n",
        "      val.append(len(max_pred[max_pred==j])/len(xTest[i]))\n",
        "    total_sum+=len(max_pred[max_pred==i])\n",
        "    recognizedClass=np.argmax(val)\n",
        "\n",
        "    isrecognized=\"Wrong\"\n",
        "    if recognizedClass==i:\n",
        "      isrecognized=\"Correct!\"\n",
        "    str1= \"Author: \"+authors[i]+ \" \"*(11-len(authors[i]))+str(int(100*val[i]))+\"% were cerognized for \"+authors[recognizedClass]\n",
        "    print(str1, \" \"*(55-len(str1)), isrecognized, sep='')\n",
        "\n",
        "  sum_count=0\n",
        "  for i in range(authors_qty):\n",
        "    sum_count+=len(xTest[i])\n",
        "  print('\\n')\n",
        "  print(\"Average % of prediction: \", int(100*total_sum/sum_count),\"%\", sep='')\n",
        "\n",
        "  return total_sum/sum_count"
      ],
      "execution_count": null,
      "outputs": []
    },
    {
      "cell_type": "markdown",
      "metadata": {
        "id": "466QNly5UXiC"
      },
      "source": [
        "**6. Создание и обучение сети.**"
      ]
    },
    {
      "cell_type": "code",
      "metadata": {
        "colab": {
          "base_uri": "https://localhost:8080/",
          "height": 946
        },
        "id": "Ro9HPYpgEAxM",
        "outputId": "53e4b631-8db4-4af2-b26d-5a8bc6b43ce5"
      },
      "source": [
        "modelED=Sequential()\n",
        "modelED.add(Embedding(max_words_qty, 10, input_length=xLen))\n",
        "modelED.add(SpatialDropout1D(0.2))\n",
        "modelED.add(Flatten())\n",
        "modelED.add(Dense(400, activation='relu'))\n",
        "modelED.add(Dropout(0.2))\n",
        "modelED.add(BatchNormalization())\n",
        "modelED.add(Dense(6, activation='sigmoid'))\n",
        "\n",
        "modelED.compile(optimizer='Adam', loss='categorical_crossentropy', metrics=['accuracy'])\n",
        "modelED.summary()\n",
        "print()\n",
        "plot_model(modelED, dpi=60, show_shapes=True)"
      ],
      "execution_count": null,
      "outputs": [
        {
          "output_type": "stream",
          "text": [
            "Model: \"sequential\"\n",
            "_________________________________________________________________\n",
            "Layer (type)                 Output Shape              Param #   \n",
            "=================================================================\n",
            "embedding (Embedding)        (None, 5000, 10)          500000    \n",
            "_________________________________________________________________\n",
            "spatial_dropout1d (SpatialDr (None, 5000, 10)          0         \n",
            "_________________________________________________________________\n",
            "flatten (Flatten)            (None, 50000)             0         \n",
            "_________________________________________________________________\n",
            "dense (Dense)                (None, 400)               20000400  \n",
            "_________________________________________________________________\n",
            "dropout (Dropout)            (None, 400)               0         \n",
            "_________________________________________________________________\n",
            "batch_normalization (BatchNo (None, 400)               1600      \n",
            "_________________________________________________________________\n",
            "dense_1 (Dense)              (None, 6)                 2406      \n",
            "=================================================================\n",
            "Total params: 20,504,406\n",
            "Trainable params: 20,503,606\n",
            "Non-trainable params: 800\n",
            "_________________________________________________________________\n",
            "\n"
          ],
          "name": "stdout"
        },
        {
          "output_type": "execute_result",
          "data": {
            "image/png": "[encoded data removed]",
            "text/plain": [
              "<IPython.core.display.Image object>"
            ]
          },
          "metadata": {
            "tags": []
          },
          "execution_count": 13
        }
      ]
    },
    {
      "cell_type": "code",
      "metadata": {
        "colab": {
          "base_uri": "https://localhost:8080/"
        },
        "id": "jul62ZbuGyzM",
        "outputId": "b68a9064-0d5c-4f81-fb6e-5a4899487308"
      },
      "source": [
        "modelED.fit(x_train, y_train, epochs=10, batch_size=128, validation_data=(x_test, y_test), verbose=1)"
      ],
      "execution_count": null,
      "outputs": [
        {
          "output_type": "stream",
          "text": [
            "Epoch 1/10\n",
            "136/136 [==============================] - 9s 53ms/step - loss: 0.3813 - accuracy: 0.8732 - val_loss: 1.1802 - val_accuracy: 0.5926\n",
            "Epoch 2/10\n",
            "136/136 [==============================] - 7s 51ms/step - loss: 0.0075 - accuracy: 0.9986 - val_loss: 0.8957 - val_accuracy: 0.6922\n",
            "Epoch 3/10\n",
            "136/136 [==============================] - 7s 51ms/step - loss: 0.0043 - accuracy: 0.9991 - val_loss: 0.8979 - val_accuracy: 0.6514\n",
            "Epoch 4/10\n",
            "136/136 [==============================] - 7s 52ms/step - loss: 0.0019 - accuracy: 0.9997 - val_loss: 0.9036 - val_accuracy: 0.6694\n",
            "Epoch 5/10\n",
            "136/136 [==============================] - 7s 53ms/step - loss: 0.0013 - accuracy: 0.9998 - val_loss: 0.8540 - val_accuracy: 0.6913\n",
            "Epoch 6/10\n",
            "136/136 [==============================] - 7s 52ms/step - loss: 0.0014 - accuracy: 0.9997 - val_loss: 1.0965 - val_accuracy: 0.6472\n",
            "Epoch 7/10\n",
            "136/136 [==============================] - 7s 52ms/step - loss: 0.0011 - accuracy: 0.9998 - val_loss: 0.8439 - val_accuracy: 0.7097\n",
            "Epoch 8/10\n",
            "136/136 [==============================] - 7s 53ms/step - loss: 9.9964e-04 - accuracy: 0.9997 - val_loss: 1.0085 - val_accuracy: 0.6733\n",
            "Epoch 9/10\n",
            "136/136 [==============================] - 7s 53ms/step - loss: 6.9315e-04 - accuracy: 0.9999 - val_loss: 0.8737 - val_accuracy: 0.7096\n",
            "Epoch 10/10\n",
            "136/136 [==============================] - 7s 53ms/step - loss: 7.8608e-04 - accuracy: 0.9999 - val_loss: 0.8702 - val_accuracy: 0.6986\n"
          ],
          "name": "stdout"
        },
        {
          "output_type": "execute_result",
          "data": {
            "text/plain": [
              "<tensorflow.python.keras.callbacks.History at 0x7f563f530510>"
            ]
          },
          "metadata": {
            "tags": []
          },
          "execution_count": 14
        }
      ]
    },
    {
      "cell_type": "code",
      "metadata": {
        "id": "BII54fZUAAKl",
        "colab": {
          "base_uri": "https://localhost:8080/"
        },
        "outputId": "180cf75f-3341-4397-d973-a4b69d5a3416"
      },
      "source": [
        "x1,x_test_classes=createTestMultiClasses(test_word_indexes, xLen, step)\n",
        "scoresDE=recognizeMultiClass(modelED, x_test_classes)\n",
        "print(scoresDE)"
      ],
      "execution_count": null,
      "outputs": [
        {
          "output_type": "stream",
          "text": [
            "Author: О. Генри   57% were cerognized for О. Генри    Correct!\n",
            "Author: Стругацкие 78% were cerognized for Стругацкие  Correct!\n",
            "Author: Булгаков   50% were cerognized for Булгаков    Correct!\n",
            "Author: Саймак     40% were cerognized for Саймак      Correct!\n",
            "Author: Фрай       80% were cerognized for Фрай        Correct!\n",
            "Author: Брэдберри  81% were cerognized for Брэдберри   Correct!\n",
            "\n",
            "\n",
            "Average % of prediction: 69%\n",
            "0.6985727582997208\n"
          ],
          "name": "stdout"
        }
      ]
    },
    {
      "cell_type": "code",
      "metadata": {
        "id": "DoH0UzSTxpUf"
      },
      "source": [
        "# разбиваем на 500 блоков по 100 слов в каждом, исключая слова с индексом 1, которые находятся вне словаря.\n",
        "blocks=[]\n",
        "index=1\n",
        "sto=100\n",
        "sample=[]\n",
        "for i in freq_items[:50000]:\n",
        "  if i[1]>1:\n",
        "    sample.append(i[1])\n",
        "    index+=1\n",
        "    if index==sto:\n",
        "      blocks.append(sample)\n",
        "      sample=[]\n",
        "      sto+=100"
      ],
      "execution_count": null,
      "outputs": []
    },
    {
      "cell_type": "code",
      "metadata": {
        "id": "dCDKIYUtxxzj"
      },
      "source": [
        "# предиктим тестовую выборку с поочередно отключенными блоками и собераем итоговую подборку слов, улучшающих точность (исключение которых давало падение точности).\n",
        "predictions=[]\n",
        "block_ups=[]\n",
        "for block in blocks:\n",
        "  test_word_indexes_new=[]\n",
        "  for t in test_word_indexes:\n",
        "    t_new=[]\n",
        "    for val in t:\n",
        "      if val in block:\n",
        "        t_new.append(0)\n",
        "      else:\n",
        "        t_new.append(val)\n",
        "    test_word_indexes_new.append(t_new)\n",
        "  x_test_new, y_test_new=getAllSetsIndexes(test_word_indexes_new, xLen, step)\n",
        "  scores_new=modelED.evaluate(x_test_new,y_test_new, verbose=0)\n",
        "  predictions.append(scores_new[1])\n",
        "  if scores_new[1]<scoresDE:\n",
        "    block_ups.append(block)"
      ],
      "execution_count": null,
      "outputs": []
    },
    {
      "cell_type": "code",
      "metadata": {
        "colab": {
          "base_uri": "https://localhost:8080/",
          "height": 338
        },
        "id": "EoEGWd_k5vN_",
        "outputId": "e0e73187-b328-4980-b240-6715ff0f058e"
      },
      "source": [
        "plt.figure(figsize = (14, 5))\n",
        "plt.plot(predictions, \n",
        "         label='Доля верных ответов на тестовом наборе')\n",
        "plt.axhline(y=0.6985727582997208, color='r', linestyle='-')\n",
        "plt.ylim(0.69, 0.7)\n",
        "plt.xlabel('Номер отключенного блока')\n",
        "plt.ylabel('Доля верных ответов')\n",
        "plt.legend()\n",
        "plt.show()"
      ],
      "execution_count": null,
      "outputs": [
        {
          "output_type": "display_data",
          "data": {
            "image/png": "[encoded data removed]",
            "text/plain": [
              "<Figure size 1008x360 with 1 Axes>"
            ]
          },
          "metadata": {
            "tags": [],
            "needs_background": "light"
          }
        }
      ]
    },
    {
      "cell_type": "code",
      "metadata": {
        "colab": {
          "base_uri": "https://localhost:8080/"
        },
        "id": "BFBcST-kHyZD",
        "outputId": "82096624-b28b-4b0e-8dd2-a617589c3459"
      },
      "source": [
        "len(block_ups)"
      ],
      "execution_count": null,
      "outputs": [
        {
          "output_type": "execute_result",
          "data": {
            "text/plain": [
              "460"
            ]
          },
          "metadata": {
            "tags": []
          },
          "execution_count": 22
        }
      ]
    },
    {
      "cell_type": "code",
      "metadata": {
        "colab": {
          "base_uri": "https://localhost:8080/"
        },
        "id": "wEMcRv83JCd5",
        "outputId": "0621e825-1e7b-47af-d11f-1457aa5e00af"
      },
      "source": [
        "# модифицируем в один блок\n",
        "block_ups_flat=sum(block_ups, [])\n",
        "len(block_ups_flat)"
      ],
      "execution_count": null,
      "outputs": [
        {
          "output_type": "execute_result",
          "data": {
            "text/plain": [
              "45999"
            ]
          },
          "metadata": {
            "tags": []
          },
          "execution_count": 23
        }
      ]
    },
    {
      "cell_type": "code",
      "metadata": {
        "id": "devyxaKoJawU"
      },
      "source": [
        "# оцифровываем тестовый текст с учетом отключенных слов\n",
        "test_word_indexes_final=[]\n",
        "for t in test_word_indexes:\n",
        "  t_new=[]\n",
        "  for val in t:\n",
        "    if val in block_ups_flat or val==1:\n",
        "      t_new.append(val)\n",
        "    else:\n",
        "      t_new.append(0)\n",
        "  test_word_indexes_final.append(t_new)"
      ],
      "execution_count": null,
      "outputs": []
    },
    {
      "cell_type": "code",
      "metadata": {
        "id": "euiQqgeeLcwN"
      },
      "source": [
        "# оцифровываем тренировочный текст с учетом отключенных слов\n",
        "train_word_indexes_final=[]\n",
        "for t in train_word_indexes:\n",
        "  t_new=[]\n",
        "  for val in t:\n",
        "    if val in block_ups_flat or val==1:\n",
        "      t_new.append(val)\n",
        "    else:\n",
        "      t_new.append(0)\n",
        "  train_word_indexes_final.append(t_new)"
      ],
      "execution_count": null,
      "outputs": []
    },
    {
      "cell_type": "code",
      "metadata": {
        "colab": {
          "base_uri": "https://localhost:8080/"
        },
        "id": "vABzK7y9L_gj",
        "outputId": "b3118de3-9db1-4eae-e39f-d8d5692a851b"
      },
      "source": [
        "# создаем тренировочную и тестовую выборки с отключенными словами\n",
        "xLen=5000\n",
        "step=100\n",
        "x_train_b, y_train_b=getAllSetsIndexes(train_word_indexes_final, xLen, step)\n",
        "x_test_b, y_test_b=getAllSetsIndexes(test_word_indexes_final, xLen, step)\n",
        "print(x_train_b.shape)\n",
        "print(y_train_b.shape)\n",
        "print(x_test_b.shape)\n",
        "print(y_test_b.shape)"
      ],
      "execution_count": null,
      "outputs": [
        {
          "output_type": "stream",
          "text": [
            "(17400, 5000)\n",
            "(17400, 6)\n",
            "(6446, 5000)\n",
            "(6446, 6)\n"
          ],
          "name": "stdout"
        }
      ]
    },
    {
      "cell_type": "code",
      "metadata": {
        "id": "ZTP-_WefMWd0"
      },
      "source": [
        "# обучаем такую же модель на выборках с отключенными словами\n",
        "modelED_b=Sequential()\n",
        "modelED_b.add(Embedding(max_words_qty, 10, input_length=xLen))\n",
        "modelED_b.add(SpatialDropout1D(0.2))\n",
        "modelED_b.add(Flatten())\n",
        "modelED_b.add(Dense(400, activation='relu'))\n",
        "modelED_b.add(Dropout(0.2))\n",
        "modelED_b.add(BatchNormalization())\n",
        "modelED_b.add(Dense(6, activation='sigmoid'))\n",
        "\n",
        "modelED_b.compile(optimizer='Adam', loss='categorical_crossentropy', metrics=['accuracy'])"
      ],
      "execution_count": null,
      "outputs": []
    },
    {
      "cell_type": "code",
      "metadata": {
        "colab": {
          "base_uri": "https://localhost:8080/"
        },
        "id": "NIPBUBODMefO",
        "outputId": "4e72e40f-8cc1-4a45-fcc4-c7e159d1e1d0"
      },
      "source": [
        "modelED_b.fit(x_train_b, y_train_b, epochs=10, batch_size=128, validation_data=(x_test_b, y_test_b), verbose=1)"
      ],
      "execution_count": null,
      "outputs": [
        {
          "output_type": "stream",
          "text": [
            "Epoch 1/10\n",
            "136/136 [==============================] - 8s 53ms/step - loss: 0.3815 - accuracy: 0.8744 - val_loss: 1.1397 - val_accuracy: 0.6744\n",
            "Epoch 2/10\n",
            "136/136 [==============================] - 7s 50ms/step - loss: 0.0084 - accuracy: 0.9989 - val_loss: 0.9088 - val_accuracy: 0.7004\n",
            "Epoch 3/10\n",
            "136/136 [==============================] - 7s 52ms/step - loss: 0.0045 - accuracy: 0.9994 - val_loss: 0.8304 - val_accuracy: 0.7102\n",
            "Epoch 4/10\n",
            "136/136 [==============================] - 7s 51ms/step - loss: 0.0030 - accuracy: 0.9994 - val_loss: 0.9326 - val_accuracy: 0.6939\n",
            "Epoch 5/10\n",
            "136/136 [==============================] - 7s 52ms/step - loss: 0.0023 - accuracy: 0.9995 - val_loss: 0.8745 - val_accuracy: 0.7110\n",
            "Epoch 6/10\n",
            "136/136 [==============================] - 7s 52ms/step - loss: 0.0012 - accuracy: 0.9999 - val_loss: 0.9077 - val_accuracy: 0.7068\n",
            "Epoch 7/10\n",
            "136/136 [==============================] - 7s 52ms/step - loss: 0.0017 - accuracy: 0.9998 - val_loss: 0.9475 - val_accuracy: 0.7107\n",
            "Epoch 8/10\n",
            "136/136 [==============================] - 7s 52ms/step - loss: 0.0011 - accuracy: 0.9998 - val_loss: 0.8827 - val_accuracy: 0.7206\n",
            "Epoch 9/10\n",
            "136/136 [==============================] - 7s 52ms/step - loss: 5.7065e-04 - accuracy: 0.9999 - val_loss: 0.9803 - val_accuracy: 0.7042\n",
            "Epoch 10/10\n",
            "136/136 [==============================] - 7s 51ms/step - loss: 8.7129e-04 - accuracy: 0.9998 - val_loss: 0.7581 - val_accuracy: 0.7569\n"
          ],
          "name": "stdout"
        },
        {
          "output_type": "execute_result",
          "data": {
            "text/plain": [
              "<tensorflow.python.keras.callbacks.History at 0x7f563ebe6f50>"
            ]
          },
          "metadata": {
            "tags": []
          },
          "execution_count": 30
        }
      ]
    },
    {
      "cell_type": "code",
      "metadata": {
        "colab": {
          "base_uri": "https://localhost:8080/"
        },
        "id": "s4dCe0XOMuFu",
        "outputId": "d61be1ab-abf4-404c-f6e4-3d507806ab2d"
      },
      "source": [
        "x1,x_test_classes_b=createTestMultiClasses(test_word_indexes, xLen, step)\n",
        "scoresDE_b=recognizeMultiClass(modelED_b, x_test_classes_b)\n",
        "print(scoresDE_b)"
      ],
      "execution_count": null,
      "outputs": [
        {
          "output_type": "stream",
          "text": [
            "Author: О. Генри   75% were cerognized for О. Генри    Correct!\n",
            "Author: Стругацкие 47% were cerognized for Стругацкие  Correct!\n",
            "Author: Булгаков   75% were cerognized for Булгаков    Correct!\n",
            "Author: Саймак     71% were cerognized for Саймак      Correct!\n",
            "Author: Фрай       83% were cerognized for Фрай        Correct!\n",
            "Author: Брэдберри  82% were cerognized for Брэдберри   Correct!\n",
            "\n",
            "\n",
            "Average % of prediction: 74%\n",
            "0.7451132485262179\n"
          ],
          "name": "stdout"
        }
      ]
    },
    {
      "cell_type": "markdown",
      "metadata": {
        "id": "1m46Ms2Yy0tR"
      },
      "source": [
        "Выводы:\n",
        "- в общем удалось увеличить точность модели на 5% за счет отключения блоков слов из словаря, количество таких блоков было 40, в основном это были блоки содержащие слова с низкой частотностью.\n",
        "- так как архитектура с Embedding данной модели для этого задания не устойчивая и при повторном запуске изначальная точность модели может падать до 5%, потому набор и количество таких блоков тоже будет меняться, чем меньше будет количество блоков, отключение которых увеличивают точность модели, тем ниже будет разница в точности между сетью с обучением на полном словаре и сеткой обученной с отключенными блоками."
      ]
    }
  ]
}
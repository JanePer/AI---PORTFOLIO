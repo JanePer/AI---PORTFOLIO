{
  "nbformat": 4,
  "nbformat_minor": 0,
  "metadata": {
    "colab": {
      "name": "Task11 (Pro) CGAN Генеративные состязательные сети.ipynb",
      "provenance": [],
      "collapsed_sections": [],
      "authorship_tag": "ABX9TyOgqh+SwU9k+gADPlBtbasJ",
      "include_colab_link": true
    },
    "kernelspec": {
      "name": "python3",
      "display_name": "Python 3"
    },
    "language_info": {
      "name": "python"
    },
    "accelerator": "GPU"
  },
  "cells": [
    {
      "cell_type": "markdown",
      "metadata": {
        "id": "view-in-github",
        "colab_type": "text"
      },
      "source": [
        "<a href=\"https://colab.research.google.com/github/JanePer/AI---PORTFOLIO/blob/main/Task11_(Pro)_CGAN_%D0%93%D0%B5%D0%BD%D0%B5%D1%80%D0%B0%D1%82%D0%B8%D0%B2%D0%BD%D1%8B%D0%B5_%D1%81%D0%BE%D1%81%D1%82%D1%8F%D0%B7%D0%B0%D1%82%D0%B5%D0%BB%D1%8C%D0%BD%D1%8B%D0%B5_%D1%81%D0%B5%D1%82%D0%B8.ipynb\" target=\"_parent\"><img src=\"https://colab.research.google.com/assets/colab-badge.svg\" alt=\"Open In Colab\"/></a>"
      ]
    },
    {
      "cell_type": "code",
      "metadata": {
        "colab": {
          "base_uri": "https://localhost:8080/"
        },
        "id": "ddorUK0Dyswr",
        "outputId": "bce6c2b7-1976-4223-ff76-24b208ba640e"
      },
      "source": [
        "# Import libraries \n",
        "import matplotlib.pyplot as plt\n",
        "import numpy as np\n",
        "from google.colab import drive\n",
        "%matplotlib inline\n",
        "\n",
        "\n",
        "from tensorflow.keras.datasets import mnist, cifar10, fashion_mnist\n",
        "from tensorflow.keras.layers import Dense, Input, Reshape, Flatten, Dropout, BatchNormalization, Activation, MaxPooling2D, concatenate, Embedding, multiply\n",
        "from keras.layers.advanced_activations import LeakyReLU\n",
        "from keras.layers.convolutional import UpSampling2D, Conv2D\n",
        "from tensorflow.keras.models import Model, Sequential\n",
        "from tensorflow.keras.optimizers import Adam\n",
        "from IPython.display import clear_output\n",
        "\n",
        "drive.mount('/content/drive')"
      ],
      "execution_count": null,
      "outputs": [
        {
          "output_type": "stream",
          "name": "stdout",
          "text": [
            "Mounted at /content/drive\n"
          ]
        }
      ]
    },
    {
      "cell_type": "code",
      "metadata": {
        "colab": {
          "base_uri": "https://localhost:8080/"
        },
        "id": "pTH8YFN9z_SS",
        "outputId": "d6b942c3-0857-47ed-c460-1261df9f6058"
      },
      "source": [
        "(Fx_train, Fy_train),(_,_)=fashion_mnist.load_data()\n",
        "(x_train, y_train),(_,_)=mnist.load_data()\n",
        "print(Fx_train.shape)\n",
        "print(Fy_train.shape)\n",
        "print(x_train.shape)\n",
        "print(y_train.shape)"
      ],
      "execution_count": null,
      "outputs": [
        {
          "output_type": "stream",
          "name": "stdout",
          "text": [
            "Downloading data from https://storage.googleapis.com/tensorflow/tf-keras-datasets/train-labels-idx1-ubyte.gz\n",
            "32768/29515 [=================================] - 0s 0us/step\n",
            "40960/29515 [=========================================] - 0s 0us/step\n",
            "Downloading data from https://storage.googleapis.com/tensorflow/tf-keras-datasets/train-images-idx3-ubyte.gz\n",
            "26427392/26421880 [==============================] - 1s 0us/step\n",
            "26435584/26421880 [==============================] - 1s 0us/step\n",
            "Downloading data from https://storage.googleapis.com/tensorflow/tf-keras-datasets/t10k-labels-idx1-ubyte.gz\n",
            "16384/5148 [===============================================================================================] - 0s 0us/step\n",
            "Downloading data from https://storage.googleapis.com/tensorflow/tf-keras-datasets/t10k-images-idx3-ubyte.gz\n",
            "4423680/4422102 [==============================] - 0s 0us/step\n",
            "4431872/4422102 [==============================] - 0s 0us/step\n",
            "Downloading data from https://storage.googleapis.com/tensorflow/tf-keras-datasets/mnist.npz\n",
            "11493376/11490434 [==============================] - 0s 0us/step\n",
            "11501568/11490434 [==============================] - 0s 0us/step\n",
            "(60000, 28, 28)\n",
            "(60000,)\n",
            "(60000, 28, 28)\n",
            "(60000,)\n"
          ]
        }
      ]
    },
    {
      "cell_type": "code",
      "metadata": {
        "colab": {
          "base_uri": "https://localhost:8080/",
          "height": 282
        },
        "id": "I_02eH6a3YoN",
        "outputId": "0be2b65a-c53a-4f4e-e8ac-bac64c838a1b"
      },
      "source": [
        "lbls_images=[]\n",
        "l=0\n",
        "while l<10:\n",
        "  for i in range(len(y_train)):\n",
        "    if l==y_train[i]:\n",
        "      plt.imshow(x_train[i].reshape(28,28), cmap='gray')\n",
        "      plt.show()\n",
        "      x = input(\"Select as label?:\")\n",
        "      if x=='y':\n",
        "        lbls_images.append(x_train[i])\n",
        "        clear_output()\n",
        "        l=l+1\n",
        "      else:\n",
        "        clear_output()\n",
        "print(len(lbls_images))"
      ],
      "execution_count": null,
      "outputs": [
        {
          "output_type": "stream",
          "name": "stdout",
          "text": [
            "10\n"
          ]
        }
      ]
    },
    {
      "cell_type": "code",
      "metadata": {
        "colab": {
          "base_uri": "https://localhost:8080/"
        },
        "id": "yDZ6x108Jlmo",
        "outputId": "586ee0f0-e83c-4495-ee67-58a3e2c5911e"
      },
      "source": [
        "MFy_train=[]\n",
        "for i in range(len(Fx_train)):\n",
        "  for j in range(len(lbls_images)):\n",
        "    if Fy_train[i]==j:\n",
        "      MFy_train.append(lbls_images[j])\n",
        "print(len(MFy_train))"
      ],
      "execution_count": null,
      "outputs": [
        {
          "output_type": "stream",
          "name": "stdout",
          "text": [
            "60000\n"
          ]
        }
      ]
    },
    {
      "cell_type": "code",
      "metadata": {
        "id": "Spo4InvhS0cV"
      },
      "source": [
        "img_height=28\n",
        "img_width=28\n",
        "img_channels=1\n",
        "img_pix_val=255\n",
        "img_shape=(img_height,img_width,img_channels)\n",
        "num_classes=len(lbls_images)\n",
        "latent_dim=2000\n",
        "optimizer=Adam(0.0001,0.5)"
      ],
      "execution_count": null,
      "outputs": []
    },
    {
      "cell_type": "code",
      "metadata": {
        "colab": {
          "base_uri": "https://localhost:8080/"
        },
        "id": "iXLKNyTeSsnv",
        "outputId": "c68af85f-0883-49f5-dfb6-3f471333001f"
      },
      "source": [
        "Fx_train=Fx_train/(img_pix_val/2) - 1 #transform to range (-1,1) - activation 'tanh'\n",
        "Fx_train=Fx_train.reshape(len(Fx_train), img_height,img_width,img_channels)\n",
        "\n",
        "MFy_train=np.array(MFy_train)\n",
        "MFy_train=MFy_train/(img_pix_val/2) - 1 #transform to range (-1,1) - activation 'tanh'\n",
        "MFy_train=MFy_train.reshape(len(MFy_train), img_height,img_width,img_channels)\n",
        "\n",
        "print(Fx_train.shape)\n",
        "print(MFy_train.shape)"
      ],
      "execution_count": null,
      "outputs": [
        {
          "output_type": "stream",
          "name": "stdout",
          "text": [
            "(60000, 28, 28, 1)\n",
            "(60000, 28, 28, 1)\n"
          ]
        }
      ]
    },
    {
      "cell_type": "code",
      "metadata": {
        "id": "nD1JA0iTC4fB"
      },
      "source": [
        "def create_cond_generator():\n",
        "\n",
        "  noise=Input(shape=(latent_dim,))\n",
        "  label=Input(shape=(img_shape))\n",
        "  label_fl=Flatten()(label)\n",
        "  model_input = concatenate([noise,label_fl])\n",
        "\n",
        "  generator=Sequential()\n",
        "  generator.add(Dense(2256,input_dim=model_input.shape[1]))\n",
        "  generator.add(LeakyReLU(alpha=0.2))\n",
        "  generator.add(BatchNormalization(momentum=0.8))\n",
        "  generator.add(Dense(2512))\n",
        "  generator.add(LeakyReLU(alpha=0.2))\n",
        "  generator.add(BatchNormalization(momentum=0.8))\n",
        "  generator.add(Dense(2024))\n",
        "  generator.add(LeakyReLU(alpha=0.2))\n",
        "  generator.add(BatchNormalization(momentum=0.8))\n",
        "  generator.add(Dense(np.prod(img_shape), activation='tanh'))\n",
        "  generator.add(Reshape(img_shape))\n",
        "\n",
        "  img=generator(model_input)\n",
        "\n",
        "  generator=Model([noise, label], img)\n",
        "  return generator"
      ],
      "execution_count": null,
      "outputs": []
    },
    {
      "cell_type": "code",
      "metadata": {
        "colab": {
          "base_uri": "https://localhost:8080/"
        },
        "id": "2pP5GCYkGfzo",
        "outputId": "b95acbb0-270b-40b8-bac4-5cb967d6cb82"
      },
      "source": [
        "cond_gen=create_cond_generator()\n",
        "cond_gen.summary()"
      ],
      "execution_count": null,
      "outputs": [
        {
          "output_type": "stream",
          "name": "stdout",
          "text": [
            "Model: \"model\"\n",
            "__________________________________________________________________________________________________\n",
            "Layer (type)                    Output Shape         Param #     Connected to                     \n",
            "==================================================================================================\n",
            "input_2 (InputLayer)            [(None, 28, 28, 1)]  0                                            \n",
            "__________________________________________________________________________________________________\n",
            "input_1 (InputLayer)            [(None, 2000)]       0                                            \n",
            "__________________________________________________________________________________________________\n",
            "flatten (Flatten)               (None, 784)          0           input_2[0][0]                    \n",
            "__________________________________________________________________________________________________\n",
            "concatenate (Concatenate)       (None, 2784)         0           input_1[0][0]                    \n",
            "                                                                 flatten[0][0]                    \n",
            "__________________________________________________________________________________________________\n",
            "sequential (Sequential)         (None, 28, 28, 1)    18653624    concatenate[0][0]                \n",
            "==================================================================================================\n",
            "Total params: 18,653,624\n",
            "Trainable params: 18,640,040\n",
            "Non-trainable params: 13,584\n",
            "__________________________________________________________________________________________________\n"
          ]
        }
      ]
    },
    {
      "cell_type": "code",
      "metadata": {
        "colab": {
          "base_uri": "https://localhost:8080/",
          "height": 282
        },
        "id": "SSeF-uOGFec0",
        "outputId": "ac5f60b4-a356-49fb-e2a5-f67b8b4442d3"
      },
      "source": [
        "input1=np.random.random(size=(1,latent_dim))\n",
        "plt.imshow(input1, cmap='gray')\n",
        "plt.axis('off')\n",
        "plt.show()\n",
        "\n",
        "label=MFy_train[0][None, ...]\n",
        "predict_cond_gen=cond_gen.predict([input1,label])\n",
        "plt.imshow(predict_cond_gen[0].reshape(img_height,img_width), cmap='gray')\n",
        "plt.show()"
      ],
      "execution_count": null,
      "outputs": [
        {
          "output_type": "display_data",
          "data": {
            "image/png": "[encoded data removed]",
            "text/plain": [
              "<Figure size 432x288 with 1 Axes>"
            ]
          },
          "metadata": {
            "needs_background": "light"
          }
        },
        {
          "output_type": "display_data",
          "data": {
            "image/png": "[encoded data removed]",
            "text/plain": [
              "<Figure size 432x288 with 1 Axes>"
            ]
          },
          "metadata": {
            "needs_background": "light"
          }
        }
      ]
    },
    {
      "cell_type": "code",
      "metadata": {
        "id": "oghh0VeRV8nm"
      },
      "source": [
        "def create_cond_discriminator():\n",
        "  discriminator=Sequential()\n",
        "  discriminator.add(Dense(2512, input_dim= np.prod(img_shape)))\n",
        "  discriminator.add(LeakyReLU(alpha=0.2))\n",
        "  discriminator.add(Dense(2256))\n",
        "  discriminator.add(LeakyReLU(alpha=0.2))\n",
        "  discriminator.add(Dense(1, activation='sigmoid'))\n",
        "\n",
        "  img=Input(shape=img_shape)\n",
        "  label=Input(shape=(img_shape))\n",
        "  flat_img = Flatten()(img)\n",
        "  label_fl=Flatten()(label)\n",
        "  model_input = multiply([flat_img, label_fl])\n",
        "  validity=discriminator(model_input)\n",
        "\n",
        "  discriminator = Model([img, label], validity)\n",
        "\n",
        "  discriminator.compile(loss='binary_crossentropy', optimizer=optimizer, metrics=['accuracy'])\n",
        "\n",
        "  discriminator.trainable=False # freeze discriminator's weights\n",
        "  return discriminator"
      ],
      "execution_count": null,
      "outputs": []
    },
    {
      "cell_type": "code",
      "metadata": {
        "colab": {
          "base_uri": "https://localhost:8080/"
        },
        "id": "DyC6WsDTXt6J",
        "outputId": "c20cadf8-70c2-4672-a8f7-23a9d335aa64"
      },
      "source": [
        "cond_dis=create_cond_discriminator()\n",
        "cond_dis.summary()"
      ],
      "execution_count": null,
      "outputs": [
        {
          "output_type": "stream",
          "name": "stdout",
          "text": [
            "Model: \"model_1\"\n",
            "__________________________________________________________________________________________________\n",
            "Layer (type)                    Output Shape         Param #     Connected to                     \n",
            "==================================================================================================\n",
            "input_3 (InputLayer)            [(None, 28, 28, 1)]  0                                            \n",
            "__________________________________________________________________________________________________\n",
            "input_4 (InputLayer)            [(None, 28, 28, 1)]  0                                            \n",
            "__________________________________________________________________________________________________\n",
            "flatten_1 (Flatten)             (None, 784)          0           input_3[0][0]                    \n",
            "__________________________________________________________________________________________________\n",
            "flatten_2 (Flatten)             (None, 784)          0           input_4[0][0]                    \n",
            "__________________________________________________________________________________________________\n",
            "multiply (Multiply)             (None, 784)          0           flatten_1[0][0]                  \n",
            "                                                                 flatten_2[0][0]                  \n",
            "__________________________________________________________________________________________________\n",
            "sequential_1 (Sequential)       (None, 1)            7643505     multiply[0][0]                   \n",
            "==================================================================================================\n",
            "Total params: 7,643,505\n",
            "Trainable params: 0\n",
            "Non-trainable params: 7,643,505\n",
            "__________________________________________________________________________________________________\n"
          ]
        }
      ]
    },
    {
      "cell_type": "code",
      "metadata": {
        "colab": {
          "base_uri": "https://localhost:8080/"
        },
        "id": "SQAbfFIyYYER",
        "outputId": "9ac327a9-e417-4609-e1a1-595683c0261b"
      },
      "source": [
        "label=MFy_train[0][None, ...]\n",
        "predict_cond_dis=cond_dis.predict([predict_cond_gen, label])\n",
        "predict_cond_dis"
      ],
      "execution_count": null,
      "outputs": [
        {
          "output_type": "execute_result",
          "data": {
            "text/plain": [
              "array([[0.5146399]], dtype=float32)"
            ]
          },
          "metadata": {},
          "execution_count": 12
        }
      ]
    },
    {
      "cell_type": "code",
      "metadata": {
        "colab": {
          "base_uri": "https://localhost:8080/"
        },
        "id": "ISYqgQIIDDQS",
        "outputId": "a914e8db-f188-42f5-88e4-f91bb972dc31"
      },
      "source": [
        "lbls_images=np.array(lbls_images)\n",
        "lbls_images=lbls_images.reshape(len(lbls_images),img_height,img_width, 1)\n",
        "lbls_images.shape"
      ],
      "execution_count": null,
      "outputs": [
        {
          "output_type": "execute_result",
          "data": {
            "text/plain": [
              "(10, 28, 28, 1)"
            ]
          },
          "metadata": {},
          "execution_count": 13
        }
      ]
    },
    {
      "cell_type": "code",
      "metadata": {
        "id": "X91xFAb9ciu1"
      },
      "source": [
        "def sample_images_conditional(epoch, gen, lbls):  # Функция печати изображений\n",
        "  r, c = 2, 5 # Параметры вывода (количество строк (r) и количество столбцов (c))\n",
        "  noise = np.random.normal(0, 1, (r * c, latent_dim)) # Создаем вектор размерностью (r*c,latent_dim (10,100)) из нормально распределенных значений\n",
        "  lbls=lbls[:(r * c)]\n",
        "  gen_imgs = gen.predict([noise, lbls]) # Предиктим картинку с помощью входной переменной gen\n",
        "\n",
        "  gen_imgs = 0.5 * gen_imgs + 0.5 # Трансформируем значения в диапазон от 0 до 1\n",
        "\n",
        "  fig, axs = plt.subplots(r, c) # Создаем окно вывода r на c (2 на 5) ячеек\n",
        "  cnt = 0 # Порядковый номер картинки\n",
        "  for i in range(r):\n",
        "      for j in range(c):\n",
        "          axs[i,j].imshow(gen_imgs[cnt, :,:,0], cmap='gray') # Записываем в axs[i,j] сгенерироввнное изображение из gen_img с индексом cnt\n",
        "          axs[i,j].axis('off') # Отключаем печать названия осей\n",
        "          cnt += 1 # Увеличиваем индекс изображения\n",
        "  plt.show()  # Рисуем сгенерированные изображения\n",
        "  #fig.savefig(\"images/%d.png\" % epoch) # Сохраняем изображения в папке images\n",
        "  plt.close()# Завершаем работу с plt "
      ],
      "execution_count": null,
      "outputs": []
    },
    {
      "cell_type": "code",
      "metadata": {
        "id": "Yg6ZkLSYFAm_"
      },
      "source": [
        "def train_conditional(generator, discriminator, epochs=30000, batch_size=128): # Функция обучения\n",
        "  \n",
        "  valid = np.ones((batch_size, 1)) # Создаем массив единиц длинной batch_size\n",
        "  fake = np.zeros((batch_size, 1)) # Создаем массив нулей длинной batch_size\n",
        "  \n",
        "  noise = Input(shape=(latent_dim,)) # Создаем слой Input (Записываем входные данные рамерностью letent_dim в noise)\n",
        "  label=Input(shape=(img_shape))\n",
        "  img = generator([noise, label]) # Записываем в переменную img значение, возвращаемое generator'ом  с входными параметрами noise и label\n",
        "\n",
        "  val = discriminator([img, label]) # Записываем в переменную val значение, возвращаемое discriminator'ом с входными параметрами img и label\n",
        "  \n",
        "  combined = Model([noise, label], val) # Создаем полную сеть combined (входные данные: noise и label, выходные данне: val)\n",
        "  combined.compile(loss=['binary_crossentropy'], optimizer=optimizer) # Компилируем сеть combined, используя в качестве функции ошибки binary_crossentropy\n",
        "  \n",
        "  sample_interval = 200 # Указываем интервал, через который будем текущие сгенерированые изображения\n",
        "  \n",
        "  d_loss_list = [] # Массив значений ошибки дескриминатора\n",
        "  g_loss_list = [] # Массив значений ошибки генератора\n",
        "  d_acc_list = [] # Массив значений точности модели\n",
        "  \n",
        "  for epoch in range(epochs):\n",
        "\n",
        "    # ---------------------\n",
        "    #  Train Discriminator\n",
        "    # ---------------------\n",
        "\n",
        "    idx = np.random.randint(0, Fx_train.shape[0], batch_size) # Создаем массив случайных значений в диапазоне от 0 до X_train.shape[0] длинной batch_size\n",
        "    imgs, labels = Fx_train[idx], MFy_train[idx]  # В переменную imgs записываем значение из X_train с индексами из idx, в переменную labels записываем значения из y_train с индексами из idx\n",
        "\n",
        "    noise = np.random.normal(0, 1, (batch_size, latent_dim)) # Создаем массив размерностью (batch_size,latent_dim) из нормально распределенных значений \n",
        "\n",
        "    gen_imgs = generator.predict([noise, labels]) # Предиктим картинку с помощью входной переменной generator\n",
        "    \n",
        "    # Train the discriminator\n",
        "    d_loss_real = discriminator.train_on_batch([imgs, labels], valid) # Получаем ошибку дискриминатора, обученного на реальной картинке (для этого передаем в функцию train_on_batch реальные изображения (imgs), метки (labels) и массив единици (valid)) \n",
        "    d_loss_fake = discriminator.train_on_batch([gen_imgs, labels], fake) # Получаем ошибку дискриминатора, обученного на сгенерированной картинке (для этого передаем в функцию train_on_batch сгенерирпованные изображения (gen_imgs), метки (labels) и массив нулей (fake))\n",
        "    d_loss = 0.5 * np.add(d_loss_real, d_loss_fake) # Получаем массив ошибок дискриминатора (поэлементно складываем массивы d_loss_real и d_loss_fake) и делим каждое значение пополам\n",
        "\n",
        "    # ---------------------\n",
        "    #  Train Generator\n",
        "    # ---------------------\n",
        "\n",
        "    #sampled_labels = np.random.randint(0, 10, batch_size).reshape(-1, 1) # Получаем массив случайных меток от 0 до 10 размерностью batch_size и решейпим его в размерность (batch_size, 1)\n",
        "    \n",
        "    g_loss = combined.train_on_batch([noise, labels], valid) # Получаем ошибку генератора (для этого передаем в функцию train_on_batch шум (noise), метки (sampled_labels) и массив единиц (valid))\n",
        "\n",
        "    print (\"%d [D loss: %f, acc.: %.2f%%] [G loss: %f]\" % (epoch, d_loss[0], 100*d_loss[1], g_loss)) # Печатаем номер эпохи и значения ошибок на этой эпохе\n",
        "\n",
        "    d_loss_list.append(d_loss[0]) # Добавляем в маасив значений ошибок дискриматора первое значение в массиве d_loss\n",
        "    g_loss_list.append(g_loss) # Добавляем в массив значений ошибок генератора g_loss\n",
        "    d_acc_list.append(100*d_loss[1]) # Добавляем в массив значений точности модели второе значение в массиве d_loss умноженное на 100\n",
        "    \n",
        "    # Проверяем на условие вывода информации раз в sample_interval эпох\n",
        "    if ((epoch % sample_interval == 0) | (epoch == epochs-1)):\n",
        "      clear_output()\n",
        "      sample_images_conditional(epoch, generator, labels)\n",
        "        \n",
        "  # Выводим графики, 1 - график ошибок дискриминатора и генератора, 2 - график точности распознавания\n",
        "  plt.plot(d_loss_list, label=\"Ошибка дискриминатора\")\n",
        "  plt.plot(g_loss_list, label=\"Ошибка генератора\")\n",
        "  plt.legend()\n",
        "  plt.show()\n",
        "  plt.plot(d_acc_list, label=\"Точность распознавания дискриминатора\")\n",
        "  plt.legend()\n",
        "  plt.show()"
      ],
      "execution_count": null,
      "outputs": []
    },
    {
      "cell_type": "code",
      "metadata": {
        "colab": {
          "base_uri": "https://localhost:8080/",
          "height": 703
        },
        "id": "NfvTtPXsMSla",
        "outputId": "6536dfbf-237b-47d4-93bb-b05031420615"
      },
      "source": [
        "optimizer=Adam(0.0001,0.5)\n",
        "cond_generator = create_cond_generator() \n",
        "cond_discriminator = create_cond_discriminator()\n",
        "train_conditional(cond_generator, cond_discriminator)"
      ],
      "execution_count": null,
      "outputs": [
        {
          "output_type": "display_data",
          "data": {
            "image/png": "[encoded data removed]",
            "text/plain": [
              "<Figure size 432x288 with 10 Axes>"
            ]
          },
          "metadata": {
            "needs_background": "light"
          }
        },
        {
          "output_type": "display_data",
          "data": {
            "image/png": "[encoded data removed]",
            "text/plain": [
              "<Figure size 432x288 with 1 Axes>"
            ]
          },
          "metadata": {
            "needs_background": "light"
          }
        },
        {
          "output_type": "display_data",
          "data": {
            "image/png": "[encoded data removed]",
            "text/plain": [
              "<Figure size 432x288 with 1 Axes>"
            ]
          },
          "metadata": {
            "needs_background": "light"
          }
        }
      ]
    },
    {
      "cell_type": "code",
      "metadata": {
        "id": "aAUV35gEb4Hq"
      },
      "source": [
        "cond_generator.save_weights('/content/drive/MyDrive/cgan_train.h5')\n",
        "cond_discriminator.save_weights('/content/drive/MyDrive/cgan_disc.h5')"
      ],
      "execution_count": null,
      "outputs": []
    },
    {
      "cell_type": "code",
      "metadata": {
        "id": "pCaDE0SzjynS"
      },
      "source": [
        "#cond_generator.load_weights('/content/drive/MyDrive/cgan_train.h5')\n",
        "#cond_discriminator.load_weights('/content/drive/MyDrive/cgan_disc.h5')"
      ],
      "execution_count": null,
      "outputs": []
    },
    {
      "cell_type": "code",
      "metadata": {
        "id": "WDy8pDFDgru_"
      },
      "source": [
        "#optimizer=Adam(0.00001,0.5)\n",
        "#train_conditional(cond_generator, cond_discriminator)"
      ],
      "execution_count": null,
      "outputs": []
    }
  ]
}
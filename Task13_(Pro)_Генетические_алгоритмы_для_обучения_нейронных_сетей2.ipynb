{
  "nbformat": 4,
  "nbformat_minor": 0,
  "metadata": {
    "colab": {
      "name": "Task13 (Pro) Генетические алгоритмы для обучения нейронных сетей2.ipynb",
      "provenance": [],
      "collapsed_sections": [],
      "authorship_tag": "ABX9TyNColmW/nFPbX7oZpaS4nY9",
      "include_colab_link": true
    },
    "kernelspec": {
      "name": "python3",
      "display_name": "Python 3"
    },
    "language_info": {
      "name": "python"
    },
    "accelerator": "GPU"
  },
  "cells": [
    {
      "cell_type": "markdown",
      "metadata": {
        "id": "view-in-github",
        "colab_type": "text"
      },
      "source": [
        "<a href=\"https://colab.research.google.com/github/JanePer/AI---PORTFOLIO/blob/main/Task13_(Pro)_%D0%93%D0%B5%D0%BD%D0%B5%D1%82%D0%B8%D1%87%D0%B5%D1%81%D0%BA%D0%B8%D0%B5_%D0%B0%D0%BB%D0%B3%D0%BE%D1%80%D0%B8%D1%82%D0%BC%D1%8B_%D0%B4%D0%BB%D1%8F_%D0%BE%D0%B1%D1%83%D1%87%D0%B5%D0%BD%D0%B8%D1%8F_%D0%BD%D0%B5%D0%B9%D1%80%D0%BE%D0%BD%D0%BD%D1%8B%D1%85_%D1%81%D0%B5%D1%82%D0%B5%D0%B92.ipynb\" target=\"_parent\"><img src=\"https://colab.research.google.com/assets/colab-badge.svg\" alt=\"Open In Colab\"/></a>"
      ]
    },
    {
      "cell_type": "markdown",
      "metadata": {
        "id": "cpT5B_0ZejGW"
      },
      "source": [
        "#Import libraries "
      ]
    },
    {
      "cell_type": "code",
      "metadata": {
        "id": "jotzyHgeejdc",
        "colab": {
          "base_uri": "https://localhost:8080/"
        },
        "outputId": "0915221f-d30c-49f3-fc90-4ef6c8126bae"
      },
      "source": [
        "import pandas as pd\n",
        "import numpy as np\n",
        "import matplotlib.pyplot as plt\n",
        "import random as random\n",
        "import time\n",
        "from PIL import Image\n",
        "from google.colab import files\n",
        "%matplotlib inline\n",
        "\n",
        "from tensorflow.keras.models import Model, Sequential\n",
        "from tensorflow.keras.optimizers import Adam\n",
        "from tensorflow.keras.layers import Dense, Dropout, BatchNormalization, Flatten, Conv2D, MaxPooling2D, AveragePooling2D, concatenate, Input, Reshape\n",
        "from tensorflow.keras import utils\n",
        "from tensorflow.keras.losses import MAE\n",
        "from sklearn.preprocessing import StandardScaler, MinMaxScaler\n",
        "from keras.preprocessing.sequence import TimeseriesGenerator\n",
        "import keras.backend as K\n",
        "from tensorflow.keras.utils import plot_model\n",
        "from tensorflow.keras.datasets import mnist, cifar10\n",
        "from tensorflow.keras.preprocessing import image\n",
        "from PIL import Image\n",
        "\n",
        "from google.colab import drive\n",
        "drive.mount('/content/drive')"
      ],
      "execution_count": null,
      "outputs": [
        {
          "output_type": "stream",
          "name": "stdout",
          "text": [
            "Mounted at /content/drive\n"
          ]
        }
      ]
    },
    {
      "cell_type": "code",
      "metadata": {
        "colab": {
          "base_uri": "https://localhost:8080/"
        },
        "id": "g-1fefudeoDW",
        "outputId": "c897c962-dc26-43a4-f228-5a5d48917a46"
      },
      "source": [
        "(x_train,y_train),(x_test,y_test)=cifar10.load_data()\n",
        "print(x_train.shape)\n",
        "print(y_train.shape)\n",
        "print(x_test.shape)\n",
        "print(y_test.shape)\n",
        "print(np.unique(y_train))"
      ],
      "execution_count": null,
      "outputs": [
        {
          "output_type": "stream",
          "name": "stdout",
          "text": [
            "Downloading data from https://www.cs.toronto.edu/~kriz/cifar-10-python.tar.gz\n",
            "170500096/170498071 [==============================] - 2s 0us/step\n",
            "170508288/170498071 [==============================] - 2s 0us/step\n",
            "(50000, 32, 32, 3)\n",
            "(50000, 1)\n",
            "(10000, 32, 32, 3)\n",
            "(10000, 1)\n",
            "[0 1 2 3 4 5 6 7 8 9]\n"
          ]
        }
      ]
    },
    {
      "cell_type": "code",
      "metadata": {
        "colab": {
          "base_uri": "https://localhost:8080/",
          "height": 141
        },
        "id": "eg8SGKaWe8eq",
        "outputId": "91213143-5624-4469-9a5e-44d92fde5ffd"
      },
      "source": [
        "fig, axs=plt.subplots(1,10,figsize=(50,5))\n",
        "i=0\n",
        "for j in range(50000):\n",
        "  if y_train[j]==i and i<10:\n",
        "    pic=x_train[j]\n",
        "    axs[i].imshow(Image.fromarray(pic).convert('RGB'))\n",
        "    i=i+1\n",
        "plt.show()"
      ],
      "execution_count": null,
      "outputs": [
        {
          "output_type": "display_data",
          "data": {
            "image/png": "[encoded data removed]",
            "text/plain": [
              "<Figure size 3600x360 with 10 Axes>"
            ]
          },
          "metadata": {
            "needs_background": "light"
          }
        }
      ]
    },
    {
      "cell_type": "code",
      "metadata": {
        "colab": {
          "base_uri": "https://localhost:8080/"
        },
        "id": "fa5SQA8QYnLw",
        "outputId": "895d4f9c-5047-425a-bee6-598476bb47fe"
      },
      "source": [
        "y_train=utils.to_categorical(y_train,10)\n",
        "y_test=utils.to_categorical(y_test,10)\n",
        "x_train=x_train/255\n",
        "x_test=x_test/255\n",
        "img_width=x_train.shape[1]\n",
        "img_height=x_train.shape[2]\n",
        "channels=x_train.shape[3]\n",
        "\n",
        "print(x_train.shape)\n",
        "print(y_train.shape)\n",
        "print(x_test.shape)\n",
        "print(y_test.shape)\n",
        "print(img_width, img_height, channels)"
      ],
      "execution_count": null,
      "outputs": [
        {
          "output_type": "stream",
          "name": "stdout",
          "text": [
            "(50000, 32, 32, 3)\n",
            "(50000, 10)\n",
            "(10000, 32, 32, 3)\n",
            "(10000, 10)\n",
            "32 32 3\n"
          ]
        }
      ]
    },
    {
      "cell_type": "code",
      "metadata": {
        "colab": {
          "base_uri": "https://localhost:8080/"
        },
        "id": "uQYozdspZCbb",
        "outputId": "9b84de16-497e-4acc-b0ab-5b4142cccdfe"
      },
      "source": [
        "model=Sequential()\n",
        "model.add(BatchNormalization(input_shape=(img_width, img_height, channels)))\n",
        "model.add(Conv2D(512, (3,3), padding='same', activation='relu'))\n",
        "model.add(MaxPooling2D(pool_size=(3, 3)))\n",
        "model.add(Dropout(0.3))\n",
        "model.add(BatchNormalization())\n",
        "model.add(Conv2D(1024, (3, 3), padding='same', activation='relu'))\n",
        "model.add(MaxPooling2D(pool_size=(3, 3)))\n",
        "model.add(Dropout(0.3))\n",
        "model.add(BatchNormalization())\n",
        "model.add(Flatten())\n",
        "model.add(Dense(1000, activation='relu'))\n",
        "model.add(Dense(500, activation='relu'))\n",
        "model.add(Dense(10, activation='softmax'))\n",
        "\n",
        "model.compile(loss='categorical_crossentropy', optimizer=Adam(lr=0.0001), metrics=['accuracy'])\n",
        "model.summary()"
      ],
      "execution_count": null,
      "outputs": [
        {
          "output_type": "stream",
          "name": "stdout",
          "text": [
            "Model: \"sequential\"\n",
            "_________________________________________________________________\n",
            "Layer (type)                 Output Shape              Param #   \n",
            "=================================================================\n",
            "batch_normalization (BatchNo (None, 32, 32, 3)         12        \n",
            "_________________________________________________________________\n",
            "conv2d (Conv2D)              (None, 32, 32, 512)       14336     \n",
            "_________________________________________________________________\n",
            "max_pooling2d (MaxPooling2D) (None, 10, 10, 512)       0         \n",
            "_________________________________________________________________\n",
            "dropout (Dropout)            (None, 10, 10, 512)       0         \n",
            "_________________________________________________________________\n",
            "batch_normalization_1 (Batch (None, 10, 10, 512)       2048      \n",
            "_________________________________________________________________\n",
            "conv2d_1 (Conv2D)            (None, 10, 10, 1024)      4719616   \n",
            "_________________________________________________________________\n",
            "max_pooling2d_1 (MaxPooling2 (None, 3, 3, 1024)        0         \n",
            "_________________________________________________________________\n",
            "dropout_1 (Dropout)          (None, 3, 3, 1024)        0         \n",
            "_________________________________________________________________\n",
            "batch_normalization_2 (Batch (None, 3, 3, 1024)        4096      \n",
            "_________________________________________________________________\n",
            "flatten (Flatten)            (None, 9216)              0         \n",
            "_________________________________________________________________\n",
            "dense (Dense)                (None, 1000)              9217000   \n",
            "_________________________________________________________________\n",
            "dense_1 (Dense)              (None, 500)               500500    \n",
            "_________________________________________________________________\n",
            "dense_2 (Dense)              (None, 10)                5010      \n",
            "=================================================================\n",
            "Total params: 14,462,618\n",
            "Trainable params: 14,459,540\n",
            "Non-trainable params: 3,078\n",
            "_________________________________________________________________\n"
          ]
        },
        {
          "output_type": "stream",
          "name": "stderr",
          "text": [
            "/usr/local/lib/python3.7/dist-packages/keras/optimizer_v2/optimizer_v2.py:356: UserWarning: The `lr` argument is deprecated, use `learning_rate` instead.\n",
            "  \"The `lr` argument is deprecated, use `learning_rate` instead.\")\n"
          ]
        }
      ]
    },
    {
      "cell_type": "code",
      "metadata": {
        "colab": {
          "base_uri": "https://localhost:8080/"
        },
        "id": "C1McY6-33nKj",
        "outputId": "12ad8314-a858-407f-e23b-843b1562d1b9"
      },
      "source": [
        "n_train=1000\n",
        "n_test=200\n",
        "history_sample=model.fit(x_train[:n_train],y_train[:n_train], batch_size=10, epochs=50, validation_data=(x_test[:n_test], y_test[:n_test]), verbose=1)"
      ],
      "execution_count": null,
      "outputs": [
        {
          "output_type": "stream",
          "name": "stdout",
          "text": [
            "Epoch 1/50\n",
            "100/100 [==============================] - 35s 37ms/step - loss: 2.1698 - accuracy: 0.2600 - val_loss: 3.6260 - val_accuracy: 0.0750\n",
            "Epoch 2/50\n",
            "100/100 [==============================] - 3s 34ms/step - loss: 1.6845 - accuracy: 0.4190 - val_loss: 4.3506 - val_accuracy: 0.1150\n",
            "Epoch 3/50\n",
            "100/100 [==============================] - 3s 35ms/step - loss: 1.4177 - accuracy: 0.5020 - val_loss: 5.2633 - val_accuracy: 0.0750\n",
            "Epoch 4/50\n",
            "100/100 [==============================] - 3s 35ms/step - loss: 1.2408 - accuracy: 0.5620 - val_loss: 3.1702 - val_accuracy: 0.1900\n",
            "Epoch 5/50\n",
            "100/100 [==============================] - 4s 36ms/step - loss: 1.0382 - accuracy: 0.6380 - val_loss: 2.7184 - val_accuracy: 0.2500\n",
            "Epoch 6/50\n",
            "100/100 [==============================] - 4s 36ms/step - loss: 0.8510 - accuracy: 0.7040 - val_loss: 2.3980 - val_accuracy: 0.3300\n",
            "Epoch 7/50\n",
            "100/100 [==============================] - 4s 36ms/step - loss: 0.7434 - accuracy: 0.7280 - val_loss: 2.1494 - val_accuracy: 0.4050\n",
            "Epoch 8/50\n",
            "100/100 [==============================] - 4s 36ms/step - loss: 0.5977 - accuracy: 0.8030 - val_loss: 1.9701 - val_accuracy: 0.4550\n",
            "Epoch 9/50\n",
            "100/100 [==============================] - 4s 36ms/step - loss: 0.4623 - accuracy: 0.8530 - val_loss: 2.1386 - val_accuracy: 0.4500\n",
            "Epoch 10/50\n",
            "100/100 [==============================] - 3s 35ms/step - loss: 0.3883 - accuracy: 0.8560 - val_loss: 2.0964 - val_accuracy: 0.4700\n",
            "Epoch 11/50\n",
            "100/100 [==============================] - 4s 36ms/step - loss: 0.3356 - accuracy: 0.9030 - val_loss: 2.2302 - val_accuracy: 0.4350\n",
            "Epoch 12/50\n",
            "100/100 [==============================] - 3s 34ms/step - loss: 0.2732 - accuracy: 0.9110 - val_loss: 2.4788 - val_accuracy: 0.4200\n",
            "Epoch 13/50\n",
            "100/100 [==============================] - 4s 37ms/step - loss: 0.2398 - accuracy: 0.9250 - val_loss: 2.3739 - val_accuracy: 0.4550\n",
            "Epoch 14/50\n",
            "100/100 [==============================] - 4s 36ms/step - loss: 0.1673 - accuracy: 0.9510 - val_loss: 2.4048 - val_accuracy: 0.4600\n",
            "Epoch 15/50\n",
            "100/100 [==============================] - 3s 35ms/step - loss: 0.1438 - accuracy: 0.9610 - val_loss: 2.4608 - val_accuracy: 0.4850\n",
            "Epoch 16/50\n",
            "100/100 [==============================] - 4s 36ms/step - loss: 0.1316 - accuracy: 0.9610 - val_loss: 2.5520 - val_accuracy: 0.4750\n",
            "Epoch 17/50\n",
            "100/100 [==============================] - 3s 35ms/step - loss: 0.1271 - accuracy: 0.9590 - val_loss: 2.6387 - val_accuracy: 0.4100\n",
            "Epoch 18/50\n",
            "100/100 [==============================] - 3s 35ms/step - loss: 0.1052 - accuracy: 0.9730 - val_loss: 2.6451 - val_accuracy: 0.4450\n",
            "Epoch 19/50\n",
            "100/100 [==============================] - 4s 35ms/step - loss: 0.0791 - accuracy: 0.9790 - val_loss: 2.7288 - val_accuracy: 0.4450\n",
            "Epoch 20/50\n",
            "100/100 [==============================] - 3s 35ms/step - loss: 0.1387 - accuracy: 0.9570 - val_loss: 2.8384 - val_accuracy: 0.4250\n",
            "Epoch 21/50\n",
            "100/100 [==============================] - 4s 36ms/step - loss: 0.1086 - accuracy: 0.9670 - val_loss: 2.7178 - val_accuracy: 0.4350\n",
            "Epoch 22/50\n",
            "100/100 [==============================] - 3s 34ms/step - loss: 0.0873 - accuracy: 0.9750 - val_loss: 2.6374 - val_accuracy: 0.4550\n",
            "Epoch 23/50\n",
            "100/100 [==============================] - 4s 36ms/step - loss: 0.0994 - accuracy: 0.9750 - val_loss: 2.9988 - val_accuracy: 0.4250\n",
            "Epoch 24/50\n",
            "100/100 [==============================] - 4s 36ms/step - loss: 0.0939 - accuracy: 0.9730 - val_loss: 2.7849 - val_accuracy: 0.4650\n",
            "Epoch 25/50\n",
            "100/100 [==============================] - 3s 34ms/step - loss: 0.0966 - accuracy: 0.9680 - val_loss: 2.8276 - val_accuracy: 0.4350\n",
            "Epoch 26/50\n",
            "100/100 [==============================] - 4s 36ms/step - loss: 0.1089 - accuracy: 0.9650 - val_loss: 2.8381 - val_accuracy: 0.4600\n",
            "Epoch 27/50\n",
            "100/100 [==============================] - 3s 34ms/step - loss: 0.0652 - accuracy: 0.9850 - val_loss: 2.8238 - val_accuracy: 0.4250\n",
            "Epoch 28/50\n",
            "100/100 [==============================] - 3s 35ms/step - loss: 0.0569 - accuracy: 0.9800 - val_loss: 2.7947 - val_accuracy: 0.4450\n",
            "Epoch 29/50\n",
            "100/100 [==============================] - 4s 35ms/step - loss: 0.0391 - accuracy: 0.9910 - val_loss: 3.1226 - val_accuracy: 0.4350\n",
            "Epoch 30/50\n",
            "100/100 [==============================] - 4s 36ms/step - loss: 0.0363 - accuracy: 0.9910 - val_loss: 2.9012 - val_accuracy: 0.4300\n",
            "Epoch 31/50\n",
            "100/100 [==============================] - 3s 35ms/step - loss: 0.1069 - accuracy: 0.9640 - val_loss: 3.1710 - val_accuracy: 0.4200\n",
            "Epoch 32/50\n",
            "100/100 [==============================] - 3s 34ms/step - loss: 0.0641 - accuracy: 0.9800 - val_loss: 2.9991 - val_accuracy: 0.4200\n",
            "Epoch 33/50\n",
            "100/100 [==============================] - 3s 35ms/step - loss: 0.0500 - accuracy: 0.9850 - val_loss: 3.1764 - val_accuracy: 0.4200\n",
            "Epoch 34/50\n",
            "100/100 [==============================] - 4s 36ms/step - loss: 0.0481 - accuracy: 0.9830 - val_loss: 3.2511 - val_accuracy: 0.4000\n",
            "Epoch 35/50\n",
            "100/100 [==============================] - 3s 35ms/step - loss: 0.0648 - accuracy: 0.9810 - val_loss: 2.9556 - val_accuracy: 0.4300\n",
            "Epoch 36/50\n",
            "100/100 [==============================] - 3s 35ms/step - loss: 0.0936 - accuracy: 0.9750 - val_loss: 2.8441 - val_accuracy: 0.4250\n",
            "Epoch 37/50\n",
            "100/100 [==============================] - 4s 36ms/step - loss: 0.0466 - accuracy: 0.9870 - val_loss: 3.1124 - val_accuracy: 0.4500\n",
            "Epoch 38/50\n",
            "100/100 [==============================] - 4s 36ms/step - loss: 0.0539 - accuracy: 0.9820 - val_loss: 3.2401 - val_accuracy: 0.4300\n",
            "Epoch 39/50\n",
            "100/100 [==============================] - 4s 36ms/step - loss: 0.0578 - accuracy: 0.9810 - val_loss: 3.1536 - val_accuracy: 0.4550\n",
            "Epoch 40/50\n",
            "100/100 [==============================] - 4s 37ms/step - loss: 0.0756 - accuracy: 0.9740 - val_loss: 3.1125 - val_accuracy: 0.4400\n",
            "Epoch 41/50\n",
            "100/100 [==============================] - 3s 35ms/step - loss: 0.0536 - accuracy: 0.9820 - val_loss: 3.2464 - val_accuracy: 0.4200\n",
            "Epoch 42/50\n",
            "100/100 [==============================] - 4s 36ms/step - loss: 0.0265 - accuracy: 0.9910 - val_loss: 3.3941 - val_accuracy: 0.3850\n",
            "Epoch 43/50\n",
            "100/100 [==============================] - 3s 35ms/step - loss: 0.0189 - accuracy: 0.9970 - val_loss: 3.1561 - val_accuracy: 0.4200\n",
            "Epoch 44/50\n",
            "100/100 [==============================] - 4s 36ms/step - loss: 0.0219 - accuracy: 0.9930 - val_loss: 3.0886 - val_accuracy: 0.4550\n",
            "Epoch 45/50\n",
            "100/100 [==============================] - 4s 36ms/step - loss: 0.0102 - accuracy: 0.9990 - val_loss: 3.1022 - val_accuracy: 0.4500\n",
            "Epoch 46/50\n",
            "100/100 [==============================] - 4s 36ms/step - loss: 0.0053 - accuracy: 1.0000 - val_loss: 3.1326 - val_accuracy: 0.4500\n",
            "Epoch 47/50\n",
            "100/100 [==============================] - 3s 35ms/step - loss: 0.0170 - accuracy: 0.9940 - val_loss: 3.3955 - val_accuracy: 0.4250\n",
            "Epoch 48/50\n",
            "100/100 [==============================] - 4s 36ms/step - loss: 0.0259 - accuracy: 0.9940 - val_loss: 3.3909 - val_accuracy: 0.3950\n",
            "Epoch 49/50\n",
            "100/100 [==============================] - 4s 36ms/step - loss: 0.0963 - accuracy: 0.9760 - val_loss: 3.4867 - val_accuracy: 0.4300\n",
            "Epoch 50/50\n",
            "100/100 [==============================] - 4s 36ms/step - loss: 0.1292 - accuracy: 0.9540 - val_loss: 3.5045 - val_accuracy: 0.4700\n"
          ]
        }
      ]
    },
    {
      "cell_type": "code",
      "metadata": {
        "colab": {
          "base_uri": "https://localhost:8080/",
          "height": 279
        },
        "id": "xOkuDBk24J1h",
        "outputId": "2add4550-4109-4a6e-c66c-df8c8e9a639e"
      },
      "source": [
        "#Оображаем график точности обучения\n",
        "plt.plot(history_sample.history['accuracy'], \n",
        "         label='Доля верных ответов на обучающем наборе')\n",
        "plt.plot(history_sample.history['val_accuracy'], \n",
        "         label='Доля верных ответов на проверочном наборе')\n",
        "plt.xlabel('Эпоха обучения')\n",
        "plt.ylabel('Доля верных ответов')\n",
        "plt.legend()\n",
        "plt.show()"
      ],
      "execution_count": null,
      "outputs": [
        {
          "output_type": "display_data",
          "data": {
            "image/png": "[encoded data removed]",
            "text/plain": [
              "<Figure size 432x288 with 1 Axes>"
            ]
          },
          "metadata": {
            "needs_background": "light"
          }
        }
      ]
    },
    {
      "cell_type": "code",
      "metadata": {
        "colab": {
          "base_uri": "https://localhost:8080/"
        },
        "id": "cBtNTMB6tVnx",
        "outputId": "f833a86d-2633-4e5b-b8d5-9162799c90dd"
      },
      "source": [
        "model=Sequential()\n",
        "model.add(BatchNormalization(input_shape=(img_width, img_height, channels)))\n",
        "model.add(Conv2D(512, (3,3), padding='same', activation='relu'))\n",
        "model.add(MaxPooling2D(pool_size=(3, 3)))\n",
        "model.add(Dropout(0.3))\n",
        "model.add(BatchNormalization())\n",
        "model.add(Conv2D(1024, (3, 3), padding='same', activation='relu'))\n",
        "model.add(MaxPooling2D(pool_size=(3, 3)))\n",
        "model.add(Dropout(0.3))\n",
        "model.add(BatchNormalization())\n",
        "model.add(Flatten())\n",
        "model.add(Dense(1000, activation='relu'))\n",
        "model.add(Dense(500, activation='relu'))\n",
        "model.add(Dense(10, activation='softmax'))\n",
        "\n",
        "model.compile(loss='categorical_crossentropy', optimizer=Adam(lr=0.0001), metrics=['accuracy'])\n",
        "history=model.fit(x_train,y_train, batch_size=128, epochs=50, validation_data=(x_test, y_test), verbose=1)"
      ],
      "execution_count": null,
      "outputs": [
        {
          "output_type": "stream",
          "name": "stderr",
          "text": [
            "/usr/local/lib/python3.7/dist-packages/keras/optimizer_v2/optimizer_v2.py:356: UserWarning: The `lr` argument is deprecated, use `learning_rate` instead.\n",
            "  \"The `lr` argument is deprecated, use `learning_rate` instead.\")\n"
          ]
        },
        {
          "output_type": "stream",
          "name": "stdout",
          "text": [
            "Epoch 1/50\n",
            "391/391 [==============================] - 58s 145ms/step - loss: 1.4013 - accuracy: 0.5022 - val_loss: 7.8234 - val_accuracy: 0.1128\n",
            "Epoch 2/50\n",
            "391/391 [==============================] - 54s 137ms/step - loss: 1.0337 - accuracy: 0.6352 - val_loss: 1.2019 - val_accuracy: 0.6057\n",
            "Epoch 3/50\n",
            "391/391 [==============================] - 54s 137ms/step - loss: 0.8776 - accuracy: 0.6928 - val_loss: 0.8991 - val_accuracy: 0.6937\n",
            "Epoch 4/50\n",
            "391/391 [==============================] - 53s 137ms/step - loss: 0.7649 - accuracy: 0.7321 - val_loss: 0.8316 - val_accuracy: 0.7174\n",
            "Epoch 5/50\n",
            "391/391 [==============================] - 53s 136ms/step - loss: 0.6718 - accuracy: 0.7640 - val_loss: 0.7894 - val_accuracy: 0.7359\n",
            "Epoch 6/50\n",
            "391/391 [==============================] - 53s 137ms/step - loss: 0.5966 - accuracy: 0.7903 - val_loss: 0.8212 - val_accuracy: 0.7282\n",
            "Epoch 7/50\n",
            "391/391 [==============================] - 53s 136ms/step - loss: 0.5228 - accuracy: 0.8156 - val_loss: 0.7009 - val_accuracy: 0.7690\n",
            "Epoch 8/50\n",
            "391/391 [==============================] - 53s 136ms/step - loss: 0.4557 - accuracy: 0.8413 - val_loss: 0.7114 - val_accuracy: 0.7654\n",
            "Epoch 9/50\n",
            "391/391 [==============================] - 53s 136ms/step - loss: 0.3944 - accuracy: 0.8607 - val_loss: 0.6782 - val_accuracy: 0.7829\n",
            "Epoch 10/50\n",
            "391/391 [==============================] - 53s 136ms/step - loss: 0.3291 - accuracy: 0.8852 - val_loss: 0.6853 - val_accuracy: 0.7810\n",
            "Epoch 11/50\n",
            "391/391 [==============================] - 53s 136ms/step - loss: 0.2795 - accuracy: 0.9045 - val_loss: 0.6755 - val_accuracy: 0.7888\n",
            "Epoch 12/50\n",
            "391/391 [==============================] - 53s 135ms/step - loss: 0.2284 - accuracy: 0.9219 - val_loss: 0.6769 - val_accuracy: 0.7922\n",
            "Epoch 13/50\n",
            "391/391 [==============================] - 53s 136ms/step - loss: 0.1827 - accuracy: 0.9391 - val_loss: 0.6690 - val_accuracy: 0.8012\n",
            "Epoch 14/50\n",
            "391/391 [==============================] - 53s 135ms/step - loss: 0.1534 - accuracy: 0.9497 - val_loss: 0.6760 - val_accuracy: 0.8055\n",
            "Epoch 15/50\n",
            "391/391 [==============================] - 53s 135ms/step - loss: 0.1282 - accuracy: 0.9582 - val_loss: 0.6792 - val_accuracy: 0.8081\n",
            "Epoch 16/50\n",
            "391/391 [==============================] - 53s 135ms/step - loss: 0.1102 - accuracy: 0.9643 - val_loss: 0.7159 - val_accuracy: 0.8005\n",
            "Epoch 17/50\n",
            "391/391 [==============================] - 53s 135ms/step - loss: 0.0926 - accuracy: 0.9701 - val_loss: 0.7325 - val_accuracy: 0.8054\n",
            "Epoch 18/50\n",
            "391/391 [==============================] - 53s 135ms/step - loss: 0.0791 - accuracy: 0.9749 - val_loss: 0.7406 - val_accuracy: 0.8062\n",
            "Epoch 19/50\n",
            "391/391 [==============================] - 53s 135ms/step - loss: 0.0693 - accuracy: 0.9788 - val_loss: 0.7542 - val_accuracy: 0.8100\n",
            "Epoch 20/50\n",
            "391/391 [==============================] - 53s 135ms/step - loss: 0.0613 - accuracy: 0.9808 - val_loss: 0.7574 - val_accuracy: 0.8051\n",
            "Epoch 21/50\n",
            "391/391 [==============================] - 53s 135ms/step - loss: 0.0589 - accuracy: 0.9815 - val_loss: 0.7829 - val_accuracy: 0.8066\n",
            "Epoch 22/50\n",
            "391/391 [==============================] - 53s 135ms/step - loss: 0.0523 - accuracy: 0.9841 - val_loss: 0.7938 - val_accuracy: 0.8131\n",
            "Epoch 23/50\n",
            "391/391 [==============================] - 53s 135ms/step - loss: 0.0487 - accuracy: 0.9841 - val_loss: 0.7954 - val_accuracy: 0.8115\n",
            "Epoch 24/50\n",
            "391/391 [==============================] - 53s 135ms/step - loss: 0.0495 - accuracy: 0.9837 - val_loss: 0.8062 - val_accuracy: 0.8081\n",
            "Epoch 25/50\n",
            "391/391 [==============================] - 53s 135ms/step - loss: 0.0428 - accuracy: 0.9863 - val_loss: 0.8363 - val_accuracy: 0.8097\n",
            "Epoch 26/50\n",
            "391/391 [==============================] - 53s 135ms/step - loss: 0.0373 - accuracy: 0.9891 - val_loss: 0.8470 - val_accuracy: 0.8112\n",
            "Epoch 27/50\n",
            "391/391 [==============================] - 53s 135ms/step - loss: 0.0358 - accuracy: 0.9885 - val_loss: 0.8376 - val_accuracy: 0.8158\n",
            "Epoch 28/50\n",
            "391/391 [==============================] - 53s 135ms/step - loss: 0.0347 - accuracy: 0.9890 - val_loss: 0.8656 - val_accuracy: 0.8092\n",
            "Epoch 29/50\n",
            "391/391 [==============================] - 53s 135ms/step - loss: 0.0351 - accuracy: 0.9890 - val_loss: 0.8549 - val_accuracy: 0.8135\n",
            "Epoch 30/50\n",
            "391/391 [==============================] - 53s 135ms/step - loss: 0.0347 - accuracy: 0.9887 - val_loss: 0.8714 - val_accuracy: 0.8095\n",
            "Epoch 31/50\n",
            "391/391 [==============================] - 53s 135ms/step - loss: 0.0309 - accuracy: 0.9905 - val_loss: 0.8494 - val_accuracy: 0.8183\n",
            "Epoch 32/50\n",
            "391/391 [==============================] - 53s 135ms/step - loss: 0.0259 - accuracy: 0.9917 - val_loss: 0.8749 - val_accuracy: 0.8145\n",
            "Epoch 33/50\n",
            "391/391 [==============================] - 53s 135ms/step - loss: 0.0266 - accuracy: 0.9918 - val_loss: 0.8910 - val_accuracy: 0.8158\n",
            "Epoch 34/50\n",
            "391/391 [==============================] - 53s 135ms/step - loss: 0.0249 - accuracy: 0.9922 - val_loss: 0.8836 - val_accuracy: 0.8146\n",
            "Epoch 35/50\n",
            "391/391 [==============================] - 53s 135ms/step - loss: 0.0277 - accuracy: 0.9912 - val_loss: 0.9371 - val_accuracy: 0.8111\n",
            "Epoch 36/50\n",
            "391/391 [==============================] - 53s 135ms/step - loss: 0.0268 - accuracy: 0.9915 - val_loss: 0.9165 - val_accuracy: 0.8122\n",
            "Epoch 37/50\n",
            "391/391 [==============================] - 53s 135ms/step - loss: 0.0240 - accuracy: 0.9920 - val_loss: 0.9335 - val_accuracy: 0.8107\n",
            "Epoch 38/50\n",
            "391/391 [==============================] - 53s 135ms/step - loss: 0.0225 - accuracy: 0.9930 - val_loss: 0.9373 - val_accuracy: 0.8076\n",
            "Epoch 39/50\n",
            "391/391 [==============================] - 53s 135ms/step - loss: 0.0262 - accuracy: 0.9912 - val_loss: 0.9675 - val_accuracy: 0.8071\n",
            "Epoch 40/50\n",
            "391/391 [==============================] - 53s 135ms/step - loss: 0.0249 - accuracy: 0.9920 - val_loss: 0.9672 - val_accuracy: 0.8071\n",
            "Epoch 41/50\n",
            "391/391 [==============================] - 53s 135ms/step - loss: 0.0222 - accuracy: 0.9929 - val_loss: 0.9599 - val_accuracy: 0.8157\n",
            "Epoch 42/50\n",
            "391/391 [==============================] - 53s 135ms/step - loss: 0.0194 - accuracy: 0.9938 - val_loss: 0.9834 - val_accuracy: 0.8111\n",
            "Epoch 43/50\n",
            "391/391 [==============================] - 53s 135ms/step - loss: 0.0211 - accuracy: 0.9932 - val_loss: 0.9690 - val_accuracy: 0.8134\n",
            "Epoch 44/50\n",
            "391/391 [==============================] - 53s 135ms/step - loss: 0.0230 - accuracy: 0.9919 - val_loss: 0.9651 - val_accuracy: 0.8070\n",
            "Epoch 45/50\n",
            "391/391 [==============================] - 53s 135ms/step - loss: 0.0207 - accuracy: 0.9928 - val_loss: 0.9901 - val_accuracy: 0.8077\n",
            "Epoch 46/50\n",
            "391/391 [==============================] - 53s 135ms/step - loss: 0.0176 - accuracy: 0.9941 - val_loss: 0.9836 - val_accuracy: 0.8108\n",
            "Epoch 47/50\n",
            "391/391 [==============================] - 53s 135ms/step - loss: 0.0184 - accuracy: 0.9941 - val_loss: 1.0159 - val_accuracy: 0.8102\n",
            "Epoch 48/50\n",
            "391/391 [==============================] - 53s 135ms/step - loss: 0.0169 - accuracy: 0.9945 - val_loss: 1.0254 - val_accuracy: 0.8152\n",
            "Epoch 49/50\n",
            "391/391 [==============================] - 53s 135ms/step - loss: 0.0165 - accuracy: 0.9947 - val_loss: 1.0566 - val_accuracy: 0.8055\n",
            "Epoch 50/50\n",
            "391/391 [==============================] - 53s 135ms/step - loss: 0.0213 - accuracy: 0.9930 - val_loss: 0.9983 - val_accuracy: 0.8134\n"
          ]
        }
      ]
    },
    {
      "cell_type": "code",
      "metadata": {
        "colab": {
          "base_uri": "https://localhost:8080/",
          "height": 279
        },
        "id": "OAzCQ_-5vYJz",
        "outputId": "e2df3999-6575-4ead-d3b1-eb95b4f2d4b7"
      },
      "source": [
        "#Оображаем график точности обучения\n",
        "plt.plot(history.history['accuracy'], \n",
        "         label='Доля верных ответов на обучающем наборе')\n",
        "plt.plot(history.history['val_accuracy'], \n",
        "         label='Доля верных ответов на проверочном наборе')\n",
        "plt.xlabel('Эпоха обучения')\n",
        "plt.ylabel('Доля верных ответов')\n",
        "plt.legend()\n",
        "plt.show()"
      ],
      "execution_count": null,
      "outputs": [
        {
          "output_type": "display_data",
          "data": {
            "image/png": "[encoded data removed]",
            "text/plain": [
              "<Figure size 432x288 with 1 Axes>"
            ]
          },
          "metadata": {
            "needs_background": "light"
          }
        }
      ]
    },
    {
      "cell_type": "markdown",
      "metadata": {
        "id": "7NF0_EHXyebz"
      },
      "source": [
        "##Conv2d=1 and Dense=1"
      ]
    },
    {
      "cell_type": "code",
      "metadata": {
        "id": "M_YZhpJlySp8"
      },
      "source": [
        "#задаем количество Conv2d слоев до Flatten и количество Dense слоев после Flatten\n",
        "numberConv2dLayers=1\n",
        "numberDenseLayers=1"
      ],
      "execution_count": null,
      "outputs": []
    },
    {
      "cell_type": "code",
      "metadata": {
        "id": "TEG1V9ZFynP0"
      },
      "source": [
        "#Функция создания списка случайных параметров\n",
        "activation_list = ['linear','relu','LeakyReLU','elu','sigmoid'] \n",
        "layers_list = ['','MaxPooling2D', 'AveragePooling2D', 'BatchNormalization', 'Dropout']\n",
        "def createRandomNet():\n",
        "  net_total=[]\n",
        "  net_total.append(random.randint(0,1)) #Делаем или нет входную нормализацию\n",
        "  for i in range(numberConv2dLayers):\n",
        "    net=[]\n",
        "    net.append(random.randint(8,10)) #Conv2D слой от 256 до 1,024 нейронов\n",
        "    net.append(random.randint(2,10)) #Ядро Conv2D слоя от 2 до 10\n",
        "    net.append(random.randint(0,4))  # Функция активации Conv2D слоя\n",
        "    net.append(random.randint(0,4))  #какой первый слой после Conv2D\n",
        "    net.append(random.randint(2,4))  #Размер MaxPooling\n",
        "    net.append(random.randint(2,4))  #Размер AveragePooling\n",
        "    net.append(random.randint(5,60)) #Размер Dropout\n",
        "    net.append(random.randint(0,4))  #какой второй слой после Conv2D\n",
        "    net.append(random.randint(2,4))  #Размер MaxPooling\n",
        "    net.append(random.randint(2,4))  #Размер AveragePooling\n",
        "    net.append(random.randint(5,60)) #Размер Dropout\n",
        "    net.append(random.randint(0,4))  #какой третий слой после Conv2D\n",
        "    net.append(random.randint(2,4))  #Размер MaxPooling\n",
        "    net.append(random.randint(2,4))  #Размер AveragePooling\n",
        "    net.append(random.randint(5,60)) #Размер Dropout\n",
        "    net.append(random.randint(0,4))  #какой четвертый слой после Conv2D\n",
        "    net.append(random.randint(2,4))  #Размер MaxPooling\n",
        "    net.append(random.randint(2,4))  #Размер AveragePooling\n",
        "    net.append(random.randint(5,60)) #Размер Dropout\n",
        "    net_total+=net\n",
        "  for i in range(numberDenseLayers):\n",
        "    net=[]\n",
        "    net.append(random.randint(8,10)) # Размер полносвязного слоя от 256 до 1024 нейронов\n",
        "    net.append(random.randint(0,4))  # Функция активации dense слоя\n",
        "    net.append(random.randint(0,1))  #Делаем ли Dropout\n",
        "    net.append(random.randint(5,60)) #Размер Dropout\n",
        "    net.append(random.randint(0,1))  #Делаем ли BatchNormalization\n",
        "    net_total+=net\n",
        "  #net_total.append(random.randint(0,2)) # Функция активации последнего слоя\n",
        "  return net_total"
      ],
      "execution_count": null,
      "outputs": []
    },
    {
      "cell_type": "code",
      "metadata": {
        "id": "DgAdOhAh28XB"
      },
      "source": [
        "#Создаём сеть (net_total - список параметров)\n",
        "def createConvNet(net_total):\n",
        "  model = Sequential()                    # Создаем модель Sequential\n",
        "\n",
        "  makeFirstNormalization = net_total[0]         # Делаем ли нормализацию в начале\n",
        "  if makeFirstNormalization: # Если делаем нормализацию в начале\n",
        "      model.add(BatchNormalization(input_shape=(img_width, img_height, channels)))  # Добавляем слой BatchNormalization\n",
        " \n",
        "  for i in range(numberConv2dLayers):\n",
        "    ConvSize = 2 ** net_total[1+i*19]      # Размер вёрточного слоя\n",
        "    ConvKernel = net_total[2+i*19]         # Ядро свёрточного слоя\n",
        "    activationConv = net_total[3+i*19]     # Функция активации свёрточного слоя\n",
        "    firstafterConv =  net_total[4+i*19]    # Первый после свёрточного слоя\n",
        "    maxPoolingSize1 = net_total[5+i*19]    # Размер MaxPooling\n",
        "    avgPoolingSize1 = net_total[6+i*19]    # Размер AveragePooling\n",
        "    DropoutSize1 = net_total[7+i*19]/100   # Размер Dropout\n",
        "    secondafterConv =  net_total[8+i*19]   # Второй после свёрточного слоя\n",
        "    maxPoolingSize2 = net_total[9+i*19]    # Размер MaxPooling\n",
        "    avgPoolingSize2 = net_total[10+i*19]   # Размер AveragePooling\n",
        "    DropoutSize2 = net_total[11+i*19]/100  # Размер Dropout\n",
        "    thirdafterConv =  net_total[12+i*19]   # Третий после свёрточного слоя\n",
        "    maxPoolingSize3 = net_total[13+i*19]   # Размер MaxPooling\n",
        "    avgPoolingSize3 = net_total[14+i*19]   # Размер AveragePooling\n",
        "    DropoutSize3 = net_total[15+i*19]/100  # Размер Dropout\n",
        "    forthafterConv =  net_total[16+i*19]   # Четвертый после свёрточного слоя\n",
        "    maxPoolingSize4 = net_total[17+i*19]   # Размер MaxPooling\n",
        "    avgPoolingSize4 = net_total[18+i*19]   # Размер AveragePooling\n",
        "    DropoutSize4 = net_total[19+i*19]/100  # Размер Dropout\n",
        "\n",
        "    if makeFirstNormalization==0 and i==0: # Если не делаем нормализацию в начале\n",
        "      model.add(Conv2D(ConvSize, (ConvKernel, ConvKernel), input_shape=(img_width, img_height, channels), activation=activation_list[activationConv], padding='same')) \n",
        "    else:\n",
        "      model.add(Conv2D(ConvSize, (ConvKernel, ConvKernel), activation=activation_list[activationConv], padding='same')) \n",
        "\n",
        "    if firstafterConv==1:\n",
        "      model.add(MaxPooling2D(pool_size=(maxPoolingSize1,maxPoolingSize1), padding='same'))\n",
        "    elif firstafterConv==2:\n",
        "      model.add(AveragePooling2D(pool_size=(avgPoolingSize1,avgPoolingSize1), padding='same'))\n",
        "    elif firstafterConv==3:\n",
        "      model.add(BatchNormalization())\n",
        "    elif firstafterConv==4:\n",
        "      model.add(Dropout(DropoutSize1))\n",
        "\n",
        "    if secondafterConv==1:\n",
        "      model.add(MaxPooling2D(pool_size=(maxPoolingSize2,maxPoolingSize2), padding='same'))\n",
        "    elif secondafterConv==2:\n",
        "      model.add(AveragePooling2D(pool_size=(avgPoolingSize2,avgPoolingSize2), padding='same'))\n",
        "    elif secondafterConv==3:\n",
        "      model.add(BatchNormalization())\n",
        "    elif secondafterConv==4:\n",
        "      model.add(Dropout(DropoutSize2))\n",
        "\n",
        "    if thirdafterConv==1:\n",
        "      model.add(MaxPooling2D(pool_size=(maxPoolingSize3,maxPoolingSize3), padding='same'))\n",
        "    elif thirdafterConv==2:\n",
        "      model.add(AveragePooling2D(pool_size=(avgPoolingSize3,avgPoolingSize3), padding='same'))\n",
        "    elif thirdafterConv==3:\n",
        "      model.add(BatchNormalization())\n",
        "    elif thirdafterConv==4:\n",
        "      model.add(Dropout(DropoutSize3))\n",
        "\n",
        "    if forthafterConv==1:\n",
        "      model.add(MaxPooling2D(pool_size=(maxPoolingSize4,maxPoolingSize4), padding='same'))\n",
        "    elif forthafterConv==2:\n",
        "      model.add(AveragePooling2D(pool_size=(avgPoolingSize4,avgPoolingSize4), padding='same'))\n",
        "    elif forthafterConv==3:\n",
        "      model.add(BatchNormalization())\n",
        "    elif forthafterConv==4:\n",
        "      model.add(Dropout(DropoutSize4))\n",
        "\n",
        "  model.add(Flatten())\n",
        "  for i in range(numberDenseLayers):\n",
        "    denseSize = 2 ** net_total[(19+(numberConv2dLayers-1)*19+1)+i*5]           # Размер полносвязного слоя\n",
        "    activationDense = net_total[(19+(numberConv2dLayers-1)*19+2)+i*5]          # Функция активации полносвязного слоя\n",
        "    makeDropout = net_total[(19+(numberConv2dLayers-1)*19+3)+i*5]              # Делаем ли Dropout\n",
        "    DropoutSizeDense = net_total[(19+(numberConv2dLayers-1)*19+4)+i*5]/100     # Размер Dropout\n",
        "    makeBatchNormalization = net_total[(19+(numberConv2dLayers-1)*19+5)+i*5]   # Делаем ли BatchNormalization\n",
        "\n",
        "    model.add(Dense(denseSize, activation=activation_list[activationDense]))\n",
        "    if makeDropout:\n",
        "      model.add(Dropout(DropoutSizeDense))\n",
        "    elif makeBatchNormalization:\n",
        "      model.add(BatchNormalization())\n",
        " \n",
        "  model.add(Dense(10, activation='softmax'))\n",
        "  return model"
      ],
      "execution_count": null,
      "outputs": []
    },
    {
      "cell_type": "code",
      "metadata": {
        "id": "EEbWjqUp8JiF"
      },
      "source": [
        "#Функция вычисления результата работы сети\n",
        "n_train=1000\n",
        "n_test=200\n",
        "def evaluateNet(net_total, ep, batchsize, verb):\n",
        "  val=0\n",
        "  time.time()\n",
        "  model=createConvNet(net_total)\n",
        "  model.compile(loss='categorical_crossentropy', optimizer=Adam(learning_rate=0.0001), metrics=['accuracy'])\n",
        "  history=model.fit(x_train[:n_train],y_train[:n_train], batch_size=batchsize, epochs=ep, validation_data=(x_test[:n_test], y_test[:n_test]), verbose=verb)\n",
        "  val=history.history['val_accuracy'][-1] # Возвращаем точность на проверочной выборке с последней эпохи\n",
        "  return val, model"
      ],
      "execution_count": null,
      "outputs": []
    },
    {
      "cell_type": "code",
      "metadata": {
        "colab": {
          "base_uri": "https://localhost:8080/"
        },
        "id": "niiHq2xS-Q9a",
        "outputId": "f38ec9a6-ad2f-47e5-dbd9-fc99276e38e9"
      },
      "source": [
        "n=20 # bots population size\n",
        "nsurv=10\n",
        "nnew=n-nsurv #qty of children\n",
        "l=len(createRandomNet()) #bot size\n",
        "epochs=10\n",
        "mut=0.05\n",
        "popul=[]\n",
        "\n",
        "for i in range(n):\n",
        "  popul.append(createRandomNet())\n",
        "\n",
        "for it in range(epochs):\n",
        "  val=[]\n",
        "  curr_time=time.time()\n",
        "  for i in range(n):\n",
        "    bot=popul[i]\n",
        "    f, model_sum=evaluateNet(bot, 10, 10, 0)\n",
        "    val.append(f)\n",
        "\n",
        "  newpopul=[]\n",
        "  sval=sorted(val, reverse=1)\n",
        "  for i in range(nsurv):\n",
        "    index=val.index(sval[i])\n",
        "    newpopul.append(popul[index])\n",
        "  print(it, time.time()-curr_time, \" \", sval[:5], newpopul[:5])\n",
        "\n",
        "  for i in range(nnew):\n",
        "    indexp1=random.randint(0, nsurv-1)\n",
        "    indexp2=random.randint(0, nsurv-1)\n",
        "    botp1=newpopul[indexp1]\n",
        "    botp2=newpopul[indexp2]\n",
        "    newbot=[]\n",
        "    net4Mut=createRandomNet()\n",
        "    for j in range(l):\n",
        "      x=0\n",
        "      pindex=random.random()\n",
        "      if pindex<0.5:\n",
        "        x=botp1[j]\n",
        "      else:\n",
        "        x=botp2[j]\n",
        "\n",
        "      if random.random()<mut:\n",
        "        x=net4Mut[j]\n",
        "\n",
        "      newbot.append(x)\n",
        "    newpopul.append(newbot)\n",
        "  popul=newpopul"
      ],
      "execution_count": null,
      "outputs": [
        {
          "output_type": "stream",
          "name": "stdout",
          "text": [
            "0 743.773508310318   [0.4050000011920929, 0.375, 0.3700000047683716, 0.36500000953674316, 0.35499998927116394] [[0, 9, 3, 2, 1, 2, 4, 0.12384063839088255, 4, 3, 4, 0.9093526856260747, 3, 4, 4, 0.7567047982637797, 4, 3, 2, 0.34687107985753174, 10, 4, 1, 0.3778801172087979, 0], [0, 8, 5, 0, 2, 4, 2, 0.8066042969713144, 4, 4, 3, 0.007888076777701314, 4, 3, 4, 0.8530402442961095, 2, 3, 3, 0.7415382790254444, 10, 0, 1, 0.5076482519268612, 1], [0, 9, 7, 1, 2, 2, 4, 0.7039752632569952, 0, 3, 3, 0.18796646230558145, 0, 3, 4, 0.9204627005999159, 4, 2, 2, 0.562443119219912, 9, 0, 0, 0.6491260871440202, 1], [0, 8, 7, 0, 1, 2, 4, 0.9692184061462641, 4, 3, 2, 0.1916246313607204, 0, 4, 4, 0.0335229495466699, 1, 2, 3, 0.11559118885656305, 9, 0, 0, 0.784120997595975, 1], [1, 8, 8, 3, 4, 4, 3, 0.12644393469650472, 1, 3, 3, 0.21923068295915016, 4, 4, 2, 0.645030037948173, 4, 3, 3, 0.20259030015276702, 9, 1, 1, 0.7799343027093993, 1]]\n",
            "1 400.7883508205414   [0.4350000023841858, 0.42500001192092896, 0.4050000011920929, 0.38499999046325684, 0.3799999952316284] [[0, 10, 5, 4, 2, 3, 3, 0.37803225167022514, 3, 4, 4, 0.4191596942673438, 1, 4, 4, 0.8830694451711751, 0, 2, 2, 0.009294303432741291, 10, 1, 0, 0.6220937374713393, 0], [0, 8, 3, 1, 1, 4, 2, 0.11542178227910505, 3, 2, 4, 0.38031868455578854, 1, 2, 4, 0.33723347561235717, 1, 3, 2, 0.021049306253632327, 8, 2, 1, 0.1844513052029989, 0], [0, 8, 3, 3, 1, 4, 2, 0.11542178227910505, 3, 3, 4, 0.21923068295915016, 1, 2, 4, 0.33723347561235717, 4, 3, 2, 0.021049306253632327, 9, 1, 1, 0.1844513052029989, 1], [0, 9, 3, 2, 1, 2, 4, 0.12384063839088255, 4, 3, 4, 0.9093526856260747, 3, 4, 4, 0.7567047982637797, 4, 3, 2, 0.34687107985753174, 10, 4, 1, 0.3778801172087979, 0], [0, 8, 5, 0, 2, 4, 2, 0.8066042969713144, 4, 4, 3, 0.007888076777701314, 4, 3, 4, 0.8530402442961095, 2, 3, 3, 0.7415382790254444, 10, 0, 1, 0.5076482519268612, 1]]\n",
            "2 363.79845786094666   [0.47999998927116394, 0.45500001311302185, 0.41999998688697815, 0.41499999165534973, 0.41499999165534973] [[0, 8, 3, 3, 1, 4, 2, 0.11542178227910505, 3, 3, 4, 0.21923068295915016, 1, 2, 4, 0.33723347561235717, 4, 3, 2, 0.021049306253632327, 9, 1, 1, 0.1844513052029989, 1], [0, 8, 3, 1, 1, 4, 2, 0.11542178227910505, 3, 2, 4, 0.38031868455578854, 1, 2, 4, 0.33723347561235717, 1, 3, 2, 0.021049306253632327, 8, 2, 1, 0.1844513052029989, 0], [0, 8, 3, 3, 1, 4, 2, 0.11542178227910505, 3, 3, 2, 0.38031868455578854, 1, 2, 4, 0.33723347561235717, 1, 2, 2, 0.021049306253632327, 9, 1, 1, 0.05878292462625101, 1], [0, 10, 5, 4, 2, 3, 3, 0.37803225167022514, 3, 4, 4, 0.4191596942673438, 1, 4, 4, 0.8830694451711751, 0, 2, 2, 0.009294303432741291, 10, 1, 0, 0.6220937374713393, 0], [0, 10, 5, 4, 2, 3, 3, 0.37803225167022514, 3, 4, 4, 0.4191596942673438, 1, 4, 4, 0.8830694451711751, 0, 2, 2, 0.009294303432741291, 10, 1, 0, 0.6220937374713393, 0]]\n",
            "3 492.31106424331665   [0.4749999940395355, 0.4449999928474426, 0.4399999976158142, 0.4300000071525574, 0.41499999165534973] [[0, 8, 3, 3, 1, 4, 2, 0.11542178227910505, 3, 3, 4, 0.21923068295915016, 1, 2, 4, 0.8930913720595067, 4, 3, 2, 0.021049306253632327, 9, 1, 1, 0.1844513052029989, 1], [0, 8, 3, 3, 1, 4, 2, 0.11542178227910505, 3, 3, 4, 0.21923068295915016, 1, 2, 4, 0.33723347561235717, 4, 3, 2, 0.021049306253632327, 9, 1, 1, 0.1844513052029989, 1], [0, 10, 5, 4, 2, 3, 3, 0.37803225167022514, 3, 4, 4, 0.4191596942673438, 1, 4, 4, 0.8830694451711751, 0, 2, 2, 0.009294303432741291, 10, 1, 0, 0.6220937374713393, 0], [0, 9, 3, 2, 1, 2, 4, 0.12384063839088255, 4, 3, 4, 0.9093526856260747, 3, 4, 4, 0.7567047982637797, 4, 3, 2, 0.34687107985753174, 10, 4, 1, 0.3778801172087979, 0], [0, 9, 3, 0, 1, 2, 4, 0.12384063839088255, 4, 3, 4, 0.1916246313607204, 0, 4, 4, 0.0335229495466699, 4, 3, 2, 0.11559118885656305, 9, 4, 1, 0.6594616975003921, 0]]\n",
            "4 404.14733147621155   [0.5, 0.45500001311302185, 0.45500001311302185, 0.4350000023841858, 0.4099999964237213] [[0, 8, 3, 2, 1, 4, 2, 0.11542178227910505, 3, 3, 4, 0.21923068295915016, 1, 2, 4, 0.46013051714226905, 4, 3, 4, 0.021049306253632327, 9, 1, 1, 0.05878292462625101, 1], [0, 8, 5, 1, 1, 4, 3, 0.11542178227910505, 3, 4, 4, 0.4191596942673438, 1, 4, 4, 0.33723347561235717, 0, 2, 2, 0.009294303432741291, 10, 1, 0, 0.6220937374713393, 0], [0, 8, 5, 1, 1, 4, 3, 0.11542178227910505, 3, 4, 4, 0.4191596942673438, 1, 4, 4, 0.33723347561235717, 0, 2, 2, 0.009294303432741291, 10, 1, 0, 0.6220937374713393, 0], [0, 8, 3, 3, 1, 4, 2, 0.11542178227910505, 3, 3, 4, 0.21923068295915016, 1, 2, 4, 0.33723347561235717, 4, 3, 2, 0.021049306253632327, 9, 1, 1, 0.1844513052029989, 1], [0, 9, 3, 0, 1, 2, 4, 0.12384063839088255, 4, 3, 4, 0.1916246313607204, 0, 4, 4, 0.0335229495466699, 4, 3, 2, 0.11559118885656305, 9, 4, 1, 0.6594616975003921, 0]]\n",
            "5 385.1047911643982   [0.44999998807907104, 0.4399999976158142, 0.4399999976158142, 0.4350000023841858, 0.4350000023841858] [[0, 8, 3, 3, 1, 4, 2, 0.11542178227910505, 3, 3, 2, 0.38031868455578854, 1, 2, 4, 0.46013051714226905, 4, 2, 4, 0.021049306253632327, 9, 1, 1, 0.05878292462625101, 1], [0, 8, 3, 3, 1, 4, 2, 0.11542178227910505, 3, 3, 4, 0.21923068295915016, 1, 2, 4, 0.33723347561235717, 4, 3, 2, 0.021049306253632327, 9, 1, 1, 0.1844513052029989, 1], [0, 8, 3, 3, 1, 4, 2, 0.11542178227910505, 3, 3, 4, 0.21923068295915016, 1, 2, 4, 0.33723347561235717, 4, 3, 2, 0.021049306253632327, 9, 1, 1, 0.1844513052029989, 1], [0, 8, 3, 2, 1, 4, 2, 0.11542178227910505, 3, 3, 4, 0.21923068295915016, 1, 2, 4, 0.46013051714226905, 4, 3, 4, 0.021049306253632327, 9, 1, 1, 0.05878292462625101, 1], [0, 8, 3, 2, 1, 4, 2, 0.11542178227910505, 3, 3, 4, 0.21923068295915016, 1, 2, 4, 0.46013051714226905, 4, 3, 4, 0.021049306253632327, 9, 1, 1, 0.05878292462625101, 1]]\n",
            "6 198.2161989212036   [0.5049999952316284, 0.48500001430511475, 0.47999998927116394, 0.4650000035762787, 0.46000000834465027] [[0, 8, 3, 3, 1, 4, 2, 0.11542178227910505, 3, 3, 4, 0.21923068295915016, 1, 2, 4, 0.8930913720595067, 4, 3, 2, 0.021049306253632327, 9, 1, 1, 0.1844513052029989, 1], [0, 8, 3, 3, 1, 4, 2, 0.11542178227910505, 3, 3, 2, 0.38031868455578854, 1, 2, 4, 0.46013051714226905, 4, 2, 4, 0.021049306253632327, 9, 1, 1, 0.05878292462625101, 1], [0, 8, 3, 2, 1, 4, 2, 0.11542178227910505, 3, 3, 4, 0.21923068295915016, 1, 2, 4, 0.8930913720595067, 4, 3, 2, 0.021049306253632327, 9, 1, 1, 0.05878292462625101, 0], [0, 8, 3, 3, 1, 4, 2, 0.11542178227910505, 3, 3, 4, 0.38031868455578854, 1, 2, 4, 0.33723347561235717, 4, 3, 2, 0.11559118885656305, 9, 4, 1, 0.6594616975003921, 1], [0, 10, 3, 2, 1, 4, 2, 0.11542178227910505, 3, 3, 2, 0.21923068295915016, 1, 2, 3, 0.8930913720595067, 4, 3, 3, 0.021049306253632327, 9, 1, 1, 0.1844513052029989, 1]]\n",
            "7 184.14041185379028   [0.4950000047683716, 0.47999998927116394, 0.47999998927116394, 0.47999998927116394, 0.47999998927116394] [[0, 8, 3, 2, 1, 4, 2, 0.11542178227910505, 3, 3, 4, 0.21923068295915016, 1, 2, 4, 0.46013051714226905, 4, 3, 4, 0.021049306253632327, 9, 1, 1, 0.05878292462625101, 1], [0, 10, 3, 2, 1, 4, 2, 0.11542178227910505, 3, 3, 2, 0.21923068295915016, 1, 2, 3, 0.8930913720595067, 4, 3, 3, 0.021049306253632327, 9, 1, 1, 0.1844513052029989, 1], [0, 10, 3, 2, 1, 4, 2, 0.11542178227910505, 3, 3, 2, 0.21923068295915016, 1, 2, 3, 0.8930913720595067, 4, 3, 3, 0.021049306253632327, 9, 1, 1, 0.1844513052029989, 1], [0, 10, 3, 2, 1, 4, 2, 0.11542178227910505, 3, 3, 2, 0.21923068295915016, 1, 2, 3, 0.8930913720595067, 4, 3, 3, 0.021049306253632327, 9, 1, 1, 0.1844513052029989, 1], [0, 10, 3, 2, 1, 4, 2, 0.11542178227910505, 3, 3, 2, 0.21923068295915016, 1, 2, 3, 0.8930913720595067, 4, 3, 3, 0.021049306253632327, 9, 1, 1, 0.1844513052029989, 1]]\n",
            "8 217.74179649353027   [0.4950000047683716, 0.49000000953674316, 0.47999998927116394, 0.4749999940395355, 0.4699999988079071] [[0, 10, 3, 2, 1, 4, 2, 0.11542178227910505, 3, 3, 2, 0.21923068295915016, 1, 2, 3, 0.8930913720595067, 4, 3, 3, 0.021049306253632327, 9, 1, 1, 0.1844513052029989, 1], [0, 10, 3, 2, 1, 4, 2, 0.11542178227910505, 3, 3, 2, 0.21923068295915016, 1, 2, 3, 0.8930913720595067, 4, 3, 3, 0.021049306253632327, 9, 1, 1, 0.1844513052029989, 1], [0, 8, 3, 2, 1, 4, 2, 0.11542178227910505, 3, 3, 4, 0.21923068295915016, 1, 2, 4, 0.8930913720595067, 4, 3, 2, 0.021049306253632327, 9, 1, 1, 0.05878292462625101, 0], [0, 8, 3, 2, 1, 4, 2, 0.11542178227910505, 3, 3, 4, 0.21923068295915016, 1, 2, 4, 0.8930913720595067, 4, 3, 2, 0.021049306253632327, 9, 1, 1, 0.05878292462625101, 1], [0, 8, 3, 2, 1, 4, 2, 0.11542178227910505, 3, 3, 4, 0.21923068295915016, 1, 2, 4, 0.8930913720595067, 4, 3, 2, 0.021049306253632327, 9, 1, 1, 0.05878292462625101, 0]]\n",
            "9 287.60786056518555   [0.5049999952316284, 0.5, 0.4950000047683716, 0.48500001430511475, 0.4749999940395355] [[0, 8, 3, 2, 1, 4, 2, 0.11542178227910505, 3, 3, 4, 0.21923068295915016, 1, 2, 4, 0.8930913720595067, 4, 3, 2, 0.021049306253632327, 9, 1, 1, 0.05878292462625101, 0], [0, 10, 3, 2, 1, 4, 2, 0.11542178227910505, 3, 3, 2, 0.21923068295915016, 1, 2, 3, 0.8930913720595067, 4, 3, 3, 0.021049306253632327, 9, 1, 1, 0.1844513052029989, 1], [0, 10, 3, 2, 1, 4, 2, 0.11542178227910505, 3, 3, 2, 0.21923068295915016, 1, 2, 3, 0.8930913720595067, 4, 3, 3, 0.021049306253632327, 8, 1, 0, 0.1844513052029989, 1], [0, 10, 3, 2, 1, 4, 2, 0.11542178227910505, 3, 3, 2, 0.21923068295915016, 1, 2, 3, 0.8930913720595067, 4, 3, 3, 0.021049306253632327, 9, 1, 1, 0.1844513052029989, 1], [0, 10, 3, 2, 1, 4, 4, 0.11542178227910505, 3, 3, 2, 0.21923068295915016, 1, 2, 3, 0.8930913720595067, 4, 3, 3, 0.021049306253632327, 9, 1, 1, 0.1844513052029989, 1]]\n"
          ]
        }
      ]
    },
    {
      "cell_type": "code",
      "metadata": {
        "colab": {
          "base_uri": "https://localhost:8080/"
        },
        "id": "KzOiPMq9k0Eo",
        "outputId": "abf2664c-6f80-49ea-8b99-58125285765d"
      },
      "source": [
        "model_best=createConvNet(popul[0])\n",
        "model_best.summary()"
      ],
      "execution_count": null,
      "outputs": [
        {
          "output_type": "stream",
          "name": "stdout",
          "text": [
            "Model: \"sequential_201\"\n",
            "_________________________________________________________________\n",
            "Layer (type)                 Output Shape              Param #   \n",
            "=================================================================\n",
            "conv2d_206 (Conv2D)          (None, 32, 32, 256)       7168      \n",
            "_________________________________________________________________\n",
            "max_pooling2d_326 (MaxPoolin (None, 8, 8, 256)         0         \n",
            "_________________________________________________________________\n",
            "batch_normalization_205 (Bat (None, 8, 8, 256)         1024      \n",
            "_________________________________________________________________\n",
            "max_pooling2d_327 (MaxPoolin (None, 4, 4, 256)         0         \n",
            "_________________________________________________________________\n",
            "dropout_332 (Dropout)        (None, 4, 4, 256)         0         \n",
            "_________________________________________________________________\n",
            "flatten_201 (Flatten)        (None, 4096)              0         \n",
            "_________________________________________________________________\n",
            "dense_403 (Dense)            (None, 512)               2097664   \n",
            "_________________________________________________________________\n",
            "dropout_333 (Dropout)        (None, 512)               0         \n",
            "_________________________________________________________________\n",
            "dense_404 (Dense)            (None, 10)                5130      \n",
            "=================================================================\n",
            "Total params: 2,110,986\n",
            "Trainable params: 2,110,474\n",
            "Non-trainable params: 512\n",
            "_________________________________________________________________\n"
          ]
        }
      ]
    },
    {
      "cell_type": "code",
      "metadata": {
        "colab": {
          "base_uri": "https://localhost:8080/"
        },
        "id": "MDYDjUCXlL6f",
        "outputId": "44890850-e6f2-4ad7-e16e-08012e8cbfd8"
      },
      "source": [
        "model_best.compile(loss='categorical_crossentropy', optimizer=Adam(lr=0.0001), metrics=['accuracy'])\n",
        "history=model_best.fit(x_train,y_train, batch_size=128, epochs=50, validation_data=(x_test, y_test), verbose=1)"
      ],
      "execution_count": null,
      "outputs": [
        {
          "output_type": "stream",
          "name": "stderr",
          "text": [
            "/usr/local/lib/python3.7/dist-packages/keras/optimizer_v2/optimizer_v2.py:356: UserWarning: The `lr` argument is deprecated, use `learning_rate` instead.\n",
            "  \"The `lr` argument is deprecated, use `learning_rate` instead.\")\n"
          ]
        },
        {
          "output_type": "stream",
          "name": "stdout",
          "text": [
            "Epoch 1/50\n",
            "391/391 [==============================] - 14s 34ms/step - loss: 1.3729 - accuracy: 0.5192 - val_loss: 1.6690 - val_accuracy: 0.5613\n",
            "Epoch 2/50\n",
            "391/391 [==============================] - 13s 33ms/step - loss: 1.0507 - accuracy: 0.6353 - val_loss: 1.0147 - val_accuracy: 0.6531\n",
            "Epoch 3/50\n",
            "391/391 [==============================] - 13s 33ms/step - loss: 0.9250 - accuracy: 0.6832 - val_loss: 0.9567 - val_accuracy: 0.6686\n",
            "Epoch 4/50\n",
            "391/391 [==============================] - 13s 33ms/step - loss: 0.8441 - accuracy: 0.7096 - val_loss: 0.9260 - val_accuracy: 0.6791\n",
            "Epoch 5/50\n",
            "391/391 [==============================] - 13s 33ms/step - loss: 0.7765 - accuracy: 0.7340 - val_loss: 0.8612 - val_accuracy: 0.7039\n",
            "Epoch 6/50\n",
            "391/391 [==============================] - 13s 33ms/step - loss: 0.7227 - accuracy: 0.7534 - val_loss: 0.8553 - val_accuracy: 0.7029\n",
            "Epoch 7/50\n",
            "391/391 [==============================] - 13s 33ms/step - loss: 0.6759 - accuracy: 0.7697 - val_loss: 0.9799 - val_accuracy: 0.6696\n",
            "Epoch 8/50\n",
            "391/391 [==============================] - 13s 33ms/step - loss: 0.6323 - accuracy: 0.7847 - val_loss: 0.8390 - val_accuracy: 0.7119\n",
            "Epoch 9/50\n",
            "391/391 [==============================] - 13s 33ms/step - loss: 0.5951 - accuracy: 0.7984 - val_loss: 0.7926 - val_accuracy: 0.7258\n",
            "Epoch 10/50\n",
            "391/391 [==============================] - 13s 33ms/step - loss: 0.5598 - accuracy: 0.8107 - val_loss: 0.7988 - val_accuracy: 0.7277\n",
            "Epoch 11/50\n",
            "391/391 [==============================] - 13s 33ms/step - loss: 0.5256 - accuracy: 0.8243 - val_loss: 0.7868 - val_accuracy: 0.7326\n",
            "Epoch 12/50\n",
            "391/391 [==============================] - 13s 33ms/step - loss: 0.4971 - accuracy: 0.8333 - val_loss: 0.7850 - val_accuracy: 0.7314\n",
            "Epoch 13/50\n",
            "391/391 [==============================] - 13s 33ms/step - loss: 0.4670 - accuracy: 0.8446 - val_loss: 0.7781 - val_accuracy: 0.7377\n",
            "Epoch 14/50\n",
            "391/391 [==============================] - 13s 33ms/step - loss: 0.4380 - accuracy: 0.8552 - val_loss: 0.7792 - val_accuracy: 0.7349\n",
            "Epoch 15/50\n",
            "391/391 [==============================] - 13s 33ms/step - loss: 0.4093 - accuracy: 0.8637 - val_loss: 0.8012 - val_accuracy: 0.7323\n",
            "Epoch 16/50\n",
            "391/391 [==============================] - 13s 33ms/step - loss: 0.3872 - accuracy: 0.8725 - val_loss: 0.7591 - val_accuracy: 0.7478\n",
            "Epoch 17/50\n",
            "391/391 [==============================] - 13s 33ms/step - loss: 0.3595 - accuracy: 0.8816 - val_loss: 0.8027 - val_accuracy: 0.7357\n",
            "Epoch 18/50\n",
            "391/391 [==============================] - 13s 33ms/step - loss: 0.3409 - accuracy: 0.8895 - val_loss: 0.7684 - val_accuracy: 0.7443\n",
            "Epoch 19/50\n",
            "391/391 [==============================] - 13s 33ms/step - loss: 0.3175 - accuracy: 0.8985 - val_loss: 0.8064 - val_accuracy: 0.7442\n",
            "Epoch 20/50\n",
            "391/391 [==============================] - 13s 33ms/step - loss: 0.3011 - accuracy: 0.9038 - val_loss: 0.7877 - val_accuracy: 0.7453\n",
            "Epoch 21/50\n",
            "391/391 [==============================] - 13s 33ms/step - loss: 0.2798 - accuracy: 0.9126 - val_loss: 0.8667 - val_accuracy: 0.7293\n",
            "Epoch 22/50\n",
            "391/391 [==============================] - 13s 33ms/step - loss: 0.2654 - accuracy: 0.9168 - val_loss: 0.8138 - val_accuracy: 0.7439\n",
            "Epoch 23/50\n",
            "391/391 [==============================] - 13s 33ms/step - loss: 0.2434 - accuracy: 0.9264 - val_loss: 0.7910 - val_accuracy: 0.7471\n",
            "Epoch 24/50\n",
            "391/391 [==============================] - 13s 33ms/step - loss: 0.2322 - accuracy: 0.9286 - val_loss: 0.8335 - val_accuracy: 0.7390\n",
            "Epoch 25/50\n",
            "391/391 [==============================] - 13s 33ms/step - loss: 0.2161 - accuracy: 0.9340 - val_loss: 0.7980 - val_accuracy: 0.7492\n",
            "Epoch 26/50\n",
            "391/391 [==============================] - 13s 33ms/step - loss: 0.2025 - accuracy: 0.9395 - val_loss: 0.7934 - val_accuracy: 0.7556\n",
            "Epoch 27/50\n",
            "391/391 [==============================] - 13s 33ms/step - loss: 0.1894 - accuracy: 0.9442 - val_loss: 0.8606 - val_accuracy: 0.7446\n",
            "Epoch 28/50\n",
            "391/391 [==============================] - 13s 33ms/step - loss: 0.1783 - accuracy: 0.9482 - val_loss: 0.8260 - val_accuracy: 0.7519\n",
            "Epoch 29/50\n",
            "391/391 [==============================] - 13s 33ms/step - loss: 0.1654 - accuracy: 0.9529 - val_loss: 0.8570 - val_accuracy: 0.7506\n",
            "Epoch 30/50\n",
            "391/391 [==============================] - 13s 33ms/step - loss: 0.1578 - accuracy: 0.9549 - val_loss: 0.8402 - val_accuracy: 0.7523\n",
            "Epoch 31/50\n",
            "391/391 [==============================] - 13s 33ms/step - loss: 0.1477 - accuracy: 0.9584 - val_loss: 0.8604 - val_accuracy: 0.7552\n",
            "Epoch 32/50\n",
            "391/391 [==============================] - 13s 33ms/step - loss: 0.1388 - accuracy: 0.9617 - val_loss: 0.8548 - val_accuracy: 0.7497\n",
            "Epoch 33/50\n",
            "391/391 [==============================] - 13s 33ms/step - loss: 0.1280 - accuracy: 0.9656 - val_loss: 0.8526 - val_accuracy: 0.7559\n",
            "Epoch 34/50\n",
            "391/391 [==============================] - 13s 33ms/step - loss: 0.1217 - accuracy: 0.9675 - val_loss: 0.8771 - val_accuracy: 0.7563\n",
            "Epoch 35/50\n",
            "391/391 [==============================] - 13s 33ms/step - loss: 0.1151 - accuracy: 0.9691 - val_loss: 0.9062 - val_accuracy: 0.7492\n",
            "Epoch 36/50\n",
            "391/391 [==============================] - 13s 33ms/step - loss: 0.1091 - accuracy: 0.9708 - val_loss: 0.8831 - val_accuracy: 0.7552\n",
            "Epoch 37/50\n",
            "391/391 [==============================] - 13s 33ms/step - loss: 0.1027 - accuracy: 0.9732 - val_loss: 0.9253 - val_accuracy: 0.7578\n",
            "Epoch 38/50\n",
            "391/391 [==============================] - 13s 33ms/step - loss: 0.0968 - accuracy: 0.9747 - val_loss: 0.9186 - val_accuracy: 0.7549\n",
            "Epoch 39/50\n",
            "391/391 [==============================] - 13s 33ms/step - loss: 0.0918 - accuracy: 0.9755 - val_loss: 0.9291 - val_accuracy: 0.7539\n",
            "Epoch 40/50\n",
            "391/391 [==============================] - 13s 33ms/step - loss: 0.0880 - accuracy: 0.9771 - val_loss: 0.9382 - val_accuracy: 0.7588\n",
            "Epoch 41/50\n",
            "391/391 [==============================] - 13s 33ms/step - loss: 0.0823 - accuracy: 0.9793 - val_loss: 0.9289 - val_accuracy: 0.7580\n",
            "Epoch 42/50\n",
            "391/391 [==============================] - 13s 33ms/step - loss: 0.0763 - accuracy: 0.9807 - val_loss: 0.9426 - val_accuracy: 0.7557\n",
            "Epoch 43/50\n",
            "391/391 [==============================] - 13s 33ms/step - loss: 0.0744 - accuracy: 0.9820 - val_loss: 1.0024 - val_accuracy: 0.7444\n",
            "Epoch 44/50\n",
            "391/391 [==============================] - 13s 33ms/step - loss: 0.0697 - accuracy: 0.9830 - val_loss: 0.9681 - val_accuracy: 0.7574\n",
            "Epoch 45/50\n",
            "391/391 [==============================] - 13s 33ms/step - loss: 0.0677 - accuracy: 0.9824 - val_loss: 0.9834 - val_accuracy: 0.7578\n",
            "Epoch 46/50\n",
            "391/391 [==============================] - 13s 33ms/step - loss: 0.0618 - accuracy: 0.9848 - val_loss: 1.0695 - val_accuracy: 0.7394\n",
            "Epoch 47/50\n",
            "391/391 [==============================] - 13s 33ms/step - loss: 0.0617 - accuracy: 0.9848 - val_loss: 1.0605 - val_accuracy: 0.7430\n",
            "Epoch 48/50\n",
            "391/391 [==============================] - 13s 33ms/step - loss: 0.0598 - accuracy: 0.9854 - val_loss: 1.0272 - val_accuracy: 0.7605\n",
            "Epoch 49/50\n",
            "391/391 [==============================] - 13s 33ms/step - loss: 0.0589 - accuracy: 0.9851 - val_loss: 1.0370 - val_accuracy: 0.7500\n",
            "Epoch 50/50\n",
            "391/391 [==============================] - 13s 33ms/step - loss: 0.0550 - accuracy: 0.9871 - val_loss: 1.0294 - val_accuracy: 0.7593\n"
          ]
        }
      ]
    },
    {
      "cell_type": "code",
      "metadata": {
        "colab": {
          "base_uri": "https://localhost:8080/",
          "height": 279
        },
        "id": "MKjRUBo84JY2",
        "outputId": "f80d7c66-142e-4816-d390-982b7125285b"
      },
      "source": [
        "#Оображаем график точности обучения\n",
        "plt.plot(history.history['accuracy'], \n",
        "         label='Доля верных ответов на обучающем наборе')\n",
        "plt.plot(history.history['val_accuracy'], \n",
        "         label='Доля верных ответов на проверочном наборе')\n",
        "plt.xlabel('Эпоха обучения')\n",
        "plt.ylabel('Доля верных ответов')\n",
        "plt.legend()\n",
        "plt.show()"
      ],
      "execution_count": null,
      "outputs": [
        {
          "output_type": "display_data",
          "data": {
            "image/png": "[encoded data removed]",
            "text/plain": [
              "<Figure size 432x288 with 1 Axes>"
            ]
          },
          "metadata": {
            "needs_background": "light"
          }
        }
      ]
    },
    {
      "cell_type": "markdown",
      "metadata": {
        "id": "gyQ8fB3IlaX7"
      },
      "source": [
        "#Conv2d=2 and Dense=2"
      ]
    },
    {
      "cell_type": "code",
      "metadata": {
        "id": "T8kb5PGFN3AU"
      },
      "source": [
        "#задаем количество Conv2d слоев до Flatten и количество Dense слоев после Flatten\n",
        "numberConv2dLayers=2\n",
        "numberDenseLayers=2"
      ],
      "execution_count": null,
      "outputs": []
    },
    {
      "cell_type": "code",
      "metadata": {
        "colab": {
          "base_uri": "https://localhost:8080/"
        },
        "id": "tvEhaud_N91W",
        "outputId": "d3ff50cd-65d4-4a68-ec16-73b602363adf"
      },
      "source": [
        "n=20 # bots population size\n",
        "nsurv=5\n",
        "nnew=n-nsurv #qty of children\n",
        "l=len(createRandomNet()) #bot size\n",
        "epochs=5\n",
        "mut=0.05\n",
        "popul=[]\n",
        "\n",
        "for i in range(n):\n",
        "  popul.append(createRandomNet())\n",
        "\n",
        "for it in range(epochs):\n",
        "  val=[]\n",
        "  curr_time=time.time()\n",
        "  for i in range(n):\n",
        "    bot=popul[i]\n",
        "    f, model_sum=evaluateNet(bot, 10, 10, 0)\n",
        "    val.append(f)\n",
        "\n",
        "  newpopul=[]\n",
        "  sval=sorted(val, reverse=1)\n",
        "  for i in range(nsurv):\n",
        "    index=val.index(sval[i])\n",
        "    newpopul.append(popul[index])\n",
        "  print(it, time.time()-curr_time, \" \", sval[:5], newpopul[:5])\n",
        "\n",
        "  for i in range(nnew):\n",
        "    indexp1=random.randint(0, nsurv-1)\n",
        "    indexp2=random.randint(0, nsurv-1)\n",
        "    botp1=newpopul[indexp1]\n",
        "    botp2=newpopul[indexp2]\n",
        "    newbot=[]\n",
        "    net4Mut=createRandomNet()\n",
        "    for j in range(l):\n",
        "      x=0\n",
        "      pindex=random.random()\n",
        "      if pindex<0.5:\n",
        "        x=botp1[j]\n",
        "      else:\n",
        "        x=botp2[j]\n",
        "\n",
        "      if random.random()<mut:\n",
        "        x=net4Mut[j]\n",
        "\n",
        "      newbot.append(x)\n",
        "    newpopul.append(newbot)\n",
        "  popul=newpopul"
      ],
      "execution_count": null,
      "outputs": [
        {
          "output_type": "stream",
          "name": "stdout",
          "text": [
            "0 7171.097760677338   [0.4350000023841858, 0.4050000011920929, 0.4000000059604645, 0.4000000059604645, 0.3700000047683716] [[0, 8, 8, 2, 3, 3, 2, 47, 3, 4, 2, 52, 4, 4, 3, 32, 4, 4, 2, 5, 8, 9, 3, 3, 2, 4, 55, 1, 4, 2, 43, 1, 2, 4, 29, 4, 3, 2, 30, 10, 3, 0, 16, 1, 9, 2, 0, 37, 0], [1, 10, 5, 1, 0, 4, 4, 58, 1, 2, 4, 46, 1, 3, 3, 32, 4, 3, 2, 32, 8, 7, 1, 3, 3, 4, 19, 3, 4, 4, 15, 2, 4, 3, 32, 4, 3, 3, 31, 10, 4, 0, 6, 0, 9, 2, 1, 59, 0], [0, 10, 2, 3, 3, 4, 2, 7, 3, 2, 4, 59, 1, 4, 2, 56, 4, 4, 3, 9, 9, 4, 0, 3, 4, 2, 8, 1, 2, 2, 52, 3, 4, 3, 17, 4, 2, 2, 23, 10, 1, 0, 36, 1, 10, 4, 0, 9, 0], [0, 10, 2, 3, 3, 4, 2, 7, 3, 2, 4, 59, 1, 4, 2, 56, 4, 4, 3, 9, 9, 4, 0, 3, 4, 2, 8, 1, 2, 2, 52, 3, 4, 3, 17, 4, 2, 2, 23, 10, 1, 0, 36, 1, 10, 4, 0, 9, 0], [1, 9, 5, 1, 4, 3, 4, 7, 2, 4, 3, 53, 4, 4, 4, 42, 4, 4, 4, 25, 10, 4, 2, 1, 4, 4, 59, 3, 4, 3, 16, 0, 2, 2, 12, 2, 2, 4, 46, 8, 2, 1, 7, 1, 9, 1, 1, 36, 0]]\n",
            "1 3090.0623276233673   [0.48500001430511475, 0.4650000035762787, 0.46000000834465027, 0.46000000834465027, 0.4350000023841858] [[0, 8, 2, 2, 3, 4, 2, 47, 3, 4, 2, 52, 1, 4, 3, 56, 4, 4, 3, 9, 9, 2, 3, 3, 2, 2, 55, 1, 4, 2, 52, 3, 4, 4, 29, 4, 3, 2, 30, 10, 3, 0, 36, 1, 10, 4, 0, 9, 1], [0, 8, 8, 2, 3, 3, 2, 47, 3, 4, 2, 52, 4, 4, 3, 32, 4, 4, 2, 5, 8, 9, 3, 3, 2, 4, 55, 1, 4, 2, 43, 1, 2, 4, 29, 4, 3, 2, 30, 10, 3, 0, 16, 1, 9, 2, 0, 37, 0], [1, 10, 5, 1, 0, 4, 4, 58, 1, 2, 4, 46, 1, 3, 3, 32, 4, 3, 2, 32, 8, 7, 1, 3, 3, 4, 19, 3, 4, 4, 15, 2, 4, 3, 32, 4, 3, 3, 31, 10, 4, 0, 6, 0, 9, 2, 1, 59, 0], [1, 10, 5, 1, 0, 4, 4, 58, 1, 2, 4, 46, 1, 3, 3, 32, 4, 3, 2, 32, 8, 7, 1, 3, 3, 4, 19, 3, 4, 4, 15, 2, 4, 3, 32, 4, 3, 3, 31, 10, 4, 0, 6, 0, 9, 2, 1, 59, 0], [0, 10, 2, 3, 3, 4, 2, 7, 3, 2, 4, 59, 1, 3, 2, 56, 3, 4, 3, 9, 9, 4, 2, 3, 4, 2, 8, 1, 2, 2, 52, 3, 4, 4, 17, 4, 2, 2, 23, 10, 1, 0, 36, 1, 10, 4, 0, 9, 0]]\n",
            "2 2003.3604769706726   [0.45500001311302185, 0.45500001311302185, 0.4350000023841858, 0.4350000023841858, 0.42500001192092896] [[0, 8, 2, 2, 3, 3, 2, 47, 3, 4, 2, 52, 4, 4, 3, 32, 4, 2, 3, 9, 8, 9, 3, 3, 2, 2, 55, 1, 4, 2, 52, 1, 4, 4, 29, 4, 3, 2, 30, 10, 0, 0, 16, 1, 9, 2, 0, 9, 0], [0, 8, 2, 2, 3, 3, 2, 47, 3, 4, 2, 52, 4, 4, 3, 32, 4, 2, 3, 9, 8, 9, 3, 3, 2, 2, 55, 1, 4, 2, 52, 1, 4, 4, 29, 4, 3, 2, 30, 10, 0, 0, 16, 1, 9, 2, 0, 9, 0], [1, 10, 5, 1, 0, 4, 4, 58, 1, 2, 4, 46, 1, 3, 3, 32, 4, 3, 2, 32, 8, 7, 1, 3, 3, 4, 19, 3, 4, 4, 15, 2, 4, 3, 32, 4, 3, 3, 31, 10, 4, 0, 6, 0, 9, 2, 1, 59, 0], [1, 10, 5, 1, 0, 4, 4, 58, 1, 2, 4, 46, 1, 3, 3, 32, 4, 3, 2, 32, 8, 7, 1, 3, 3, 4, 19, 3, 4, 4, 15, 2, 4, 3, 32, 4, 3, 3, 31, 10, 4, 0, 6, 0, 9, 2, 1, 59, 0], [0, 8, 2, 2, 3, 4, 2, 47, 3, 4, 2, 52, 1, 4, 3, 56, 4, 4, 3, 9, 9, 2, 3, 3, 2, 2, 55, 1, 4, 2, 52, 3, 4, 4, 29, 4, 3, 2, 30, 10, 3, 0, 36, 1, 10, 4, 0, 9, 1]]\n"
          ]
        }
      ]
    },
    {
      "cell_type": "code",
      "metadata": {
        "id": "VCxdqqs0NqxF",
        "colab": {
          "base_uri": "https://localhost:8080/",
          "height": 185
        },
        "outputId": "d91a44e4-1dbb-4545-96e0-b9f1e68d2f56"
      },
      "source": [
        "model_best2=createConvNet(popul[0])\n",
        "model_best2.summary()"
      ],
      "execution_count": null,
      "outputs": [
        {
          "output_type": "error",
          "ename": "NameError",
          "evalue": "ignored",
          "traceback": [
            "\u001b[0;31m---------------------------------------------------------------------------\u001b[0m",
            "\u001b[0;31mNameError\u001b[0m                                 Traceback (most recent call last)",
            "\u001b[0;32m<ipython-input-1-19c6fee04e83>\u001b[0m in \u001b[0;36m<module>\u001b[0;34m()\u001b[0m\n\u001b[0;32m----> 1\u001b[0;31m \u001b[0mmodel_best2\u001b[0m\u001b[0;34m=\u001b[0m\u001b[0mcreateConvNet\u001b[0m\u001b[0;34m(\u001b[0m\u001b[0mpopul\u001b[0m\u001b[0;34m[\u001b[0m\u001b[0;36m0\u001b[0m\u001b[0;34m]\u001b[0m\u001b[0;34m)\u001b[0m\u001b[0;34m\u001b[0m\u001b[0;34m\u001b[0m\u001b[0m\n\u001b[0m\u001b[1;32m      2\u001b[0m \u001b[0mmodel_best2\u001b[0m\u001b[0;34m.\u001b[0m\u001b[0msummary\u001b[0m\u001b[0;34m(\u001b[0m\u001b[0;34m)\u001b[0m\u001b[0;34m\u001b[0m\u001b[0;34m\u001b[0m\u001b[0m\n",
            "\u001b[0;31mNameError\u001b[0m: name 'createConvNet' is not defined"
          ]
        }
      ]
    },
    {
      "cell_type": "code",
      "metadata": {
        "id": "8dZdjtstQuhI"
      },
      "source": [
        "#model_best2.compile(loss='categorical_crossentropy', optimizer=Adam(lr=0.0001), metrics=['accuracy'])\n",
        "#history=model_best2.fit(x_train,y_train, batch_size=128, epochs=50, validation_data=(x_test, y_test), verbose=1)"
      ],
      "execution_count": null,
      "outputs": []
    },
    {
      "cell_type": "code",
      "metadata": {
        "id": "Xfj7A2C_Q0Nb",
        "colab": {
          "base_uri": "https://localhost:8080/",
          "height": 238
        },
        "outputId": "88b84c54-66ee-4537-e829-1d9dbaaf385d"
      },
      "source": [
        "#Оображаем график точности обучения\n",
        "plt.plot(history.history['accuracy'], \n",
        "         label='Доля верных ответов на обучающем наборе')\n",
        "plt.plot(history.history['val_accuracy'], \n",
        "         label='Доля верных ответов на проверочном наборе')\n",
        "plt.xlabel('Эпоха обучения')\n",
        "plt.ylabel('Доля верных ответов')\n",
        "plt.legend()\n",
        "plt.show()"
      ],
      "execution_count": null,
      "outputs": [
        {
          "output_type": "error",
          "ename": "NameError",
          "evalue": "ignored",
          "traceback": [
            "\u001b[0;31m---------------------------------------------------------------------------\u001b[0m",
            "\u001b[0;31mNameError\u001b[0m                                 Traceback (most recent call last)",
            "\u001b[0;32m<ipython-input-2-c690f5226153>\u001b[0m in \u001b[0;36m<module>\u001b[0;34m()\u001b[0m\n\u001b[1;32m      1\u001b[0m \u001b[0;31m#Оображаем график точности обучения\u001b[0m\u001b[0;34m\u001b[0m\u001b[0;34m\u001b[0m\u001b[0;34m\u001b[0m\u001b[0m\n\u001b[0;32m----> 2\u001b[0;31m plt.plot(history.history['accuracy'], \n\u001b[0m\u001b[1;32m      3\u001b[0m          label='Доля верных ответов на обучающем наборе')\n\u001b[1;32m      4\u001b[0m plt.plot(history.history['val_accuracy'], \n\u001b[1;32m      5\u001b[0m          label='Доля верных ответов на проверочном наборе')\n",
            "\u001b[0;31mNameError\u001b[0m: name 'plt' is not defined"
          ]
        }
      ]
    },
    {
      "cell_type": "code",
      "metadata": {
        "id": "J31wkTgRMoQK"
      },
      "source": [
        ""
      ],
      "execution_count": null,
      "outputs": []
    }
  ]
}
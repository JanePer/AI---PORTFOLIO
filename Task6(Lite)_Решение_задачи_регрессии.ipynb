{
  "nbformat": 4,
  "nbformat_minor": 0,
  "metadata": {
    "colab": {
      "name": "Task6(Lite) Решение задачи регрессии.ipynb",
      "provenance": [],
      "collapsed_sections": [],
      "authorship_tag": "ABX9TyPp5PlhMyGPUEBUR7Wp6bcY",
      "include_colab_link": true
    },
    "kernelspec": {
      "name": "python3",
      "display_name": "Python 3"
    },
    "language_info": {
      "name": "python"
    },
    "accelerator": "GPU"
  },
  "cells": [
    {
      "cell_type": "markdown",
      "metadata": {
        "id": "view-in-github",
        "colab_type": "text"
      },
      "source": [
        "<a href=\"https://colab.research.google.com/github/JanePer/AI---PORTFOLIO/blob/main/Task6(Lite)_%D0%A0%D0%B5%D1%88%D0%B5%D0%BD%D0%B8%D0%B5_%D0%B7%D0%B0%D0%B4%D0%B0%D1%87%D0%B8_%D1%80%D0%B5%D0%B3%D1%80%D0%B5%D1%81%D1%81%D0%B8%D0%B8.ipynb\" target=\"_parent\"><img src=\"https://colab.research.google.com/assets/colab-badge.svg\" alt=\"Open In Colab\"/></a>"
      ]
    },
    {
      "cell_type": "markdown",
      "metadata": {
        "id": "stWyCcr_66xP"
      },
      "source": [
        "#Оценка стоимости квартир"
      ]
    },
    {
      "cell_type": "markdown",
      "metadata": {
        "id": "k_fcJOMe7CEA"
      },
      "source": [
        "**1. Импорт библиотек**"
      ]
    },
    {
      "cell_type": "code",
      "metadata": {
        "colab": {
          "base_uri": "https://localhost:8080/"
        },
        "id": "bbFcCzWc6fIm",
        "outputId": "8ad64f1b-45e4-4f8d-939f-0eff7c4877e8"
      },
      "source": [
        "import numpy as np\n",
        "import pandas as pd\n",
        "import matplotlib.pyplot as plt\n",
        "import random\n",
        "import re\n",
        "import math\n",
        "from google.colab import drive\n",
        "from IPython.display import clear_output\n",
        "%matplotlib inline\n",
        "\n",
        "from tensorflow.keras.models import Sequential, Model\n",
        "from tensorflow.keras.layers import Dense, Dropout, BatchNormalization, Flatten, Input, concatenate\n",
        "from tensorflow.keras import utils\n",
        "from tensorflow.keras.utils import plot_model\n",
        "from tensorflow.keras.optimizers import Adam\n",
        "from tensorflow.keras.preprocessing.text import Tokenizer, text_to_word_sequence\n",
        "from tensorflow.keras.preprocessing.sequence import pad_sequences\n",
        "from tensorflow.keras.callbacks import LambdaCallback\n",
        "\n",
        "from sklearn.preprocessing import StandardScaler\n",
        "from sklearn.model_selection import train_test_split\n",
        "from sklearn.metrics import mean_squared_error, mean_absolute_error\n",
        "\n",
        "drive.mount('/content/drive')"
      ],
      "execution_count": null,
      "outputs": [
        {
          "output_type": "stream",
          "text": [
            "Drive already mounted at /content/drive; to attempt to forcibly remount, call drive.mount(\"/content/drive\", force_remount=True).\n"
          ],
          "name": "stdout"
        }
      ]
    },
    {
      "cell_type": "markdown",
      "metadata": {
        "id": "GosCJH2v_c4o"
      },
      "source": [
        "**2. Загрузка базы данных квартир**"
      ]
    },
    {
      "cell_type": "code",
      "metadata": {
        "colab": {
          "base_uri": "https://localhost:8080/",
          "height": 375
        },
        "id": "8OEdWuSR_gaR",
        "outputId": "67cec2ab-dda8-45c9-bc9b-38b16bc28a60"
      },
      "source": [
        "df=pd.read_csv('/content/drive/MyDrive/Colab Notebooks/moscow.csv', sep=\";\")\n",
        "df = df.iloc[::2,:]\n",
        "df.head()"
      ],
      "execution_count": null,
      "outputs": [
        {
          "output_type": "execute_result",
          "data": {
            "text/html": [
              "<div>\n",
              "<style scoped>\n",
              "    .dataframe tbody tr th:only-of-type {\n",
              "        vertical-align: middle;\n",
              "    }\n",
              "\n",
              "    .dataframe tbody tr th {\n",
              "        vertical-align: top;\n",
              "    }\n",
              "\n",
              "    .dataframe thead th {\n",
              "        text-align: right;\n",
              "    }\n",
              "</style>\n",
              "<table border=\"1\" class=\"dataframe\">\n",
              "  <thead>\n",
              "    <tr style=\"text-align: right;\">\n",
              "      <th></th>\n",
              "      <th>Комнат</th>\n",
              "      <th>Метро / ЖД станции</th>\n",
              "      <th>От станции</th>\n",
              "      <th>Дом</th>\n",
              "      <th>Балкон</th>\n",
              "      <th>Санузел</th>\n",
              "      <th>Площадь</th>\n",
              "      <th>Цена, руб.</th>\n",
              "      <th>ГРМ</th>\n",
              "      <th>Бонус агенту</th>\n",
              "      <th>Дата</th>\n",
              "      <th>Кол-во дней в экспозиции</th>\n",
              "      <th>Источник</th>\n",
              "      <th>Примечание</th>\n",
              "    </tr>\n",
              "  </thead>\n",
              "  <tbody>\n",
              "    <tr>\n",
              "      <th>0</th>\n",
              "      <td>1</td>\n",
              "      <td>Шелепиха м.</td>\n",
              "      <td>12п</td>\n",
              "      <td>35/37 М</td>\n",
              "      <td>NaN</td>\n",
              "      <td>2</td>\n",
              "      <td>64.1/23/20</td>\n",
              "      <td>19500000.0</td>\n",
              "      <td>NaN</td>\n",
              "      <td>NaN</td>\n",
              "      <td>25.07.2019</td>\n",
              "      <td>1.0</td>\n",
              "      <td>Привлекательные</td>\n",
              "      <td>Собственность оформлена! Ключи на руках! Опера...</td>\n",
              "    </tr>\n",
              "    <tr>\n",
              "      <th>2</th>\n",
              "      <td>1</td>\n",
              "      <td>Пятницкое шоссе м.</td>\n",
              "      <td>30т</td>\n",
              "      <td>11/14 П</td>\n",
              "      <td>Л</td>\n",
              "      <td>Р</td>\n",
              "      <td>38.4/17/9</td>\n",
              "      <td>4800000.0</td>\n",
              "      <td>NaN</td>\n",
              "      <td>NaN</td>\n",
              "      <td>25.07.2019</td>\n",
              "      <td>2.0</td>\n",
              "      <td>Привлекательные</td>\n",
              "      <td>Зеленоград к.1820 однокомнатная квартира общ.3...</td>\n",
              "    </tr>\n",
              "    <tr>\n",
              "      <th>4</th>\n",
              "      <td>1</td>\n",
              "      <td>Планерная м.</td>\n",
              "      <td>5т</td>\n",
              "      <td>11/22 П</td>\n",
              "      <td>Б</td>\n",
              "      <td>С</td>\n",
              "      <td>38.2/19.9/9.9</td>\n",
              "      <td>7990000.0</td>\n",
              "      <td>NaN</td>\n",
              "      <td>NaN</td>\n",
              "      <td>25.07.2019</td>\n",
              "      <td>4.0</td>\n",
              "      <td>Привлекательные</td>\n",
              "      <td>Уютная, светлая квартира, застекленный балкон ...</td>\n",
              "    </tr>\n",
              "    <tr>\n",
              "      <th>6</th>\n",
              "      <td>1</td>\n",
              "      <td>Шаболовская м.</td>\n",
              "      <td>12п</td>\n",
              "      <td>8/12 ?</td>\n",
              "      <td>Б</td>\n",
              "      <td>Р</td>\n",
              "      <td>38/15/7</td>\n",
              "      <td>11200000.0</td>\n",
              "      <td>NaN</td>\n",
              "      <td>NaN</td>\n",
              "      <td>25.07.2019</td>\n",
              "      <td>7.0</td>\n",
              "      <td>Привлекательные</td>\n",
              "      <td>Предлагаю 1- комн квартиру, в шаговой доступно...</td>\n",
              "    </tr>\n",
              "    <tr>\n",
              "      <th>8</th>\n",
              "      <td>1</td>\n",
              "      <td>Бабушкинская м.</td>\n",
              "      <td>15п</td>\n",
              "      <td>4/14 П</td>\n",
              "      <td>NaN</td>\n",
              "      <td>С</td>\n",
              "      <td>34/17/8</td>\n",
              "      <td>6250000.0</td>\n",
              "      <td>NaN</td>\n",
              "      <td>NaN</td>\n",
              "      <td>25.07.2019</td>\n",
              "      <td>11.0</td>\n",
              "      <td>Привлекательные</td>\n",
              "      <td>Продается хорошая 1 комнатная квартира. 1 взро...</td>\n",
              "    </tr>\n",
              "  </tbody>\n",
              "</table>\n",
              "</div>"
            ],
            "text/plain": [
              "  Комнат  ...                                         Примечание\n",
              "0      1  ...  Собственность оформлена! Ключи на руках! Опера...\n",
              "2      1  ...  Зеленоград к.1820 однокомнатная квартира общ.3...\n",
              "4      1  ...  Уютная, светлая квартира, застекленный балкон ...\n",
              "6      1  ...  Предлагаю 1- комн квартиру, в шаговой доступно...\n",
              "8      1  ...  Продается хорошая 1 комнатная квартира. 1 взро...\n",
              "\n",
              "[5 rows x 14 columns]"
            ]
          },
          "metadata": {
            "tags": []
          },
          "execution_count": 2
        }
      ]
    },
    {
      "cell_type": "code",
      "metadata": {
        "colab": {
          "base_uri": "https://localhost:8080/"
        },
        "id": "ah93ZIntBVOT",
        "outputId": "f823c856-8311-4012-f1ac-8605a4eb5685"
      },
      "source": [
        "df.columns"
      ],
      "execution_count": null,
      "outputs": [
        {
          "output_type": "execute_result",
          "data": {
            "text/plain": [
              "Index(['Комнат', 'Метро / ЖД станции', 'От станции', 'Дом', 'Балкон',\n",
              "       'Санузел', 'Площадь', 'Цена, руб.', 'ГРМ', 'Бонус агенту', 'Дата',\n",
              "       'Кол-во дней в экспозиции', 'Источник', 'Примечание'],\n",
              "      dtype='object')"
            ]
          },
          "metadata": {
            "tags": []
          },
          "execution_count": 3
        }
      ]
    },
    {
      "cell_type": "markdown",
      "metadata": {
        "id": "5-jEflEgYbBE"
      },
      "source": [
        "**3. Очистка и парсинг данных**"
      ]
    },
    {
      "cell_type": "code",
      "metadata": {
        "colab": {
          "base_uri": "https://localhost:8080/",
          "height": 204
        },
        "id": "zCM23E0ACHmc",
        "outputId": "69d1c097-67a9-480e-96b3-cf2503c0cf11"
      },
      "source": [
        "apartments=df[['Комнат', 'Метро / ЖД станции', 'От станции', 'Дом', 'Балкон',\n",
        "       'Санузел', 'Площадь', 'Цена, руб.', 'Примечание']].copy()\n",
        "apartments.reset_index(inplace=True, drop=True)\n",
        "apartments.head()"
      ],
      "execution_count": null,
      "outputs": [
        {
          "output_type": "execute_result",
          "data": {
            "text/html": [
              "<div>\n",
              "<style scoped>\n",
              "    .dataframe tbody tr th:only-of-type {\n",
              "        vertical-align: middle;\n",
              "    }\n",
              "\n",
              "    .dataframe tbody tr th {\n",
              "        vertical-align: top;\n",
              "    }\n",
              "\n",
              "    .dataframe thead th {\n",
              "        text-align: right;\n",
              "    }\n",
              "</style>\n",
              "<table border=\"1\" class=\"dataframe\">\n",
              "  <thead>\n",
              "    <tr style=\"text-align: right;\">\n",
              "      <th></th>\n",
              "      <th>Комнат</th>\n",
              "      <th>Метро / ЖД станции</th>\n",
              "      <th>От станции</th>\n",
              "      <th>Дом</th>\n",
              "      <th>Балкон</th>\n",
              "      <th>Санузел</th>\n",
              "      <th>Площадь</th>\n",
              "      <th>Цена, руб.</th>\n",
              "      <th>Примечание</th>\n",
              "    </tr>\n",
              "  </thead>\n",
              "  <tbody>\n",
              "    <tr>\n",
              "      <th>0</th>\n",
              "      <td>1</td>\n",
              "      <td>Шелепиха м.</td>\n",
              "      <td>12п</td>\n",
              "      <td>35/37 М</td>\n",
              "      <td>NaN</td>\n",
              "      <td>2</td>\n",
              "      <td>64.1/23/20</td>\n",
              "      <td>19500000.0</td>\n",
              "      <td>Собственность оформлена! Ключи на руках! Опера...</td>\n",
              "    </tr>\n",
              "    <tr>\n",
              "      <th>1</th>\n",
              "      <td>1</td>\n",
              "      <td>Пятницкое шоссе м.</td>\n",
              "      <td>30т</td>\n",
              "      <td>11/14 П</td>\n",
              "      <td>Л</td>\n",
              "      <td>Р</td>\n",
              "      <td>38.4/17/9</td>\n",
              "      <td>4800000.0</td>\n",
              "      <td>Зеленоград к.1820 однокомнатная квартира общ.3...</td>\n",
              "    </tr>\n",
              "    <tr>\n",
              "      <th>2</th>\n",
              "      <td>1</td>\n",
              "      <td>Планерная м.</td>\n",
              "      <td>5т</td>\n",
              "      <td>11/22 П</td>\n",
              "      <td>Б</td>\n",
              "      <td>С</td>\n",
              "      <td>38.2/19.9/9.9</td>\n",
              "      <td>7990000.0</td>\n",
              "      <td>Уютная, светлая квартира, застекленный балкон ...</td>\n",
              "    </tr>\n",
              "    <tr>\n",
              "      <th>3</th>\n",
              "      <td>1</td>\n",
              "      <td>Шаболовская м.</td>\n",
              "      <td>12п</td>\n",
              "      <td>8/12 ?</td>\n",
              "      <td>Б</td>\n",
              "      <td>Р</td>\n",
              "      <td>38/15/7</td>\n",
              "      <td>11200000.0</td>\n",
              "      <td>Предлагаю 1- комн квартиру, в шаговой доступно...</td>\n",
              "    </tr>\n",
              "    <tr>\n",
              "      <th>4</th>\n",
              "      <td>1</td>\n",
              "      <td>Бабушкинская м.</td>\n",
              "      <td>15п</td>\n",
              "      <td>4/14 П</td>\n",
              "      <td>NaN</td>\n",
              "      <td>С</td>\n",
              "      <td>34/17/8</td>\n",
              "      <td>6250000.0</td>\n",
              "      <td>Продается хорошая 1 комнатная квартира. 1 взро...</td>\n",
              "    </tr>\n",
              "  </tbody>\n",
              "</table>\n",
              "</div>"
            ],
            "text/plain": [
              "  Комнат  ...                                         Примечание\n",
              "0      1  ...  Собственность оформлена! Ключи на руках! Опера...\n",
              "1      1  ...  Зеленоград к.1820 однокомнатная квартира общ.3...\n",
              "2      1  ...  Уютная, светлая квартира, застекленный балкон ...\n",
              "3      1  ...  Предлагаю 1- комн квартиру, в шаговой доступно...\n",
              "4      1  ...  Продается хорошая 1 комнатная квартира. 1 взро...\n",
              "\n",
              "[5 rows x 9 columns]"
            ]
          },
          "metadata": {
            "tags": []
          },
          "execution_count": 4
        }
      ]
    },
    {
      "cell_type": "code",
      "metadata": {
        "colab": {
          "base_uri": "https://localhost:8080/"
        },
        "id": "PEke2uxkE40G",
        "outputId": "8570fc84-b372-41df-b0a3-f21bd8f6d63d"
      },
      "source": [
        "apartments.info()"
      ],
      "execution_count": null,
      "outputs": [
        {
          "output_type": "stream",
          "text": [
            "<class 'pandas.core.frame.DataFrame'>\n",
            "RangeIndex: 126268 entries, 0 to 126267\n",
            "Data columns (total 9 columns):\n",
            " #   Column              Non-Null Count   Dtype  \n",
            "---  ------              --------------   -----  \n",
            " 0   Комнат              126262 non-null  object \n",
            " 1   Метро / ЖД станции  125934 non-null  object \n",
            " 2   От станции          124539 non-null  object \n",
            " 3   Дом                 126268 non-null  object \n",
            " 4   Балкон              48069 non-null   object \n",
            " 5   Санузел             79559 non-null   object \n",
            " 6   Площадь             126268 non-null  object \n",
            " 7   Цена, руб.          126268 non-null  float64\n",
            " 8   Примечание          125270 non-null  object \n",
            "dtypes: float64(1), object(8)\n",
            "memory usage: 8.7+ MB\n"
          ],
          "name": "stdout"
        }
      ]
    },
    {
      "cell_type": "code",
      "metadata": {
        "colab": {
          "base_uri": "https://localhost:8080/"
        },
        "id": "xBos2R5REhQQ",
        "outputId": "79fb0d44-f9ad-428f-c558-47888c2833ba"
      },
      "source": [
        "apartments['Комнат'].value_counts()"
      ],
      "execution_count": null,
      "outputs": [
        {
          "output_type": "execute_result",
          "data": {
            "text/plain": [
              "1         62504\n",
              "2         40962\n",
              "Ст         8889\n",
              "5          7044\n",
              "6          2772\n",
              "01.мар     1588\n",
              "01.апр      566\n",
              "01.фев      498\n",
              "7           445\n",
              "02.мар      197\n",
              "8           183\n",
              "01.май       96\n",
              "02.апр       80\n",
              "9            77\n",
              "01.июн       71\n",
              "10           58\n",
              "01.янв       49\n",
              "03.апр       24\n",
              "02.май       22\n",
              "01.июл       21\n",
              "02.июн       14\n",
              "01.сен       12\n",
              "12           10\n",
              "04.май        9\n",
              "03.май        9\n",
              "14            8\n",
              "11            8\n",
              "03.июн        6\n",
              "13            5\n",
              "03.авг        5\n",
              "02.июл        4\n",
              "15            4\n",
              "16            4\n",
              "05.июн        3\n",
              "20            2\n",
              "4             2\n",
              "01.окт        2\n",
              "04.июн        2\n",
              "01.дек        2\n",
              "30            1\n",
              "02.фев        1\n",
              "03.мар        1\n",
              "01.авг        1\n",
              "03.июл        1\n",
              "Name: Комнат, dtype: int64"
            ]
          },
          "metadata": {
            "tags": []
          },
          "execution_count": 6
        }
      ]
    },
    {
      "cell_type": "code",
      "metadata": {
        "colab": {
          "base_uri": "https://localhost:8080/"
        },
        "id": "yb86EZtKHE5a",
        "outputId": "51454f7d-d42c-4a8a-8982-7b0ff8dc64e5"
      },
      "source": [
        "#Формируем датасет только для 1 комн квартир (1 комн + студии) иначе база будет несбалансированной\n",
        "oneroom=(apartments['Комнат']=='1') | (apartments['Комнат']=='Ст')\n",
        "oneroom_apart=apartments[oneroom].copy()\n",
        "oneroom_apart.info()"
      ],
      "execution_count": null,
      "outputs": [
        {
          "output_type": "stream",
          "text": [
            "<class 'pandas.core.frame.DataFrame'>\n",
            "Int64Index: 71393 entries, 0 to 126267\n",
            "Data columns (total 9 columns):\n",
            " #   Column              Non-Null Count  Dtype  \n",
            "---  ------              --------------  -----  \n",
            " 0   Комнат              71393 non-null  object \n",
            " 1   Метро / ЖД станции  71142 non-null  object \n",
            " 2   От станции          70207 non-null  object \n",
            " 3   Дом                 71393 non-null  object \n",
            " 4   Балкон              25244 non-null  object \n",
            " 5   Санузел             46852 non-null  object \n",
            " 6   Площадь             71393 non-null  object \n",
            " 7   Цена, руб.          71393 non-null  float64\n",
            " 8   Примечание          70855 non-null  object \n",
            "dtypes: float64(1), object(8)\n",
            "memory usage: 5.4+ MB\n"
          ],
          "name": "stdout"
        }
      ]
    },
    {
      "cell_type": "code",
      "metadata": {
        "colab": {
          "base_uri": "https://localhost:8080/"
        },
        "id": "ZkC5JkkMdLHr",
        "outputId": "11c650d3-ab15-46b6-bfa0-d4936644e268"
      },
      "source": [
        "oneroom_apart['Метро / ЖД станции']=oneroom_apart['Метро / ЖД станции'].str.lower().str.replace(\"метро\",'').str.replace(\" м.\",'').str.replace(\"'\",'').str.replace(\"(мцк)\",'').str.replace(\"(\",'').str.replace(\")\",'').str.strip()\n",
        "allMetroNames=oneroom_apart['Метро / ЖД станции'].unique()\n",
        "allMetroNames=allMetroNames.tolist()\n",
        "allMetroNames[:10]"
      ],
      "execution_count": null,
      "outputs": [
        {
          "output_type": "execute_result",
          "data": {
            "text/plain": [
              "['шелепиха',\n",
              " 'пятницкое шоссе',\n",
              " 'планерная',\n",
              " 'шаболовская',\n",
              " 'бабушкинская',\n",
              " 'улица дмитриевского',\n",
              " 'бульвар рокоссовского',\n",
              " 'марьина роща',\n",
              " 'марьино',\n",
              " 'печатники']"
            ]
          },
          "metadata": {
            "tags": []
          },
          "execution_count": 8
        }
      ]
    },
    {
      "cell_type": "code",
      "metadata": {
        "colab": {
          "base_uri": "https://localhost:8080/"
        },
        "id": "LF8aZcZsfrEJ",
        "outputId": "e7ef761f-a1d0-4d33-a19c-3ccaa865e1c3"
      },
      "source": [
        "len(allMetroNames)"
      ],
      "execution_count": null,
      "outputs": [
        {
          "output_type": "execute_result",
          "data": {
            "text/plain": [
              "256"
            ]
          },
          "metadata": {
            "tags": []
          },
          "execution_count": 9
        }
      ]
    },
    {
      "cell_type": "code",
      "metadata": {
        "colab": {
          "base_uri": "https://localhost:8080/"
        },
        "id": "8Od2tLGTh84m",
        "outputId": "67bf5347-a941-4f2f-9ac4-31df48577fbc"
      },
      "source": [
        "#Получаем индекс станции метро\n",
        "def getMetro(metro_name):\n",
        "  metro=0\n",
        "  if metro_name in allMetroNames:\n",
        "    metro=allMetroNames.index(metro_name)+1\n",
        "  metro = utils.to_categorical(metro, len(allMetroNames)+1)\n",
        "  return metro\n",
        "\n",
        "oneroom_apart['Metro']=oneroom_apart['Метро / ЖД станции'].apply(getMetro)\n",
        "oneroom_apart.info()"
      ],
      "execution_count": null,
      "outputs": [
        {
          "output_type": "stream",
          "text": [
            "<class 'pandas.core.frame.DataFrame'>\n",
            "Int64Index: 71393 entries, 0 to 126267\n",
            "Data columns (total 10 columns):\n",
            " #   Column              Non-Null Count  Dtype  \n",
            "---  ------              --------------  -----  \n",
            " 0   Комнат              71393 non-null  object \n",
            " 1   Метро / ЖД станции  71142 non-null  object \n",
            " 2   От станции          70207 non-null  object \n",
            " 3   Дом                 71393 non-null  object \n",
            " 4   Балкон              25244 non-null  object \n",
            " 5   Санузел             46852 non-null  object \n",
            " 6   Площадь             71393 non-null  object \n",
            " 7   Цена, руб.          71393 non-null  float64\n",
            " 8   Примечание          70855 non-null  object \n",
            " 9   Metro               71393 non-null  object \n",
            "dtypes: float64(1), object(9)\n",
            "memory usage: 6.0+ MB\n"
          ],
          "name": "stdout"
        }
      ]
    },
    {
      "cell_type": "code",
      "metadata": {
        "colab": {
          "base_uri": "https://localhost:8080/",
          "height": 307
        },
        "id": "4rv_mGchHmId",
        "outputId": "14cf6f6e-c155-4fa4-944c-75f1d434c208"
      },
      "source": [
        "oneroom_apart.head()"
      ],
      "execution_count": null,
      "outputs": [
        {
          "output_type": "execute_result",
          "data": {
            "text/html": [
              "<div>\n",
              "<style scoped>\n",
              "    .dataframe tbody tr th:only-of-type {\n",
              "        vertical-align: middle;\n",
              "    }\n",
              "\n",
              "    .dataframe tbody tr th {\n",
              "        vertical-align: top;\n",
              "    }\n",
              "\n",
              "    .dataframe thead th {\n",
              "        text-align: right;\n",
              "    }\n",
              "</style>\n",
              "<table border=\"1\" class=\"dataframe\">\n",
              "  <thead>\n",
              "    <tr style=\"text-align: right;\">\n",
              "      <th></th>\n",
              "      <th>Комнат</th>\n",
              "      <th>Метро / ЖД станции</th>\n",
              "      <th>От станции</th>\n",
              "      <th>Дом</th>\n",
              "      <th>Балкон</th>\n",
              "      <th>Санузел</th>\n",
              "      <th>Площадь</th>\n",
              "      <th>Цена, руб.</th>\n",
              "      <th>Примечание</th>\n",
              "      <th>Metro</th>\n",
              "    </tr>\n",
              "  </thead>\n",
              "  <tbody>\n",
              "    <tr>\n",
              "      <th>0</th>\n",
              "      <td>1</td>\n",
              "      <td>шелепиха</td>\n",
              "      <td>12п</td>\n",
              "      <td>35/37 М</td>\n",
              "      <td>NaN</td>\n",
              "      <td>2</td>\n",
              "      <td>64.1/23/20</td>\n",
              "      <td>19500000.0</td>\n",
              "      <td>Собственность оформлена! Ключи на руках! Опера...</td>\n",
              "      <td>[0.0, 1.0, 0.0, 0.0, 0.0, 0.0, 0.0, 0.0, 0.0, ...</td>\n",
              "    </tr>\n",
              "    <tr>\n",
              "      <th>1</th>\n",
              "      <td>1</td>\n",
              "      <td>пятницкое шоссе</td>\n",
              "      <td>30т</td>\n",
              "      <td>11/14 П</td>\n",
              "      <td>Л</td>\n",
              "      <td>Р</td>\n",
              "      <td>38.4/17/9</td>\n",
              "      <td>4800000.0</td>\n",
              "      <td>Зеленоград к.1820 однокомнатная квартира общ.3...</td>\n",
              "      <td>[0.0, 0.0, 1.0, 0.0, 0.0, 0.0, 0.0, 0.0, 0.0, ...</td>\n",
              "    </tr>\n",
              "    <tr>\n",
              "      <th>2</th>\n",
              "      <td>1</td>\n",
              "      <td>планерная</td>\n",
              "      <td>5т</td>\n",
              "      <td>11/22 П</td>\n",
              "      <td>Б</td>\n",
              "      <td>С</td>\n",
              "      <td>38.2/19.9/9.9</td>\n",
              "      <td>7990000.0</td>\n",
              "      <td>Уютная, светлая квартира, застекленный балкон ...</td>\n",
              "      <td>[0.0, 0.0, 0.0, 1.0, 0.0, 0.0, 0.0, 0.0, 0.0, ...</td>\n",
              "    </tr>\n",
              "    <tr>\n",
              "      <th>3</th>\n",
              "      <td>1</td>\n",
              "      <td>шаболовская</td>\n",
              "      <td>12п</td>\n",
              "      <td>8/12 ?</td>\n",
              "      <td>Б</td>\n",
              "      <td>Р</td>\n",
              "      <td>38/15/7</td>\n",
              "      <td>11200000.0</td>\n",
              "      <td>Предлагаю 1- комн квартиру, в шаговой доступно...</td>\n",
              "      <td>[0.0, 0.0, 0.0, 0.0, 1.0, 0.0, 0.0, 0.0, 0.0, ...</td>\n",
              "    </tr>\n",
              "    <tr>\n",
              "      <th>4</th>\n",
              "      <td>1</td>\n",
              "      <td>бабушкинская</td>\n",
              "      <td>15п</td>\n",
              "      <td>4/14 П</td>\n",
              "      <td>NaN</td>\n",
              "      <td>С</td>\n",
              "      <td>34/17/8</td>\n",
              "      <td>6250000.0</td>\n",
              "      <td>Продается хорошая 1 комнатная квартира. 1 взро...</td>\n",
              "      <td>[0.0, 0.0, 0.0, 0.0, 0.0, 1.0, 0.0, 0.0, 0.0, ...</td>\n",
              "    </tr>\n",
              "  </tbody>\n",
              "</table>\n",
              "</div>"
            ],
            "text/plain": [
              "  Комнат  ...                                              Metro\n",
              "0      1  ...  [0.0, 1.0, 0.0, 0.0, 0.0, 0.0, 0.0, 0.0, 0.0, ...\n",
              "1      1  ...  [0.0, 0.0, 1.0, 0.0, 0.0, 0.0, 0.0, 0.0, 0.0, ...\n",
              "2      1  ...  [0.0, 0.0, 0.0, 1.0, 0.0, 0.0, 0.0, 0.0, 0.0, ...\n",
              "3      1  ...  [0.0, 0.0, 0.0, 0.0, 1.0, 0.0, 0.0, 0.0, 0.0, ...\n",
              "4      1  ...  [0.0, 0.0, 0.0, 0.0, 0.0, 1.0, 0.0, 0.0, 0.0, ...\n",
              "\n",
              "[5 rows x 10 columns]"
            ]
          },
          "metadata": {
            "tags": []
          },
          "execution_count": 11
        }
      ]
    },
    {
      "cell_type": "code",
      "metadata": {
        "colab": {
          "base_uri": "https://localhost:8080/"
        },
        "id": "SYWsvL-q-R9T",
        "outputId": "43e25cab-4a82-4e9b-e148-402c2eea0881"
      },
      "source": [
        "#Вычисляем растояние до метро\n",
        "#pd.set_option('display.max_rows', 500)\n",
        "oneroom_apart['От станции'].value_counts()"
      ],
      "execution_count": null,
      "outputs": [
        {
          "output_type": "execute_result",
          "data": {
            "text/plain": [
              "3т     7647\n",
              "10п    5513\n",
              "15п    4295\n",
              "2т     4011\n",
              "5п     3848\n",
              "       ... \n",
              "58п       1\n",
              "70т       1\n",
              "54п       1\n",
              "71п       1\n",
              "34п       1\n",
              "Name: От станции, Length: 104, dtype: int64"
            ]
          },
          "metadata": {
            "tags": []
          },
          "execution_count": 12
        }
      ]
    },
    {
      "cell_type": "code",
      "metadata": {
        "colab": {
          "base_uri": "https://localhost:8080/"
        },
        "id": "4VzsyMfmKau3",
        "outputId": "8a164b3a-7372-4748-acb2-c3ce52683d7a"
      },
      "source": [
        "def getMetroDistance(metrodiststr):\n",
        "  metroDistance = 0 #Расстояние до метро\n",
        "  metroDistanceType = 0 #Тип расстояния - пешком или на транспорте\n",
        "  if (metrodiststr == metrodiststr):\n",
        "    if len(metrodiststr)>0:\n",
        "      if metrodiststr[-1]=='п':\n",
        "        metroDistanceType=1\n",
        "      elif metrodiststr[-1]=='т':\n",
        "        metroDistanceType=2\n",
        "    \n",
        "      metrodiststr=metrodiststr[:-1]\n",
        "      try:\n",
        "        metroDistance=int(metrodiststr)\n",
        "        if metroDistance<3:\n",
        "          metroDistance=1\n",
        "        elif metroDistance<6:\n",
        "          metroDistance=2\n",
        "        elif metroDistance<10:\n",
        "          metroDistance=3\n",
        "        elif metroDistance<15:\n",
        "          metroDistance=4\n",
        "        elif metroDistance<20:\n",
        "          metroDistance=5\n",
        "        else:\n",
        "          metroDistance=6\n",
        "      except:\n",
        "        metroDistance=0\n",
        "\n",
        "  metroDistanceClasses = 7\n",
        "  if metroDistanceType == 2:\n",
        "    metroDistance += metroDistanceClasses\n",
        "  if metroDistanceType == 0:\n",
        "    metroDistance += 2*metroDistanceClasses\n",
        "  \n",
        "  metroDistance = utils.to_categorical(metroDistance, 2*metroDistanceClasses+1)\n",
        "  return metroDistance\n",
        "\n",
        "oneroom_apart['metroDistance']=oneroom_apart['От станции'].apply(getMetroDistance)\n",
        "oneroom_apart.info()"
      ],
      "execution_count": null,
      "outputs": [
        {
          "output_type": "stream",
          "text": [
            "<class 'pandas.core.frame.DataFrame'>\n",
            "Int64Index: 71393 entries, 0 to 126267\n",
            "Data columns (total 11 columns):\n",
            " #   Column              Non-Null Count  Dtype  \n",
            "---  ------              --------------  -----  \n",
            " 0   Комнат              71393 non-null  object \n",
            " 1   Метро / ЖД станции  71142 non-null  object \n",
            " 2   От станции          70207 non-null  object \n",
            " 3   Дом                 71393 non-null  object \n",
            " 4   Балкон              25244 non-null  object \n",
            " 5   Санузел             46852 non-null  object \n",
            " 6   Площадь             71393 non-null  object \n",
            " 7   Цена, руб.          71393 non-null  float64\n",
            " 8   Примечание          70855 non-null  object \n",
            " 9   Metro               71393 non-null  object \n",
            " 10  metroDistance       71393 non-null  object \n",
            "dtypes: float64(1), object(10)\n",
            "memory usage: 6.5+ MB\n"
          ],
          "name": "stdout"
        }
      ]
    },
    {
      "cell_type": "code",
      "metadata": {
        "colab": {
          "base_uri": "https://localhost:8080/",
          "height": 307
        },
        "id": "Xggx6AD6QT3T",
        "outputId": "83a4fb36-2019-437c-9ca5-e176c48f388d"
      },
      "source": [
        "oneroom_apart.head()"
      ],
      "execution_count": null,
      "outputs": [
        {
          "output_type": "execute_result",
          "data": {
            "text/html": [
              "<div>\n",
              "<style scoped>\n",
              "    .dataframe tbody tr th:only-of-type {\n",
              "        vertical-align: middle;\n",
              "    }\n",
              "\n",
              "    .dataframe tbody tr th {\n",
              "        vertical-align: top;\n",
              "    }\n",
              "\n",
              "    .dataframe thead th {\n",
              "        text-align: right;\n",
              "    }\n",
              "</style>\n",
              "<table border=\"1\" class=\"dataframe\">\n",
              "  <thead>\n",
              "    <tr style=\"text-align: right;\">\n",
              "      <th></th>\n",
              "      <th>Комнат</th>\n",
              "      <th>Метро / ЖД станции</th>\n",
              "      <th>От станции</th>\n",
              "      <th>Дом</th>\n",
              "      <th>Балкон</th>\n",
              "      <th>Санузел</th>\n",
              "      <th>Площадь</th>\n",
              "      <th>Цена, руб.</th>\n",
              "      <th>Примечание</th>\n",
              "      <th>Metro</th>\n",
              "      <th>metroDistance</th>\n",
              "    </tr>\n",
              "  </thead>\n",
              "  <tbody>\n",
              "    <tr>\n",
              "      <th>0</th>\n",
              "      <td>1</td>\n",
              "      <td>шелепиха</td>\n",
              "      <td>12п</td>\n",
              "      <td>35/37 М</td>\n",
              "      <td>NaN</td>\n",
              "      <td>2</td>\n",
              "      <td>64.1/23/20</td>\n",
              "      <td>19500000.0</td>\n",
              "      <td>Собственность оформлена! Ключи на руках! Опера...</td>\n",
              "      <td>[0.0, 1.0, 0.0, 0.0, 0.0, 0.0, 0.0, 0.0, 0.0, ...</td>\n",
              "      <td>[0.0, 0.0, 0.0, 0.0, 1.0, 0.0, 0.0, 0.0, 0.0, ...</td>\n",
              "    </tr>\n",
              "    <tr>\n",
              "      <th>1</th>\n",
              "      <td>1</td>\n",
              "      <td>пятницкое шоссе</td>\n",
              "      <td>30т</td>\n",
              "      <td>11/14 П</td>\n",
              "      <td>Л</td>\n",
              "      <td>Р</td>\n",
              "      <td>38.4/17/9</td>\n",
              "      <td>4800000.0</td>\n",
              "      <td>Зеленоград к.1820 однокомнатная квартира общ.3...</td>\n",
              "      <td>[0.0, 0.0, 1.0, 0.0, 0.0, 0.0, 0.0, 0.0, 0.0, ...</td>\n",
              "      <td>[0.0, 0.0, 0.0, 0.0, 0.0, 0.0, 0.0, 0.0, 0.0, ...</td>\n",
              "    </tr>\n",
              "    <tr>\n",
              "      <th>2</th>\n",
              "      <td>1</td>\n",
              "      <td>планерная</td>\n",
              "      <td>5т</td>\n",
              "      <td>11/22 П</td>\n",
              "      <td>Б</td>\n",
              "      <td>С</td>\n",
              "      <td>38.2/19.9/9.9</td>\n",
              "      <td>7990000.0</td>\n",
              "      <td>Уютная, светлая квартира, застекленный балкон ...</td>\n",
              "      <td>[0.0, 0.0, 0.0, 1.0, 0.0, 0.0, 0.0, 0.0, 0.0, ...</td>\n",
              "      <td>[0.0, 0.0, 0.0, 0.0, 0.0, 0.0, 0.0, 0.0, 0.0, ...</td>\n",
              "    </tr>\n",
              "    <tr>\n",
              "      <th>3</th>\n",
              "      <td>1</td>\n",
              "      <td>шаболовская</td>\n",
              "      <td>12п</td>\n",
              "      <td>8/12 ?</td>\n",
              "      <td>Б</td>\n",
              "      <td>Р</td>\n",
              "      <td>38/15/7</td>\n",
              "      <td>11200000.0</td>\n",
              "      <td>Предлагаю 1- комн квартиру, в шаговой доступно...</td>\n",
              "      <td>[0.0, 0.0, 0.0, 0.0, 1.0, 0.0, 0.0, 0.0, 0.0, ...</td>\n",
              "      <td>[0.0, 0.0, 0.0, 0.0, 1.0, 0.0, 0.0, 0.0, 0.0, ...</td>\n",
              "    </tr>\n",
              "    <tr>\n",
              "      <th>4</th>\n",
              "      <td>1</td>\n",
              "      <td>бабушкинская</td>\n",
              "      <td>15п</td>\n",
              "      <td>4/14 П</td>\n",
              "      <td>NaN</td>\n",
              "      <td>С</td>\n",
              "      <td>34/17/8</td>\n",
              "      <td>6250000.0</td>\n",
              "      <td>Продается хорошая 1 комнатная квартира. 1 взро...</td>\n",
              "      <td>[0.0, 0.0, 0.0, 0.0, 0.0, 1.0, 0.0, 0.0, 0.0, ...</td>\n",
              "      <td>[0.0, 0.0, 0.0, 0.0, 0.0, 1.0, 0.0, 0.0, 0.0, ...</td>\n",
              "    </tr>\n",
              "  </tbody>\n",
              "</table>\n",
              "</div>"
            ],
            "text/plain": [
              "  Комнат  ...                                      metroDistance\n",
              "0      1  ...  [0.0, 0.0, 0.0, 0.0, 1.0, 0.0, 0.0, 0.0, 0.0, ...\n",
              "1      1  ...  [0.0, 0.0, 0.0, 0.0, 0.0, 0.0, 0.0, 0.0, 0.0, ...\n",
              "2      1  ...  [0.0, 0.0, 0.0, 0.0, 0.0, 0.0, 0.0, 0.0, 0.0, ...\n",
              "3      1  ...  [0.0, 0.0, 0.0, 0.0, 1.0, 0.0, 0.0, 0.0, 0.0, ...\n",
              "4      1  ...  [0.0, 0.0, 0.0, 0.0, 0.0, 1.0, 0.0, 0.0, 0.0, ...\n",
              "\n",
              "[5 rows x 11 columns]"
            ]
          },
          "metadata": {
            "tags": []
          },
          "execution_count": 14
        }
      ]
    },
    {
      "cell_type": "code",
      "metadata": {
        "colab": {
          "base_uri": "https://localhost:8080/"
        },
        "id": "pId6R7b3cA2V",
        "outputId": "349f123d-6378-46ba-962c-e8a87a2a3513"
      },
      "source": [
        "oneroom_apart['Дом'].value_counts()"
      ],
      "execution_count": null,
      "outputs": [
        {
          "output_type": "execute_result",
          "data": {
            "text/plain": [
              "1/5 К        685\n",
              "1/9 П        655\n",
              "2/17 П       485\n",
              "1/12 П       438\n",
              "1/16 П       373\n",
              "            ... \n",
              "32/33 М-К      1\n",
              "20/35 П        1\n",
              "30/85 ?        1\n",
              "24/56 М        1\n",
              "34/58 ?        1\n",
              "Name: Дом, Length: 3777, dtype: int64"
            ]
          },
          "metadata": {
            "tags": []
          },
          "execution_count": 15
        }
      ]
    },
    {
      "cell_type": "code",
      "metadata": {
        "colab": {
          "base_uri": "https://localhost:8080/"
        },
        "id": "9uGda4yweQAO",
        "outputId": "8365e3a5-e9d8-4761-c405-d075768e70a4"
      },
      "source": [
        "def getHouseTypeAndFloor(houseStr):\n",
        "  houseType = 0 #Тип дома\n",
        "  floor = 0 #Этаж квартиры\n",
        "  floors = 0 #Этажность дома\n",
        "  isLastFloor = 0 #Индикатор последнего этажа\n",
        "\n",
        "  if (houseStr == houseStr):\n",
        "    if (len(houseStr) > 1):\n",
        "      slashIndex = houseStr.index(\"/\") #Ищем разделитель /\n",
        "      spaceIndex = houseStr.index(\" \") #Ищем разделитель \" \"\n",
        "      \n",
        "      floorStr = houseStr[:slashIndex] #Строка этажа\n",
        "      floorsStr = houseStr[slashIndex+1:spaceIndex] #Строка этажнгости дома\n",
        "      houseTypeStr = houseStr[spaceIndex+1:] #Строка типа дома\n",
        "      #Выбираем категорию этажа\n",
        "      try:\n",
        "        floor = int(floorStr) #Превращаем строку в число\n",
        "        floorSave = floor\n",
        "        if (floorSave == 1): #Первый этаж выделяем в отдельную категорию\n",
        "          floor = 1 \n",
        "        elif (floorSave < 5):\n",
        "          floor = 2\n",
        "        elif (floorSave < 10):\n",
        "          floor = 3\n",
        "        elif (floorSave < 20):\n",
        "          floor = 4\n",
        "        elif (floorSave >= 20):\n",
        "          floor = 5\n",
        "\n",
        "        if (int(floorStr) == int(floorsStr)): #Если этаж последний, включаем индикатор последнего этажа\n",
        "          isLastFloor = 1 \n",
        "      except:\n",
        "        floor = 0 #Если строка не парсится в число, то категория этажа = 0 (отдельная)\n",
        "\n",
        "        #Выбираем категорию этажности дома\n",
        "      try:\n",
        "        floors = int(floorsStr) #Превращаем строку в число\n",
        "        floorsSave = floors\n",
        "        if (floorsSave < 5):\n",
        "          floors = 1\n",
        "        elif (floorsSave < 10):\n",
        "          floors = 2\n",
        "        elif (floorsSave < 20):\n",
        "          floors = 3\n",
        "        elif (floorsSave >= 20):\n",
        "          floors = 4\n",
        "      except:\n",
        "        floors = 0 #Если строка не парсится в число, то категория этажности = 0 (отдельная)\n",
        "\n",
        "      #Определяем категорию типа дома\n",
        "      if (len(houseTypeStr) > 0):\n",
        "        if (\"М\" in houseTypeStr): \n",
        "          houseType = 1\n",
        "        elif (\"К\" in houseTypeStr): \n",
        "          houseType = 2\n",
        "        elif (\"П\" in houseTypeStr): \n",
        "          houseType = 3\n",
        "        elif (\"Б\" in houseTypeStr): \n",
        "          houseType = 4\n",
        "        elif (\"?\" in houseTypeStr): \n",
        "          houseType = 5\n",
        "        elif (\"-\" in houseTypeStr): \n",
        "          houseType = 6\n",
        "    #Превращаем все категории в one hot encoding\n",
        "    floor = utils.to_categorical(floor, 6).tolist()\n",
        "    floors = utils.to_categorical(floors, 5).tolist()\n",
        "    houseType = utils.to_categorical(houseType, 7).tolist()\n",
        "    isLastFloor = utils.to_categorical(isLastFloor, 2).tolist()\n",
        "\n",
        "  return floor+floors+isLastFloor+houseType\n",
        "\n",
        "oneroom_apart['House']=oneroom_apart['Дом'].apply(getHouseTypeAndFloor)\n",
        "oneroom_apart.info()"
      ],
      "execution_count": null,
      "outputs": [
        {
          "output_type": "stream",
          "text": [
            "<class 'pandas.core.frame.DataFrame'>\n",
            "Int64Index: 71393 entries, 0 to 126267\n",
            "Data columns (total 12 columns):\n",
            " #   Column              Non-Null Count  Dtype  \n",
            "---  ------              --------------  -----  \n",
            " 0   Комнат              71393 non-null  object \n",
            " 1   Метро / ЖД станции  71142 non-null  object \n",
            " 2   От станции          70207 non-null  object \n",
            " 3   Дом                 71393 non-null  object \n",
            " 4   Балкон              25244 non-null  object \n",
            " 5   Санузел             46852 non-null  object \n",
            " 6   Площадь             71393 non-null  object \n",
            " 7   Цена, руб.          71393 non-null  float64\n",
            " 8   Примечание          70855 non-null  object \n",
            " 9   Metro               71393 non-null  object \n",
            " 10  metroDistance       71393 non-null  object \n",
            " 11  House               71393 non-null  object \n",
            "dtypes: float64(1), object(11)\n",
            "memory usage: 7.1+ MB\n"
          ],
          "name": "stdout"
        }
      ]
    },
    {
      "cell_type": "code",
      "metadata": {
        "colab": {
          "base_uri": "https://localhost:8080/",
          "height": 392
        },
        "id": "UiF05Veej1z-",
        "outputId": "42333ade-4e2b-44a9-d5de-d3740a4d1fdf"
      },
      "source": [
        "oneroom_apart.head()"
      ],
      "execution_count": null,
      "outputs": [
        {
          "output_type": "execute_result",
          "data": {
            "text/html": [
              "<div>\n",
              "<style scoped>\n",
              "    .dataframe tbody tr th:only-of-type {\n",
              "        vertical-align: middle;\n",
              "    }\n",
              "\n",
              "    .dataframe tbody tr th {\n",
              "        vertical-align: top;\n",
              "    }\n",
              "\n",
              "    .dataframe thead th {\n",
              "        text-align: right;\n",
              "    }\n",
              "</style>\n",
              "<table border=\"1\" class=\"dataframe\">\n",
              "  <thead>\n",
              "    <tr style=\"text-align: right;\">\n",
              "      <th></th>\n",
              "      <th>Комнат</th>\n",
              "      <th>Метро / ЖД станции</th>\n",
              "      <th>От станции</th>\n",
              "      <th>Дом</th>\n",
              "      <th>Балкон</th>\n",
              "      <th>Санузел</th>\n",
              "      <th>Площадь</th>\n",
              "      <th>Цена, руб.</th>\n",
              "      <th>Примечание</th>\n",
              "      <th>Metro</th>\n",
              "      <th>metroDistance</th>\n",
              "      <th>House</th>\n",
              "    </tr>\n",
              "  </thead>\n",
              "  <tbody>\n",
              "    <tr>\n",
              "      <th>0</th>\n",
              "      <td>1</td>\n",
              "      <td>шелепиха</td>\n",
              "      <td>12п</td>\n",
              "      <td>35/37 М</td>\n",
              "      <td>NaN</td>\n",
              "      <td>2</td>\n",
              "      <td>64.1/23/20</td>\n",
              "      <td>19500000.0</td>\n",
              "      <td>Собственность оформлена! Ключи на руках! Опера...</td>\n",
              "      <td>[0.0, 1.0, 0.0, 0.0, 0.0, 0.0, 0.0, 0.0, 0.0, ...</td>\n",
              "      <td>[0.0, 0.0, 0.0, 0.0, 1.0, 0.0, 0.0, 0.0, 0.0, ...</td>\n",
              "      <td>[0.0, 0.0, 0.0, 0.0, 0.0, 1.0, 0.0, 0.0, 0.0, ...</td>\n",
              "    </tr>\n",
              "    <tr>\n",
              "      <th>1</th>\n",
              "      <td>1</td>\n",
              "      <td>пятницкое шоссе</td>\n",
              "      <td>30т</td>\n",
              "      <td>11/14 П</td>\n",
              "      <td>Л</td>\n",
              "      <td>Р</td>\n",
              "      <td>38.4/17/9</td>\n",
              "      <td>4800000.0</td>\n",
              "      <td>Зеленоград к.1820 однокомнатная квартира общ.3...</td>\n",
              "      <td>[0.0, 0.0, 1.0, 0.0, 0.0, 0.0, 0.0, 0.0, 0.0, ...</td>\n",
              "      <td>[0.0, 0.0, 0.0, 0.0, 0.0, 0.0, 0.0, 0.0, 0.0, ...</td>\n",
              "      <td>[0.0, 0.0, 0.0, 0.0, 1.0, 0.0, 0.0, 0.0, 0.0, ...</td>\n",
              "    </tr>\n",
              "    <tr>\n",
              "      <th>2</th>\n",
              "      <td>1</td>\n",
              "      <td>планерная</td>\n",
              "      <td>5т</td>\n",
              "      <td>11/22 П</td>\n",
              "      <td>Б</td>\n",
              "      <td>С</td>\n",
              "      <td>38.2/19.9/9.9</td>\n",
              "      <td>7990000.0</td>\n",
              "      <td>Уютная, светлая квартира, застекленный балкон ...</td>\n",
              "      <td>[0.0, 0.0, 0.0, 1.0, 0.0, 0.0, 0.0, 0.0, 0.0, ...</td>\n",
              "      <td>[0.0, 0.0, 0.0, 0.0, 0.0, 0.0, 0.0, 0.0, 0.0, ...</td>\n",
              "      <td>[0.0, 0.0, 0.0, 0.0, 1.0, 0.0, 0.0, 0.0, 0.0, ...</td>\n",
              "    </tr>\n",
              "    <tr>\n",
              "      <th>3</th>\n",
              "      <td>1</td>\n",
              "      <td>шаболовская</td>\n",
              "      <td>12п</td>\n",
              "      <td>8/12 ?</td>\n",
              "      <td>Б</td>\n",
              "      <td>Р</td>\n",
              "      <td>38/15/7</td>\n",
              "      <td>11200000.0</td>\n",
              "      <td>Предлагаю 1- комн квартиру, в шаговой доступно...</td>\n",
              "      <td>[0.0, 0.0, 0.0, 0.0, 1.0, 0.0, 0.0, 0.0, 0.0, ...</td>\n",
              "      <td>[0.0, 0.0, 0.0, 0.0, 1.0, 0.0, 0.0, 0.0, 0.0, ...</td>\n",
              "      <td>[0.0, 0.0, 0.0, 1.0, 0.0, 0.0, 0.0, 0.0, 0.0, ...</td>\n",
              "    </tr>\n",
              "    <tr>\n",
              "      <th>4</th>\n",
              "      <td>1</td>\n",
              "      <td>бабушкинская</td>\n",
              "      <td>15п</td>\n",
              "      <td>4/14 П</td>\n",
              "      <td>NaN</td>\n",
              "      <td>С</td>\n",
              "      <td>34/17/8</td>\n",
              "      <td>6250000.0</td>\n",
              "      <td>Продается хорошая 1 комнатная квартира. 1 взро...</td>\n",
              "      <td>[0.0, 0.0, 0.0, 0.0, 0.0, 1.0, 0.0, 0.0, 0.0, ...</td>\n",
              "      <td>[0.0, 0.0, 0.0, 0.0, 0.0, 1.0, 0.0, 0.0, 0.0, ...</td>\n",
              "      <td>[0.0, 0.0, 1.0, 0.0, 0.0, 0.0, 0.0, 0.0, 0.0, ...</td>\n",
              "    </tr>\n",
              "  </tbody>\n",
              "</table>\n",
              "</div>"
            ],
            "text/plain": [
              "  Комнат  ...                                              House\n",
              "0      1  ...  [0.0, 0.0, 0.0, 0.0, 0.0, 1.0, 0.0, 0.0, 0.0, ...\n",
              "1      1  ...  [0.0, 0.0, 0.0, 0.0, 1.0, 0.0, 0.0, 0.0, 0.0, ...\n",
              "2      1  ...  [0.0, 0.0, 0.0, 0.0, 1.0, 0.0, 0.0, 0.0, 0.0, ...\n",
              "3      1  ...  [0.0, 0.0, 0.0, 1.0, 0.0, 0.0, 0.0, 0.0, 0.0, ...\n",
              "4      1  ...  [0.0, 0.0, 1.0, 0.0, 0.0, 0.0, 0.0, 0.0, 0.0, ...\n",
              "\n",
              "[5 rows x 12 columns]"
            ]
          },
          "metadata": {
            "tags": []
          },
          "execution_count": 17
        }
      ]
    },
    {
      "cell_type": "code",
      "metadata": {
        "colab": {
          "base_uri": "https://localhost:8080/"
        },
        "id": "UPkJMNrXj5BP",
        "outputId": "c356f68a-24df-4f9c-df91-83538bda6524"
      },
      "source": [
        "balconyVariants=oneroom_apart['Балкон'].value_counts().index.tolist()\n",
        "balconyVariants"
      ],
      "execution_count": null,
      "outputs": [
        {
          "output_type": "execute_result",
          "data": {
            "text/plain": [
              "['Л',\n",
              " 'Б',\n",
              " '-',\n",
              " 'БЛ',\n",
              " '2Л',\n",
              " '2Б',\n",
              " '3Б',\n",
              " '2Б2Л',\n",
              " 'Эрк',\n",
              " '3Л',\n",
              " 'Б2Л',\n",
              " '4Л',\n",
              " 'ЭркЛ']"
            ]
          },
          "metadata": {
            "tags": []
          },
          "execution_count": 18
        }
      ]
    },
    {
      "cell_type": "code",
      "metadata": {
        "colab": {
          "base_uri": "https://localhost:8080/"
        },
        "id": "j9_Vollmk5-_",
        "outputId": "1d87abba-83d7-4491-9272-9508ce5b6fba"
      },
      "source": [
        "#Вычисляем тип балкона\n",
        "def getBalcony(balconyStr):\n",
        "  if (balconyStr == balconyStr):\n",
        "    balcony = balconyVariants.index(balconyStr)+1 #Находим индекс строки балкона во всех строках\n",
        "  else:\n",
        "    balcony = 0 #Индекс 0 выделяем на строку nan\n",
        "\n",
        "  balcony = utils.to_categorical(balcony, len(balconyVariants)+1)\n",
        "  return balcony\n",
        "\n",
        "oneroom_apart['Balcony']=oneroom_apart['Балкон'].apply(getBalcony)\n",
        "oneroom_apart.info()"
      ],
      "execution_count": null,
      "outputs": [
        {
          "output_type": "stream",
          "text": [
            "<class 'pandas.core.frame.DataFrame'>\n",
            "Int64Index: 71393 entries, 0 to 126267\n",
            "Data columns (total 13 columns):\n",
            " #   Column              Non-Null Count  Dtype  \n",
            "---  ------              --------------  -----  \n",
            " 0   Комнат              71393 non-null  object \n",
            " 1   Метро / ЖД станции  71142 non-null  object \n",
            " 2   От станции          70207 non-null  object \n",
            " 3   Дом                 71393 non-null  object \n",
            " 4   Балкон              25244 non-null  object \n",
            " 5   Санузел             46852 non-null  object \n",
            " 6   Площадь             71393 non-null  object \n",
            " 7   Цена, руб.          71393 non-null  float64\n",
            " 8   Примечание          70855 non-null  object \n",
            " 9   Metro               71393 non-null  object \n",
            " 10  metroDistance       71393 non-null  object \n",
            " 11  House               71393 non-null  object \n",
            " 12  Balcony             71393 non-null  object \n",
            "dtypes: float64(1), object(12)\n",
            "memory usage: 7.6+ MB\n"
          ],
          "name": "stdout"
        }
      ]
    },
    {
      "cell_type": "code",
      "metadata": {
        "colab": {
          "base_uri": "https://localhost:8080/",
          "height": 392
        },
        "id": "CiyhDx7ymjk8",
        "outputId": "e4408000-8b9f-4272-c432-64c53ee2642c"
      },
      "source": [
        "oneroom_apart.head()"
      ],
      "execution_count": null,
      "outputs": [
        {
          "output_type": "execute_result",
          "data": {
            "text/html": [
              "<div>\n",
              "<style scoped>\n",
              "    .dataframe tbody tr th:only-of-type {\n",
              "        vertical-align: middle;\n",
              "    }\n",
              "\n",
              "    .dataframe tbody tr th {\n",
              "        vertical-align: top;\n",
              "    }\n",
              "\n",
              "    .dataframe thead th {\n",
              "        text-align: right;\n",
              "    }\n",
              "</style>\n",
              "<table border=\"1\" class=\"dataframe\">\n",
              "  <thead>\n",
              "    <tr style=\"text-align: right;\">\n",
              "      <th></th>\n",
              "      <th>Комнат</th>\n",
              "      <th>Метро / ЖД станции</th>\n",
              "      <th>От станции</th>\n",
              "      <th>Дом</th>\n",
              "      <th>Балкон</th>\n",
              "      <th>Санузел</th>\n",
              "      <th>Площадь</th>\n",
              "      <th>Цена, руб.</th>\n",
              "      <th>Примечание</th>\n",
              "      <th>Metro</th>\n",
              "      <th>metroDistance</th>\n",
              "      <th>House</th>\n",
              "      <th>Balcony</th>\n",
              "    </tr>\n",
              "  </thead>\n",
              "  <tbody>\n",
              "    <tr>\n",
              "      <th>0</th>\n",
              "      <td>1</td>\n",
              "      <td>шелепиха</td>\n",
              "      <td>12п</td>\n",
              "      <td>35/37 М</td>\n",
              "      <td>NaN</td>\n",
              "      <td>2</td>\n",
              "      <td>64.1/23/20</td>\n",
              "      <td>19500000.0</td>\n",
              "      <td>Собственность оформлена! Ключи на руках! Опера...</td>\n",
              "      <td>[0.0, 1.0, 0.0, 0.0, 0.0, 0.0, 0.0, 0.0, 0.0, ...</td>\n",
              "      <td>[0.0, 0.0, 0.0, 0.0, 1.0, 0.0, 0.0, 0.0, 0.0, ...</td>\n",
              "      <td>[0.0, 0.0, 0.0, 0.0, 0.0, 1.0, 0.0, 0.0, 0.0, ...</td>\n",
              "      <td>[1.0, 0.0, 0.0, 0.0, 0.0, 0.0, 0.0, 0.0, 0.0, ...</td>\n",
              "    </tr>\n",
              "    <tr>\n",
              "      <th>1</th>\n",
              "      <td>1</td>\n",
              "      <td>пятницкое шоссе</td>\n",
              "      <td>30т</td>\n",
              "      <td>11/14 П</td>\n",
              "      <td>Л</td>\n",
              "      <td>Р</td>\n",
              "      <td>38.4/17/9</td>\n",
              "      <td>4800000.0</td>\n",
              "      <td>Зеленоград к.1820 однокомнатная квартира общ.3...</td>\n",
              "      <td>[0.0, 0.0, 1.0, 0.0, 0.0, 0.0, 0.0, 0.0, 0.0, ...</td>\n",
              "      <td>[0.0, 0.0, 0.0, 0.0, 0.0, 0.0, 0.0, 0.0, 0.0, ...</td>\n",
              "      <td>[0.0, 0.0, 0.0, 0.0, 1.0, 0.0, 0.0, 0.0, 0.0, ...</td>\n",
              "      <td>[0.0, 1.0, 0.0, 0.0, 0.0, 0.0, 0.0, 0.0, 0.0, ...</td>\n",
              "    </tr>\n",
              "    <tr>\n",
              "      <th>2</th>\n",
              "      <td>1</td>\n",
              "      <td>планерная</td>\n",
              "      <td>5т</td>\n",
              "      <td>11/22 П</td>\n",
              "      <td>Б</td>\n",
              "      <td>С</td>\n",
              "      <td>38.2/19.9/9.9</td>\n",
              "      <td>7990000.0</td>\n",
              "      <td>Уютная, светлая квартира, застекленный балкон ...</td>\n",
              "      <td>[0.0, 0.0, 0.0, 1.0, 0.0, 0.0, 0.0, 0.0, 0.0, ...</td>\n",
              "      <td>[0.0, 0.0, 0.0, 0.0, 0.0, 0.0, 0.0, 0.0, 0.0, ...</td>\n",
              "      <td>[0.0, 0.0, 0.0, 0.0, 1.0, 0.0, 0.0, 0.0, 0.0, ...</td>\n",
              "      <td>[0.0, 0.0, 1.0, 0.0, 0.0, 0.0, 0.0, 0.0, 0.0, ...</td>\n",
              "    </tr>\n",
              "    <tr>\n",
              "      <th>3</th>\n",
              "      <td>1</td>\n",
              "      <td>шаболовская</td>\n",
              "      <td>12п</td>\n",
              "      <td>8/12 ?</td>\n",
              "      <td>Б</td>\n",
              "      <td>Р</td>\n",
              "      <td>38/15/7</td>\n",
              "      <td>11200000.0</td>\n",
              "      <td>Предлагаю 1- комн квартиру, в шаговой доступно...</td>\n",
              "      <td>[0.0, 0.0, 0.0, 0.0, 1.0, 0.0, 0.0, 0.0, 0.0, ...</td>\n",
              "      <td>[0.0, 0.0, 0.0, 0.0, 1.0, 0.0, 0.0, 0.0, 0.0, ...</td>\n",
              "      <td>[0.0, 0.0, 0.0, 1.0, 0.0, 0.0, 0.0, 0.0, 0.0, ...</td>\n",
              "      <td>[0.0, 0.0, 1.0, 0.0, 0.0, 0.0, 0.0, 0.0, 0.0, ...</td>\n",
              "    </tr>\n",
              "    <tr>\n",
              "      <th>4</th>\n",
              "      <td>1</td>\n",
              "      <td>бабушкинская</td>\n",
              "      <td>15п</td>\n",
              "      <td>4/14 П</td>\n",
              "      <td>NaN</td>\n",
              "      <td>С</td>\n",
              "      <td>34/17/8</td>\n",
              "      <td>6250000.0</td>\n",
              "      <td>Продается хорошая 1 комнатная квартира. 1 взро...</td>\n",
              "      <td>[0.0, 0.0, 0.0, 0.0, 0.0, 1.0, 0.0, 0.0, 0.0, ...</td>\n",
              "      <td>[0.0, 0.0, 0.0, 0.0, 0.0, 1.0, 0.0, 0.0, 0.0, ...</td>\n",
              "      <td>[0.0, 0.0, 1.0, 0.0, 0.0, 0.0, 0.0, 0.0, 0.0, ...</td>\n",
              "      <td>[1.0, 0.0, 0.0, 0.0, 0.0, 0.0, 0.0, 0.0, 0.0, ...</td>\n",
              "    </tr>\n",
              "  </tbody>\n",
              "</table>\n",
              "</div>"
            ],
            "text/plain": [
              "  Комнат  ...                                            Balcony\n",
              "0      1  ...  [1.0, 0.0, 0.0, 0.0, 0.0, 0.0, 0.0, 0.0, 0.0, ...\n",
              "1      1  ...  [0.0, 1.0, 0.0, 0.0, 0.0, 0.0, 0.0, 0.0, 0.0, ...\n",
              "2      1  ...  [0.0, 0.0, 1.0, 0.0, 0.0, 0.0, 0.0, 0.0, 0.0, ...\n",
              "3      1  ...  [0.0, 0.0, 1.0, 0.0, 0.0, 0.0, 0.0, 0.0, 0.0, ...\n",
              "4      1  ...  [1.0, 0.0, 0.0, 0.0, 0.0, 0.0, 0.0, 0.0, 0.0, ...\n",
              "\n",
              "[5 rows x 13 columns]"
            ]
          },
          "metadata": {
            "tags": []
          },
          "execution_count": 20
        }
      ]
    },
    {
      "cell_type": "code",
      "metadata": {
        "colab": {
          "base_uri": "https://localhost:8080/"
        },
        "id": "fJNAZDSemvTA",
        "outputId": "d81cfbfe-f97d-43bb-efc6-abdfbe854194"
      },
      "source": [
        "wcVariants=oneroom_apart['Санузел'].value_counts().index.tolist()\n",
        "wcVariants"
      ],
      "execution_count": null,
      "outputs": [
        {
          "output_type": "execute_result",
          "data": {
            "text/plain": [
              "['С', 'Р', '2', '-', '+', '2С', '2Р', '3', '3С', '4Р', '4', '3Р', '4С']"
            ]
          },
          "metadata": {
            "tags": []
          },
          "execution_count": 21
        }
      ]
    },
    {
      "cell_type": "code",
      "metadata": {
        "colab": {
          "base_uri": "https://localhost:8080/"
        },
        "id": "CvjWMakZm6WR",
        "outputId": "ef7bb598-2c9c-479f-ccfd-740472b30663"
      },
      "source": [
        "#Определяем тип санузла\n",
        "def getWC(wcStr):\n",
        "  if (wcStr == wcStr):\n",
        "    wc = wcVariants.index(wcStr)+1 #Находим индекс строки балкона во всех строках\n",
        "  else:\n",
        "    wc = 0 #Индекс 0 выделяем на строку nan\n",
        "\n",
        "  wc = utils.to_categorical(wc, len(wcVariants)+1)\n",
        "  return wc\n",
        "\n",
        "oneroom_apart['WC']=oneroom_apart['Санузел'].apply(getWC)\n",
        "oneroom_apart.info()"
      ],
      "execution_count": null,
      "outputs": [
        {
          "output_type": "stream",
          "text": [
            "<class 'pandas.core.frame.DataFrame'>\n",
            "Int64Index: 71393 entries, 0 to 126267\n",
            "Data columns (total 14 columns):\n",
            " #   Column              Non-Null Count  Dtype  \n",
            "---  ------              --------------  -----  \n",
            " 0   Комнат              71393 non-null  object \n",
            " 1   Метро / ЖД станции  71142 non-null  object \n",
            " 2   От станции          70207 non-null  object \n",
            " 3   Дом                 71393 non-null  object \n",
            " 4   Балкон              25244 non-null  object \n",
            " 5   Санузел             46852 non-null  object \n",
            " 6   Площадь             71393 non-null  object \n",
            " 7   Цена, руб.          71393 non-null  float64\n",
            " 8   Примечание          70855 non-null  object \n",
            " 9   Metro               71393 non-null  object \n",
            " 10  metroDistance       71393 non-null  object \n",
            " 11  House               71393 non-null  object \n",
            " 12  Balcony             71393 non-null  object \n",
            " 13  WC                  71393 non-null  object \n",
            "dtypes: float64(1), object(13)\n",
            "memory usage: 8.2+ MB\n"
          ],
          "name": "stdout"
        }
      ]
    },
    {
      "cell_type": "code",
      "metadata": {
        "colab": {
          "base_uri": "https://localhost:8080/",
          "height": 562
        },
        "id": "O0oW9KIbtDIN",
        "outputId": "1f4948f6-5ea2-4529-e99c-f48c6fc7a44c"
      },
      "source": [
        "oneroom_apart.head()"
      ],
      "execution_count": null,
      "outputs": [
        {
          "output_type": "execute_result",
          "data": {
            "text/html": [
              "<div>\n",
              "<style scoped>\n",
              "    .dataframe tbody tr th:only-of-type {\n",
              "        vertical-align: middle;\n",
              "    }\n",
              "\n",
              "    .dataframe tbody tr th {\n",
              "        vertical-align: top;\n",
              "    }\n",
              "\n",
              "    .dataframe thead th {\n",
              "        text-align: right;\n",
              "    }\n",
              "</style>\n",
              "<table border=\"1\" class=\"dataframe\">\n",
              "  <thead>\n",
              "    <tr style=\"text-align: right;\">\n",
              "      <th></th>\n",
              "      <th>Комнат</th>\n",
              "      <th>Метро / ЖД станции</th>\n",
              "      <th>От станции</th>\n",
              "      <th>Дом</th>\n",
              "      <th>Балкон</th>\n",
              "      <th>Санузел</th>\n",
              "      <th>Площадь</th>\n",
              "      <th>Цена, руб.</th>\n",
              "      <th>Примечание</th>\n",
              "      <th>Metro</th>\n",
              "      <th>metroDistance</th>\n",
              "      <th>House</th>\n",
              "      <th>Balcony</th>\n",
              "      <th>WC</th>\n",
              "    </tr>\n",
              "  </thead>\n",
              "  <tbody>\n",
              "    <tr>\n",
              "      <th>0</th>\n",
              "      <td>1</td>\n",
              "      <td>шелепиха</td>\n",
              "      <td>12п</td>\n",
              "      <td>35/37 М</td>\n",
              "      <td>NaN</td>\n",
              "      <td>2</td>\n",
              "      <td>64.1/23/20</td>\n",
              "      <td>19500000.0</td>\n",
              "      <td>Собственность оформлена! Ключи на руках! Опера...</td>\n",
              "      <td>[0.0, 1.0, 0.0, 0.0, 0.0, 0.0, 0.0, 0.0, 0.0, ...</td>\n",
              "      <td>[0.0, 0.0, 0.0, 0.0, 1.0, 0.0, 0.0, 0.0, 0.0, ...</td>\n",
              "      <td>[0.0, 0.0, 0.0, 0.0, 0.0, 1.0, 0.0, 0.0, 0.0, ...</td>\n",
              "      <td>[1.0, 0.0, 0.0, 0.0, 0.0, 0.0, 0.0, 0.0, 0.0, ...</td>\n",
              "      <td>[0.0, 0.0, 0.0, 1.0, 0.0, 0.0, 0.0, 0.0, 0.0, ...</td>\n",
              "    </tr>\n",
              "    <tr>\n",
              "      <th>1</th>\n",
              "      <td>1</td>\n",
              "      <td>пятницкое шоссе</td>\n",
              "      <td>30т</td>\n",
              "      <td>11/14 П</td>\n",
              "      <td>Л</td>\n",
              "      <td>Р</td>\n",
              "      <td>38.4/17/9</td>\n",
              "      <td>4800000.0</td>\n",
              "      <td>Зеленоград к.1820 однокомнатная квартира общ.3...</td>\n",
              "      <td>[0.0, 0.0, 1.0, 0.0, 0.0, 0.0, 0.0, 0.0, 0.0, ...</td>\n",
              "      <td>[0.0, 0.0, 0.0, 0.0, 0.0, 0.0, 0.0, 0.0, 0.0, ...</td>\n",
              "      <td>[0.0, 0.0, 0.0, 0.0, 1.0, 0.0, 0.0, 0.0, 0.0, ...</td>\n",
              "      <td>[0.0, 1.0, 0.0, 0.0, 0.0, 0.0, 0.0, 0.0, 0.0, ...</td>\n",
              "      <td>[0.0, 0.0, 1.0, 0.0, 0.0, 0.0, 0.0, 0.0, 0.0, ...</td>\n",
              "    </tr>\n",
              "    <tr>\n",
              "      <th>2</th>\n",
              "      <td>1</td>\n",
              "      <td>планерная</td>\n",
              "      <td>5т</td>\n",
              "      <td>11/22 П</td>\n",
              "      <td>Б</td>\n",
              "      <td>С</td>\n",
              "      <td>38.2/19.9/9.9</td>\n",
              "      <td>7990000.0</td>\n",
              "      <td>Уютная, светлая квартира, застекленный балкон ...</td>\n",
              "      <td>[0.0, 0.0, 0.0, 1.0, 0.0, 0.0, 0.0, 0.0, 0.0, ...</td>\n",
              "      <td>[0.0, 0.0, 0.0, 0.0, 0.0, 0.0, 0.0, 0.0, 0.0, ...</td>\n",
              "      <td>[0.0, 0.0, 0.0, 0.0, 1.0, 0.0, 0.0, 0.0, 0.0, ...</td>\n",
              "      <td>[0.0, 0.0, 1.0, 0.0, 0.0, 0.0, 0.0, 0.0, 0.0, ...</td>\n",
              "      <td>[0.0, 1.0, 0.0, 0.0, 0.0, 0.0, 0.0, 0.0, 0.0, ...</td>\n",
              "    </tr>\n",
              "    <tr>\n",
              "      <th>3</th>\n",
              "      <td>1</td>\n",
              "      <td>шаболовская</td>\n",
              "      <td>12п</td>\n",
              "      <td>8/12 ?</td>\n",
              "      <td>Б</td>\n",
              "      <td>Р</td>\n",
              "      <td>38/15/7</td>\n",
              "      <td>11200000.0</td>\n",
              "      <td>Предлагаю 1- комн квартиру, в шаговой доступно...</td>\n",
              "      <td>[0.0, 0.0, 0.0, 0.0, 1.0, 0.0, 0.0, 0.0, 0.0, ...</td>\n",
              "      <td>[0.0, 0.0, 0.0, 0.0, 1.0, 0.0, 0.0, 0.0, 0.0, ...</td>\n",
              "      <td>[0.0, 0.0, 0.0, 1.0, 0.0, 0.0, 0.0, 0.0, 0.0, ...</td>\n",
              "      <td>[0.0, 0.0, 1.0, 0.0, 0.0, 0.0, 0.0, 0.0, 0.0, ...</td>\n",
              "      <td>[0.0, 0.0, 1.0, 0.0, 0.0, 0.0, 0.0, 0.0, 0.0, ...</td>\n",
              "    </tr>\n",
              "    <tr>\n",
              "      <th>4</th>\n",
              "      <td>1</td>\n",
              "      <td>бабушкинская</td>\n",
              "      <td>15п</td>\n",
              "      <td>4/14 П</td>\n",
              "      <td>NaN</td>\n",
              "      <td>С</td>\n",
              "      <td>34/17/8</td>\n",
              "      <td>6250000.0</td>\n",
              "      <td>Продается хорошая 1 комнатная квартира. 1 взро...</td>\n",
              "      <td>[0.0, 0.0, 0.0, 0.0, 0.0, 1.0, 0.0, 0.0, 0.0, ...</td>\n",
              "      <td>[0.0, 0.0, 0.0, 0.0, 0.0, 1.0, 0.0, 0.0, 0.0, ...</td>\n",
              "      <td>[0.0, 0.0, 1.0, 0.0, 0.0, 0.0, 0.0, 0.0, 0.0, ...</td>\n",
              "      <td>[1.0, 0.0, 0.0, 0.0, 0.0, 0.0, 0.0, 0.0, 0.0, ...</td>\n",
              "      <td>[0.0, 1.0, 0.0, 0.0, 0.0, 0.0, 0.0, 0.0, 0.0, ...</td>\n",
              "    </tr>\n",
              "  </tbody>\n",
              "</table>\n",
              "</div>"
            ],
            "text/plain": [
              "  Комнат  ...                                                 WC\n",
              "0      1  ...  [0.0, 0.0, 0.0, 1.0, 0.0, 0.0, 0.0, 0.0, 0.0, ...\n",
              "1      1  ...  [0.0, 0.0, 1.0, 0.0, 0.0, 0.0, 0.0, 0.0, 0.0, ...\n",
              "2      1  ...  [0.0, 1.0, 0.0, 0.0, 0.0, 0.0, 0.0, 0.0, 0.0, ...\n",
              "3      1  ...  [0.0, 0.0, 1.0, 0.0, 0.0, 0.0, 0.0, 0.0, 0.0, ...\n",
              "4      1  ...  [0.0, 1.0, 0.0, 0.0, 0.0, 0.0, 0.0, 0.0, 0.0, ...\n",
              "\n",
              "[5 rows x 14 columns]"
            ]
          },
          "metadata": {
            "tags": []
          },
          "execution_count": 23
        }
      ]
    },
    {
      "cell_type": "code",
      "metadata": {
        "colab": {
          "base_uri": "https://localhost:8080/"
        },
        "id": "SnQiFem7t2MR",
        "outputId": "eb392d72-b4b9-428c-c840-08d842755ec6"
      },
      "source": [
        "#Определяем общую площадь\n",
        "def getArea(areaStr):\n",
        "  if (\"/\" in areaStr):\n",
        "    slashIndex = areaStr.index(\"/\") #Находим разделитель /\n",
        "    try:\n",
        "      area = float(areaStr[:slashIndex]) #Берём число до разделителя и превращаем в число\n",
        "    except:\n",
        "      area = 0 #Если не получается, возвращаем 0\n",
        "  else:\n",
        "    area = 0 #Или если нет разделителя, возвращаем 0\n",
        "    \n",
        "  return area\n",
        "\n",
        "oneroom_apart['Area']=oneroom_apart['Площадь'].apply(getArea)\n",
        "oneroom_apart.info()"
      ],
      "execution_count": null,
      "outputs": [
        {
          "output_type": "stream",
          "text": [
            "<class 'pandas.core.frame.DataFrame'>\n",
            "Int64Index: 71393 entries, 0 to 126267\n",
            "Data columns (total 15 columns):\n",
            " #   Column              Non-Null Count  Dtype  \n",
            "---  ------              --------------  -----  \n",
            " 0   Комнат              71393 non-null  object \n",
            " 1   Метро / ЖД станции  71142 non-null  object \n",
            " 2   От станции          70207 non-null  object \n",
            " 3   Дом                 71393 non-null  object \n",
            " 4   Балкон              25244 non-null  object \n",
            " 5   Санузел             46852 non-null  object \n",
            " 6   Площадь             71393 non-null  object \n",
            " 7   Цена, руб.          71393 non-null  float64\n",
            " 8   Примечание          70855 non-null  object \n",
            " 9   Metro               71393 non-null  object \n",
            " 10  metroDistance       71393 non-null  object \n",
            " 11  House               71393 non-null  object \n",
            " 12  Balcony             71393 non-null  object \n",
            " 13  WC                  71393 non-null  object \n",
            " 14  Area                71393 non-null  float64\n",
            "dtypes: float64(2), object(13)\n",
            "memory usage: 8.7+ MB\n"
          ],
          "name": "stdout"
        }
      ]
    },
    {
      "cell_type": "code",
      "metadata": {
        "colab": {
          "base_uri": "https://localhost:8080/",
          "height": 562
        },
        "id": "SmpIS07Jufkb",
        "outputId": "2501b538-9c11-4529-b50f-e1f4c6e07e7d"
      },
      "source": [
        "oneroom_apart.head()"
      ],
      "execution_count": null,
      "outputs": [
        {
          "output_type": "execute_result",
          "data": {
            "text/html": [
              "<div>\n",
              "<style scoped>\n",
              "    .dataframe tbody tr th:only-of-type {\n",
              "        vertical-align: middle;\n",
              "    }\n",
              "\n",
              "    .dataframe tbody tr th {\n",
              "        vertical-align: top;\n",
              "    }\n",
              "\n",
              "    .dataframe thead th {\n",
              "        text-align: right;\n",
              "    }\n",
              "</style>\n",
              "<table border=\"1\" class=\"dataframe\">\n",
              "  <thead>\n",
              "    <tr style=\"text-align: right;\">\n",
              "      <th></th>\n",
              "      <th>Комнат</th>\n",
              "      <th>Метро / ЖД станции</th>\n",
              "      <th>От станции</th>\n",
              "      <th>Дом</th>\n",
              "      <th>Балкон</th>\n",
              "      <th>Санузел</th>\n",
              "      <th>Площадь</th>\n",
              "      <th>Цена, руб.</th>\n",
              "      <th>Примечание</th>\n",
              "      <th>Metro</th>\n",
              "      <th>metroDistance</th>\n",
              "      <th>House</th>\n",
              "      <th>Balcony</th>\n",
              "      <th>WC</th>\n",
              "      <th>Area</th>\n",
              "    </tr>\n",
              "  </thead>\n",
              "  <tbody>\n",
              "    <tr>\n",
              "      <th>0</th>\n",
              "      <td>1</td>\n",
              "      <td>шелепиха</td>\n",
              "      <td>12п</td>\n",
              "      <td>35/37 М</td>\n",
              "      <td>NaN</td>\n",
              "      <td>2</td>\n",
              "      <td>64.1/23/20</td>\n",
              "      <td>19500000.0</td>\n",
              "      <td>Собственность оформлена! Ключи на руках! Опера...</td>\n",
              "      <td>[0.0, 1.0, 0.0, 0.0, 0.0, 0.0, 0.0, 0.0, 0.0, ...</td>\n",
              "      <td>[0.0, 0.0, 0.0, 0.0, 1.0, 0.0, 0.0, 0.0, 0.0, ...</td>\n",
              "      <td>[0.0, 0.0, 0.0, 0.0, 0.0, 1.0, 0.0, 0.0, 0.0, ...</td>\n",
              "      <td>[1.0, 0.0, 0.0, 0.0, 0.0, 0.0, 0.0, 0.0, 0.0, ...</td>\n",
              "      <td>[0.0, 0.0, 0.0, 1.0, 0.0, 0.0, 0.0, 0.0, 0.0, ...</td>\n",
              "      <td>64.1</td>\n",
              "    </tr>\n",
              "    <tr>\n",
              "      <th>1</th>\n",
              "      <td>1</td>\n",
              "      <td>пятницкое шоссе</td>\n",
              "      <td>30т</td>\n",
              "      <td>11/14 П</td>\n",
              "      <td>Л</td>\n",
              "      <td>Р</td>\n",
              "      <td>38.4/17/9</td>\n",
              "      <td>4800000.0</td>\n",
              "      <td>Зеленоград к.1820 однокомнатная квартира общ.3...</td>\n",
              "      <td>[0.0, 0.0, 1.0, 0.0, 0.0, 0.0, 0.0, 0.0, 0.0, ...</td>\n",
              "      <td>[0.0, 0.0, 0.0, 0.0, 0.0, 0.0, 0.0, 0.0, 0.0, ...</td>\n",
              "      <td>[0.0, 0.0, 0.0, 0.0, 1.0, 0.0, 0.0, 0.0, 0.0, ...</td>\n",
              "      <td>[0.0, 1.0, 0.0, 0.0, 0.0, 0.0, 0.0, 0.0, 0.0, ...</td>\n",
              "      <td>[0.0, 0.0, 1.0, 0.0, 0.0, 0.0, 0.0, 0.0, 0.0, ...</td>\n",
              "      <td>38.4</td>\n",
              "    </tr>\n",
              "    <tr>\n",
              "      <th>2</th>\n",
              "      <td>1</td>\n",
              "      <td>планерная</td>\n",
              "      <td>5т</td>\n",
              "      <td>11/22 П</td>\n",
              "      <td>Б</td>\n",
              "      <td>С</td>\n",
              "      <td>38.2/19.9/9.9</td>\n",
              "      <td>7990000.0</td>\n",
              "      <td>Уютная, светлая квартира, застекленный балкон ...</td>\n",
              "      <td>[0.0, 0.0, 0.0, 1.0, 0.0, 0.0, 0.0, 0.0, 0.0, ...</td>\n",
              "      <td>[0.0, 0.0, 0.0, 0.0, 0.0, 0.0, 0.0, 0.0, 0.0, ...</td>\n",
              "      <td>[0.0, 0.0, 0.0, 0.0, 1.0, 0.0, 0.0, 0.0, 0.0, ...</td>\n",
              "      <td>[0.0, 0.0, 1.0, 0.0, 0.0, 0.0, 0.0, 0.0, 0.0, ...</td>\n",
              "      <td>[0.0, 1.0, 0.0, 0.0, 0.0, 0.0, 0.0, 0.0, 0.0, ...</td>\n",
              "      <td>38.2</td>\n",
              "    </tr>\n",
              "    <tr>\n",
              "      <th>3</th>\n",
              "      <td>1</td>\n",
              "      <td>шаболовская</td>\n",
              "      <td>12п</td>\n",
              "      <td>8/12 ?</td>\n",
              "      <td>Б</td>\n",
              "      <td>Р</td>\n",
              "      <td>38/15/7</td>\n",
              "      <td>11200000.0</td>\n",
              "      <td>Предлагаю 1- комн квартиру, в шаговой доступно...</td>\n",
              "      <td>[0.0, 0.0, 0.0, 0.0, 1.0, 0.0, 0.0, 0.0, 0.0, ...</td>\n",
              "      <td>[0.0, 0.0, 0.0, 0.0, 1.0, 0.0, 0.0, 0.0, 0.0, ...</td>\n",
              "      <td>[0.0, 0.0, 0.0, 1.0, 0.0, 0.0, 0.0, 0.0, 0.0, ...</td>\n",
              "      <td>[0.0, 0.0, 1.0, 0.0, 0.0, 0.0, 0.0, 0.0, 0.0, ...</td>\n",
              "      <td>[0.0, 0.0, 1.0, 0.0, 0.0, 0.0, 0.0, 0.0, 0.0, ...</td>\n",
              "      <td>38.0</td>\n",
              "    </tr>\n",
              "    <tr>\n",
              "      <th>4</th>\n",
              "      <td>1</td>\n",
              "      <td>бабушкинская</td>\n",
              "      <td>15п</td>\n",
              "      <td>4/14 П</td>\n",
              "      <td>NaN</td>\n",
              "      <td>С</td>\n",
              "      <td>34/17/8</td>\n",
              "      <td>6250000.0</td>\n",
              "      <td>Продается хорошая 1 комнатная квартира. 1 взро...</td>\n",
              "      <td>[0.0, 0.0, 0.0, 0.0, 0.0, 1.0, 0.0, 0.0, 0.0, ...</td>\n",
              "      <td>[0.0, 0.0, 0.0, 0.0, 0.0, 1.0, 0.0, 0.0, 0.0, ...</td>\n",
              "      <td>[0.0, 0.0, 1.0, 0.0, 0.0, 0.0, 0.0, 0.0, 0.0, ...</td>\n",
              "      <td>[1.0, 0.0, 0.0, 0.0, 0.0, 0.0, 0.0, 0.0, 0.0, ...</td>\n",
              "      <td>[0.0, 1.0, 0.0, 0.0, 0.0, 0.0, 0.0, 0.0, 0.0, ...</td>\n",
              "      <td>34.0</td>\n",
              "    </tr>\n",
              "  </tbody>\n",
              "</table>\n",
              "</div>"
            ],
            "text/plain": [
              "  Комнат  ...  Area\n",
              "0      1  ...  64.1\n",
              "1      1  ...  38.4\n",
              "2      1  ...  38.2\n",
              "3      1  ...  38.0\n",
              "4      1  ...  34.0\n",
              "\n",
              "[5 rows x 15 columns]"
            ]
          },
          "metadata": {
            "tags": []
          },
          "execution_count": 25
        }
      ]
    },
    {
      "cell_type": "code",
      "metadata": {
        "colab": {
          "base_uri": "https://localhost:8080/"
        },
        "id": "2of8bn8XvT5a",
        "outputId": "5ae9a7f6-45bb-42d5-b54b-9e215e02ca80"
      },
      "source": [
        "#Полуаем цену\n",
        "def getCost(costStr):\n",
        "  try:\n",
        "    cost = float(costStr) #Пробуем превратить в число\n",
        "  except:\n",
        "    cost = 0 #Если не получается, возвращаем 0\n",
        "  return cost\n",
        "\n",
        "oneroom_apart['Cost']=oneroom_apart['Цена, руб.'].apply(getCost)\n",
        "oneroom_apart.info()"
      ],
      "execution_count": null,
      "outputs": [
        {
          "output_type": "stream",
          "text": [
            "<class 'pandas.core.frame.DataFrame'>\n",
            "Int64Index: 71393 entries, 0 to 126267\n",
            "Data columns (total 16 columns):\n",
            " #   Column              Non-Null Count  Dtype  \n",
            "---  ------              --------------  -----  \n",
            " 0   Комнат              71393 non-null  object \n",
            " 1   Метро / ЖД станции  71142 non-null  object \n",
            " 2   От станции          70207 non-null  object \n",
            " 3   Дом                 71393 non-null  object \n",
            " 4   Балкон              25244 non-null  object \n",
            " 5   Санузел             46852 non-null  object \n",
            " 6   Площадь             71393 non-null  object \n",
            " 7   Цена, руб.          71393 non-null  float64\n",
            " 8   Примечание          70855 non-null  object \n",
            " 9   Metro               71393 non-null  object \n",
            " 10  metroDistance       71393 non-null  object \n",
            " 11  House               71393 non-null  object \n",
            " 12  Balcony             71393 non-null  object \n",
            " 13  WC                  71393 non-null  object \n",
            " 14  Area                71393 non-null  float64\n",
            " 15  Cost                71393 non-null  float64\n",
            "dtypes: float64(3), object(13)\n",
            "memory usage: 9.3+ MB\n"
          ],
          "name": "stdout"
        }
      ]
    },
    {
      "cell_type": "code",
      "metadata": {
        "colab": {
          "base_uri": "https://localhost:8080/",
          "height": 903
        },
        "id": "JWuY-yOivjEb",
        "outputId": "f71fe3cd-4c9f-4181-d39a-40ee9f3dd14d"
      },
      "source": [
        "oneroom_apart.head()"
      ],
      "execution_count": null,
      "outputs": [
        {
          "output_type": "execute_result",
          "data": {
            "text/html": [
              "<div>\n",
              "<style scoped>\n",
              "    .dataframe tbody tr th:only-of-type {\n",
              "        vertical-align: middle;\n",
              "    }\n",
              "\n",
              "    .dataframe tbody tr th {\n",
              "        vertical-align: top;\n",
              "    }\n",
              "\n",
              "    .dataframe thead th {\n",
              "        text-align: right;\n",
              "    }\n",
              "</style>\n",
              "<table border=\"1\" class=\"dataframe\">\n",
              "  <thead>\n",
              "    <tr style=\"text-align: right;\">\n",
              "      <th></th>\n",
              "      <th>Комнат</th>\n",
              "      <th>Метро / ЖД станции</th>\n",
              "      <th>От станции</th>\n",
              "      <th>Дом</th>\n",
              "      <th>Балкон</th>\n",
              "      <th>Санузел</th>\n",
              "      <th>Площадь</th>\n",
              "      <th>Цена, руб.</th>\n",
              "      <th>Примечание</th>\n",
              "      <th>Metro</th>\n",
              "      <th>metroDistance</th>\n",
              "      <th>House</th>\n",
              "      <th>Balcony</th>\n",
              "      <th>WC</th>\n",
              "      <th>Area</th>\n",
              "      <th>Cost</th>\n",
              "    </tr>\n",
              "  </thead>\n",
              "  <tbody>\n",
              "    <tr>\n",
              "      <th>0</th>\n",
              "      <td>1</td>\n",
              "      <td>шелепиха</td>\n",
              "      <td>12п</td>\n",
              "      <td>35/37 М</td>\n",
              "      <td>NaN</td>\n",
              "      <td>2</td>\n",
              "      <td>64.1/23/20</td>\n",
              "      <td>19500000.0</td>\n",
              "      <td>Собственность оформлена! Ключи на руках! Опера...</td>\n",
              "      <td>[0.0, 1.0, 0.0, 0.0, 0.0, 0.0, 0.0, 0.0, 0.0, ...</td>\n",
              "      <td>[0.0, 0.0, 0.0, 0.0, 1.0, 0.0, 0.0, 0.0, 0.0, ...</td>\n",
              "      <td>[0.0, 0.0, 0.0, 0.0, 0.0, 1.0, 0.0, 0.0, 0.0, ...</td>\n",
              "      <td>[1.0, 0.0, 0.0, 0.0, 0.0, 0.0, 0.0, 0.0, 0.0, ...</td>\n",
              "      <td>[0.0, 0.0, 0.0, 1.0, 0.0, 0.0, 0.0, 0.0, 0.0, ...</td>\n",
              "      <td>64.1</td>\n",
              "      <td>19500000.0</td>\n",
              "    </tr>\n",
              "    <tr>\n",
              "      <th>1</th>\n",
              "      <td>1</td>\n",
              "      <td>пятницкое шоссе</td>\n",
              "      <td>30т</td>\n",
              "      <td>11/14 П</td>\n",
              "      <td>Л</td>\n",
              "      <td>Р</td>\n",
              "      <td>38.4/17/9</td>\n",
              "      <td>4800000.0</td>\n",
              "      <td>Зеленоград к.1820 однокомнатная квартира общ.3...</td>\n",
              "      <td>[0.0, 0.0, 1.0, 0.0, 0.0, 0.0, 0.0, 0.0, 0.0, ...</td>\n",
              "      <td>[0.0, 0.0, 0.0, 0.0, 0.0, 0.0, 0.0, 0.0, 0.0, ...</td>\n",
              "      <td>[0.0, 0.0, 0.0, 0.0, 1.0, 0.0, 0.0, 0.0, 0.0, ...</td>\n",
              "      <td>[0.0, 1.0, 0.0, 0.0, 0.0, 0.0, 0.0, 0.0, 0.0, ...</td>\n",
              "      <td>[0.0, 0.0, 1.0, 0.0, 0.0, 0.0, 0.0, 0.0, 0.0, ...</td>\n",
              "      <td>38.4</td>\n",
              "      <td>4800000.0</td>\n",
              "    </tr>\n",
              "    <tr>\n",
              "      <th>2</th>\n",
              "      <td>1</td>\n",
              "      <td>планерная</td>\n",
              "      <td>5т</td>\n",
              "      <td>11/22 П</td>\n",
              "      <td>Б</td>\n",
              "      <td>С</td>\n",
              "      <td>38.2/19.9/9.9</td>\n",
              "      <td>7990000.0</td>\n",
              "      <td>Уютная, светлая квартира, застекленный балкон ...</td>\n",
              "      <td>[0.0, 0.0, 0.0, 1.0, 0.0, 0.0, 0.0, 0.0, 0.0, ...</td>\n",
              "      <td>[0.0, 0.0, 0.0, 0.0, 0.0, 0.0, 0.0, 0.0, 0.0, ...</td>\n",
              "      <td>[0.0, 0.0, 0.0, 0.0, 1.0, 0.0, 0.0, 0.0, 0.0, ...</td>\n",
              "      <td>[0.0, 0.0, 1.0, 0.0, 0.0, 0.0, 0.0, 0.0, 0.0, ...</td>\n",
              "      <td>[0.0, 1.0, 0.0, 0.0, 0.0, 0.0, 0.0, 0.0, 0.0, ...</td>\n",
              "      <td>38.2</td>\n",
              "      <td>7990000.0</td>\n",
              "    </tr>\n",
              "    <tr>\n",
              "      <th>3</th>\n",
              "      <td>1</td>\n",
              "      <td>шаболовская</td>\n",
              "      <td>12п</td>\n",
              "      <td>8/12 ?</td>\n",
              "      <td>Б</td>\n",
              "      <td>Р</td>\n",
              "      <td>38/15/7</td>\n",
              "      <td>11200000.0</td>\n",
              "      <td>Предлагаю 1- комн квартиру, в шаговой доступно...</td>\n",
              "      <td>[0.0, 0.0, 0.0, 0.0, 1.0, 0.0, 0.0, 0.0, 0.0, ...</td>\n",
              "      <td>[0.0, 0.0, 0.0, 0.0, 1.0, 0.0, 0.0, 0.0, 0.0, ...</td>\n",
              "      <td>[0.0, 0.0, 0.0, 1.0, 0.0, 0.0, 0.0, 0.0, 0.0, ...</td>\n",
              "      <td>[0.0, 0.0, 1.0, 0.0, 0.0, 0.0, 0.0, 0.0, 0.0, ...</td>\n",
              "      <td>[0.0, 0.0, 1.0, 0.0, 0.0, 0.0, 0.0, 0.0, 0.0, ...</td>\n",
              "      <td>38.0</td>\n",
              "      <td>11200000.0</td>\n",
              "    </tr>\n",
              "    <tr>\n",
              "      <th>4</th>\n",
              "      <td>1</td>\n",
              "      <td>бабушкинская</td>\n",
              "      <td>15п</td>\n",
              "      <td>4/14 П</td>\n",
              "      <td>NaN</td>\n",
              "      <td>С</td>\n",
              "      <td>34/17/8</td>\n",
              "      <td>6250000.0</td>\n",
              "      <td>Продается хорошая 1 комнатная квартира. 1 взро...</td>\n",
              "      <td>[0.0, 0.0, 0.0, 0.0, 0.0, 1.0, 0.0, 0.0, 0.0, ...</td>\n",
              "      <td>[0.0, 0.0, 0.0, 0.0, 0.0, 1.0, 0.0, 0.0, 0.0, ...</td>\n",
              "      <td>[0.0, 0.0, 1.0, 0.0, 0.0, 0.0, 0.0, 0.0, 0.0, ...</td>\n",
              "      <td>[1.0, 0.0, 0.0, 0.0, 0.0, 0.0, 0.0, 0.0, 0.0, ...</td>\n",
              "      <td>[0.0, 1.0, 0.0, 0.0, 0.0, 0.0, 0.0, 0.0, 0.0, ...</td>\n",
              "      <td>34.0</td>\n",
              "      <td>6250000.0</td>\n",
              "    </tr>\n",
              "  </tbody>\n",
              "</table>\n",
              "</div>"
            ],
            "text/plain": [
              "  Комнат Метро / ЖД станции  ...  Area        Cost\n",
              "0      1           шелепиха  ...  64.1  19500000.0\n",
              "1      1    пятницкое шоссе  ...  38.4   4800000.0\n",
              "2      1          планерная  ...  38.2   7990000.0\n",
              "3      1        шаболовская  ...  38.0  11200000.0\n",
              "4      1       бабушкинская  ...  34.0   6250000.0\n",
              "\n",
              "[5 rows x 16 columns]"
            ]
          },
          "metadata": {
            "tags": []
          },
          "execution_count": 27
        }
      ]
    },
    {
      "cell_type": "code",
      "metadata": {
        "colab": {
          "base_uri": "https://localhost:8080/",
          "height": 1000
        },
        "id": "lk-Kr2yrorFU",
        "outputId": "a66eabdf-30ab-4974-894e-b5dbf1cea989"
      },
      "source": [
        "def text2Words(text):\n",
        "  text=str(text)\n",
        "  #Удаляем лишние символы\n",
        "  text = text.replace(\".\", \"\")# удаляем лишние символы\n",
        "  text = text.replace(\"—\", \"\")\n",
        "  text = text.replace(\",\", \"\")\n",
        "  text = text.replace(\"!\", \"\")\n",
        "  text = text.replace(\"?\", \"\")\n",
        "  text = text.replace(\"…\", \"\")\n",
        "  text = text.lower() #Переводим в нижний регистр\n",
        "\n",
        "  words = [] #Тут будут все слов\n",
        "  currWord = \"\" #Тут будет накапливаться текущее слово, между двумя пробелами\n",
        "\n",
        "  #идём по всем символам\n",
        "  for symbol in text:\n",
        "    \n",
        "    if (symbol != \"\\ufeff\"): #Игнорируем системынй символ в начале строки\n",
        "      if (symbol != \" \"): #Если символ не пробел\n",
        "        currWord += symbol #То добавляем вимвол в текущее слово\n",
        "      else: #Если символ пробел\n",
        "        if (currWord != \"\"): \n",
        "          words.append(currWord) #Добавляем тккущее слово в список слов\n",
        "          currWord = \"\" #И обнуляем текущее слово\n",
        "\n",
        "  #Добавляем финальное слово, если оно не пустое\n",
        "  #Если не сделать, то потеряем финальное слово, потому что текст чаще всего заканчивается на не пробел\n",
        "  if (currWord != \"\"):\n",
        "        words.append(currWord)\n",
        "  \n",
        "  return words\n",
        "\n",
        "oneroom_apart['Text']=oneroom_apart['Примечание'].apply(text2Words)\n",
        "oneroom_apart.head()"
      ],
      "execution_count": null,
      "outputs": [
        {
          "output_type": "execute_result",
          "data": {
            "text/html": [
              "<div>\n",
              "<style scoped>\n",
              "    .dataframe tbody tr th:only-of-type {\n",
              "        vertical-align: middle;\n",
              "    }\n",
              "\n",
              "    .dataframe tbody tr th {\n",
              "        vertical-align: top;\n",
              "    }\n",
              "\n",
              "    .dataframe thead th {\n",
              "        text-align: right;\n",
              "    }\n",
              "</style>\n",
              "<table border=\"1\" class=\"dataframe\">\n",
              "  <thead>\n",
              "    <tr style=\"text-align: right;\">\n",
              "      <th></th>\n",
              "      <th>Комнат</th>\n",
              "      <th>Метро / ЖД станции</th>\n",
              "      <th>От станции</th>\n",
              "      <th>Дом</th>\n",
              "      <th>Балкон</th>\n",
              "      <th>Санузел</th>\n",
              "      <th>Площадь</th>\n",
              "      <th>Цена, руб.</th>\n",
              "      <th>Примечание</th>\n",
              "      <th>Metro</th>\n",
              "      <th>metroDistance</th>\n",
              "      <th>House</th>\n",
              "      <th>Balcony</th>\n",
              "      <th>WC</th>\n",
              "      <th>Area</th>\n",
              "      <th>Cost</th>\n",
              "      <th>Text</th>\n",
              "    </tr>\n",
              "  </thead>\n",
              "  <tbody>\n",
              "    <tr>\n",
              "      <th>0</th>\n",
              "      <td>1</td>\n",
              "      <td>шелепиха</td>\n",
              "      <td>12п</td>\n",
              "      <td>35/37 М</td>\n",
              "      <td>NaN</td>\n",
              "      <td>2</td>\n",
              "      <td>64.1/23/20</td>\n",
              "      <td>19500000.0</td>\n",
              "      <td>Собственность оформлена! Ключи на руках! Опера...</td>\n",
              "      <td>[0.0, 1.0, 0.0, 0.0, 0.0, 0.0, 0.0, 0.0, 0.0, ...</td>\n",
              "      <td>[0.0, 0.0, 0.0, 0.0, 1.0, 0.0, 0.0, 0.0, 0.0, ...</td>\n",
              "      <td>[0.0, 0.0, 0.0, 0.0, 0.0, 1.0, 0.0, 0.0, 0.0, ...</td>\n",
              "      <td>[1.0, 0.0, 0.0, 0.0, 0.0, 0.0, 0.0, 0.0, 0.0, ...</td>\n",
              "      <td>[0.0, 0.0, 0.0, 1.0, 0.0, 0.0, 0.0, 0.0, 0.0, ...</td>\n",
              "      <td>64.1</td>\n",
              "      <td>19500000.0</td>\n",
              "      <td>[собственность, оформлена, ключи, на, руках, о...</td>\n",
              "    </tr>\n",
              "    <tr>\n",
              "      <th>1</th>\n",
              "      <td>1</td>\n",
              "      <td>пятницкое шоссе</td>\n",
              "      <td>30т</td>\n",
              "      <td>11/14 П</td>\n",
              "      <td>Л</td>\n",
              "      <td>Р</td>\n",
              "      <td>38.4/17/9</td>\n",
              "      <td>4800000.0</td>\n",
              "      <td>Зеленоград к.1820 однокомнатная квартира общ.3...</td>\n",
              "      <td>[0.0, 0.0, 1.0, 0.0, 0.0, 0.0, 0.0, 0.0, 0.0, ...</td>\n",
              "      <td>[0.0, 0.0, 0.0, 0.0, 0.0, 0.0, 0.0, 0.0, 0.0, ...</td>\n",
              "      <td>[0.0, 0.0, 0.0, 0.0, 1.0, 0.0, 0.0, 0.0, 0.0, ...</td>\n",
              "      <td>[0.0, 1.0, 0.0, 0.0, 0.0, 0.0, 0.0, 0.0, 0.0, ...</td>\n",
              "      <td>[0.0, 0.0, 1.0, 0.0, 0.0, 0.0, 0.0, 0.0, 0.0, ...</td>\n",
              "      <td>38.4</td>\n",
              "      <td>4800000.0</td>\n",
              "      <td>[зеленоград, к1820, однокомнатная, квартира, о...</td>\n",
              "    </tr>\n",
              "    <tr>\n",
              "      <th>2</th>\n",
              "      <td>1</td>\n",
              "      <td>планерная</td>\n",
              "      <td>5т</td>\n",
              "      <td>11/22 П</td>\n",
              "      <td>Б</td>\n",
              "      <td>С</td>\n",
              "      <td>38.2/19.9/9.9</td>\n",
              "      <td>7990000.0</td>\n",
              "      <td>Уютная, светлая квартира, застекленный балкон ...</td>\n",
              "      <td>[0.0, 0.0, 0.0, 1.0, 0.0, 0.0, 0.0, 0.0, 0.0, ...</td>\n",
              "      <td>[0.0, 0.0, 0.0, 0.0, 0.0, 0.0, 0.0, 0.0, 0.0, ...</td>\n",
              "      <td>[0.0, 0.0, 0.0, 0.0, 1.0, 0.0, 0.0, 0.0, 0.0, ...</td>\n",
              "      <td>[0.0, 0.0, 1.0, 0.0, 0.0, 0.0, 0.0, 0.0, 0.0, ...</td>\n",
              "      <td>[0.0, 1.0, 0.0, 0.0, 0.0, 0.0, 0.0, 0.0, 0.0, ...</td>\n",
              "      <td>38.2</td>\n",
              "      <td>7990000.0</td>\n",
              "      <td>[уютная, светлая, квартира, застекленный, балк...</td>\n",
              "    </tr>\n",
              "    <tr>\n",
              "      <th>3</th>\n",
              "      <td>1</td>\n",
              "      <td>шаболовская</td>\n",
              "      <td>12п</td>\n",
              "      <td>8/12 ?</td>\n",
              "      <td>Б</td>\n",
              "      <td>Р</td>\n",
              "      <td>38/15/7</td>\n",
              "      <td>11200000.0</td>\n",
              "      <td>Предлагаю 1- комн квартиру, в шаговой доступно...</td>\n",
              "      <td>[0.0, 0.0, 0.0, 0.0, 1.0, 0.0, 0.0, 0.0, 0.0, ...</td>\n",
              "      <td>[0.0, 0.0, 0.0, 0.0, 1.0, 0.0, 0.0, 0.0, 0.0, ...</td>\n",
              "      <td>[0.0, 0.0, 0.0, 1.0, 0.0, 0.0, 0.0, 0.0, 0.0, ...</td>\n",
              "      <td>[0.0, 0.0, 1.0, 0.0, 0.0, 0.0, 0.0, 0.0, 0.0, ...</td>\n",
              "      <td>[0.0, 0.0, 1.0, 0.0, 0.0, 0.0, 0.0, 0.0, 0.0, ...</td>\n",
              "      <td>38.0</td>\n",
              "      <td>11200000.0</td>\n",
              "      <td>[предлагаю, 1-, комн, квартиру, в, шаговой, до...</td>\n",
              "    </tr>\n",
              "    <tr>\n",
              "      <th>4</th>\n",
              "      <td>1</td>\n",
              "      <td>бабушкинская</td>\n",
              "      <td>15п</td>\n",
              "      <td>4/14 П</td>\n",
              "      <td>NaN</td>\n",
              "      <td>С</td>\n",
              "      <td>34/17/8</td>\n",
              "      <td>6250000.0</td>\n",
              "      <td>Продается хорошая 1 комнатная квартира. 1 взро...</td>\n",
              "      <td>[0.0, 0.0, 0.0, 0.0, 0.0, 1.0, 0.0, 0.0, 0.0, ...</td>\n",
              "      <td>[0.0, 0.0, 0.0, 0.0, 0.0, 1.0, 0.0, 0.0, 0.0, ...</td>\n",
              "      <td>[0.0, 0.0, 1.0, 0.0, 0.0, 0.0, 0.0, 0.0, 0.0, ...</td>\n",
              "      <td>[1.0, 0.0, 0.0, 0.0, 0.0, 0.0, 0.0, 0.0, 0.0, ...</td>\n",
              "      <td>[0.0, 1.0, 0.0, 0.0, 0.0, 0.0, 0.0, 0.0, 0.0, ...</td>\n",
              "      <td>34.0</td>\n",
              "      <td>6250000.0</td>\n",
              "      <td>[продается, хорошая, 1, комнатная, квартира, 1...</td>\n",
              "    </tr>\n",
              "  </tbody>\n",
              "</table>\n",
              "</div>"
            ],
            "text/plain": [
              "  Комнат  ...                                               Text\n",
              "0      1  ...  [собственность, оформлена, ключи, на, руках, о...\n",
              "1      1  ...  [зеленоград, к1820, однокомнатная, квартира, о...\n",
              "2      1  ...  [уютная, светлая, квартира, застекленный, балк...\n",
              "3      1  ...  [предлагаю, 1-, комн, квартиру, в, шаговой, до...\n",
              "4      1  ...  [продается, хорошая, 1, комнатная, квартира, 1...\n",
              "\n",
              "[5 rows x 17 columns]"
            ]
          },
          "metadata": {
            "tags": []
          },
          "execution_count": 28
        }
      ]
    },
    {
      "cell_type": "markdown",
      "metadata": {
        "id": "0MREqkKwZjGC"
      },
      "source": [
        "**4. Формируем обучающую выборку**"
      ]
    },
    {
      "cell_type": "code",
      "metadata": {
        "colab": {
          "base_uri": "https://localhost:8080/"
        },
        "id": "0VqpI1x_wGtN",
        "outputId": "c9ed7770-03e5-42e9-aa9d-bd29d18d99f4"
      },
      "source": [
        "data = oneroom_apart.values\n",
        "data.shape"
      ],
      "execution_count": null,
      "outputs": [
        {
          "output_type": "execute_result",
          "data": {
            "text/plain": [
              "(71393, 17)"
            ]
          },
          "metadata": {
            "tags": []
          },
          "execution_count": 29
        }
      ]
    },
    {
      "cell_type": "code",
      "metadata": {
        "colab": {
          "base_uri": "https://localhost:8080/"
        },
        "id": "vrCzVw2vwymz",
        "outputId": "57762d29-5753-4d95-bf35-59ffb613ccbd"
      },
      "source": [
        "x_train=[]\n",
        "y_train=[]\n",
        "x_train_text=[]\n",
        "for d in data:\n",
        "  metro=d[9].tolist()\n",
        "  metrodistance=d[10].tolist()\n",
        "  house=d[11]\n",
        "  balcony=d[12].tolist()\n",
        "  wc=d[13].tolist()\n",
        "  area=d[14]\n",
        "  cost=d[15]\n",
        "  text=d[16]\n",
        "  raw=metro+metrodistance+house+balcony+wc\n",
        "  raw.append(area)\n",
        "  x_train.append(raw)\n",
        "  y_train.append(cost)\n",
        "  x_train_text.append(text)\n",
        "\n",
        "print(len(x_train))\n",
        "print(len(y_train))\n",
        "print(len(x_train_text))"
      ],
      "execution_count": null,
      "outputs": [
        {
          "output_type": "stream",
          "text": [
            "71393\n",
            "71393\n",
            "71393\n"
          ],
          "name": "stdout"
        }
      ]
    },
    {
      "cell_type": "markdown",
      "metadata": {
        "id": "h0qK9xMaZxgP"
      },
      "source": [
        "**5. Преобразование Текста в BOW**"
      ]
    },
    {
      "cell_type": "code",
      "metadata": {
        "colab": {
          "base_uri": "https://localhost:8080/"
        },
        "id": "xK8W9uI_pKFR",
        "outputId": "77f2f86f-97d6-4da3-f0a6-764ed5f63089"
      },
      "source": [
        "max_words_qty=2000\n",
        "toks=Tokenizer(num_words=max_words_qty, filters='!\"#$%&()*+,-–—./…:;<=>?@[\\\\]^_`{|}~«»\\t\\n\\xa0\\ufeff', lower=True, split=\" \",\n",
        "                 oov_token='unknown', char_level=False) #create tokenizer model based on words frequency\n",
        "toks.fit_on_texts(x_train_text) #apply tokens to train texts\n",
        "freq_items=list(toks.word_index.items()) #extracting words with their indexes\n",
        "print(len(freq_items))\n",
        "freq_items[:10]"
      ],
      "execution_count": null,
      "outputs": [
        {
          "output_type": "stream",
          "text": [
            "124428\n"
          ],
          "name": "stdout"
        },
        {
          "output_type": "execute_result",
          "data": {
            "text/plain": [
              "[('unknown', 1),\n",
              " ('в', 2),\n",
              " ('и', 3),\n",
              " ('на', 4),\n",
              " ('с', 5),\n",
              " ('от', 6),\n",
              " ('-', 7),\n",
              " ('квартира', 8),\n",
              " ('для', 9),\n",
              " ('метро', 10)]"
            ]
          },
          "metadata": {
            "tags": []
          },
          "execution_count": 31
        }
      ]
    },
    {
      "cell_type": "code",
      "metadata": {
        "colab": {
          "base_uri": "https://localhost:8080/"
        },
        "id": "C064BKEHqMfS",
        "outputId": "008027ed-d73a-4df2-b4d3-cd6db6d874a1"
      },
      "source": [
        "train_word_indexes=toks.texts_to_sequences(x_train_text) #convert train texts into indexes\n",
        "print(x_train_text[2][:15])\n",
        "print(train_word_indexes [2][:12])"
      ],
      "execution_count": null,
      "outputs": [
        {
          "output_type": "stream",
          "text": [
            "['уютная', 'светлая', 'квартира', 'застекленный', 'балкон', 'на', 'кухне', 'кондиционер', 'район', 'с', 'развитой', 'инфраструктурой', '-', 'магазины', 'детские']\n",
            "[210, 206, 8, 1464, 241, 4, 624, 613, 68, 5, 150, 126]\n"
          ],
          "name": "stdout"
        }
      ]
    },
    {
      "cell_type": "code",
      "metadata": {
        "id": "u3Eyik5WvIAI"
      },
      "source": [
        "def changeXTo01(trainVector, wordsCount): # create BOW\n",
        "  #Создаём вектор длины wordsCount с нулями\n",
        "  out = np.zeros(wordsCount)\n",
        "  \n",
        "  #Идём по всем индексам в строке\n",
        "  for x in trainVector:\n",
        "    out[x] = 1 #В позицию нужного индекса ставим 1\n",
        "    \n",
        "  return out"
      ],
      "execution_count": null,
      "outputs": []
    },
    {
      "cell_type": "code",
      "metadata": {
        "colab": {
          "base_uri": "https://localhost:8080/"
        },
        "id": "og3VMJxuv3BQ",
        "outputId": "f6234ec1-23a1-4779-9fb4-d07f94b7b1b1"
      },
      "source": [
        "train_word_indexes01=[]\n",
        "for t in train_word_indexes:\n",
        "  text_indexes=changeXTo01(t, 2000)\n",
        "  train_word_indexes01.append(text_indexes)\n",
        "len(train_word_indexes01)"
      ],
      "execution_count": null,
      "outputs": [
        {
          "output_type": "execute_result",
          "data": {
            "text/plain": [
              "71393"
            ]
          },
          "metadata": {
            "tags": []
          },
          "execution_count": 34
        }
      ]
    },
    {
      "cell_type": "code",
      "metadata": {
        "colab": {
          "base_uri": "https://localhost:8080/"
        },
        "id": "qgBj547RyOVt",
        "outputId": "8de8f405-dad2-4040-9ac8-b3ace0d13ea4"
      },
      "source": [
        "x_train=np.array(x_train)\n",
        "y_train=np.array(y_train)\n",
        "train_word_indexes01=np.array(train_word_indexes01)\n",
        "print(x_train.shape)\n",
        "print(y_train.shape)\n",
        "print(train_word_indexes01.shape)"
      ],
      "execution_count": null,
      "outputs": [
        {
          "output_type": "stream",
          "text": [
            "(71393, 321)\n",
            "(71393,)\n",
            "(71393, 2000)\n"
          ],
          "name": "stdout"
        }
      ]
    },
    {
      "cell_type": "markdown",
      "metadata": {
        "id": "obmj-1rsZx8O"
      },
      "source": [
        "**6. Нормирование данных**"
      ]
    },
    {
      "cell_type": "code",
      "metadata": {
        "colab": {
          "base_uri": "https://localhost:8080/"
        },
        "id": "aaxrj2BkZySM",
        "outputId": "9e580600-e1b7-40de-bbde-c6bf4e504737"
      },
      "source": [
        "#Нормируем размер квартиры в xTrain\n",
        "xScaler = StandardScaler() #Создаём нормировщик нормальным распределением\n",
        "xScaler.fit(x_train[:,-1].reshape(-1, 1)) #Обучаем его на площадях квартир (последня колонка в xTrain)\n",
        "x_train_scaled = x_train.copy()\n",
        "x_train_scaled[:,-1] = xScaler.transform(x_train[:,-1].reshape(-1, 1)).flatten() #Нормируем данные нормировщиком\n",
        "\n",
        "#Выводим размер и два примера для сравнения\n",
        "#Не нормированных данных и нормированных\n",
        "print(x_train_scaled.shape)\n",
        "print(x_train[0][-1])\n",
        "print(x_train_scaled[0][-1])"
      ],
      "execution_count": null,
      "outputs": [
        {
          "output_type": "stream",
          "text": [
            "(71393, 321)\n",
            "64.1\n",
            "0.8725980326497245\n"
          ],
          "name": "stdout"
        }
      ]
    },
    {
      "cell_type": "code",
      "metadata": {
        "colab": {
          "base_uri": "https://localhost:8080/"
        },
        "id": "lI6T-K8-csnR",
        "outputId": "632b1826-f939-40fe-eba8-0101f0c1def4"
      },
      "source": [
        "#Нормируем выход сети - цену квартиры\n",
        "yScaler = StandardScaler() #Делаемнормальный нормировщик\n",
        "yScaler.fit(y_train.reshape(-1, 1)) #Обучаем на ценах квартир\n",
        "y_train_scaled = yScaler.transform(y_train.reshape(-1, 1)) #Нормируем цены квартир\n",
        "\n",
        "#Выводим размер и два примера для сравнения\n",
        "#Не нормированных данных и нормированных\n",
        "print(y_train_scaled.shape)\n",
        "print(min(y_train), max(y_train))\n",
        "print(min(y_train_scaled), max(y_train_scaled))"
      ],
      "execution_count": null,
      "outputs": [
        {
          "output_type": "stream",
          "text": [
            "(71393, 1)\n",
            "1500000.0 3000000015.0\n",
            "[-0.26843553] [99.78919722]\n"
          ],
          "name": "stdout"
        }
      ]
    },
    {
      "cell_type": "markdown",
      "metadata": {
        "id": "620wt6KHdfSX"
      },
      "source": [
        "**7. Формируем проверочную выборку**"
      ]
    },
    {
      "cell_type": "code",
      "metadata": {
        "colab": {
          "base_uri": "https://localhost:8080/"
        },
        "id": "ya-jwDVNdhyG",
        "outputId": "5a6ca1e9-aa13-4587-f0f4-ab6c6e643ae8"
      },
      "source": [
        "x_train_n, x_train_n_val, x_train_t, x_train_t_val, y_train_sc, y_train_sc_val = train_test_split(x_train_scaled, train_word_indexes01, y_train_scaled, test_size=0.2, shuffle=True)\n",
        "print(x_train_n.shape)\n",
        "print(x_train_t.shape)\n",
        "print(y_train_sc.shape)\n",
        "print(x_train_n_val.shape)\n",
        "print(x_train_t_val.shape)\n",
        "print(y_train_sc_val.shape)"
      ],
      "execution_count": null,
      "outputs": [
        {
          "output_type": "stream",
          "text": [
            "(57114, 321)\n",
            "(57114, 2000)\n",
            "(57114, 1)\n",
            "(14279, 321)\n",
            "(14279, 2000)\n",
            "(14279, 1)\n"
          ],
          "name": "stdout"
        }
      ]
    },
    {
      "cell_type": "markdown",
      "metadata": {
        "id": "NRJQ40kA5sSj"
      },
      "source": [
        "**8. Создание и обучение нейронки**"
      ]
    },
    {
      "cell_type": "code",
      "metadata": {
        "colab": {
          "base_uri": "https://localhost:8080/",
          "height": 409
        },
        "id": "anGKmf9i5soq",
        "outputId": "41bbe0dc-86ed-4305-acd6-9e55ba300641"
      },
      "source": [
        "input1 = Input((x_train_n.shape[1],))\n",
        "input2 = Input((x_train_t.shape[1],))\n",
        "\n",
        "x1=Dense(400, activation='relu')(input1)\n",
        "#x1=Dropout(0.2)(x1)\n",
        "x2=Dense(200, activation='relu')(input2)\n",
        "#x2=Dropout(0.2)(x2)\n",
        "\n",
        "x=concatenate([x1,x2])\n",
        "\n",
        "x=Dense(100, activation='relu')(x)\n",
        "#x=Dropout(0.2)(x)\n",
        "x=Dense(10, activation='relu')(x)\n",
        "x=Dense(1, activation='linear')(x)\n",
        "\n",
        "model=Model((input1,input2),x)\n",
        "\n",
        "plot_model(model, dpi=60, show_shapes=True)"
      ],
      "execution_count": null,
      "outputs": [
        {
          "output_type": "execute_result",
          "data": {
            "image/png": "[encoded data removed]",
            "text/plain": [
              "<IPython.core.display.Image object>"
            ]
          },
          "metadata": {
            "tags": []
          },
          "execution_count": 39
        }
      ]
    },
    {
      "cell_type": "code",
      "metadata": {
        "id": "9f9I5I87PqsB"
      },
      "source": [
        "def on_epoch_end(epoch, logs):\n",
        "  pred = model.predict([x_train_n_val, x_train_t_val]) #Полуаем выход сети на проверочно выборке\n",
        "  predUnscaled = yScaler.inverse_transform(pred).flatten() #Делаем обратное нормирование выхода к изначальным величинам цен квартир\n",
        "  yTrainUnscaled = yScaler.inverse_transform(y_train_sc_val).flatten() #Делаем такое же обратное нормирование yTrain к базовым ценам\n",
        "  delta = predUnscaled - yTrainUnscaled #Считаем разность предсказания и правильных цен\n",
        "  absDelta = abs(delta) #Берём модуль отклонения\n",
        "  print(\"Эпоха\", epoch, \"усреднённая ошибка в миллионах рублей:\", round(sum(absDelta) / (1e+6 * len(absDelta)),3)) #Выводим усреднённую ошибку в миллионах рублей\n",
        "\n",
        "# Коллбэки\n",
        "pltMae = LambdaCallback(on_epoch_end=on_epoch_end)"
      ],
      "execution_count": null,
      "outputs": []
    },
    {
      "cell_type": "code",
      "metadata": {
        "colab": {
          "base_uri": "https://localhost:8080/"
        },
        "id": "v-GYCiN1-jz3",
        "outputId": "1b338e42-1c7c-495e-bb2f-93eb3ad5ac67"
      },
      "source": [
        "model.compile(optimizer='Adam', loss='mse')\n",
        "history=model.fit([x_train_n, x_train_t], y_train_sc, epochs=50, batch_size=128, validation_data=([x_train_n_val, x_train_t_val], y_train_sc_val), verbose=0, callbacks=[pltMae])\n",
        "print()\n",
        "print('Меняем шаг обучения на 1e-4')\n",
        "model.compile(optimizer=Adam(lr=0.0001), loss='mse')\n",
        "history = model.fit([x_train_n, x_train_t], y_train_sc, epochs=50, batch_size=128, validation_data=([x_train_n_val, x_train_t_val], y_train_sc_val), verbose=0, callbacks=[pltMae])\n",
        "print()\n",
        "print('Меняем шаг обучения на 1e-5')\n",
        "model.compile(optimizer=Adam(lr=0.00001), loss='mse')\n",
        "history = model.fit([x_train_n, x_train_t], y_train_sc, epochs=50, batch_size=128, validation_data=([x_train_n_val, x_train_t_val], y_train_sc_val), verbose=0, callbacks=[pltMae])"
      ],
      "execution_count": null,
      "outputs": [
        {
          "output_type": "stream",
          "text": [
            "Эпоха 0 усреднённая ошибка в миллионах рублей: 1.621\n",
            "Эпоха 1 усреднённая ошибка в миллионах рублей: 1.427\n",
            "Эпоха 2 усреднённая ошибка в миллионах рублей: 1.339\n",
            "Эпоха 3 усреднённая ошибка в миллионах рублей: 1.376\n",
            "Эпоха 4 усреднённая ошибка в миллионах рублей: 2.017\n",
            "Эпоха 5 усреднённая ошибка в миллионах рублей: 1.383\n",
            "Эпоха 6 усреднённая ошибка в миллионах рублей: 1.348\n",
            "Эпоха 7 усреднённая ошибка в миллионах рублей: 1.16\n",
            "Эпоха 8 усреднённая ошибка в миллионах рублей: 1.296\n",
            "Эпоха 9 усреднённая ошибка в миллионах рублей: 1.352\n",
            "Эпоха 10 усреднённая ошибка в миллионах рублей: 1.087\n",
            "Эпоха 11 усреднённая ошибка в миллионах рублей: 1.131\n",
            "Эпоха 12 усреднённая ошибка в миллионах рублей: 2.247\n",
            "Эпоха 13 усреднённая ошибка в миллионах рублей: 1.564\n",
            "Эпоха 14 усреднённая ошибка в миллионах рублей: 1.139\n",
            "Эпоха 15 усреднённая ошибка в миллионах рублей: 1.056\n",
            "Эпоха 16 усреднённая ошибка в миллионах рублей: 1.717\n",
            "Эпоха 17 усреднённая ошибка в миллионах рублей: 1.231\n",
            "Эпоха 18 усреднённая ошибка в миллионах рублей: 1.361\n",
            "Эпоха 19 усреднённая ошибка в миллионах рублей: 1.17\n",
            "Эпоха 20 усреднённая ошибка в миллионах рублей: 1.18\n",
            "Эпоха 21 усреднённая ошибка в миллионах рублей: 1.184\n",
            "Эпоха 22 усреднённая ошибка в миллионах рублей: 1.216\n",
            "Эпоха 23 усреднённая ошибка в миллионах рублей: 1.108\n",
            "Эпоха 24 усреднённая ошибка в миллионах рублей: 1.099\n",
            "Эпоха 25 усреднённая ошибка в миллионах рублей: 1.039\n",
            "Эпоха 26 усреднённая ошибка в миллионах рублей: 1.054\n",
            "Эпоха 27 усреднённая ошибка в миллионах рублей: 1.508\n",
            "Эпоха 28 усреднённая ошибка в миллионах рублей: 1.086\n",
            "Эпоха 29 усреднённая ошибка в миллионах рублей: 1.803\n",
            "Эпоха 30 усреднённая ошибка в миллионах рублей: 1.064\n",
            "Эпоха 31 усреднённая ошибка в миллионах рублей: 1.168\n",
            "Эпоха 32 усреднённая ошибка в миллионах рублей: 1.12\n",
            "Эпоха 33 усреднённая ошибка в миллионах рублей: 1.104\n",
            "Эпоха 34 усреднённая ошибка в миллионах рублей: 1.192\n",
            "Эпоха 35 усреднённая ошибка в миллионах рублей: 1.031\n",
            "Эпоха 36 усреднённая ошибка в миллионах рублей: 0.992\n",
            "Эпоха 37 усреднённая ошибка в миллионах рублей: 1.265\n",
            "Эпоха 38 усреднённая ошибка в миллионах рублей: 0.956\n",
            "Эпоха 39 усреднённая ошибка в миллионах рублей: 1.098\n",
            "Эпоха 40 усреднённая ошибка в миллионах рублей: 1.054\n",
            "Эпоха 41 усреднённая ошибка в миллионах рублей: 1.219\n",
            "Эпоха 42 усреднённая ошибка в миллионах рублей: 1.09\n",
            "Эпоха 43 усреднённая ошибка в миллионах рублей: 0.978\n",
            "Эпоха 44 усреднённая ошибка в миллионах рублей: 1.1\n",
            "Эпоха 45 усреднённая ошибка в миллионах рублей: 1.103\n",
            "Эпоха 46 усреднённая ошибка в миллионах рублей: 1.029\n",
            "Эпоха 47 усреднённая ошибка в миллионах рублей: 0.957\n",
            "Эпоха 48 усреднённая ошибка в миллионах рублей: 0.968\n",
            "Эпоха 49 усреднённая ошибка в миллионах рублей: 1.099\n",
            "\n",
            "Меняем шаг обучения на 1e-4\n"
          ],
          "name": "stdout"
        },
        {
          "output_type": "stream",
          "text": [
            "/usr/local/lib/python3.7/dist-packages/tensorflow/python/keras/optimizer_v2/optimizer_v2.py:375: UserWarning: The `lr` argument is deprecated, use `learning_rate` instead.\n",
            "  \"The `lr` argument is deprecated, use `learning_rate` instead.\")\n"
          ],
          "name": "stderr"
        },
        {
          "output_type": "stream",
          "text": [
            "Эпоха 0 усреднённая ошибка в миллионах рублей: 0.921\n",
            "Эпоха 1 усреднённая ошибка в миллионах рублей: 0.905\n",
            "Эпоха 2 усреднённая ошибка в миллионах рублей: 0.906\n",
            "Эпоха 3 усреднённая ошибка в миллионах рублей: 0.903\n",
            "Эпоха 4 усреднённая ошибка в миллионах рублей: 0.887\n",
            "Эпоха 5 усреднённая ошибка в миллионах рублей: 0.87\n",
            "Эпоха 6 усреднённая ошибка в миллионах рублей: 0.865\n",
            "Эпоха 7 усреднённая ошибка в миллионах рублей: 0.895\n",
            "Эпоха 8 усреднённая ошибка в миллионах рублей: 0.875\n",
            "Эпоха 9 усреднённая ошибка в миллионах рублей: 0.887\n",
            "Эпоха 10 усреднённая ошибка в миллионах рублей: 0.873\n",
            "Эпоха 11 усреднённая ошибка в миллионах рублей: 0.862\n",
            "Эпоха 12 усреднённая ошибка в миллионах рублей: 0.887\n",
            "Эпоха 13 усреднённая ошибка в миллионах рублей: 0.887\n",
            "Эпоха 14 усреднённая ошибка в миллионах рублей: 0.875\n",
            "Эпоха 15 усреднённая ошибка в миллионах рублей: 0.875\n",
            "Эпоха 16 усреднённая ошибка в миллионах рублей: 0.874\n",
            "Эпоха 17 усреднённая ошибка в миллионах рублей: 0.869\n",
            "Эпоха 18 усреднённая ошибка в миллионах рублей: 0.864\n",
            "Эпоха 19 усреднённая ошибка в миллионах рублей: 0.866\n",
            "Эпоха 20 усреднённая ошибка в миллионах рублей: 0.855\n",
            "Эпоха 21 усреднённая ошибка в миллионах рублей: 0.852\n",
            "Эпоха 22 усреднённая ошибка в миллионах рублей: 0.876\n",
            "Эпоха 23 усреднённая ошибка в миллионах рублей: 0.87\n",
            "Эпоха 24 усреднённая ошибка в миллионах рублей: 0.852\n",
            "Эпоха 25 усреднённая ошибка в миллионах рублей: 0.875\n",
            "Эпоха 26 усреднённая ошибка в миллионах рублей: 0.862\n",
            "Эпоха 27 усреднённая ошибка в миллионах рублей: 0.854\n",
            "Эпоха 28 усреднённая ошибка в миллионах рублей: 0.876\n",
            "Эпоха 29 усреднённая ошибка в миллионах рублей: 0.851\n",
            "Эпоха 30 усреднённая ошибка в миллионах рублей: 0.87\n",
            "Эпоха 31 усреднённая ошибка в миллионах рублей: 0.858\n",
            "Эпоха 32 усреднённая ошибка в миллионах рублей: 0.844\n",
            "Эпоха 33 усреднённая ошибка в миллионах рублей: 0.863\n",
            "Эпоха 34 усреднённая ошибка в миллионах рублей: 0.853\n",
            "Эпоха 35 усреднённая ошибка в миллионах рублей: 0.856\n",
            "Эпоха 36 усреднённая ошибка в миллионах рублей: 0.845\n",
            "Эпоха 37 усреднённая ошибка в миллионах рублей: 0.854\n",
            "Эпоха 38 усреднённая ошибка в миллионах рублей: 0.868\n",
            "Эпоха 39 усреднённая ошибка в миллионах рублей: 0.86\n",
            "Эпоха 40 усреднённая ошибка в миллионах рублей: 0.858\n",
            "Эпоха 41 усреднённая ошибка в миллионах рублей: 0.862\n",
            "Эпоха 42 усреднённая ошибка в миллионах рублей: 0.861\n",
            "Эпоха 43 усреднённая ошибка в миллионах рублей: 0.881\n",
            "Эпоха 44 усреднённая ошибка в миллионах рублей: 0.87\n",
            "Эпоха 45 усреднённая ошибка в миллионах рублей: 0.868\n",
            "Эпоха 46 усреднённая ошибка в миллионах рублей: 0.861\n",
            "Эпоха 47 усреднённая ошибка в миллионах рублей: 0.864\n",
            "Эпоха 48 усреднённая ошибка в миллионах рублей: 0.889\n",
            "Эпоха 49 усреднённая ошибка в миллионах рублей: 0.878\n",
            "\n",
            "Меняем шаг обучения на 1e-5\n",
            "Эпоха 0 усреднённая ошибка в миллионах рублей: 0.868\n",
            "Эпоха 1 усреднённая ошибка в миллионах рублей: 0.863\n",
            "Эпоха 2 усреднённая ошибка в миллионах рублей: 0.861\n",
            "Эпоха 3 усреднённая ошибка в миллионах рублей: 0.857\n",
            "Эпоха 4 усреднённая ошибка в миллионах рублей: 0.858\n",
            "Эпоха 5 усреднённая ошибка в миллионах рублей: 0.857\n",
            "Эпоха 6 усреднённая ошибка в миллионах рублей: 0.858\n",
            "Эпоха 7 усреднённая ошибка в миллионах рублей: 0.857\n",
            "Эпоха 8 усреднённая ошибка в миллионах рублей: 0.856\n",
            "Эпоха 9 усреднённая ошибка в миллионах рублей: 0.856\n",
            "Эпоха 10 усреднённая ошибка в миллионах рублей: 0.858\n",
            "Эпоха 11 усреднённая ошибка в миллионах рублей: 0.858\n",
            "Эпоха 12 усреднённая ошибка в миллионах рублей: 0.855\n",
            "Эпоха 13 усреднённая ошибка в миллионах рублей: 0.855\n",
            "Эпоха 14 усреднённая ошибка в миллионах рублей: 0.856\n",
            "Эпоха 15 усреднённая ошибка в миллионах рублей: 0.856\n",
            "Эпоха 16 усреднённая ошибка в миллионах рублей: 0.856\n",
            "Эпоха 17 усреднённая ошибка в миллионах рублей: 0.859\n",
            "Эпоха 18 усреднённая ошибка в миллионах рублей: 0.857\n",
            "Эпоха 19 усреднённая ошибка в миллионах рублей: 0.855\n",
            "Эпоха 20 усреднённая ошибка в миллионах рублей: 0.856\n",
            "Эпоха 21 усреднённая ошибка в миллионах рублей: 0.857\n",
            "Эпоха 22 усреднённая ошибка в миллионах рублей: 0.855\n",
            "Эпоха 23 усреднённая ошибка в миллионах рублей: 0.858\n",
            "Эпоха 24 усреднённая ошибка в миллионах рублей: 0.856\n",
            "Эпоха 25 усреднённая ошибка в миллионах рублей: 0.856\n",
            "Эпоха 26 усреднённая ошибка в миллионах рублей: 0.856\n",
            "Эпоха 27 усреднённая ошибка в миллионах рублей: 0.857\n",
            "Эпоха 28 усреднённая ошибка в миллионах рублей: 0.855\n",
            "Эпоха 29 усреднённая ошибка в миллионах рублей: 0.856\n",
            "Эпоха 30 усреднённая ошибка в миллионах рублей: 0.857\n",
            "Эпоха 31 усреднённая ошибка в миллионах рублей: 0.856\n",
            "Эпоха 32 усреднённая ошибка в миллионах рублей: 0.858\n",
            "Эпоха 33 усреднённая ошибка в миллионах рублей: 0.855\n",
            "Эпоха 34 усреднённая ошибка в миллионах рублей: 0.858\n",
            "Эпоха 35 усреднённая ошибка в миллионах рублей: 0.857\n",
            "Эпоха 36 усреднённая ошибка в миллионах рублей: 0.856\n",
            "Эпоха 37 усреднённая ошибка в миллионах рублей: 0.858\n",
            "Эпоха 38 усреднённая ошибка в миллионах рублей: 0.856\n",
            "Эпоха 39 усреднённая ошибка в миллионах рублей: 0.857\n",
            "Эпоха 40 усреднённая ошибка в миллионах рублей: 0.856\n",
            "Эпоха 41 усреднённая ошибка в миллионах рублей: 0.86\n",
            "Эпоха 42 усреднённая ошибка в миллионах рублей: 0.857\n",
            "Эпоха 43 усреднённая ошибка в миллионах рублей: 0.857\n",
            "Эпоха 44 усреднённая ошибка в миллионах рублей: 0.858\n",
            "Эпоха 45 усреднённая ошибка в миллионах рублей: 0.859\n",
            "Эпоха 46 усреднённая ошибка в миллионах рублей: 0.857\n",
            "Эпоха 47 усреднённая ошибка в миллионах рублей: 0.857\n",
            "Эпоха 48 усреднённая ошибка в миллионах рублей: 0.857\n",
            "Эпоха 49 усреднённая ошибка в миллионах рублей: 0.856\n"
          ],
          "name": "stdout"
        }
      ]
    },
    {
      "cell_type": "code",
      "metadata": {
        "colab": {
          "base_uri": "https://localhost:8080/",
          "height": 279
        },
        "id": "TGeIWnC_oV9d",
        "outputId": "ea78f15f-0efa-48b5-f745-21ddcc0bf7d8"
      },
      "source": [
        "#ВЫводим графики ошибки\n",
        "plt.plot(history.history['loss'], \n",
        "         label='Среднеквадратическая ошибка на обучающем наборе')\n",
        "plt.plot(history.history['val_loss'], \n",
        "         label='Среднеквадратическая ошибка на проверочном наборе')\n",
        "plt.xlabel('Эпоха обучения')\n",
        "plt.ylabel('Среднеквадратическая ошибка')\n",
        "plt.legend()\n",
        "plt.show()"
      ],
      "execution_count": null,
      "outputs": [
        {
          "output_type": "display_data",
          "data": {
            "image/png": "[encoded data removed]",
            "text/plain": [
              "<Figure size 432x288 with 1 Axes>"
            ]
          },
          "metadata": {
            "tags": [],
            "needs_background": "light"
          }
        }
      ]
    }
  ]
}
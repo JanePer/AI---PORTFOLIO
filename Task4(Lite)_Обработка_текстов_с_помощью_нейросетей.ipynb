{
  "nbformat": 4,
  "nbformat_minor": 0,
  "metadata": {
    "accelerator": "GPU",
    "colab": {
      "name": "Task4(Lite)_Обработка текстов с помощью нейросетей.ipynb",
      "provenance": [],
      "collapsed_sections": [],
      "authorship_tag": "ABX9TyMwXJOtLJ/kp2OQUgPMuSa7",
      "include_colab_link": true
    },
    "kernelspec": {
      "display_name": "Python 3",
      "name": "python3"
    },
    "language_info": {
      "name": "python"
    }
  },
  "cells": [
    {
      "cell_type": "markdown",
      "metadata": {
        "id": "view-in-github",
        "colab_type": "text"
      },
      "source": [
        "<a href=\"https://colab.research.google.com/github/JanePer/AI---PORTFOLIO/blob/main/Task4(Lite)_%D0%9E%D0%B1%D1%80%D0%B0%D0%B1%D0%BE%D1%82%D0%BA%D0%B0_%D1%82%D0%B5%D0%BA%D1%81%D1%82%D0%BE%D0%B2_%D1%81_%D0%BF%D0%BE%D0%BC%D0%BE%D1%89%D1%8C%D1%8E_%D0%BD%D0%B5%D0%B9%D1%80%D0%BE%D1%81%D0%B5%D1%82%D0%B5%D0%B9.ipynb\" target=\"_parent\"><img src=\"https://colab.research.google.com/assets/colab-badge.svg\" alt=\"Open In Colab\"/></a>"
      ]
    },
    {
      "cell_type": "markdown",
      "metadata": {
        "id": "tCOxjE-VNQTh"
      },
      "source": [
        "# **Lite**"
      ]
    },
    {
      "cell_type": "markdown",
      "metadata": {
        "id": "2JT8kprOgAt1"
      },
      "source": [
        "#Классификация текстов писателей"
      ]
    },
    {
      "cell_type": "markdown",
      "metadata": {
        "id": "fbZcR-LFPDoP"
      },
      "source": [
        "**1. Импорт библиотек.**"
      ]
    },
    {
      "cell_type": "code",
      "metadata": {
        "colab": {
          "base_uri": "https://localhost:8080/"
        },
        "id": "UAa_UnRidTdl",
        "outputId": "2a7d6ecb-3eae-41a5-a287-43f20585ac39"
      },
      "source": [
        "from google.colab import files\n",
        "from google.colab import drive\n",
        "import numpy as np\n",
        "import pandas as pd\n",
        "import matplotlib.pyplot as plt\n",
        "import time\n",
        "import os\n",
        "%matplotlib inline\n",
        "\n",
        "from tensorflow.keras import utils\n",
        "from tensorflow.keras.models import Sequential\n",
        "from tensorflow.keras.layers import Dense, Dropout, BatchNormalization, Embedding, SpatialDropout1D, Flatten\n",
        "from tensorflow.keras.preprocessing.text import Tokenizer\n",
        "from tensorflow.keras.preprocessing.sequence import pad_sequences\n",
        "\n",
        "from sklearn.preprocessing import LabelEncoder\n",
        "from sklearn.model_selection import train_test_split\n",
        "\n",
        "drive.mount('/content/drive')"
      ],
      "execution_count": null,
      "outputs": [
        {
          "output_type": "stream",
          "text": [
            "Drive already mounted at /content/drive; to attempt to forcibly remount, call drive.mount(\"/content/drive\", force_remount=True).\n"
          ],
          "name": "stdout"
        }
      ]
    },
    {
      "cell_type": "markdown",
      "metadata": {
        "id": "0cG_32Vcu7aD"
      },
      "source": [
        "**2. Загрузка базы текстов.**"
      ]
    },
    {
      "cell_type": "code",
      "metadata": {
        "id": "42DhdHHJgYM7",
        "colab": {
          "base_uri": "https://localhost:8080/"
        },
        "outputId": "0291bc33-5bdd-42d0-a07e-127e9231ee27"
      },
      "source": [
        "!rm -R '/content/texts' #remove texts directory\n",
        "!unzip -q '/content/drive/MyDrive/Colab Notebooks/Тексты писателей.zip' -d '/content/texts' #unzip to created `texts` directory"
      ],
      "execution_count": null,
      "outputs": [
        {
          "output_type": "stream",
          "text": [
            "rm: cannot remove '/content/texts': No such file or directory\n"
          ],
          "name": "stdout"
        }
      ]
    },
    {
      "cell_type": "code",
      "metadata": {
        "id": "Yhv-zMjOtAsL"
      },
      "source": [
        "def readtext(file_name): #read all text in 1 raw\n",
        "  file=open(file_name, 'r')\n",
        "  text=file.read()\n",
        "  text=text.replace(\"\\n\",\" \")\n",
        "  return text\n",
        "\n",
        "authors = [\"О. Генри\", \"Стругацкие\", \"Булгаков\", \"Саймак\", \"Фрай\", \"Брэдберри\"] #list of unique authors\n",
        "authors_qty=len(authors)"
      ],
      "execution_count": null,
      "outputs": []
    },
    {
      "cell_type": "code",
      "metadata": {
        "colab": {
          "base_uri": "https://localhost:8080/"
        },
        "id": "HRd0LS3-zN5T",
        "outputId": "f1175227-9d66-4864-e60b-c2b90461c198"
      },
      "source": [
        "train_text=[]\n",
        "test_text=[]\n",
        "\n",
        "for i in authors:\n",
        "  for t in os.listdir('/content/texts/Тексты писателей'):\n",
        "    if i in t:\n",
        "      if \"Обучающая\" in t:\n",
        "        train_text.append(readtext('/content/texts/Тексты писателей/'+t))\n",
        "      else:\n",
        "        test_text.append(readtext('/content/texts/Тексты писателей/'+t))\n",
        "print(len(train_text))\n",
        "print(len(train_text[0]))"
      ],
      "execution_count": null,
      "outputs": [
        {
          "output_type": "stream",
          "text": [
            "6\n",
            "1049517\n"
          ],
          "name": "stdout"
        }
      ]
    },
    {
      "cell_type": "markdown",
      "metadata": {
        "id": "OxcKwnUkM59W"
      },
      "source": [
        "**А. Запустите нейронку c bag of words (01) при разных maxWordsCount**"
      ]
    },
    {
      "cell_type": "markdown",
      "metadata": {
        "id": "Dys_R-z9xCxN"
      },
      "source": [
        "***- maxWordsCount=100***"
      ]
    },
    {
      "cell_type": "code",
      "metadata": {
        "id": "hVF04mzK4rK3"
      },
      "source": [
        "max_words_qty=100\n",
        "toks=Tokenizer(num_words=max_words_qty, filters='!\"#$%&()*+,-–—./…:;<=>?@[\\\\]^_`{|}~«»\\t\\n\\xa0\\ufeff', lower=True, split=\" \",\n",
        "                 oov_token='unknown', char_level=False) #create tokenizer model based on words frequency\n",
        "toks.fit_on_texts(train_text) #apply tokens to train texts\n",
        "freq_items=list(toks.word_index.items()) #extracting words with their indexes\n",
        "\n",
        "train_word_indexes=toks.texts_to_sequences(train_text) #convert train texts into indexes\n",
        "test_word_indexes=toks.texts_to_sequences(test_text) #convert test texts into indexes"
      ],
      "execution_count": null,
      "outputs": []
    },
    {
      "cell_type": "code",
      "metadata": {
        "id": "6xbwtuh1Wxkn"
      },
      "source": [
        "def getSetIndexes(wordIndexes, xLen, step): #cut separate author's text into xLen samples\n",
        "  x_sample=[]\n",
        "  wordslen=len(wordIndexes)\n",
        "  index=0\n",
        "  while (index+xLen)<=wordslen:\n",
        "    x_sample.append(wordIndexes[index:index+xLen])\n",
        "    index+=step\n",
        "  return x_sample\n",
        "\n",
        "def getAllSetsIndexes(wordIndexes, xLen, step): #create X set cut into defined length of samples and Y set with correspond author within all authors\n",
        "  classes=len(wordIndexes) #6 authors\n",
        "  class_x_sample=[]\n",
        "  for w in wordIndexes: #take each list of 6 lists\n",
        "    class_x_sample.append(getSetIndexes(w, xLen, step)) #cut each text list into samples and append to summary list of lists\n",
        "\n",
        "  X_sam=[]\n",
        "  Y_sam=[]\n",
        "  for c in range(classes): #within 6 authors\n",
        "    cx=class_x_sample[c] #all cut samples of each author's list\n",
        "    for x in range(len(cx)): #within qty of all samples of each author\n",
        "      X_sam.append(cx[x]) #append all cut samples to final list\n",
        "      Y_sam.append(utils.to_categorical(c, classes)) #append all correspond author's vectors to final list\n",
        "\n",
        "  X_sam=np.array(X_sam)\n",
        "  Y_sam=np.array(Y_sam)\n",
        "  return (X_sam, Y_sam)"
      ],
      "execution_count": null,
      "outputs": []
    },
    {
      "cell_type": "code",
      "metadata": {
        "id": "c9OnCUYbW1MF"
      },
      "source": [
        "xLen=1000\n",
        "step=100\n",
        "x_train, y_train=getAllSetsIndexes(train_word_indexes, xLen, step)\n",
        "x_test, y_test=getAllSetsIndexes(test_word_indexes, xLen, step)\n",
        "\n",
        "X01=toks.sequences_to_matrix(x_train.tolist()) #convert indexes into bag of words vectors\n",
        "TX01=toks.sequences_to_matrix(x_test.tolist())"
      ],
      "execution_count": null,
      "outputs": []
    },
    {
      "cell_type": "code",
      "metadata": {
        "colab": {
          "base_uri": "https://localhost:8080/"
        },
        "id": "Ro9HPYpgEAxM",
        "outputId": "bb0ff5a6-6c54-40be-cc0e-46b55087ec6e"
      },
      "source": [
        "model100=Sequential()\n",
        "model100.add(Dense(400, input_dim=max_words_qty, activation='relu'))\n",
        "model100.add(Dropout(0.2))\n",
        "model100.add(Dense(6, activation='sigmoid'))\n",
        "\n",
        "model100.compile(optimizer='Adam', loss='categorical_crossentropy', metrics=['accuracy'])\n",
        "model100.summary()"
      ],
      "execution_count": null,
      "outputs": [
        {
          "output_type": "stream",
          "text": [
            "Model: \"sequential\"\n",
            "_________________________________________________________________\n",
            "Layer (type)                 Output Shape              Param #   \n",
            "=================================================================\n",
            "dense (Dense)                (None, 400)               40400     \n",
            "_________________________________________________________________\n",
            "dropout (Dropout)            (None, 400)               0         \n",
            "_________________________________________________________________\n",
            "dense_1 (Dense)              (None, 6)                 2406      \n",
            "=================================================================\n",
            "Total params: 42,806\n",
            "Trainable params: 42,806\n",
            "Non-trainable params: 0\n",
            "_________________________________________________________________\n"
          ],
          "name": "stdout"
        }
      ]
    },
    {
      "cell_type": "code",
      "metadata": {
        "colab": {
          "base_uri": "https://localhost:8080/"
        },
        "id": "jul62ZbuGyzM",
        "outputId": "b4cf2224-169f-4ed2-a77a-ab9bf21fcf62"
      },
      "source": [
        "history100=model100.fit(X01, y_train, epochs=10, batch_size=128, validation_data=(TX01, y_test), verbose=1)"
      ],
      "execution_count": null,
      "outputs": [
        {
          "output_type": "stream",
          "text": [
            "Epoch 1/10\n",
            "138/138 [==============================] - 4s 4ms/step - loss: 1.1317 - accuracy: 0.5852 - val_loss: 1.2334 - val_accuracy: 0.5298\n",
            "Epoch 2/10\n",
            "138/138 [==============================] - 0s 4ms/step - loss: 0.8390 - accuracy: 0.6980 - val_loss: 1.2503 - val_accuracy: 0.5392\n",
            "Epoch 3/10\n",
            "138/138 [==============================] - 0s 3ms/step - loss: 0.7741 - accuracy: 0.7218 - val_loss: 1.2909 - val_accuracy: 0.5292\n",
            "Epoch 4/10\n",
            "138/138 [==============================] - 0s 4ms/step - loss: 0.7341 - accuracy: 0.7331 - val_loss: 1.2783 - val_accuracy: 0.5380\n",
            "Epoch 5/10\n",
            "138/138 [==============================] - 0s 3ms/step - loss: 0.6930 - accuracy: 0.7491 - val_loss: 1.2928 - val_accuracy: 0.5396\n",
            "Epoch 6/10\n",
            "138/138 [==============================] - 0s 3ms/step - loss: 0.6546 - accuracy: 0.7645 - val_loss: 1.3304 - val_accuracy: 0.5242\n",
            "Epoch 7/10\n",
            "138/138 [==============================] - 0s 3ms/step - loss: 0.6172 - accuracy: 0.7799 - val_loss: 1.3406 - val_accuracy: 0.5317\n",
            "Epoch 8/10\n",
            "138/138 [==============================] - 0s 3ms/step - loss: 0.5793 - accuracy: 0.7931 - val_loss: 1.3129 - val_accuracy: 0.5368\n",
            "Epoch 9/10\n",
            "138/138 [==============================] - 0s 3ms/step - loss: 0.5439 - accuracy: 0.8080 - val_loss: 1.3875 - val_accuracy: 0.5218\n",
            "Epoch 10/10\n",
            "138/138 [==============================] - 0s 3ms/step - loss: 0.5111 - accuracy: 0.8189 - val_loss: 1.3594 - val_accuracy: 0.5341\n"
          ],
          "name": "stdout"
        }
      ]
    },
    {
      "cell_type": "code",
      "metadata": {
        "id": "4SzlgWFk2jeG"
      },
      "source": [
        "def createTestMultiClasses(wordIndexes, xLen, step):\n",
        "  classes=len(wordIndexes) #6 authors\n",
        "  x_test_classes01=[]\n",
        "  x_test_classes=[]\n",
        "  for w in wordIndexes: #take each list of 6 lists\n",
        "    sample=(getSetIndexes(w, xLen, step)) #cut each author text list into samples\n",
        "    x_test_classes.append(sample) #and append to summary list of lists\n",
        "    x_test_classes01.append(toks.sequences_to_matrix(sample)) #convert cut text to bag of words vector and add to the list of lists\n",
        "  x_test_classes=np.array(x_test_classes, dtype=object)\n",
        "  x_test_classes01=np.array(x_test_classes01, dtype=object)\n",
        "  return x_test_classes01, x_test_classes\n",
        "\n",
        "def recognizeMultiClass (model, xTest):\n",
        "  total_sum=0\n",
        "  for i in range(authors_qty):\n",
        "    pred=model.predict(xTest[i])\n",
        "    max_pred=np.argmax(pred, axis=1)\n",
        "    val=[]\n",
        "    for j in range(authors_qty):\n",
        "      val.append(len(max_pred[max_pred==j])/len(xTest[i]))\n",
        "    total_sum+=len(max_pred[max_pred==i])\n",
        "    recognizedClass=np.argmax(val)\n",
        "\n",
        "    isrecognized=\"Wrong\"\n",
        "    if recognizedClass==i:\n",
        "      isrecognized=\"Correct!\"\n",
        "    str1= \"Author: \"+authors[i]+ \" \"*(11-len(authors[i]))+str(int(100*val[i]))+\"% were cerognized for \"+authors[recognizedClass]\n",
        "    print(str1, \" \"*(55-len(str1)), isrecognized, sep='')\n",
        "\n",
        "  sum_count=0\n",
        "  for i in range(authors_qty):\n",
        "    sum_count+=len(xTest[i])\n",
        "  print('\\n')\n",
        "  print(\"Average % of prediction: \", int(100*total_sum/sum_count),\"%\", sep='')\n",
        "\n",
        "  return total_sum/sum_count"
      ],
      "execution_count": null,
      "outputs": []
    },
    {
      "cell_type": "code",
      "metadata": {
        "id": "BII54fZUAAKl"
      },
      "source": [
        "x_test01,x2=createTestMultiClasses(test_word_indexes, xLen, step)"
      ],
      "execution_count": null,
      "outputs": []
    },
    {
      "cell_type": "code",
      "metadata": {
        "colab": {
          "base_uri": "https://localhost:8080/"
        },
        "id": "0IMGEJxQGpZM",
        "outputId": "5370427b-3285-44ab-d221-985b6fcd70bf"
      },
      "source": [
        "score100=recognizeMultiClass(model100, x_test01)"
      ],
      "execution_count": null,
      "outputs": [
        {
          "output_type": "stream",
          "text": [
            "Author: О. Генри   54% were cerognized for О. Генри    Correct!\n",
            "Author: Стругацкие 49% were cerognized for Стругацкие  Correct!\n",
            "Author: Булгаков   56% were cerognized for Булгаков    Correct!\n",
            "Author: Саймак     35% were cerognized for Саймак      Correct!\n",
            "Author: Фрай       72% were cerognized for Фрай        Correct!\n",
            "Author: Брэдберри  31% were cerognized for Стругацкие  Wrong\n",
            "\n",
            "\n",
            "Average % of prediction: 53%\n"
          ],
          "name": "stdout"
        }
      ]
    },
    {
      "cell_type": "markdown",
      "metadata": {
        "id": "XnTU_6MSPc-y"
      },
      "source": [
        "***- maxWordsCount=1000***"
      ]
    },
    {
      "cell_type": "code",
      "metadata": {
        "id": "tQGjCkt8PeGJ"
      },
      "source": [
        "max_words_qty=1000\n",
        "toks=Tokenizer(num_words=max_words_qty, filters='!\"#$%&()*+,-–—./…:;<=>?@[\\\\]^_`{|}~«»\\t\\n\\xa0\\ufeff', lower=True, split=\" \",\n",
        "                 oov_token='unknown', char_level=False) #create tokenizer model based on words frequency\n",
        "toks.fit_on_texts(train_text) #apply tokens to train texts\n",
        "freq_items=list(toks.word_index.items()) #extracting words with their indexes\n",
        "\n",
        "train_word_indexes=toks.texts_to_sequences(train_text) #convert train texts into indexes\n",
        "test_word_indexes=toks.texts_to_sequences(test_text)\n",
        "\n",
        "x_train, y_train=getAllSetsIndexes(train_word_indexes, xLen, step)\n",
        "x_test, y_test=getAllSetsIndexes(test_word_indexes, xLen, step)\n",
        "\n",
        "X01=toks.sequences_to_matrix(x_train.tolist()) #convert indexes into bag of words vectors\n",
        "TX01=toks.sequences_to_matrix(x_test.tolist())"
      ],
      "execution_count": null,
      "outputs": []
    },
    {
      "cell_type": "code",
      "metadata": {
        "colab": {
          "base_uri": "https://localhost:8080/"
        },
        "id": "VhLzGtnHQB4R",
        "outputId": "49040a72-195e-422b-cd5d-b232c2735e7a"
      },
      "source": [
        "model1K=Sequential()\n",
        "model1K.add(Dense(400, input_dim=max_words_qty, activation='relu'))\n",
        "model1K.add(Dropout(0.2))\n",
        "model1K.add(Dense(6, activation='sigmoid'))\n",
        "\n",
        "model1K.compile(optimizer='Adam', loss='categorical_crossentropy', metrics=['accuracy'])\n",
        "model1K.summary()"
      ],
      "execution_count": null,
      "outputs": [
        {
          "output_type": "stream",
          "text": [
            "Model: \"sequential_1\"\n",
            "_________________________________________________________________\n",
            "Layer (type)                 Output Shape              Param #   \n",
            "=================================================================\n",
            "dense_2 (Dense)              (None, 400)               400400    \n",
            "_________________________________________________________________\n",
            "dropout_1 (Dropout)          (None, 400)               0         \n",
            "_________________________________________________________________\n",
            "dense_3 (Dense)              (None, 6)                 2406      \n",
            "=================================================================\n",
            "Total params: 402,806\n",
            "Trainable params: 402,806\n",
            "Non-trainable params: 0\n",
            "_________________________________________________________________\n"
          ],
          "name": "stdout"
        }
      ]
    },
    {
      "cell_type": "code",
      "metadata": {
        "colab": {
          "base_uri": "https://localhost:8080/"
        },
        "id": "7NivunzXQX-O",
        "outputId": "7a54282d-0c44-4a3b-9ed4-05c14260d39c"
      },
      "source": [
        "history1K=model1K.fit(X01, y_train, epochs=10, batch_size=128, validation_data=(TX01, y_test), verbose=1)"
      ],
      "execution_count": null,
      "outputs": [
        {
          "output_type": "stream",
          "text": [
            "Epoch 1/10\n",
            "138/138 [==============================] - 1s 5ms/step - loss: 0.1727 - accuracy: 0.9506 - val_loss: 0.3871 - val_accuracy: 0.8661\n",
            "Epoch 2/10\n",
            "138/138 [==============================] - 1s 4ms/step - loss: 0.0057 - accuracy: 0.9999 - val_loss: 0.4041 - val_accuracy: 0.8554\n",
            "Epoch 3/10\n",
            "138/138 [==============================] - 0s 3ms/step - loss: 0.0021 - accuracy: 1.0000 - val_loss: 0.3978 - val_accuracy: 0.8639\n",
            "Epoch 4/10\n",
            "138/138 [==============================] - 0s 3ms/step - loss: 0.0012 - accuracy: 1.0000 - val_loss: 0.4161 - val_accuracy: 0.8584\n",
            "Epoch 5/10\n",
            "138/138 [==============================] - 0s 3ms/step - loss: 8.1984e-04 - accuracy: 1.0000 - val_loss: 0.4222 - val_accuracy: 0.8603\n",
            "Epoch 6/10\n",
            "138/138 [==============================] - 1s 4ms/step - loss: 5.4956e-04 - accuracy: 1.0000 - val_loss: 0.4340 - val_accuracy: 0.8590\n",
            "Epoch 7/10\n",
            "138/138 [==============================] - 1s 4ms/step - loss: 4.0574e-04 - accuracy: 1.0000 - val_loss: 0.4329 - val_accuracy: 0.8582\n",
            "Epoch 8/10\n",
            "138/138 [==============================] - 0s 3ms/step - loss: 3.0281e-04 - accuracy: 1.0000 - val_loss: 0.4448 - val_accuracy: 0.8575\n",
            "Epoch 9/10\n",
            "138/138 [==============================] - 0s 3ms/step - loss: 2.4812e-04 - accuracy: 1.0000 - val_loss: 0.4399 - val_accuracy: 0.8634\n",
            "Epoch 10/10\n",
            "138/138 [==============================] - 1s 4ms/step - loss: 1.8432e-04 - accuracy: 1.0000 - val_loss: 0.4333 - val_accuracy: 0.8672\n"
          ],
          "name": "stdout"
        }
      ]
    },
    {
      "cell_type": "code",
      "metadata": {
        "colab": {
          "base_uri": "https://localhost:8080/"
        },
        "id": "4xnN7MNnQuIl",
        "outputId": "0f38cdd9-8f6a-4ec4-e702-fbf65da0e59d"
      },
      "source": [
        "x_test01,x2=createTestMultiClasses(test_word_indexes, xLen, step)\n",
        "score1K=recognizeMultiClass(model1K, x_test01)"
      ],
      "execution_count": null,
      "outputs": [
        {
          "output_type": "stream",
          "text": [
            "Author: О. Генри   94% were cerognized for О. Генри    Correct!\n",
            "Author: Стругацкие 79% were cerognized for Стругацкие  Correct!\n",
            "Author: Булгаков   86% were cerognized for Булгаков    Correct!\n",
            "Author: Саймак     73% were cerognized for Саймак      Correct!\n",
            "Author: Фрай       91% were cerognized for Фрай        Correct!\n",
            "Author: Брэдберри  88% were cerognized for Брэдберри   Correct!\n",
            "\n",
            "\n",
            "Average % of prediction: 86%\n"
          ],
          "name": "stdout"
        }
      ]
    },
    {
      "cell_type": "markdown",
      "metadata": {
        "id": "ZSCVELs6TR4V"
      },
      "source": [
        "***- maxWordsCount=10000***"
      ]
    },
    {
      "cell_type": "code",
      "metadata": {
        "id": "8J5yc37VTW4m"
      },
      "source": [
        "max_words_qty=10000\n",
        "toks=Tokenizer(num_words=max_words_qty, filters='!\"#$%&()*+,-–—./…:;<=>?@[\\\\]^_`{|}~«»\\t\\n\\xa0\\ufeff', lower=True, split=\" \",\n",
        "                 oov_token='unknown', char_level=False) #create tokenizer model based on words frequency\n",
        "toks.fit_on_texts(train_text) #apply tokens to train texts\n",
        "freq_items=list(toks.word_index.items()) #extracting words with their indexes\n",
        "\n",
        "train_word_indexes=toks.texts_to_sequences(train_text) #convert train texts into indexes\n",
        "test_word_indexes=toks.texts_to_sequences(test_text)\n",
        "\n",
        "x_train, y_train=getAllSetsIndexes(train_word_indexes, xLen, step)\n",
        "x_test, y_test=getAllSetsIndexes(test_word_indexes, xLen, step)\n",
        "\n",
        "X01=toks.sequences_to_matrix(x_train.tolist()) #convert indexes into bag of words vectors\n",
        "TX01=toks.sequences_to_matrix(x_test.tolist())"
      ],
      "execution_count": null,
      "outputs": []
    },
    {
      "cell_type": "code",
      "metadata": {
        "colab": {
          "base_uri": "https://localhost:8080/"
        },
        "id": "c-OboxAPTaUo",
        "outputId": "89586596-4cae-4c48-dc6e-e9c79443148f"
      },
      "source": [
        "model10K=Sequential()\n",
        "model10K.add(Dense(400, input_dim=max_words_qty, activation='relu'))\n",
        "model10K.add(Dropout(0.2))\n",
        "model10K.add(Dense(6, activation='sigmoid'))\n",
        "\n",
        "model10K.compile(optimizer='Adam', loss='categorical_crossentropy', metrics=['accuracy'])\n",
        "model10K.summary()"
      ],
      "execution_count": null,
      "outputs": [
        {
          "output_type": "stream",
          "text": [
            "Model: \"sequential_2\"\n",
            "_________________________________________________________________\n",
            "Layer (type)                 Output Shape              Param #   \n",
            "=================================================================\n",
            "dense_4 (Dense)              (None, 400)               4000400   \n",
            "_________________________________________________________________\n",
            "dropout_2 (Dropout)          (None, 400)               0         \n",
            "_________________________________________________________________\n",
            "dense_5 (Dense)              (None, 6)                 2406      \n",
            "=================================================================\n",
            "Total params: 4,002,806\n",
            "Trainable params: 4,002,806\n",
            "Non-trainable params: 0\n",
            "_________________________________________________________________\n"
          ],
          "name": "stdout"
        }
      ]
    },
    {
      "cell_type": "code",
      "metadata": {
        "colab": {
          "base_uri": "https://localhost:8080/"
        },
        "id": "JxXCML01TeSo",
        "outputId": "68a49cd1-e39c-455c-ec39-893877ec66b3"
      },
      "source": [
        "history10K=model10K.fit(X01, y_train, epochs=10, batch_size=128, validation_data=(TX01, y_test), verbose=1)"
      ],
      "execution_count": null,
      "outputs": [
        {
          "output_type": "stream",
          "text": [
            "Epoch 1/10\n",
            "138/138 [==============================] - 2s 9ms/step - loss: 0.0615 - accuracy: 0.9810 - val_loss: 0.3227 - val_accuracy: 0.8796\n",
            "Epoch 2/10\n",
            "138/138 [==============================] - 1s 7ms/step - loss: 1.4117e-04 - accuracy: 1.0000 - val_loss: 0.3140 - val_accuracy: 0.8824\n",
            "Epoch 3/10\n",
            "138/138 [==============================] - 1s 7ms/step - loss: 6.8025e-05 - accuracy: 1.0000 - val_loss: 0.3112 - val_accuracy: 0.8844\n",
            "Epoch 4/10\n",
            "138/138 [==============================] - 1s 7ms/step - loss: 4.3145e-05 - accuracy: 1.0000 - val_loss: 0.3083 - val_accuracy: 0.8847\n",
            "Epoch 5/10\n",
            "138/138 [==============================] - 1s 7ms/step - loss: 2.8136e-05 - accuracy: 1.0000 - val_loss: 0.3094 - val_accuracy: 0.8842\n",
            "Epoch 6/10\n",
            "138/138 [==============================] - 1s 7ms/step - loss: 2.0106e-05 - accuracy: 1.0000 - val_loss: 0.3081 - val_accuracy: 0.8854\n",
            "Epoch 7/10\n",
            "138/138 [==============================] - 1s 7ms/step - loss: 1.5973e-05 - accuracy: 1.0000 - val_loss: 0.3079 - val_accuracy: 0.8859\n",
            "Epoch 8/10\n",
            "138/138 [==============================] - 1s 7ms/step - loss: 1.1840e-05 - accuracy: 1.0000 - val_loss: 0.3074 - val_accuracy: 0.8844\n",
            "Epoch 9/10\n",
            "138/138 [==============================] - 1s 7ms/step - loss: 9.8882e-06 - accuracy: 1.0000 - val_loss: 0.3080 - val_accuracy: 0.8854\n",
            "Epoch 10/10\n",
            "138/138 [==============================] - 1s 7ms/step - loss: 8.2000e-06 - accuracy: 1.0000 - val_loss: 0.3076 - val_accuracy: 0.8857\n"
          ],
          "name": "stdout"
        }
      ]
    },
    {
      "cell_type": "code",
      "metadata": {
        "colab": {
          "base_uri": "https://localhost:8080/"
        },
        "id": "lOkWhyR4ThbU",
        "outputId": "c028ccf1-64b7-47d0-ac3f-9dfbfb3d6767"
      },
      "source": [
        "x_test01,x2=createTestMultiClasses(test_word_indexes, xLen, step)\n",
        "score10K=recognizeMultiClass(model10K, x_test01)"
      ],
      "execution_count": null,
      "outputs": [
        {
          "output_type": "stream",
          "text": [
            "Author: О. Генри   95% were cerognized for О. Генри    Correct!\n",
            "Author: Стругацкие 86% were cerognized for Стругацкие  Correct!\n",
            "Author: Булгаков   76% were cerognized for Булгаков    Correct!\n",
            "Author: Саймак     80% were cerognized for Саймак      Correct!\n",
            "Author: Фрай       92% were cerognized for Фрай        Correct!\n",
            "Author: Брэдберри  97% were cerognized for Брэдберри   Correct!\n",
            "\n",
            "\n",
            "Average % of prediction: 88%\n"
          ],
          "name": "stdout"
        }
      ]
    },
    {
      "cell_type": "markdown",
      "metadata": {
        "id": "3TISgIFxUaH7"
      },
      "source": [
        "***- maxWordsCount=50000***"
      ]
    },
    {
      "cell_type": "code",
      "metadata": {
        "id": "_4pSG_ZhUdgz"
      },
      "source": [
        "#max_words_qty=50000\n",
        "#xLen=1000\n",
        "#step=100\n",
        "#toks=Tokenizer(num_words=max_words_qty, filters='!\"#$%&()*+,-–—./…:;<=>?@[\\\\]^_`{|}~«»\\t\\n\\xa0\\ufeff', lower=True, split=\" \",\n",
        "                 #oov_token='unknown', char_level=False) #create tokenizer model based on words frequency\n",
        "#toks.fit_on_texts(train_text) #apply tokens to train texts\n",
        "#freq_items=list(toks.word_index.items()) #extracting words with their indexes\n",
        "\n",
        "#x_train, y_train=getAllSetsIndexes(train_word_indexes, xLen, step)\n",
        "#x_test, y_test=getAllSetsIndexes(test_word_indexes, xLen, step)\n",
        "\n",
        "#X01=toks.sequences_to_matrix(x_train.tolist()) #convert indexes into bag of words vectors\n",
        "#TX01=toks.sequences_to_matrix(x_test.tolist())"
      ],
      "execution_count": null,
      "outputs": []
    },
    {
      "cell_type": "code",
      "metadata": {
        "id": "SX8rFlLKUjht"
      },
      "source": [
        "#model50K=Sequential()\n",
        "#model50K.add(Dense(400, input_dim=max_words_qty, activation='relu'))\n",
        "#model50K.add(Dropout(0.2))\n",
        "#model50K.add(Dense(6, activation='sigmoid'))\n",
        "\n",
        "#model50K.compile(optimizer='Adam', loss='categorical_crossentropy', metrics=['accuracy'])\n",
        "#model50K.summary()"
      ],
      "execution_count": null,
      "outputs": []
    },
    {
      "cell_type": "code",
      "metadata": {
        "id": "jd30yNS1Ums5"
      },
      "source": [
        "#history50K=model50K.fit(X01, y_train, epochs=10, batch_size=128, validation_data=(TX01, y_test), verbose=1)"
      ],
      "execution_count": null,
      "outputs": []
    },
    {
      "cell_type": "code",
      "metadata": {
        "id": "aE3jYFcgUpik"
      },
      "source": [
        "#x_test01,x2=createTestMultiClasses(test_word_indexes, xLen, step)\n",
        "#score50K=recognizeMultiClass(model50K, x_test01)"
      ],
      "execution_count": null,
      "outputs": []
    },
    {
      "cell_type": "markdown",
      "metadata": {
        "id": "WDXhmaIxYLd3"
      },
      "source": [
        "***Unfortinately RAM limit does not allow me to train model50K.***"
      ]
    },
    {
      "cell_type": "markdown",
      "metadata": {
        "id": "0TUO7zrUIXUT"
      },
      "source": [
        "**Б. Запустите нейронку c bag of words (01) при maxWordsCount = 10000 и разных архитектурах**"
      ]
    },
    {
      "cell_type": "markdown",
      "metadata": {
        "id": "5i_7vN_gIo54"
      },
      "source": [
        "**- Поменяйте количество нейронов в слоях**"
      ]
    },
    {
      "cell_type": "code",
      "metadata": {
        "id": "U1x2ZVK-IuKo"
      },
      "source": [
        "max_words_qty=10000\n",
        "xLen=1000\n",
        "step=100\n",
        "toks=Tokenizer(num_words=max_words_qty, filters='!\"#$%&()*+,-–—./…:;<=>?@[\\\\]^_`{|}~«»\\t\\n\\xa0\\ufeff', lower=True, split=\" \",\n",
        "                 oov_token='unknown', char_level=False) #create tokenizer model based on words frequency\n",
        "toks.fit_on_texts(train_text) #apply tokens to train texts\n",
        "freq_items=list(toks.word_index.items()) #extracting words with their indexes\n",
        "\n",
        "train_word_indexes=toks.texts_to_sequences(train_text) #convert train texts into indexes\n",
        "test_word_indexes=toks.texts_to_sequences(test_text)\n",
        "\n",
        "x_train, y_train=getAllSetsIndexes(train_word_indexes, xLen, step)\n",
        "x_test, y_test=getAllSetsIndexes(test_word_indexes, xLen, step)\n",
        "\n",
        "X01=toks.sequences_to_matrix(x_train.tolist()) #convert indexes into bag of words vectors\n",
        "TX01=toks.sequences_to_matrix(x_test.tolist())"
      ],
      "execution_count": null,
      "outputs": []
    },
    {
      "cell_type": "code",
      "metadata": {
        "colab": {
          "base_uri": "https://localhost:8080/"
        },
        "id": "LRKAElHUI4QC",
        "outputId": "072234d2-5129-47b5-9188-b4332e2a4a78"
      },
      "source": [
        "model10K_800N=Sequential()\n",
        "model10K_800N.add(Dense(800, input_dim=max_words_qty, activation='relu'))\n",
        "model10K_800N.add(Dropout(0.2))\n",
        "model10K_800N.add(Dense(6, activation='sigmoid'))\n",
        "\n",
        "model10K_800N.compile(optimizer='Adam', loss='categorical_crossentropy', metrics=['accuracy'])\n",
        "model10K_800N.summary()"
      ],
      "execution_count": null,
      "outputs": [
        {
          "output_type": "stream",
          "text": [
            "Model: \"sequential_3\"\n",
            "_________________________________________________________________\n",
            "Layer (type)                 Output Shape              Param #   \n",
            "=================================================================\n",
            "dense_6 (Dense)              (None, 800)               8000800   \n",
            "_________________________________________________________________\n",
            "dropout_3 (Dropout)          (None, 800)               0         \n",
            "_________________________________________________________________\n",
            "dense_7 (Dense)              (None, 6)                 4806      \n",
            "=================================================================\n",
            "Total params: 8,005,606\n",
            "Trainable params: 8,005,606\n",
            "Non-trainable params: 0\n",
            "_________________________________________________________________\n"
          ],
          "name": "stdout"
        }
      ]
    },
    {
      "cell_type": "code",
      "metadata": {
        "colab": {
          "base_uri": "https://localhost:8080/"
        },
        "id": "w9m0Z-BgJPQX",
        "outputId": "0cccf9aa-fc29-479c-b285-ea49d4140332"
      },
      "source": [
        "history10K_800N=model10K_800N.fit(X01, y_train, epochs=10, batch_size=128, validation_data=(TX01, y_test), verbose=1)"
      ],
      "execution_count": null,
      "outputs": [
        {
          "output_type": "stream",
          "text": [
            "Epoch 1/10\n",
            "138/138 [==============================] - 2s 10ms/step - loss: 0.0617 - accuracy: 0.9806 - val_loss: 0.3498 - val_accuracy: 0.8708\n",
            "Epoch 2/10\n",
            "138/138 [==============================] - 1s 7ms/step - loss: 9.3949e-05 - accuracy: 1.0000 - val_loss: 0.3350 - val_accuracy: 0.8760\n",
            "Epoch 3/10\n",
            "138/138 [==============================] - 1s 7ms/step - loss: 4.9213e-05 - accuracy: 1.0000 - val_loss: 0.3269 - val_accuracy: 0.8786\n",
            "Epoch 4/10\n",
            "138/138 [==============================] - 1s 7ms/step - loss: 3.0807e-05 - accuracy: 1.0000 - val_loss: 0.3253 - val_accuracy: 0.8787\n",
            "Epoch 5/10\n",
            "138/138 [==============================] - 1s 7ms/step - loss: 1.9995e-05 - accuracy: 1.0000 - val_loss: 0.3143 - val_accuracy: 0.8833\n",
            "Epoch 6/10\n",
            "138/138 [==============================] - 1s 7ms/step - loss: 1.4273e-05 - accuracy: 1.0000 - val_loss: 0.3074 - val_accuracy: 0.8860\n",
            "Epoch 7/10\n",
            "138/138 [==============================] - 1s 7ms/step - loss: 1.0682e-05 - accuracy: 1.0000 - val_loss: 0.3051 - val_accuracy: 0.8872\n",
            "Epoch 8/10\n",
            "138/138 [==============================] - 1s 7ms/step - loss: 8.3153e-06 - accuracy: 1.0000 - val_loss: 0.3016 - val_accuracy: 0.8890\n",
            "Epoch 9/10\n",
            "138/138 [==============================] - 1s 7ms/step - loss: 6.6265e-06 - accuracy: 1.0000 - val_loss: 0.3004 - val_accuracy: 0.8916\n",
            "Epoch 10/10\n",
            "138/138 [==============================] - 1s 8ms/step - loss: 5.3987e-06 - accuracy: 1.0000 - val_loss: 0.2969 - val_accuracy: 0.8919\n"
          ],
          "name": "stdout"
        }
      ]
    },
    {
      "cell_type": "code",
      "metadata": {
        "colab": {
          "base_uri": "https://localhost:8080/"
        },
        "id": "mJ3t5XmAJR9I",
        "outputId": "5f1456e6-c642-45be-b9ed-44f9c3f4547c"
      },
      "source": [
        "x_test01,x2=createTestMultiClasses(test_word_indexes, xLen, step)\n",
        "score10K_800N=recognizeMultiClass(model10K_800N, x_test01)"
      ],
      "execution_count": null,
      "outputs": [
        {
          "output_type": "stream",
          "text": [
            "Author: О. Генри   95% were cerognized for О. Генри    Correct!\n",
            "Author: Стругацкие 83% were cerognized for Стругацкие  Correct!\n",
            "Author: Булгаков   80% were cerognized for Булгаков    Correct!\n",
            "Author: Саймак     86% were cerognized for Саймак      Correct!\n",
            "Author: Фрай       92% were cerognized for Фрай        Correct!\n",
            "Author: Брэдберри  95% were cerognized for Брэдберри   Correct!\n",
            "\n",
            "\n",
            "Average % of prediction: 89%\n"
          ],
          "name": "stdout"
        }
      ]
    },
    {
      "cell_type": "markdown",
      "metadata": {
        "id": "DIo4_823MtFp"
      },
      "source": [
        "**- Поменяйте количество слоев**"
      ]
    },
    {
      "cell_type": "code",
      "metadata": {
        "colab": {
          "base_uri": "https://localhost:8080/"
        },
        "id": "qB0rwkCNLkTl",
        "outputId": "d4b97543-cf5f-4dd3-8003-1d17385be4ca"
      },
      "source": [
        "model10K_3L=Sequential()\n",
        "model10K_3L.add(Dense(200, input_dim=max_words_qty, activation='relu'))\n",
        "model10K_3L.add(Dense(100, activation='relu'))\n",
        "model10K_3L.add(Dense(100, activation='relu'))\n",
        "model10K_3L.add(Dropout(0.2))\n",
        "model10K_3L.add(Dense(6, activation='sigmoid'))\n",
        "\n",
        "model10K_3L.compile(optimizer='Adam', loss='categorical_crossentropy', metrics=['accuracy'])\n",
        "model10K_3L.summary()"
      ],
      "execution_count": null,
      "outputs": [
        {
          "output_type": "stream",
          "text": [
            "Model: \"sequential_4\"\n",
            "_________________________________________________________________\n",
            "Layer (type)                 Output Shape              Param #   \n",
            "=================================================================\n",
            "dense_8 (Dense)              (None, 200)               2000200   \n",
            "_________________________________________________________________\n",
            "dense_9 (Dense)              (None, 100)               20100     \n",
            "_________________________________________________________________\n",
            "dense_10 (Dense)             (None, 100)               10100     \n",
            "_________________________________________________________________\n",
            "dropout_4 (Dropout)          (None, 100)               0         \n",
            "_________________________________________________________________\n",
            "dense_11 (Dense)             (None, 6)                 606       \n",
            "=================================================================\n",
            "Total params: 2,031,006\n",
            "Trainable params: 2,031,006\n",
            "Non-trainable params: 0\n",
            "_________________________________________________________________\n"
          ],
          "name": "stdout"
        }
      ]
    },
    {
      "cell_type": "code",
      "metadata": {
        "colab": {
          "base_uri": "https://localhost:8080/"
        },
        "id": "k_siJ5d7NKlP",
        "outputId": "dbe6b31b-7a68-4116-c8b6-0863e1f15ca1"
      },
      "source": [
        "history10K_3L=model10K_3L.fit(X01, y_train, epochs=10, batch_size=128, validation_data=(TX01, y_test), verbose=1)"
      ],
      "execution_count": null,
      "outputs": [
        {
          "output_type": "stream",
          "text": [
            "Epoch 1/10\n",
            "138/138 [==============================] - 1s 8ms/step - loss: 0.1095 - accuracy: 0.9615 - val_loss: 0.2813 - val_accuracy: 0.8984\n",
            "Epoch 2/10\n",
            "138/138 [==============================] - 1s 7ms/step - loss: 1.0433e-04 - accuracy: 1.0000 - val_loss: 0.2950 - val_accuracy: 0.8925\n",
            "Epoch 3/10\n",
            "138/138 [==============================] - 1s 7ms/step - loss: 7.3613e-05 - accuracy: 1.0000 - val_loss: 0.3060 - val_accuracy: 0.8869\n",
            "Epoch 4/10\n",
            "138/138 [==============================] - 1s 7ms/step - loss: 5.0164e-05 - accuracy: 1.0000 - val_loss: 0.3193 - val_accuracy: 0.8863\n",
            "Epoch 5/10\n",
            "138/138 [==============================] - 1s 7ms/step - loss: 2.9374e-05 - accuracy: 1.0000 - val_loss: 0.2968 - val_accuracy: 0.8934\n",
            "Epoch 6/10\n",
            "138/138 [==============================] - 1s 7ms/step - loss: 1.5798e-05 - accuracy: 1.0000 - val_loss: 0.3094 - val_accuracy: 0.8884\n",
            "Epoch 7/10\n",
            "138/138 [==============================] - 1s 7ms/step - loss: 1.1317e-05 - accuracy: 1.0000 - val_loss: 0.2949 - val_accuracy: 0.8928\n",
            "Epoch 8/10\n",
            "138/138 [==============================] - 1s 6ms/step - loss: 1.0327e-05 - accuracy: 1.0000 - val_loss: 0.3031 - val_accuracy: 0.8910\n",
            "Epoch 9/10\n",
            "138/138 [==============================] - 1s 7ms/step - loss: 1.4484e-05 - accuracy: 1.0000 - val_loss: 0.3059 - val_accuracy: 0.8917\n",
            "Epoch 10/10\n",
            "138/138 [==============================] - 1s 6ms/step - loss: 6.7189e-06 - accuracy: 1.0000 - val_loss: 0.2824 - val_accuracy: 0.8984\n"
          ],
          "name": "stdout"
        }
      ]
    },
    {
      "cell_type": "code",
      "metadata": {
        "colab": {
          "base_uri": "https://localhost:8080/"
        },
        "id": "-13rAnGkNV8Z",
        "outputId": "3b5a04ea-a6ec-4aa8-80b4-8b548898051e"
      },
      "source": [
        "x_test01,x2=createTestMultiClasses(test_word_indexes, xLen, step)\n",
        "score10K_3L=recognizeMultiClass(model10K_3L, x_test01)"
      ],
      "execution_count": null,
      "outputs": [
        {
          "output_type": "stream",
          "text": [
            "Author: О. Генри   94% were cerognized for О. Генри    Correct!\n",
            "Author: Стругацкие 83% were cerognized for Стругацкие  Correct!\n",
            "Author: Булгаков   83% were cerognized for Булгаков    Correct!\n",
            "Author: Саймак     86% were cerognized for Саймак      Correct!\n",
            "Author: Фрай       93% were cerognized for Фрай        Correct!\n",
            "Author: Брэдберри  94% were cerognized for Брэдберри   Correct!\n",
            "\n",
            "\n",
            "Average % of prediction: 89%\n"
          ],
          "name": "stdout"
        }
      ]
    },
    {
      "cell_type": "markdown",
      "metadata": {
        "id": "GVzeTYFBNlA8"
      },
      "source": [
        "**- Поменяйте активационные функции слоев**"
      ]
    },
    {
      "cell_type": "markdown",
      "metadata": {
        "id": "L18WiNKmna-_"
      },
      "source": [
        "*- один Dense слой*"
      ]
    },
    {
      "cell_type": "code",
      "metadata": {
        "colab": {
          "base_uri": "https://localhost:8080/"
        },
        "id": "ChyQtT0QnAB8",
        "outputId": "72f5bfdf-767e-4a3b-813d-9328dfef8b9e"
      },
      "source": [
        "model10K_sigm=Sequential()\n",
        "model10K_sigm.add(Dense(400, input_dim=max_words_qty, activation='sigmoid'))\n",
        "model10K_sigm.add(Dropout(0.2))\n",
        "model10K_sigm.add(Dense(6, activation='softmax'))\n",
        "\n",
        "model10K_sigm.compile(optimizer='Adam', loss='categorical_crossentropy', metrics=['accuracy'])\n",
        "model10K_sigm.summary()"
      ],
      "execution_count": null,
      "outputs": [
        {
          "output_type": "stream",
          "text": [
            "Model: \"sequential_5\"\n",
            "_________________________________________________________________\n",
            "Layer (type)                 Output Shape              Param #   \n",
            "=================================================================\n",
            "dense_12 (Dense)             (None, 400)               4000400   \n",
            "_________________________________________________________________\n",
            "dropout_5 (Dropout)          (None, 400)               0         \n",
            "_________________________________________________________________\n",
            "dense_13 (Dense)             (None, 6)                 2406      \n",
            "=================================================================\n",
            "Total params: 4,002,806\n",
            "Trainable params: 4,002,806\n",
            "Non-trainable params: 0\n",
            "_________________________________________________________________\n"
          ],
          "name": "stdout"
        }
      ]
    },
    {
      "cell_type": "code",
      "metadata": {
        "colab": {
          "base_uri": "https://localhost:8080/"
        },
        "id": "LZRuNxzhnNNM",
        "outputId": "343d17b7-c394-44d2-d018-e3e1b7a7f15b"
      },
      "source": [
        "history10K_sigm=model10K_sigm.fit(X01, y_train, epochs=10, batch_size=128, validation_data=(TX01, y_test), verbose=1)"
      ],
      "execution_count": null,
      "outputs": [
        {
          "output_type": "stream",
          "text": [
            "Epoch 1/10\n",
            "138/138 [==============================] - 2s 9ms/step - loss: 0.1252 - accuracy: 0.9714 - val_loss: 0.4094 - val_accuracy: 0.8872\n",
            "Epoch 2/10\n",
            "138/138 [==============================] - 1s 7ms/step - loss: 0.0037 - accuracy: 1.0000 - val_loss: 0.3681 - val_accuracy: 0.8920\n",
            "Epoch 3/10\n",
            "138/138 [==============================] - 1s 7ms/step - loss: 0.0019 - accuracy: 1.0000 - val_loss: 0.3456 - val_accuracy: 0.8974\n",
            "Epoch 4/10\n",
            "138/138 [==============================] - 1s 7ms/step - loss: 0.0011 - accuracy: 1.0000 - val_loss: 0.3295 - val_accuracy: 0.8975\n",
            "Epoch 5/10\n",
            "138/138 [==============================] - 1s 7ms/step - loss: 7.4498e-04 - accuracy: 1.0000 - val_loss: 0.3225 - val_accuracy: 0.8964\n",
            "Epoch 6/10\n",
            "138/138 [==============================] - 1s 7ms/step - loss: 5.3994e-04 - accuracy: 1.0000 - val_loss: 0.3111 - val_accuracy: 0.8984\n",
            "Epoch 7/10\n",
            "138/138 [==============================] - 1s 7ms/step - loss: 4.1566e-04 - accuracy: 1.0000 - val_loss: 0.3033 - val_accuracy: 0.8995\n",
            "Epoch 8/10\n",
            "138/138 [==============================] - 1s 7ms/step - loss: 3.2668e-04 - accuracy: 1.0000 - val_loss: 0.2974 - val_accuracy: 0.9008\n",
            "Epoch 9/10\n",
            "138/138 [==============================] - 1s 7ms/step - loss: 2.6427e-04 - accuracy: 1.0000 - val_loss: 0.2947 - val_accuracy: 0.9011\n",
            "Epoch 10/10\n",
            "138/138 [==============================] - 1s 7ms/step - loss: 2.1671e-04 - accuracy: 1.0000 - val_loss: 0.2912 - val_accuracy: 0.9017\n"
          ],
          "name": "stdout"
        }
      ]
    },
    {
      "cell_type": "code",
      "metadata": {
        "colab": {
          "base_uri": "https://localhost:8080/"
        },
        "id": "9FVczSrxnVkQ",
        "outputId": "6d3e2443-cb9b-4183-bb2a-ce47feb91e4c"
      },
      "source": [
        "x_test01,x2=createTestMultiClasses(test_word_indexes, xLen, step)\n",
        "score10K_sigm=recognizeMultiClass(model10K_sigm, x_test01)"
      ],
      "execution_count": null,
      "outputs": [
        {
          "output_type": "stream",
          "text": [
            "Author: О. Генри   95% were cerognized for О. Генри    Correct!\n",
            "Author: Стругацкие 88% were cerognized for Стругацкие  Correct!\n",
            "Author: Булгаков   80% were cerognized for Булгаков    Correct!\n",
            "Author: Саймак     86% were cerognized for Саймак      Correct!\n",
            "Author: Фрай       92% were cerognized for Фрай        Correct!\n",
            "Author: Брэдберри  97% were cerognized for Брэдберри   Correct!\n",
            "\n",
            "\n",
            "Average % of prediction: 90%\n"
          ],
          "name": "stdout"
        }
      ]
    },
    {
      "cell_type": "markdown",
      "metadata": {
        "id": "v9pb9wkyn0YX"
      },
      "source": [
        "*- три Dense слоя*"
      ]
    },
    {
      "cell_type": "code",
      "metadata": {
        "colab": {
          "base_uri": "https://localhost:8080/"
        },
        "id": "cbFGcTqWNr6w",
        "outputId": "db6dffe0-dc1d-4710-d390-2cca5884bef2"
      },
      "source": [
        "model10K_3L_sigm=Sequential()\n",
        "model10K_3L_sigm.add(Dense(200, input_dim=max_words_qty, activation='sigmoid'))\n",
        "model10K_3L_sigm.add(Dense(100, activation='sigmoid'))\n",
        "model10K_3L_sigm.add(Dense(100, activation='sigmoid'))\n",
        "model10K_3L_sigm.add(Dropout(0.2))\n",
        "model10K_3L_sigm.add(Dense(6, activation='softmax'))\n",
        "\n",
        "model10K_3L_sigm.compile(optimizer='Adam', loss='categorical_crossentropy', metrics=['accuracy'])\n",
        "model10K_3L_sigm.summary()"
      ],
      "execution_count": null,
      "outputs": [
        {
          "output_type": "stream",
          "text": [
            "Model: \"sequential_6\"\n",
            "_________________________________________________________________\n",
            "Layer (type)                 Output Shape              Param #   \n",
            "=================================================================\n",
            "dense_14 (Dense)             (None, 200)               2000200   \n",
            "_________________________________________________________________\n",
            "dense_15 (Dense)             (None, 100)               20100     \n",
            "_________________________________________________________________\n",
            "dense_16 (Dense)             (None, 100)               10100     \n",
            "_________________________________________________________________\n",
            "dropout_6 (Dropout)          (None, 100)               0         \n",
            "_________________________________________________________________\n",
            "dense_17 (Dense)             (None, 6)                 606       \n",
            "=================================================================\n",
            "Total params: 2,031,006\n",
            "Trainable params: 2,031,006\n",
            "Non-trainable params: 0\n",
            "_________________________________________________________________\n"
          ],
          "name": "stdout"
        }
      ]
    },
    {
      "cell_type": "code",
      "metadata": {
        "colab": {
          "base_uri": "https://localhost:8080/"
        },
        "id": "W3KRbtY9N2zs",
        "outputId": "4d594697-4e76-4c2e-e4db-df7cd1a40ef4"
      },
      "source": [
        "history10K_3L_sigm=model10K_3L_sigm.fit(X01, y_train, epochs=10, batch_size=128, validation_data=(TX01, y_test), verbose=1)"
      ],
      "execution_count": null,
      "outputs": [
        {
          "output_type": "stream",
          "text": [
            "Epoch 1/10\n",
            "138/138 [==============================] - 1s 8ms/step - loss: 0.8180 - accuracy: 0.7579 - val_loss: 0.4584 - val_accuracy: 0.8932\n",
            "Epoch 2/10\n",
            "138/138 [==============================] - 1s 6ms/step - loss: 0.0447 - accuracy: 1.0000 - val_loss: 0.3093 - val_accuracy: 0.9050\n",
            "Epoch 3/10\n",
            "138/138 [==============================] - 1s 6ms/step - loss: 0.0154 - accuracy: 1.0000 - val_loss: 0.2805 - val_accuracy: 0.9064\n",
            "Epoch 4/10\n",
            "138/138 [==============================] - 1s 7ms/step - loss: 0.0085 - accuracy: 1.0000 - val_loss: 0.2754 - val_accuracy: 0.9062\n",
            "Epoch 5/10\n",
            "138/138 [==============================] - 1s 7ms/step - loss: 0.0055 - accuracy: 1.0000 - val_loss: 0.2726 - val_accuracy: 0.9068\n",
            "Epoch 6/10\n",
            "138/138 [==============================] - 1s 7ms/step - loss: 0.0039 - accuracy: 1.0000 - val_loss: 0.2719 - val_accuracy: 0.9077\n",
            "Epoch 7/10\n",
            "138/138 [==============================] - 1s 6ms/step - loss: 0.0029 - accuracy: 1.0000 - val_loss: 0.2763 - val_accuracy: 0.9064\n",
            "Epoch 8/10\n",
            "138/138 [==============================] - 1s 7ms/step - loss: 0.0023 - accuracy: 1.0000 - val_loss: 0.2770 - val_accuracy: 0.9074\n",
            "Epoch 9/10\n",
            "138/138 [==============================] - 1s 7ms/step - loss: 0.0019 - accuracy: 1.0000 - val_loss: 0.2789 - val_accuracy: 0.9071\n",
            "Epoch 10/10\n",
            "138/138 [==============================] - 1s 6ms/step - loss: 0.0015 - accuracy: 1.0000 - val_loss: 0.2835 - val_accuracy: 0.9062\n"
          ],
          "name": "stdout"
        }
      ]
    },
    {
      "cell_type": "code",
      "metadata": {
        "colab": {
          "base_uri": "https://localhost:8080/"
        },
        "id": "WydRXoUoN6Sd",
        "outputId": "5d699d4c-13c6-4c07-ef5a-c095d51875f2"
      },
      "source": [
        "x_test01,x2=createTestMultiClasses(test_word_indexes, xLen, step)\n",
        "score10K_3L_sigm=recognizeMultiClass(model10K_3L_sigm, x_test01)"
      ],
      "execution_count": null,
      "outputs": [
        {
          "output_type": "stream",
          "text": [
            "Author: О. Генри   97% were cerognized for О. Генри    Correct!\n",
            "Author: Стругацкие 88% were cerognized for Стругацкие  Correct!\n",
            "Author: Булгаков   85% were cerognized for Булгаков    Correct!\n",
            "Author: Саймак     91% were cerognized for Саймак      Correct!\n",
            "Author: Фрай       88% were cerognized for Фрай        Correct!\n",
            "Author: Брэдберри  97% were cerognized for Брэдберри   Correct!\n",
            "\n",
            "\n",
            "Average % of prediction: 90%\n"
          ],
          "name": "stdout"
        }
      ]
    },
    {
      "cell_type": "markdown",
      "metadata": {
        "id": "wYlOk8ioTuhX"
      },
      "source": [
        "**В. Запустите нейронку c Embbedding при maxWordsCount = 10000, поменяйте размер Embedding пространства**"
      ]
    },
    {
      "cell_type": "markdown",
      "metadata": {
        "id": "C_x76NVoTz_q"
      },
      "source": [
        "**- Embedding space = 10**"
      ]
    },
    {
      "cell_type": "code",
      "metadata": {
        "colab": {
          "base_uri": "https://localhost:8080/"
        },
        "id": "8gfMZ3BXTzTA",
        "outputId": "18ef5520-3ab4-4479-bb38-8a0c481af26a"
      },
      "source": [
        "modelE10 = Sequential()\n",
        "modelE10.add(Embedding(max_words_qty, 10, input_length=1000))\n",
        "modelE10.add(SpatialDropout1D(0.2))\n",
        "modelE10.add(Flatten())\n",
        "modelE10.add(BatchNormalization())\n",
        "modelE10.add(Dense(400, activation=\"relu\"))\n",
        "modelE10.add(Dropout(0.2))\n",
        "modelE10.add(BatchNormalization())\n",
        "modelE10.add(Dense(6, activation='sigmoid'))\n",
        "\n",
        "modelE10.compile(optimizer='adam', loss='categorical_crossentropy', metrics=['accuracy'])\n",
        "modelE10.summary()"
      ],
      "execution_count": null,
      "outputs": [
        {
          "output_type": "stream",
          "text": [
            "Model: \"sequential_7\"\n",
            "_________________________________________________________________\n",
            "Layer (type)                 Output Shape              Param #   \n",
            "=================================================================\n",
            "embedding (Embedding)        (None, 1000, 10)          100000    \n",
            "_________________________________________________________________\n",
            "spatial_dropout1d (SpatialDr (None, 1000, 10)          0         \n",
            "_________________________________________________________________\n",
            "flatten (Flatten)            (None, 10000)             0         \n",
            "_________________________________________________________________\n",
            "batch_normalization (BatchNo (None, 10000)             40000     \n",
            "_________________________________________________________________\n",
            "dense_18 (Dense)             (None, 400)               4000400   \n",
            "_________________________________________________________________\n",
            "dropout_7 (Dropout)          (None, 400)               0         \n",
            "_________________________________________________________________\n",
            "batch_normalization_1 (Batch (None, 400)               1600      \n",
            "_________________________________________________________________\n",
            "dense_19 (Dense)             (None, 6)                 2406      \n",
            "=================================================================\n",
            "Total params: 4,144,406\n",
            "Trainable params: 4,123,606\n",
            "Non-trainable params: 20,800\n",
            "_________________________________________________________________\n"
          ],
          "name": "stdout"
        }
      ]
    },
    {
      "cell_type": "code",
      "metadata": {
        "colab": {
          "base_uri": "https://localhost:8080/"
        },
        "id": "zdzQjQ6pV3Lp",
        "outputId": "501f8a40-4b7c-489e-843e-ee62c2fa8223"
      },
      "source": [
        "historyE10=modelE10.fit(x_train, y_train, epochs=10, batch_size=128, validation_data=(x_test, y_test), verbose=1)"
      ],
      "execution_count": null,
      "outputs": [
        {
          "output_type": "stream",
          "text": [
            "Epoch 1/10\n",
            "138/138 [==============================] - 3s 15ms/step - loss: 0.8957 - accuracy: 0.7129 - val_loss: 1.7689 - val_accuracy: 0.3603\n",
            "Epoch 2/10\n",
            "138/138 [==============================] - 2s 13ms/step - loss: 0.0312 - accuracy: 0.9929 - val_loss: 1.4119 - val_accuracy: 0.4158\n",
            "Epoch 3/10\n",
            "138/138 [==============================] - 2s 13ms/step - loss: 0.0187 - accuracy: 0.9959 - val_loss: 1.0235 - val_accuracy: 0.6352\n",
            "Epoch 4/10\n",
            "138/138 [==============================] - 2s 13ms/step - loss: 0.0139 - accuracy: 0.9964 - val_loss: 0.9100 - val_accuracy: 0.6774\n",
            "Epoch 5/10\n",
            "138/138 [==============================] - 2s 13ms/step - loss: 0.0080 - accuracy: 0.9981 - val_loss: 0.8106 - val_accuracy: 0.7155\n",
            "Epoch 6/10\n",
            "138/138 [==============================] - 2s 14ms/step - loss: 0.0076 - accuracy: 0.9981 - val_loss: 0.9036 - val_accuracy: 0.7080\n",
            "Epoch 7/10\n",
            "138/138 [==============================] - 2s 13ms/step - loss: 0.0078 - accuracy: 0.9980 - val_loss: 0.9130 - val_accuracy: 0.7245\n",
            "Epoch 8/10\n",
            "138/138 [==============================] - 2s 13ms/step - loss: 0.0069 - accuracy: 0.9981 - val_loss: 0.8818 - val_accuracy: 0.7229\n",
            "Epoch 9/10\n",
            "138/138 [==============================] - 2s 13ms/step - loss: 0.0052 - accuracy: 0.9986 - val_loss: 0.9118 - val_accuracy: 0.7217\n",
            "Epoch 10/10\n",
            "138/138 [==============================] - 2s 13ms/step - loss: 0.0048 - accuracy: 0.9984 - val_loss: 0.9199 - val_accuracy: 0.7267\n"
          ],
          "name": "stdout"
        }
      ]
    },
    {
      "cell_type": "code",
      "metadata": {
        "colab": {
          "base_uri": "https://localhost:8080/"
        },
        "id": "5VoLQlajVdNh",
        "outputId": "e498117e-2f2a-45d3-8150-61a7965b7901"
      },
      "source": [
        "x1, x_test_classes = createTestMultiClasses(test_word_indexes, xLen, step)\n",
        "scoreE10 = recognizeMultiClass(modelE10, x_test_classes)"
      ],
      "execution_count": null,
      "outputs": [
        {
          "output_type": "stream",
          "text": [
            "Author: О. Генри   82% were cerognized for О. Генри    Correct!\n",
            "Author: Стругацкие 58% were cerognized for Стругацкие  Correct!\n",
            "Author: Булгаков   58% were cerognized for Булгаков    Correct!\n",
            "Author: Саймак     65% were cerognized for Саймак      Correct!\n",
            "Author: Фрай       87% were cerognized for Фрай        Correct!\n",
            "Author: Брэдберри  75% were cerognized for Брэдберри   Correct!\n",
            "\n",
            "\n",
            "Average % of prediction: 72%\n"
          ],
          "name": "stdout"
        }
      ]
    },
    {
      "cell_type": "markdown",
      "metadata": {
        "id": "GDggbpVaYaxP"
      },
      "source": [
        "**- Embedding space = 50**"
      ]
    },
    {
      "cell_type": "code",
      "metadata": {
        "colab": {
          "base_uri": "https://localhost:8080/"
        },
        "id": "ig_Md2IbYiL_",
        "outputId": "34093619-9852-4993-b2b7-cb7b16234dfb"
      },
      "source": [
        "modelE50 = Sequential()\n",
        "modelE50.add(Embedding(max_words_qty, 50, input_length=1000))\n",
        "modelE50.add(SpatialDropout1D(0.2))\n",
        "modelE50.add(Flatten())\n",
        "modelE50.add(BatchNormalization())\n",
        "modelE50.add(Dense(400, activation=\"relu\"))\n",
        "modelE50.add(Dropout(0.2))\n",
        "modelE50.add(BatchNormalization())\n",
        "modelE50.add(Dense(6, activation='sigmoid'))\n",
        "\n",
        "modelE50.compile(optimizer='adam', loss='categorical_crossentropy', metrics=['accuracy'])\n",
        "modelE50.summary()"
      ],
      "execution_count": null,
      "outputs": [
        {
          "output_type": "stream",
          "text": [
            "Model: \"sequential_8\"\n",
            "_________________________________________________________________\n",
            "Layer (type)                 Output Shape              Param #   \n",
            "=================================================================\n",
            "embedding_1 (Embedding)      (None, 1000, 50)          500000    \n",
            "_________________________________________________________________\n",
            "spatial_dropout1d_1 (Spatial (None, 1000, 50)          0         \n",
            "_________________________________________________________________\n",
            "flatten_1 (Flatten)          (None, 50000)             0         \n",
            "_________________________________________________________________\n",
            "batch_normalization_2 (Batch (None, 50000)             200000    \n",
            "_________________________________________________________________\n",
            "dense_20 (Dense)             (None, 400)               20000400  \n",
            "_________________________________________________________________\n",
            "dropout_8 (Dropout)          (None, 400)               0         \n",
            "_________________________________________________________________\n",
            "batch_normalization_3 (Batch (None, 400)               1600      \n",
            "_________________________________________________________________\n",
            "dense_21 (Dense)             (None, 6)                 2406      \n",
            "=================================================================\n",
            "Total params: 20,704,406\n",
            "Trainable params: 20,603,606\n",
            "Non-trainable params: 100,800\n",
            "_________________________________________________________________\n"
          ],
          "name": "stdout"
        }
      ]
    },
    {
      "cell_type": "code",
      "metadata": {
        "colab": {
          "base_uri": "https://localhost:8080/"
        },
        "id": "LVklO5bQYyTE",
        "outputId": "e27b2ba4-dc06-4976-a7a8-2ec91837ca97"
      },
      "source": [
        "historyE50=modelE50.fit(x_train, y_train, epochs=10, batch_size=128, validation_data=(x_test, y_test), verbose=1)"
      ],
      "execution_count": null,
      "outputs": [
        {
          "output_type": "stream",
          "text": [
            "Epoch 1/10\n",
            "138/138 [==============================] - 6s 37ms/step - loss: 0.8505 - accuracy: 0.7776 - val_loss: 1.9939 - val_accuracy: 0.3778\n",
            "Epoch 2/10\n",
            "138/138 [==============================] - 5s 35ms/step - loss: 0.0097 - accuracy: 0.9995 - val_loss: 1.6373 - val_accuracy: 0.4020\n",
            "Epoch 3/10\n",
            "138/138 [==============================] - 5s 35ms/step - loss: 0.0034 - accuracy: 1.0000 - val_loss: 1.3717 - val_accuracy: 0.4925\n",
            "Epoch 4/10\n",
            "138/138 [==============================] - 5s 35ms/step - loss: 0.0022 - accuracy: 1.0000 - val_loss: 1.0552 - val_accuracy: 0.6200\n",
            "Epoch 5/10\n",
            "138/138 [==============================] - 5s 36ms/step - loss: 0.0014 - accuracy: 0.9999 - val_loss: 0.9303 - val_accuracy: 0.6840\n",
            "Epoch 6/10\n",
            "138/138 [==============================] - 5s 35ms/step - loss: 9.8977e-04 - accuracy: 1.0000 - val_loss: 0.8942 - val_accuracy: 0.7088\n",
            "Epoch 7/10\n",
            "138/138 [==============================] - 5s 35ms/step - loss: 7.8291e-04 - accuracy: 1.0000 - val_loss: 0.9237 - val_accuracy: 0.7098\n",
            "Epoch 8/10\n",
            "138/138 [==============================] - 5s 35ms/step - loss: 5.3721e-04 - accuracy: 1.0000 - val_loss: 0.9189 - val_accuracy: 0.7145\n",
            "Epoch 9/10\n",
            "138/138 [==============================] - 5s 35ms/step - loss: 4.4890e-04 - accuracy: 1.0000 - val_loss: 0.9204 - val_accuracy: 0.7155\n",
            "Epoch 10/10\n",
            "138/138 [==============================] - 5s 35ms/step - loss: 3.8726e-04 - accuracy: 1.0000 - val_loss: 0.9342 - val_accuracy: 0.7140\n"
          ],
          "name": "stdout"
        }
      ]
    },
    {
      "cell_type": "code",
      "metadata": {
        "colab": {
          "base_uri": "https://localhost:8080/"
        },
        "id": "7GWkPrSPY3Cw",
        "outputId": "3c18a3a2-4393-4c50-b070-5faba1363ec2"
      },
      "source": [
        "scoreE50 = recognizeMultiClass(modelE50, x_test_classes)"
      ],
      "execution_count": null,
      "outputs": [
        {
          "output_type": "stream",
          "text": [
            "Author: О. Генри   83% were cerognized for О. Генри    Correct!\n",
            "Author: Стругацкие 69% were cerognized for Стругацкие  Correct!\n",
            "Author: Булгаков   55% were cerognized for Булгаков    Correct!\n",
            "Author: Саймак     75% were cerognized for Саймак      Correct!\n",
            "Author: Фрай       81% were cerognized for Фрай        Correct!\n",
            "Author: Брэдберри  66% were cerognized for Брэдберри   Correct!\n",
            "\n",
            "\n",
            "Average % of prediction: 71%\n"
          ],
          "name": "stdout"
        }
      ]
    },
    {
      "cell_type": "markdown",
      "metadata": {
        "id": "0vlOCrcAZheN"
      },
      "source": [
        "**- Embedding space = 200**"
      ]
    },
    {
      "cell_type": "code",
      "metadata": {
        "colab": {
          "base_uri": "https://localhost:8080/"
        },
        "id": "Xn1QjwsPZmGm",
        "outputId": "e68183a5-6607-4494-bd63-24f836503ebc"
      },
      "source": [
        "modelE200 = Sequential()\n",
        "modelE200.add(Embedding(max_words_qty, 200, input_length=1000))\n",
        "modelE200.add(SpatialDropout1D(0.2))\n",
        "modelE200.add(Flatten())\n",
        "modelE200.add(BatchNormalization())\n",
        "modelE200.add(Dense(400, activation=\"relu\"))\n",
        "modelE200.add(Dropout(0.2))\n",
        "modelE200.add(BatchNormalization())\n",
        "modelE200.add(Dense(6, activation='sigmoid'))\n",
        "\n",
        "modelE200.compile(optimizer='adam', loss='categorical_crossentropy', metrics=['accuracy'])\n",
        "modelE200.summary()"
      ],
      "execution_count": null,
      "outputs": [
        {
          "output_type": "stream",
          "text": [
            "Model: \"sequential_9\"\n",
            "_________________________________________________________________\n",
            "Layer (type)                 Output Shape              Param #   \n",
            "=================================================================\n",
            "embedding_2 (Embedding)      (None, 1000, 200)         2000000   \n",
            "_________________________________________________________________\n",
            "spatial_dropout1d_2 (Spatial (None, 1000, 200)         0         \n",
            "_________________________________________________________________\n",
            "flatten_2 (Flatten)          (None, 200000)            0         \n",
            "_________________________________________________________________\n",
            "batch_normalization_4 (Batch (None, 200000)            800000    \n",
            "_________________________________________________________________\n",
            "dense_22 (Dense)             (None, 400)               80000400  \n",
            "_________________________________________________________________\n",
            "dropout_9 (Dropout)          (None, 400)               0         \n",
            "_________________________________________________________________\n",
            "batch_normalization_5 (Batch (None, 400)               1600      \n",
            "_________________________________________________________________\n",
            "dense_23 (Dense)             (None, 6)                 2406      \n",
            "=================================================================\n",
            "Total params: 82,804,406\n",
            "Trainable params: 82,403,606\n",
            "Non-trainable params: 400,800\n",
            "_________________________________________________________________\n"
          ],
          "name": "stdout"
        }
      ]
    },
    {
      "cell_type": "code",
      "metadata": {
        "colab": {
          "base_uri": "https://localhost:8080/"
        },
        "id": "ZqUSQA0JZxMO",
        "outputId": "880152be-08bf-4dcc-e465-d2c2ac3e3968"
      },
      "source": [
        "historyE200=modelE200.fit(x_train, y_train, epochs=10, batch_size=128, validation_data=(x_test, y_test), verbose=1)"
      ],
      "execution_count": null,
      "outputs": [
        {
          "output_type": "stream",
          "text": [
            "Epoch 1/10\n",
            "138/138 [==============================] - 18s 123ms/step - loss: 0.7338 - accuracy: 0.8259 - val_loss: 2.0035 - val_accuracy: 0.3709\n",
            "Epoch 2/10\n",
            "138/138 [==============================] - 17s 124ms/step - loss: 0.0061 - accuracy: 1.0000 - val_loss: 1.5404 - val_accuracy: 0.3857\n",
            "Epoch 3/10\n",
            "138/138 [==============================] - 17s 126ms/step - loss: 0.0022 - accuracy: 1.0000 - val_loss: 1.2772 - val_accuracy: 0.5069\n",
            "Epoch 4/10\n",
            "138/138 [==============================] - 17s 126ms/step - loss: 0.0012 - accuracy: 1.0000 - val_loss: 0.9589 - val_accuracy: 0.6545\n",
            "Epoch 5/10\n",
            "138/138 [==============================] - 17s 124ms/step - loss: 7.6294e-04 - accuracy: 1.0000 - val_loss: 0.8639 - val_accuracy: 0.7063\n",
            "Epoch 6/10\n",
            "138/138 [==============================] - 17s 125ms/step - loss: 5.4173e-04 - accuracy: 1.0000 - val_loss: 0.8372 - val_accuracy: 0.7269\n",
            "Epoch 7/10\n",
            "138/138 [==============================] - 17s 125ms/step - loss: 4.0147e-04 - accuracy: 1.0000 - val_loss: 0.8500 - val_accuracy: 0.7275\n",
            "Epoch 8/10\n",
            "138/138 [==============================] - 17s 124ms/step - loss: 3.0669e-04 - accuracy: 1.0000 - val_loss: 0.8318 - val_accuracy: 0.7341\n",
            "Epoch 9/10\n",
            "138/138 [==============================] - 17s 122ms/step - loss: 2.5868e-04 - accuracy: 1.0000 - val_loss: 0.8459 - val_accuracy: 0.7348\n",
            "Epoch 10/10\n",
            "138/138 [==============================] - 17s 122ms/step - loss: 2.0845e-04 - accuracy: 1.0000 - val_loss: 0.8455 - val_accuracy: 0.7362\n"
          ],
          "name": "stdout"
        }
      ]
    },
    {
      "cell_type": "code",
      "metadata": {
        "colab": {
          "base_uri": "https://localhost:8080/"
        },
        "id": "EbMoU_j-Z6Np",
        "outputId": "36f18edb-2b14-4a7a-dbde-9bac7f5f2193"
      },
      "source": [
        "scoreE200 = recognizeMultiClass(modelE200, x_test_classes)"
      ],
      "execution_count": null,
      "outputs": [
        {
          "output_type": "stream",
          "text": [
            "Author: О. Генри   86% were cerognized for О. Генри    Correct!\n",
            "Author: Стругацкие 66% were cerognized for Стругацкие  Correct!\n",
            "Author: Булгаков   64% were cerognized for Булгаков    Correct!\n",
            "Author: Саймак     63% were cerognized for Саймак      Correct!\n",
            "Author: Фрай       84% were cerognized for Фрай        Correct!\n",
            "Author: Брэдберри  71% were cerognized for Брэдберри   Correct!\n",
            "\n",
            "\n",
            "Average % of prediction: 73%\n"
          ],
          "name": "stdout"
        }
      ]
    },
    {
      "cell_type": "code",
      "metadata": {
        "colab": {
          "base_uri": "https://localhost:8080/"
        },
        "id": "KU2AFMdSdjYC",
        "outputId": "1d69b466-e2c5-4c35-bdcf-c1dd745f69fe"
      },
      "source": [
        "print(\"Average % of prediction for model100: \",round(score100*100,1))\n",
        "print(\"Average % of prediction for model1K: \",round(score1K*100,1))\n",
        "print(\"Average % of prediction for model10K: \",round(score10K*100,1))\n",
        "print(\"Average % of prediction for model50K: unknown\")\n",
        "print(\"Average % of prediction for model10K_800N: \",round(score10K_800N*100,1))\n",
        "print(\"Average % of prediction for model10K_3L: \",round(score10K_3L*100,1))\n",
        "print(\"Average % of prediction for model10K_sigm: \",round(score10K_sigm*100,1))\n",
        "print(\"Average % of prediction for model10K_3L_sigm: \",round(score10K_3L_sigm*100,1))\n",
        "print(\"Average % of prediction for modelE10: \",round(scoreE10*100,1))\n",
        "print(\"Average % of prediction for modelE50: \",round(scoreE50*100,1))\n",
        "print(\"Average % of prediction for modelE200: \",round(scoreE200*100,1))"
      ],
      "execution_count": null,
      "outputs": [
        {
          "output_type": "stream",
          "text": [
            "Average % of prediction for model100:  53.4\n",
            "Average % of prediction for model1K:  86.7\n",
            "Average % of prediction for model10K:  88.6\n",
            "Average % of prediction for model50K: unknown\n",
            "Average % of prediction for model10K_800N:  89.2\n",
            "Average % of prediction for model10K_3L:  89.8\n",
            "Average % of prediction for model10K_sigm:  90.2\n",
            "Average % of prediction for model10K_3L_sigm:  90.6\n",
            "Average % of prediction for modelE10:  72.7\n",
            "Average % of prediction for modelE50:  71.4\n",
            "Average % of prediction for modelE200:  73.6\n"
          ],
          "name": "stdout"
        }
      ]
    },
    {
      "cell_type": "markdown",
      "metadata": {
        "id": "MJwGCV-FNQwV"
      },
      "source": [
        "- The more words our dictionary has the higher model's accuracy is, but possible RAM limit may disable large max_words_count. Large set of dictionary allow model to distinguish unique content.\n",
        "- With this dataset just increasing number of neurons or number of layers does not make huge difference. But changing activation functions + increasing number of layers improved model for a couple of percents.\n",
        "- Bag of words approach is more efficiency than embedding for multi categorizing texts."
      ]
    }
  ]
}
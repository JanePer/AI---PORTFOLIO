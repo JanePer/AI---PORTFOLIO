{
  "nbformat": 4,
  "nbformat_minor": 0,
  "metadata": {
    "colab": {
      "name": "Task12 (Lite) Введение в генетические алгоритмы.ipynb",
      "provenance": [],
      "collapsed_sections": [],
      "authorship_tag": "ABX9TyNz34Ld+yZyV1A6SMS5TaQM",
      "include_colab_link": true
    },
    "kernelspec": {
      "name": "python3",
      "display_name": "Python 3"
    },
    "language_info": {
      "name": "python"
    }
  },
  "cells": [
    {
      "cell_type": "markdown",
      "metadata": {
        "id": "view-in-github",
        "colab_type": "text"
      },
      "source": [
        "<a href=\"https://colab.research.google.com/github/JanePer/AI---PORTFOLIO/blob/main/Task12_(Lite)_%D0%92%D0%B2%D0%B5%D0%B4%D0%B5%D0%BD%D0%B8%D0%B5_%D0%B2_%D0%B3%D0%B5%D0%BD%D0%B5%D1%82%D0%B8%D1%87%D0%B5%D1%81%D0%BA%D0%B8%D0%B5_%D0%B0%D0%BB%D0%B3%D0%BE%D1%80%D0%B8%D1%82%D0%BC%D1%8B.ipynb\" target=\"_parent\"><img src=\"https://colab.research.google.com/assets/colab-badge.svg\" alt=\"Open In Colab\"/></a>"
      ]
    },
    {
      "cell_type": "code",
      "metadata": {
        "id": "ct7XS6P2DjHA"
      },
      "source": [
        "import numpy as np\n",
        "import random as random\n",
        "import matplotlib.pyplot as plt\n",
        "import matplotlib.colors as colors\n",
        "%matplotlib inline"
      ],
      "execution_count": null,
      "outputs": []
    },
    {
      "cell_type": "code",
      "metadata": {
        "colab": {
          "base_uri": "https://localhost:8080/"
        },
        "id": "BwDTkaxkDpXY",
        "outputId": "e21fdb87-0481-44b2-dc0f-d8c6d29cc897"
      },
      "source": [
        "train = np.array([11, 18, 6, 15, 9, 3, 2, 21])\n",
        "size = np.array([5, 6, 9, 5, 4, 3, 3, 5, 8, 2, 6, 3, 2, 1, 2, 20, 1]) \n",
        "print(train.sum())\n",
        "print(size.sum())\n",
        "print(train.shape)\n",
        "print(size.shape)"
      ],
      "execution_count": null,
      "outputs": [
        {
          "output_type": "stream",
          "name": "stdout",
          "text": [
            "85\n",
            "85\n",
            "(8,)\n",
            "(17,)\n"
          ]
        }
      ]
    },
    {
      "cell_type": "code",
      "metadata": {
        "id": "0zTDN1XqGPgR"
      },
      "source": [
        "'''\n",
        "popul - our population\n",
        "val - current values\n",
        "nsurv - qty of survived\n",
        "reverse - required operation of finding results: max or min\n",
        "'''\n",
        "\n",
        "def getSurvPopul (popul, val, nsurv, reverse):\n",
        "  newpopul=[]\n",
        "  sval=sorted(val, reverse=reverse)\n",
        "  for i in range(nsurv):\n",
        "    index=val.index(sval[i])\n",
        "    newpopul.append(popul[index])\n",
        "  return newpopul, sval\n",
        "\n",
        "'''\n",
        "curr_popul - current population\n",
        "nsurv - qty of survived\n",
        "'''\n",
        "\n",
        "def getParents(curr_popul, nsurv):\n",
        "  indexp1=random.randint(0, nsurv-1)\n",
        "  indexp2=random.randint(0, nsurv-1)\n",
        "  botp1=curr_popul[indexp1]\n",
        "  botp2=curr_popul[indexp2]\n",
        "  return botp1, botp2\n",
        "\n",
        "  '''\n",
        "  botp1 - first bot-parent\n",
        "  botp2 - second bot-parent\n",
        "  j - number of bot's value\n",
        "  '''\n",
        "\n",
        "def crossPointFrom2Parents(botp1, botp2, j):\n",
        "  pindex = random.random() #random number from 0 till 1\n",
        "  # if pindex < 0.5 get values from botp1, else from botp2\n",
        "  if pindex < 0.5:\n",
        "    x=botp1[j]\n",
        "  else:\n",
        "    x=botp2[j]\n",
        "  return x"
      ],
      "execution_count": null,
      "outputs": []
    },
    {
      "cell_type": "code",
      "metadata": {
        "id": "ibDj20KNFmSK",
        "colab": {
          "base_uri": "https://localhost:8080/",
          "height": 279
        },
        "outputId": "6577d38a-f9fb-4f67-e332-4c0c99b7bea1"
      },
      "source": [
        "n=200 # population size\n",
        "nsurv=20\n",
        "nnew=n-nsurv #qty of children\n",
        "epochs=3000\n",
        "mut=0.4\n",
        "l=size.shape[0]\n",
        "trains = train.shape[0]\n",
        "popul =[] #population array with [n,l] size\n",
        "plotmeanval = []\n",
        "plotminval = []\n",
        "\n",
        "for i in range(n):\n",
        "  popul.append([])\n",
        "  for j in range(l):\n",
        "    popul[i].append(random.randint(0,trains-1))\n",
        "\n",
        "for p in range(epochs):\n",
        "  if (p>=500):\n",
        "    mut = 0.1\n",
        "  if (p>=1000):\n",
        "    mut = 0.05\n",
        "  \n",
        "  val = []\n",
        "  for i in range(n):\n",
        "    bot=popul[i]\n",
        "    trainfill = np.array([0, 0, 0, 0, 0, 0, 0, 0])\n",
        "    for j in range(l):\n",
        "      trainfill[bot[j]] += size[j]\n",
        "    f=0\n",
        "    for t in range(trains):\n",
        "      f += abs(train[t] - trainfill[t]) \n",
        "    val.append(f)\n",
        "\n",
        "  newpopul, sval = getSurvPopul (popul, val, nsurv, 0) #create new population with the best 20 bots-parents\n",
        "  #print(p, \" \", [round(s,8) for s in val[:5]]) #print first 5 f() values\n",
        "  plotmeanval.append(sum(val) / len(val)) \n",
        "  plotminval.append(sval[0])\n",
        "\n",
        "  for i in range(nnew):\n",
        "    botp1, botp2 = getParents(newpopul, nsurv)\n",
        "    newbot=[]\n",
        "    for j in range(l):\n",
        "      x=crossPointFrom2Parents(botp1, botp2, j)\n",
        "      if (random.random() < mut):\n",
        "        x = random.randint(0, trains - 1)       \n",
        "      newbot.append(x)\n",
        "    newpopul.append(newbot)  #add newbot-child to the new population\n",
        "  popul=newpopul\n",
        "\n",
        "plt.plot(plotmeanval, \n",
        "         label='Average loss')\n",
        "plt.plot(plotminval, \n",
        "         label='Best loss')\n",
        "plt.xlabel('Epoch')\n",
        "plt.ylabel('Loss amount')\n",
        "plt.legend()\n",
        "plt.show()"
      ],
      "execution_count": null,
      "outputs": [
        {
          "output_type": "display_data",
          "data": {
            "image/png": "[encoded data removed]",
            "text/plain": [
              "<Figure size 432x288 with 1 Axes>"
            ]
          },
          "metadata": {
            "needs_background": "light"
          }
        }
      ]
    },
    {
      "cell_type": "code",
      "metadata": {
        "colab": {
          "base_uri": "https://localhost:8080/"
        },
        "id": "e2ENlhF8OAWt",
        "outputId": "524bcdb5-560d-40c5-e906-b68143c9466e"
      },
      "source": [
        "bot = popul[0]\n",
        "print ('The best bot:', bot) \n",
        "\n",
        "trainfill = np.zeros(trains, dtype = 'int32')\n",
        "for j in range(l): \n",
        "    trainfill[bot[j]] += size[j] \n",
        "\n",
        "print ('Real sizes  :', size) \n",
        "print ('Capacity distribution via bot:', trainfill) \n",
        "print ('Real trains capacity:', train) "
      ],
      "execution_count": null,
      "outputs": [
        {
          "output_type": "stream",
          "name": "stdout",
          "text": [
            "The best bot: [4, 2, 3, 1, 4, 5, 1, 3, 0, 6, 1, 0, 1, 7, 1, 7, 3]\n",
            "Real sizes  : [ 5  6  9  5  4  3  3  5  8  2  6  3  2  1  2 20  1]\n",
            "Capacity distribution via bot: [11 18  6 15  9  3  2 21]\n",
            "Real trains capacity: [11 18  6 15  9  3  2 21]\n"
          ]
        }
      ]
    },
    {
      "cell_type": "markdown",
      "metadata": {
        "id": "DFSn6JF3QpXZ"
      },
      "source": [
        "#1 Part"
      ]
    },
    {
      "cell_type": "code",
      "metadata": {
        "colab": {
          "base_uri": "https://localhost:8080/"
        },
        "id": "HqRlJ0XtQ6wL",
        "outputId": "281dedff-9e2d-4217-dd4a-0958940a23bb"
      },
      "source": [
        "train = np.array([1, 12, 72, 4, 55, 1])\n",
        "size = np.array([1, 1, 1, 1, 4, 3, 3, 3, 1, 27, 31, 7, 7, 11, 22, 7, 7, 8]) \n",
        "print(train.sum())\n",
        "print(size.sum())\n",
        "print(train.shape)\n",
        "print(size.shape)"
      ],
      "execution_count": null,
      "outputs": [
        {
          "output_type": "stream",
          "name": "stdout",
          "text": [
            "145\n",
            "145\n",
            "(6,)\n",
            "(18,)\n"
          ]
        }
      ]
    },
    {
      "cell_type": "code",
      "metadata": {
        "colab": {
          "base_uri": "https://localhost:8080/",
          "height": 279
        },
        "id": "8dQJ06n6RLDX",
        "outputId": "9c06a798-205c-46f9-ed53-85916c5d9796"
      },
      "source": [
        "n=100 # population size\n",
        "nsurv=20\n",
        "nnew=n-nsurv #qty of children\n",
        "epochs=2500\n",
        "mut=0.4\n",
        "l=size.shape[0]\n",
        "trains = train.shape[0]\n",
        "popul =[] #population array with [n,l] size\n",
        "plotmeanval = []\n",
        "plotminval = []\n",
        "\n",
        "for i in range(n):\n",
        "  popul.append([])\n",
        "  for j in range(l):\n",
        "    popul[i].append(random.randint(0,trains-1))\n",
        "\n",
        "for p in range(epochs):\n",
        "  if (p>=500):\n",
        "    mut = 0.1\n",
        "  if (p>=1000):\n",
        "    mut = 0.05\n",
        "  \n",
        "  val = []\n",
        "  for i in range(n):\n",
        "    bot=popul[i]\n",
        "    trainfill = np.array([0, 0, 0, 0, 0, 0])\n",
        "    for j in range(l):\n",
        "      trainfill[bot[j]] += size[j]\n",
        "    f=0\n",
        "    for t in range(trains):\n",
        "      f += abs(train[t] - trainfill[t]) \n",
        "    val.append(f)\n",
        "\n",
        "  newpopul, sval = getSurvPopul (popul, val, nsurv, 0) #create new population with the best 20 bots-parents\n",
        "  #print(p, \" \", [round(s,8) for s in val[:5]]) #print first 5 f() values\n",
        "  plotmeanval.append(sum(val) / len(val)) \n",
        "  plotminval.append(sval[0])\n",
        "\n",
        "  for i in range(nnew):\n",
        "    botp1, botp2 = getParents(newpopul, nsurv)\n",
        "    newbot=[]\n",
        "    for j in range(l):\n",
        "      x=crossPointFrom2Parents(botp1, botp2, j)\n",
        "      if (random.random() < mut):\n",
        "        x = random.randint(0, trains - 1)       \n",
        "      newbot.append(x)\n",
        "    newpopul.append(newbot)  #add newbot-child to the new population\n",
        "  popul=newpopul\n",
        "\n",
        "plt.plot(plotmeanval, \n",
        "         label='Average loss')\n",
        "plt.plot(plotminval, \n",
        "         label='Best loss')\n",
        "plt.xlabel('Epoch')\n",
        "plt.ylabel('Loss amount')\n",
        "plt.legend()\n",
        "plt.show()"
      ],
      "execution_count": null,
      "outputs": [
        {
          "output_type": "display_data",
          "data": {
            "image/png": "[encoded data removed]",
            "text/plain": [
              "<Figure size 432x288 with 1 Axes>"
            ]
          },
          "metadata": {
            "needs_background": "light"
          }
        }
      ]
    },
    {
      "cell_type": "code",
      "metadata": {
        "colab": {
          "base_uri": "https://localhost:8080/"
        },
        "id": "x2dT2qUSRchm",
        "outputId": "4fd2aa96-a81e-4cc8-c26b-4e79bd764f2b"
      },
      "source": [
        "bot = popul[0]\n",
        "print ('The best bot:', bot) \n",
        "\n",
        "trainfill = np.zeros(trains, dtype = 'int32')\n",
        "for j in range(l): \n",
        "    trainfill[bot[j]] += size[j] \n",
        "\n",
        "print ('Real sizes  :', size) \n",
        "print ('Capacity distribution via bot:', trainfill) \n",
        "print ('Real trains capacity:', train)"
      ],
      "execution_count": null,
      "outputs": [
        {
          "output_type": "stream",
          "name": "stdout",
          "text": [
            "The best bot: [0, 1, 2, 5, 3, 1, 2, 2, 1, 2, 2, 4, 4, 4, 4, 1, 2, 4]\n",
            "Real sizes  : [ 1  1  1  1  4  3  3  3  1 27 31  7  7 11 22  7  7  8]\n",
            "Capacity distribution via bot: [ 1 12 72  4 55  1]\n",
            "Real trains capacity: [ 1 12 72  4 55  1]\n"
          ]
        }
      ]
    },
    {
      "cell_type": "markdown",
      "metadata": {
        "id": "piaBETFvRl1S"
      },
      "source": [
        "#2 Part"
      ]
    },
    {
      "cell_type": "code",
      "metadata": {
        "colab": {
          "base_uri": "https://localhost:8080/"
        },
        "id": "8eTAJKrfRnTS",
        "outputId": "6a115255-2360-42ec-c30d-24e5ab047750"
      },
      "source": [
        "train = np.array([10, 10, 10, 12, 12, 12])\n",
        "size = np.array([1, 1, 1, 1, 2, 2, 2, 2, 3, 3, 3, 3, 4, 4, 5, 5, 6, 6]) \n",
        "print(train.sum())\n",
        "print(size.sum())\n",
        "print(train.shape)\n",
        "print(size.shape)"
      ],
      "execution_count": null,
      "outputs": [
        {
          "output_type": "stream",
          "name": "stdout",
          "text": [
            "66\n",
            "54\n",
            "(6,)\n",
            "(18,)\n"
          ]
        }
      ]
    },
    {
      "cell_type": "code",
      "metadata": {
        "colab": {
          "base_uri": "https://localhost:8080/",
          "height": 279
        },
        "id": "yTMCgyfQR4UD",
        "outputId": "14f30c16-fd79-4862-f517-f71858c0a120"
      },
      "source": [
        "n=100 # population size\n",
        "nsurv=20\n",
        "nnew=n-nsurv #qty of children\n",
        "epochs=2500\n",
        "mut=0.4\n",
        "l=size.shape[0]\n",
        "trains = train.shape[0]\n",
        "popul =[] #population array with [n,l] size\n",
        "plotmeanval = []\n",
        "plotminval = []\n",
        "\n",
        "for i in range(n):\n",
        "  popul.append([])\n",
        "  for j in range(l):\n",
        "    popul[i].append(random.randint(0,trains-1))\n",
        "\n",
        "for p in range(epochs):\n",
        "  if (p>=500):\n",
        "    mut = 0.1\n",
        "  if (p>=1000):\n",
        "    mut = 0.05\n",
        "  \n",
        "  val = []\n",
        "  for i in range(n):\n",
        "    bot=popul[i]\n",
        "    trainfill = np.array([0, 0, 0, 0, 0, 0])\n",
        "    for j in range(l):\n",
        "      trainfill[bot[j]] += size[j]\n",
        "    f=0\n",
        "    for t in range(trains):\n",
        "      f+= abs(size.sum()/train.shape[0] - trainfill[t])\n",
        "    val.append(f)\n",
        "\n",
        "  newpopul, sval = getSurvPopul (popul, val, nsurv, 0) #create new population with the best 20 bots-parents\n",
        "  #print(p, \" \", [round(s,8) for s in val[:5]]) #print first 5 f() values\n",
        "  plotmeanval.append(sum(val) / len(val)) \n",
        "  plotminval.append(sval[0])\n",
        "\n",
        "  for i in range(nnew):\n",
        "    botp1, botp2 = getParents(newpopul, nsurv)\n",
        "    newbot=[]\n",
        "    for j in range(l):\n",
        "      x=crossPointFrom2Parents(botp1, botp2, j)\n",
        "      if (random.random() < mut):\n",
        "        x = random.randint(0, trains - 1)       \n",
        "      newbot.append(x)\n",
        "    newpopul.append(newbot)  #add newbot-child to the new population\n",
        "  popul=newpopul\n",
        "\n",
        "plt.plot(plotmeanval, \n",
        "         label='Average loss')\n",
        "plt.plot(plotminval, \n",
        "         label='Best loss')\n",
        "plt.xlabel('Epoch')\n",
        "plt.ylabel('Loss amounts')\n",
        "plt.legend()\n",
        "plt.show()"
      ],
      "execution_count": null,
      "outputs": [
        {
          "output_type": "display_data",
          "data": {
            "image/png": "[encoded data removed]",
            "text/plain": [
              "<Figure size 432x288 with 1 Axes>"
            ]
          },
          "metadata": {
            "needs_background": "light"
          }
        }
      ]
    },
    {
      "cell_type": "code",
      "metadata": {
        "colab": {
          "base_uri": "https://localhost:8080/"
        },
        "id": "H_0xfIC2Xa-w",
        "outputId": "9e786236-0f0d-4b96-f793-cd6d2fa0f717"
      },
      "source": [
        "bot = popul[0]\n",
        "print ('The best bot:', bot) \n",
        "\n",
        "trainfill = np.zeros(trains, dtype = 'int32')\n",
        "for j in range(l): \n",
        "    trainfill[bot[j]] += size[j] \n",
        "\n",
        "print ('Real sizes  :', size) \n",
        "print ('Capacity distribution via bot:', trainfill) \n",
        "print ('Real trains capacity:', train)"
      ],
      "execution_count": null,
      "outputs": [
        {
          "output_type": "stream",
          "name": "stdout",
          "text": [
            "The best bot: [2, 1, 4, 1, 0, 0, 4, 3, 1, 5, 3, 2, 1, 3, 2, 0, 4, 5]\n",
            "Real sizes  : [1 1 1 1 2 2 2 2 3 3 3 3 4 4 5 5 6 6]\n",
            "Capacity distribution via bot: [9 9 9 9 9 9]\n",
            "Real trains capacity: [10 10 10 12 12 12]\n"
          ]
        }
      ]
    }
  ]
}